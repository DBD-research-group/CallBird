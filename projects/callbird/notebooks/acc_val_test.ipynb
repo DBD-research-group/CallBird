{
 "cells": [
  {
   "cell_type": "code",
   "execution_count": null,
   "id": "3ae2168f",
   "metadata": {},
   "outputs": [
    {
     "data": {
      "application/vnd.jupyter.widget-view+json": {
       "model_id": "8d618f9cbb05485ba8dcea604cc02164",
       "version_major": 2,
       "version_minor": 0
      },
      "text/plain": [
       "Resolving data files:   0%|          | 0/153 [00:00<?, ?it/s]"
      ]
     },
     "metadata": {},
     "output_type": "display_data"
    },
    {
     "name": "stdout",
     "output_type": "stream",
     "text": [
      "DatasetDict({\n",
      "    train: Dataset({\n",
      "        features: ['ebird_code', 'common_name', 'vocalization_type', 'start_time', 'end_time', 'filepath', 'short_call_type', 'ebird_code_and_call', 'detected_events', 'event_cluster', 'ebird_code_multilabel'],\n",
      "        num_rows: 14933\n",
      "    })\n",
      "})\n"
     ]
    }
   ],
   "source": [
    "from callbird.src.datasets.naive_as_multi.NaiveAsMultiDataModule import NaiveAsMultiDataModule\n",
    "from callbird.src.datasets.load_test_dataset import load_test_dataset\n",
    "from callbird.src.ensure_torch_safe_globals import ensure_torch_safe_globals\n",
    "from callbird.src.readUtils import readCommentedList, readLabeledMapping\n",
    "from datasets import DatasetDict\n",
    "\n",
    "dataset = load_test_dataset()\n",
    "\n",
    "blacklist_naive = readCommentedList(\"/workspace/projects/callbird/datastats/test/blacklist_naive.txt\")\n",
    "dataset = dataset.filter(lambda x: x[\"ebird_code_and_call\"] not in blacklist_naive)\n",
    "\n",
    "def _process_loaded_multitask_data(dataset, decode: bool = True):\n",
    "    def add_event_columns(example):\n",
    "        example[\"detected_events\"] = (example[\"start_time\"], example[\"end_time\"])\n",
    "        # TODO: Fix event_cluster value\n",
    "        example[\"event_cluster\"] = [0]\n",
    "        return example\n",
    "\n",
    "    dataset = dataset.map(add_event_columns)\n",
    "\n",
    "    def add_multilabel_column(example):\n",
    "        example[\"ebird_code_multilabel\"] = example[\"ebird_code_and_call\"]\n",
    "        return example\n",
    "    \n",
    "    dataset = dataset.map(add_multilabel_column)\n",
    "\n",
    "    ebird_labels = set()\n",
    "    for split in dataset.keys():\n",
    "        ebird_labels.update(dataset[split][\"ebird_code_and_call\"])\n",
    "\n",
    "    ebird_labels = sorted(list(ebird_labels))\n",
    "\n",
    "    ebird_label_to_id = {lbl: i for i, lbl in enumerate(ebird_labels)}\n",
    "\n",
    "    def label_to_id_fn(batch):\n",
    "        for i in range(len(batch[\"ebird_code_multilabel\"])):\n",
    "            batch[\"ebird_code_multilabel\"][i] = ebird_label_to_id[batch[\"ebird_code_multilabel\"][i]]\n",
    "\n",
    "        return batch\n",
    "\n",
    "    dataset = dataset.map(\n",
    "        label_to_id_fn,\n",
    "        batched=True,\n",
    "        batch_size=500,\n",
    "        load_from_cache_file=True,\n",
    "        num_proc=1,\n",
    "    )\n",
    "\n",
    "    return dataset\n",
    "\n",
    "dataset = _process_loaded_multitask_data(dataset)\n",
    "\n",
    "print(dataset[\"train\"])\n"
   ]
  }
 ],
 "metadata": {
  "kernelspec": {
   "display_name": "birdset-xS3fZVNL-py3.10",
   "language": "python",
   "name": "python3"
  },
  "language_info": {
   "codemirror_mode": {
    "name": "ipython",
    "version": 3
   },
   "file_extension": ".py",
   "mimetype": "text/x-python",
   "name": "python",
   "nbconvert_exporter": "python",
   "pygments_lexer": "ipython3",
   "version": "3.10.12"
  }
 },
 "nbformat": 4,
 "nbformat_minor": 5
}
