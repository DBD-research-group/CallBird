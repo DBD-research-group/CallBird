{
 "cells": [
  {
   "cell_type": "code",
   "execution_count": 1,
   "id": "c0ef1e8c",
   "metadata": {},
   "outputs": [
    {
     "data": {
      "application/vnd.jupyter.widget-view+json": {
       "model_id": "09a6035f5b654b779e15a6beb96df599",
       "version_major": 2,
       "version_minor": 0
      },
      "text/plain": [
       "Resolving data files:   0%|          | 0/153 [00:00<?, ?it/s]"
      ]
     },
     "metadata": {},
     "output_type": "display_data"
    },
    {
     "data": {
      "application/vnd.jupyter.widget-view+json": {
       "model_id": "2374922e97e6435c9d089c7d6af4ba05",
       "version_major": 2,
       "version_minor": 0
      },
      "text/plain": [
       "Resolving data files:   0%|          | 0/56 [00:00<?, ?it/s]"
      ]
     },
     "metadata": {},
     "output_type": "display_data"
    }
   ],
   "source": [
    "from datasets import load_dataset, Features, Value\n",
    "\n",
    "original_test_dataset = load_dataset(\n",
    "    \"csv\",\n",
    "    data_files = \"/workspace/oekofor/testset/labels/*.csv\",\n",
    "    features = Features({ # TODO: Add all features available in BirdSet\n",
    "        \"ebird_code\": Value(\"string\"),\n",
    "        \"common_name\": Value(\"string\"),\n",
    "        \"vocalization_type\": Value(\"string\"),\n",
    "        \"start_time\": Value(\"float\"),\n",
    "        \"end_time\": Value(\"float\"),\n",
    "        \"audio_filename\": Value(\"string\"),\n",
    "\n",
    "        # shared\n",
    "        \"high_freq\": Value(\"float\"),\n",
    "        \"low_freq\": Value(\"float\"),\n",
    "        \"lat\": Value(\"float\"),\n",
    "        \"long\": Value(\"float\"),\n",
    "        \"GPS_uncertainty_km\": Value(\"float\"),\n",
    "        \"validator\": Value(\"string\"),\n",
    "        \"validation_time\": Value(\"string\"),\n",
    "\n",
    "        #other specific\n",
    "        \"project_code\": Value(\"string\"),\n",
    "        \"recorder\": Value(\"string\"),\n",
    "        \"pointofvocalization\": Value(\"string\"),\n",
    "        \"correct\": Value(\"string\"),\n",
    "        \"time_UTC\": Value(\"string\"),\n",
    "        \"tsn_code\": Value(\"string\"),\n",
    "        \"GBIF_ID\": Value(\"string\"),\n",
    "        \"scientific_name\": Value(\"string\"),\n",
    "        \"subspecies\": Value(\"string\"),\n",
    "        \"microphone\": Value(\"string\"),\n",
    "        \"source\": Value(\"string\"),\n",
    "        \"recordist\": Value(\"string\"),\n",
    "    }),\n",
    "    cache_dir = None,\n",
    "    num_proc = 1,\n",
    "    trust_remote_code = True, # While not needed for local datasets, it is kept for consistency\n",
    ")\n",
    "\n",
    "original_test_dataset = original_test_dataset.rename_column(\"GPS_uncertainty_km\", \"gps_uncertainty\")\n",
    "original_test_dataset = original_test_dataset.rename_column(\"validator\", \"validator_name\")\n",
    "original_test_dataset = original_test_dataset.rename_column(\"validation_time\", \"validation_date\")\n",
    "\n",
    "original_train_dataset = load_dataset(\n",
    "    \"csv\",\n",
    "    data_files = \"/workspace/oekofor/trainset/csvlabels/*.csv\",\n",
    "    features = Features({ # TODO: Add all features available in BirdSet\n",
    "        \"ebird_code\": Value(\"string\"),\n",
    "        \"call_type\": Value(\"string\"),\n",
    "        \"start_sample [s]\": Value(\"float\"),\n",
    "        \"end_sample [s]\": Value(\"float\"),\n",
    "        \"actual_filename\": Value(\"string\"),\n",
    "\n",
    "        # shared\n",
    "        \"high_freq [Hz]\": Value(\"float\"),\n",
    "        \"low_freq [Hz]\": Value(\"float\"),\n",
    "        \"latitude [WGS84]\": Value(\"float\"),\n",
    "        \"longitude [WGS84]\": Value(\"float\"),\n",
    "        \"uncertainty of GPS data [km]\": Value(\"float\"),\n",
    "        \"name_of_validator\": Value(\"string\"),\n",
    "        \"date_of_validation\": Value(\"string\"),\n",
    "\n",
    "        #other specific\n",
    "        \"call_center [s]\": Value(\"float\"),\n",
    "        \"randomised_call_center [s]\": Value(\"float\"),\n",
    "        \"subspecies\": Value(\"string\"),\n",
    "        \"sex\": Value(\"string\"),\n",
    "        \"correct\": Value(\"string\"),\n",
    "        \"confidence\": Value(\"float\"),\n",
    "        \"date\": Value(\"string\"),\n",
    "        \"BirdNET Version\": Value(\"string\"),\n",
    "        \"notes\": Value(\"string\"),\n",
    "    }),\n",
    "    delimiter=\";\",\n",
    "    cache_dir = None,\n",
    "    num_proc = 1,\n",
    "    trust_remote_code = True, # While not needed for local datasets, it is kept for consistency\n",
    ")\n",
    "\n",
    "original_train_dataset = original_train_dataset.rename_column(\"start_sample [s]\", \"start_time\")\n",
    "original_train_dataset = original_train_dataset.rename_column(\"end_sample [s]\", \"end_time\")\n",
    "\n",
    "original_train_dataset = original_train_dataset.rename_column(\"high_freq [Hz]\", \"high_freq\")\n",
    "original_train_dataset = original_train_dataset.rename_column(\"low_freq [Hz]\", \"low_freq\")\n",
    "original_train_dataset = original_train_dataset.rename_column(\"latitude [WGS84]\", \"lat\")\n",
    "original_train_dataset = original_train_dataset.rename_column(\"longitude [WGS84]\", \"long\")\n",
    "original_train_dataset = original_train_dataset.rename_column(\"uncertainty of GPS data [km]\", \"gps_uncertainty\")\n",
    "original_train_dataset = original_train_dataset.rename_column(\"name_of_validator\", \"validator_name\")\n",
    "original_train_dataset = original_train_dataset.rename_column(\"date_of_validation\", \"validation_date\")\n",
    "\n",
    "original_train_dataset = original_train_dataset.rename_column(\"randomised_call_center [s]\", \"rand_center\")\n",
    "original_train_dataset = original_train_dataset.rename_column(\"subspecies\", \"sub_species\")\n",
    "original_train_dataset = original_train_dataset.rename_column(\"BirdNET Version\", \"birdnet_version\")"
   ]
  },
  {
   "cell_type": "code",
   "execution_count": 2,
   "id": "788b32be",
   "metadata": {},
   "outputs": [],
   "source": [
    "def printTopValuesOfColumn(column_name, top_k=10):\n",
    "    print(f\"--- For test dataset ---\")\n",
    "    printTopValuesOfColumnOf(original_test_dataset['train'], column_name, top_k)\n",
    "    print(f\"--- For train dataset ---\")\n",
    "    printTopValuesOfColumnOf(original_train_dataset['train'], column_name, top_k)\n",
    "\n",
    "def printTopValuesOfColumnOf(dataset, column_name, top_k=10):\n",
    "    all_values = dataset[column_name]\n",
    "    value_counts = {}\n",
    "    for value in all_values:\n",
    "        if value in value_counts:\n",
    "            value_counts[value] += 1\n",
    "        else:\n",
    "            value_counts[value] = 1\n",
    "    sorted_value_counts = sorted(value_counts.items(), key=lambda item: item[1], reverse=True)\n",
    "    print(f\"Top {top_k} values for column '{column_name}':\")\n",
    "    for value, count in sorted_value_counts[:top_k]:\n",
    "        print(f\"  {value}: {count}\")"
   ]
  },
  {
   "cell_type": "code",
   "execution_count": 3,
   "id": "68a2ce08",
   "metadata": {},
   "outputs": [
    {
     "name": "stdout",
     "output_type": "stream",
     "text": [
      "Top 20 values for column 'pointofvocalization':\n",
      "  None: 16020\n"
     ]
    }
   ],
   "source": [
    "printTopValuesOfColumnOf(original_test_dataset[\"train\"], 'pointofvocalization', top_k=20)"
   ]
  }
 ],
 "metadata": {
  "kernelspec": {
   "display_name": "birdset-xS3fZVNL-py3.10",
   "language": "python",
   "name": "python3"
  },
  "language_info": {
   "codemirror_mode": {
    "name": "ipython",
    "version": 3
   },
   "file_extension": ".py",
   "mimetype": "text/x-python",
   "name": "python",
   "nbconvert_exporter": "python",
   "pygments_lexer": "ipython3",
   "version": "3.10.12"
  }
 },
 "nbformat": 4,
 "nbformat_minor": 5
}
