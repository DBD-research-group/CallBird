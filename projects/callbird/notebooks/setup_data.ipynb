{
 "cells": [
  {
   "cell_type": "code",
   "execution_count": 2,
   "id": "d099e676",
   "metadata": {},
   "outputs": [],
   "source": [
    "from projects.callbird.src.readUtils import readLabeledMapping"
   ]
  },
  {
   "cell_type": "markdown",
   "id": "4e6a33ed",
   "metadata": {},
   "source": [
    "# Load datasets and remove None values"
   ]
  },
  {
   "cell_type": "code",
   "execution_count": 3,
   "id": "30005995",
   "metadata": {},
   "outputs": [
    {
     "data": {
      "application/vnd.jupyter.widget-view+json": {
       "model_id": "e996a55217364bc198c45278434be86c",
       "version_major": 2,
       "version_minor": 0
      },
      "text/plain": [
       "Resolving data files:   0%|          | 0/56 [00:00<?, ?it/s]"
      ]
     },
     "metadata": {},
     "output_type": "display_data"
    },
    {
     "data": {
      "application/vnd.jupyter.widget-view+json": {
       "model_id": "342d249ef04c40cb9eb27a4ea6817f37",
       "version_major": 2,
       "version_minor": 0
      },
      "text/plain": [
       "Resolving data files:   0%|          | 0/153 [00:00<?, ?it/s]"
      ]
     },
     "metadata": {},
     "output_type": "display_data"
    }
   ],
   "source": [
    "from datasets import load_dataset, Features, Value\n",
    "\n",
    "train_dataset = load_dataset(\n",
    "    \"csv\",\n",
    "    data_files=\"/workspace/oekofor/trainset/csvlabels/*.csv\",\n",
    "    delimiter=\";\",\n",
    "    features=Features(\n",
    "        {\n",
    "            \"ebird_code\": Value(\"string\"),\n",
    "            \"call_type\": Value(\"string\"),\n",
    "        }\n",
    "    )\n",
    ")\n",
    "\n",
    "test_dataset = load_dataset(\"csv\", data_files=\"/workspace/oekofor/testset/labels/*.csv\")\n",
    "\n",
    "train_dataset = train_dataset.map(lambda x: {\"ebird_code\": x[\"ebird_code\"] if x[\"ebird_code\"] is not None else \"NA\"})\n",
    "test_dataset = test_dataset.map(lambda x: {\"ebird_code\": x[\"ebird_code\"] if x[\"ebird_code\"] is not None else \"NA\"})\n",
    "\n",
    "train_dataset = train_dataset.map(lambda x: {\"call_type\": x[\"call_type\"] if x[\"call_type\"] is not None else \"NA\"})\n",
    "test_dataset = test_dataset.map(lambda x: {\"vocalization_type\": x[\"vocalization_type\"] if x[\"vocalization_type\"] is not None else \"NA\"})"
   ]
  },
  {
   "cell_type": "markdown",
   "id": "b92869d9",
   "metadata": {},
   "source": [
    "# Setup output files"
   ]
  },
  {
   "cell_type": "code",
   "execution_count": 4,
   "id": "eee34a15",
   "metadata": {},
   "outputs": [],
   "source": [
    "output_root = \"/workspace/projects/callbird/datastats\"\n",
    "output_root_train = f\"{output_root}/train\"\n",
    "output_root_test = f\"{output_root}/test\"\n",
    "\n",
    "output_blacklist_ebird_train = f\"{output_root_train}/blacklist_ebird.txt\"\n",
    "output_blacklist_ebird_test = f\"{output_root_test}/blacklist_ebird.txt\"\n",
    "\n",
    "output_blacklist_naive_train = f\"{output_root_train}/blacklist_naive.txt\"\n",
    "output_blacklist_naive_test = f\"{output_root_test}/blacklist_naive.txt\"\n",
    "\n",
    "file_calltype_mapping = \"/workspace/projects/callbird/datastats/call_types_list\""
   ]
  },
  {
   "cell_type": "markdown",
   "id": "921d721f",
   "metadata": {},
   "source": [
    "# Determine ebird code blacklist"
   ]
  },
  {
   "cell_type": "code",
   "execution_count": 5,
   "id": "869e4620",
   "metadata": {},
   "outputs": [
    {
     "name": "stdout",
     "output_type": "stream",
     "text": [
      "Train call types ('56'): ['blawoo1', 'carcro1', 'coatit2', 'comcha', 'comchi1', 'comcuc', 'firecr1', 'comnig1', 'comrav', 'cowpig1', 'cretit2', 'dunnoc1', 'eurbla', 'blackc1', 'blutit', 'eurbul', 'eugwoo2', 'eurjac', 'eurjay1', 'eurnut2', 'eursis', 'skylar', 'eurtre1', 'eurwoo', 'winwre4', 'eurgol', 'eurgre1', 'eupfly1', 'eurrob1', 'eursta', 'eutdov', 'fieldf', 'garwar1', 'goldcr1', 'gyfwoo1', 'grswoo', 'gretit1', 'grewhi1', 'hawfin', 'martit2', 'miswoo1', 'misthr1', 'norlap', 'redcro', 'shttre1', 'sonthr1', 'spofly1', 'stodov1', 'tawowl1', 'trepip', 'whtdip1', 'wiltit1', 'wlwwar', 'woowar', 'yellow2', 'NA']\n",
      "Test call types ('60'): ['winwre4', 'comcha', 'gretit1', 'misthr1', 'hawfin', 'coatit2', 'eurrob1', 'blutit', 'grswoo', 'goldcr1', 'yellow2', 'shttre1', 'brambl', 'eurgol', 'eurnut2', 'NA', 'dunnoc1', 'sonthr1', 'norlap', 'eurbla', 'martit2', 'wlwwar', 'cowpig1', 'eurjay1', 'comchi1', 'cretit2', 'eugwoo2', 'firecr1', 'stodov1', 'eursta', 'tawowl1', 'blackc1', 'eurgre1', 'spofly1', 'gyfwoo1', 'woowar', 'comcuc', 'eurtre1', 'eupfly1', 'miswoo1', 'blawoo1', 'eutdov', 'eurjac', 'wiltit1', 'whtdip1', 'eurbul', 'redcro', 'eursis', 'redwin', 'fieldf', 'carcro1', 'skylar', 'norgos1', 'grewhi1', 'comnig1', 'comrav', 'redjun', 'garwar1', 'trepip', 'eurwoo']\n",
      "Train blacklist ('0'): set()\n",
      "Test blacklist ('4'): {'brambl', 'redwin', 'redjun', 'norgos1'}\n"
     ]
    }
   ],
   "source": [
    "train_ebirdcodes = train_dataset[\"train\"].unique(\"ebird_code\")\n",
    "test_ebirdcodes = test_dataset[\"train\"].unique(\"ebird_code\")\n",
    "\n",
    "print(f\"Train call types ('{len(train_ebirdcodes)}'):\", train_ebirdcodes)\n",
    "print(f\"Test call types ('{len(test_ebirdcodes)}'):\", test_ebirdcodes)\n",
    "\n",
    "train_blacklist = set(train_ebirdcodes) - set(test_ebirdcodes)\n",
    "test_blacklist = set(test_ebirdcodes) - set(train_ebirdcodes)\n",
    "\n",
    "print(f\"Train blacklist ('{len(train_blacklist)}'):\", train_blacklist)\n",
    "print(f\"Test blacklist ('{len(test_blacklist)}'):\", test_blacklist)\n",
    "\n",
    "with open(output_blacklist_ebird_train, \"w\") as f:\n",
    "    f.write(\"# eBird codes not present in the test set\\n\")\n",
    "    for code in train_blacklist:\n",
    "        f.write(f\"{code}\\n\")\n",
    "\n",
    "with open(output_blacklist_ebird_test, \"w\") as f:\n",
    "    f.write(\"# eBird codes not present in the train set\\n\")\n",
    "    for code in test_blacklist:\n",
    "        f.write(f\"{code}\\n\")"
   ]
  },
  {
   "cell_type": "markdown",
   "id": "79bc9bea",
   "metadata": {},
   "source": [
    "# Ensuring valid call type mappign"
   ]
  },
  {
   "cell_type": "code",
   "execution_count": 6,
   "id": "bf3c27fc",
   "metadata": {},
   "outputs": [
    {
     "name": "stdout",
     "output_type": "stream",
     "text": [
      "Train call types ('15'): ['f (Flugruf)', 'c (Kontaktruf)', 's (Gesang)', 't (Trommeln)', 'b (Bettelruf)', 'e (Erregungsruf)', 'ic (Interaktionsrufe)', 'ac (Alarmruf)', 's2 (Zweitgesang)', 'wb (Fluegelschlag)', 'nfc (Nachtzugruf)', 'rs (Rufe am Schlafplatz)', 'ac_b (Alarmruf_Bodenfeinde)', 'ac_f (Alarmruf Luftfeinde)', 'NA']\n",
      "Test call types ('13'): ['song', 'contact call', 'flight call', 'something', 'drumming', 'alarm call', 'vocal', 'ground alarm call', 'call', 'whistle', 'air alarm call', 'excitement call', 'sub song']\n",
      "Call type mapping test ('13'): {'song': 'sn', 'contact call': 'ct', 'flight call': 'fl', 'something': 'or', 'drumming': 'dr', 'alarm call': 'al', 'vocal': 'or', 'ground alarm call': 'ag', 'call': 'or', 'whistle': 'or', 'air alarm call': 'ai', 'excitement call': 'ex', 'sub song': 'st'}\n",
      "Call type mapping train ('15'): {'f (Flugruf)': 'fl', 'c (Kontaktruf)': 'ct', 's (Gesang)': 'sn', 't (Trommeln)': 'dr', 'b (Bettelruf)': 'or', 'e (Erregungsruf)': 'ex', 'ic (Interaktionsrufe)': 'or', 'ac (Alarmruf)': 'al', 's2 (Zweitgesang)': 'st', 'wb (Fluegelschlag)': 'or', 'nfc (Nachtzugruf)': 'or', 'rs (Rufe am Schlafplatz)': 'or', 'ac_b (Alarmruf_Bodenfeinde)': 'ag', 'ac_f (Alarmruf Luftfeinde)': 'ai', 'NA': 'or'}\n",
      "\n",
      "All call types are mapped correctly.\n"
     ]
    }
   ],
   "source": [
    "train_calltypes = train_dataset[\"train\"].unique(\"call_type\")\n",
    "test_calltypes = test_dataset[\"train\"].unique(\"vocalization_type\")\n",
    "\n",
    "print(f\"Train call types ('{len(train_calltypes)}'):\", train_calltypes)\n",
    "print(f\"Test call types ('{len(test_calltypes)}'):\", test_calltypes)\n",
    "\n",
    "calltype_mapping = readLabeledMapping(file_calltype_mapping, None)\n",
    "calltype_mapping_test = calltype_mapping[\"test\"]\n",
    "calltype_mapping_train = calltype_mapping[\"train\"]\n",
    "\n",
    "print(f\"Call type mapping test ('{len(calltype_mapping_test)}'):\", calltype_mapping_test)\n",
    "print(f\"Call type mapping train ('{len(calltype_mapping_train)}'):\", calltype_mapping_train)\n",
    "\n",
    "# Ensuring valid call type mapping\n",
    "missing_train = set(train_calltypes) - set(calltype_mapping_train.keys())\n",
    "missing_test = set(test_calltypes) - set(calltype_mapping_test.keys())\n",
    "\n",
    "if missing_train:\n",
    "    print(f\"\\nMissing call types in train mapping: {missing_train}\")\n",
    "if missing_test:\n",
    "    print(f\"\\nMissing call types in test mapping: {missing_test}\")\n",
    "if not missing_train and not missing_test:\n",
    "    print(\"\\nAll call types are mapped correctly.\")\n",
    "\n",
    "# Update datasets with call type mappings\n",
    "train_dataset = train_dataset.map(lambda x: {\"short_call_type\": calltype_mapping_train.get(x[\"call_type\"], None)}) # Using None to force an error if the call type is not found\n",
    "test_dataset = test_dataset.map(lambda x: {\"short_call_type\": calltype_mapping_test.get(x[\"vocalization_type\"], None)}) # Using None to force an error if the vocalization type is not found"
   ]
  },
  {
   "cell_type": "markdown",
   "id": "12f26d4f",
   "metadata": {},
   "source": [
    "# Determine naive classes"
   ]
  },
  {
   "cell_type": "code",
   "execution_count": 7,
   "id": "0963a01e",
   "metadata": {},
   "outputs": [
    {
     "data": {
      "application/vnd.jupyter.widget-view+json": {
       "model_id": "61037f934bc846c5a091e875fd5a87d8",
       "version_major": 2,
       "version_minor": 0
      },
      "text/plain": [
       "Map:   0%|          | 0/16020 [00:00<?, ? examples/s]"
      ]
     },
     "metadata": {},
     "output_type": "display_data"
    },
    {
     "data": {
      "application/vnd.jupyter.widget-view+json": {
       "model_id": "ad502399ef934859a6f48a252982c64c",
       "version_major": 2,
       "version_minor": 0
      },
      "text/plain": [
       "Map:   0%|          | 0/91771 [00:00<?, ? examples/s]"
      ]
     },
     "metadata": {},
     "output_type": "display_data"
    },
    {
     "name": "stdout",
     "output_type": "stream",
     "text": [
      "Test naive classes ('134'): ['winwre4_sn', 'comcha_ct', 'comcha_sn', 'gretit1_ct', 'misthr1_fl', 'comcha_fl', 'hawfin_or', 'coatit2_or', 'eurrob1_or', 'blutit_or', 'grswoo_or', 'goldcr1_or', 'yellow2_or', 'shttre1_or', 'brambl_fl', 'coatit2_sn', 'blutit_sn', 'eurgol_fl', 'eurnut2_ct', 'NA_ct', 'blutit_ct', 'dunnoc1_or', 'sonthr1_or', 'norlap_or', 'eurrob1_sn', 'sonthr1_sn', 'NA_or', 'eurbla_sn', 'martit2_sn', 'misthr1_sn', 'dunnoc1_sn', 'grswoo_dr', 'eurnut2_sn', 'wlwwar_sn', 'gretit1_sn', 'cowpig1_sn', 'NA_al', 'eurbla_al', 'eurjay1_ct', 'comchi1_sn', 'NA_sn', 'cretit2_ct', 'goldcr1_sn', 'comchi1_ct', 'eugwoo2_sn', 'winwre4_ct', 'martit2_ct', 'firecr1_sn', 'grswoo_ct', 'stodov1_sn', 'sonthr1_fl', 'stodov1_fl', 'eursta_sn', 'tawowl1_or', 'blackc1_sn', 'eurrob1_ct', 'shttre1_ct', 'eurbla_ag', 'shttre1_sn', 'eurgre1_fl', 'spofly1_ct', 'goldcr1_ct', 'gyfwoo1_sn', 'gyfwoo1_dr', 'eursta_or', 'firecr1_ct', 'sonthr1_al', 'woowar_sn', 'woowar_or', 'comcuc_sn', 'eurtre1_sn', 'blackc1_ct', 'eurbla_ct', 'hawfin_ct', 'tawowl1_sn', 'eupfly1_sn', 'miswoo1_sn', 'hawfin_fl', 'blawoo1_fl', 'blawoo1_sn', 'eutdov_or', 'brambl_sn', 'brambl_ct', 'eurjac_fl', 'yellow2_ct', 'dunnoc1_fl', 'yellow2_sn', 'wiltit1_sn', 'wiltit1_or', 'whtdip1_fl', 'eurbul_fl', 'gretit1_al', 'NA_ai', 'eurgre1_sn', 'coatit2_ct', 'cowpig1_dr', 'redcro_ex', 'eursis_sn', 'redwin_al', 'redwin_sn', 'redwin_fl', 'fieldf_fl', 'carcro1_ct', 'skylar_sn', 'martit2_st', 'blawoo1_ex', 'blawoo1_ct', 'redcro_fl', 'norgos1_sn', 'grewhi1_sn', 'eurtre1_ct', 'comnig1_sn', 'comrav_ct', 'redcro_sn', 'firecr1_st', 'redjun_sn', 'garwar1_sn', 'winwre4_al', 'trepip_fl', 'trepip_sn', 'eurwoo_sn', 'eurbul_or', 'eursis_fl', 'eursis_ct', 'blackc1_al', 'comchi1_al', 'comcha_al', 'NA_fl', 'blutit_fl', 'comrav_fl', 'eursis_st', 'sonthr1_ct', 'eurbla_fl', 'comcha_st']\n",
      "Train naive classes ('200'): ['blawoo1_fl', 'blawoo1_ct', 'blawoo1_sn', 'blawoo1_dr', 'blawoo1_or', 'blawoo1_ex', 'carcro1_fl', 'carcro1_ct', 'coatit2_ct', 'coatit2_sn', 'coatit2_fl', 'comcha_sn', 'comcha_ct', 'comcha_fl', 'comcha_al', 'comchi1_sn', 'comchi1_ct', 'comchi1_ex', 'comchi1_fl', 'comchi1_al', 'comcuc_sn', 'comcuc_st', 'comcuc_ct', 'comcuc_fl', 'firecr1_sn', 'firecr1_ct', 'firecr1_fl', 'comnig1_sn', 'comnig1_ct', 'comrav_ct', 'comrav_fl', 'comrav_or', 'cowpig1_sn', 'cowpig1_al', 'cowpig1_or', 'cretit2_ct', 'cretit2_sn', 'cretit2_or', 'dunnoc1_sn', 'dunnoc1_or', 'dunnoc1_fl', 'dunnoc1_ct', 'eurbla_ct', 'eurbla_sn', 'eurbla_or', 'eurbla_al', 'eurbla_ag', 'eurbla_fl', 'eurbla_st', 'blackc1_sn', 'blackc1_ct', 'blackc1_al', 'blackc1_fl', 'blackc1_ex', 'blackc1_st', 'blutit_ct', 'blutit_sn', 'blutit_al', 'blutit_fl', 'eurbul_or', 'eurbul_fl', 'eurbul_sn', 'eurbul_ct', 'eugwoo2_ct', 'eugwoo2_sn', 'eugwoo2_fl', 'eurjac_fl', 'eurjac_ct', 'eurjay1_ct', 'eurjay1_sn', 'eurjay1_al', 'eurnut2_sn', 'eurnut2_ct', 'eurnut2_al', 'eurnut2_fl', 'eurnut2_or', 'eurnut2_ex', 'eursis_fl', 'eursis_ct', 'eursis_or', 'eursis_sn', 'skylar_sn', 'skylar_ct', 'skylar_fl', 'skylar_or', 'eurtre1_sn', 'eurtre1_ct', 'eurwoo_sn', 'eurwoo_al', 'winwre4_sn', 'winwre4_al', 'winwre4_ct', 'eurgol_sn', 'eurgol_or', 'eurgol_fl', 'eurgol_ct', 'eurgre1_fl', 'eurgre1_sn', 'eurgre1_or', 'eurgre1_ct', 'eupfly1_or', 'eupfly1_sn', 'eupfly1_ct', 'eupfly1_fl', 'eurrob1_sn', 'eurrob1_or', 'eurrob1_al', 'eurrob1_ct', 'eurrob1_fl', 'eurrob1_ai', 'eurrob1_st', 'eursta_ct', 'eursta_or', 'eursta_sn', 'eursta_fl', 'eutdov_sn', 'eutdov_ct', 'fieldf_fl', 'fieldf_ct', 'fieldf_or', 'fieldf_al', 'fieldf_sn', 'garwar1_sn', 'garwar1_ct', 'goldcr1_ct', 'goldcr1_sn', 'goldcr1_or', 'gyfwoo1_sn', 'gyfwoo1_dr', 'gyfwoo1_fl', 'gyfwoo1_ct', 'grswoo_dr', 'grswoo_ct', 'grswoo_sn', 'grswoo_or', 'gretit1_sn', 'gretit1_ct', 'gretit1_st', 'gretit1_al', 'gretit1_fl', 'gretit1_or', 'grewhi1_sn', 'grewhi1_ct', 'grewhi1_fl', 'hawfin_ct', 'hawfin_fl', 'martit2_sn', 'martit2_ct', 'miswoo1_sn', 'miswoo1_ct', 'misthr1_sn', 'misthr1_ct', 'misthr1_or', 'misthr1_fl', 'misthr1_al', 'norlap_fl', 'norlap_ct', 'norlap_sn', 'redcro_fl', 'redcro_ex', 'redcro_sn', 'redcro_al', 'redcro_or', 'shttre1_sn', 'shttre1_ct', 'sonthr1_sn', 'sonthr1_or', 'sonthr1_fl', 'sonthr1_ct', 'sonthr1_al', 'sonthr1_dr', 'spofly1_ct', 'spofly1_or', 'spofly1_sn', 'stodov1_sn', 'tawowl1_ct', 'tawowl1_sn', 'tawowl1_or', 'tawowl1_st', 'tawowl1_ex', 'trepip_sn', 'trepip_fl', 'trepip_ct', 'trepip_al', 'whtdip1_fl', 'whtdip1_ct', 'whtdip1_sn', 'wiltit1_ct', 'wiltit1_sn', 'wiltit1_st', 'wlwwar_sn', 'wlwwar_ct', 'woowar_sn', 'woowar_ct', 'woowar_st', 'yellow2_sn', 'yellow2_ct', 'yellow2_fl', 'yellow2_or', 'NA_or']\n"
     ]
    }
   ],
   "source": [
    "test_dataset = test_dataset.map(lambda x: { \"ebird_code_and_call\": f\"{x['ebird_code']}_{x['short_call_type']}\" })\n",
    "train_dataset = train_dataset.map(lambda x: { \"ebird_code_and_call\": f\"{x['ebird_code']}_{x['short_call_type']}\" })\n",
    "\n",
    "test_naive_classes = test_dataset[\"train\"].unique(\"ebird_code_and_call\")\n",
    "train_naive_classes = train_dataset[\"train\"].unique(\"ebird_code_and_call\")\n",
    "\n",
    "print(f\"Test naive classes ('{len(test_naive_classes)}'):\", test_naive_classes)\n",
    "print(f\"Train naive classes ('{len(train_naive_classes)}'):\", train_naive_classes)"
   ]
  },
  {
   "cell_type": "markdown",
   "id": "534f2ea1",
   "metadata": {},
   "source": [
    "# Determine naive blacklist"
   ]
  },
  {
   "cell_type": "code",
   "execution_count": 8,
   "id": "a0446681",
   "metadata": {},
   "outputs": [
    {
     "name": "stdout",
     "output_type": "stream",
     "text": [
      "Train naive classes ('200'): ['blawoo1_fl', 'blawoo1_ct', 'blawoo1_sn', 'blawoo1_dr', 'blawoo1_or', 'blawoo1_ex', 'carcro1_fl', 'carcro1_ct', 'coatit2_ct', 'coatit2_sn', 'coatit2_fl', 'comcha_sn', 'comcha_ct', 'comcha_fl', 'comcha_al', 'comchi1_sn', 'comchi1_ct', 'comchi1_ex', 'comchi1_fl', 'comchi1_al', 'comcuc_sn', 'comcuc_st', 'comcuc_ct', 'comcuc_fl', 'firecr1_sn', 'firecr1_ct', 'firecr1_fl', 'comnig1_sn', 'comnig1_ct', 'comrav_ct', 'comrav_fl', 'comrav_or', 'cowpig1_sn', 'cowpig1_al', 'cowpig1_or', 'cretit2_ct', 'cretit2_sn', 'cretit2_or', 'dunnoc1_sn', 'dunnoc1_or', 'dunnoc1_fl', 'dunnoc1_ct', 'eurbla_ct', 'eurbla_sn', 'eurbla_or', 'eurbla_al', 'eurbla_ag', 'eurbla_fl', 'eurbla_st', 'blackc1_sn', 'blackc1_ct', 'blackc1_al', 'blackc1_fl', 'blackc1_ex', 'blackc1_st', 'blutit_ct', 'blutit_sn', 'blutit_al', 'blutit_fl', 'eurbul_or', 'eurbul_fl', 'eurbul_sn', 'eurbul_ct', 'eugwoo2_ct', 'eugwoo2_sn', 'eugwoo2_fl', 'eurjac_fl', 'eurjac_ct', 'eurjay1_ct', 'eurjay1_sn', 'eurjay1_al', 'eurnut2_sn', 'eurnut2_ct', 'eurnut2_al', 'eurnut2_fl', 'eurnut2_or', 'eurnut2_ex', 'eursis_fl', 'eursis_ct', 'eursis_or', 'eursis_sn', 'skylar_sn', 'skylar_ct', 'skylar_fl', 'skylar_or', 'eurtre1_sn', 'eurtre1_ct', 'eurwoo_sn', 'eurwoo_al', 'winwre4_sn', 'winwre4_al', 'winwre4_ct', 'eurgol_sn', 'eurgol_or', 'eurgol_fl', 'eurgol_ct', 'eurgre1_fl', 'eurgre1_sn', 'eurgre1_or', 'eurgre1_ct', 'eupfly1_or', 'eupfly1_sn', 'eupfly1_ct', 'eupfly1_fl', 'eurrob1_sn', 'eurrob1_or', 'eurrob1_al', 'eurrob1_ct', 'eurrob1_fl', 'eurrob1_ai', 'eurrob1_st', 'eursta_ct', 'eursta_or', 'eursta_sn', 'eursta_fl', 'eutdov_sn', 'eutdov_ct', 'fieldf_fl', 'fieldf_ct', 'fieldf_or', 'fieldf_al', 'fieldf_sn', 'garwar1_sn', 'garwar1_ct', 'goldcr1_ct', 'goldcr1_sn', 'goldcr1_or', 'gyfwoo1_sn', 'gyfwoo1_dr', 'gyfwoo1_fl', 'gyfwoo1_ct', 'grswoo_dr', 'grswoo_ct', 'grswoo_sn', 'grswoo_or', 'gretit1_sn', 'gretit1_ct', 'gretit1_st', 'gretit1_al', 'gretit1_fl', 'gretit1_or', 'grewhi1_sn', 'grewhi1_ct', 'grewhi1_fl', 'hawfin_ct', 'hawfin_fl', 'martit2_sn', 'martit2_ct', 'miswoo1_sn', 'miswoo1_ct', 'misthr1_sn', 'misthr1_ct', 'misthr1_or', 'misthr1_fl', 'misthr1_al', 'norlap_fl', 'norlap_ct', 'norlap_sn', 'redcro_fl', 'redcro_ex', 'redcro_sn', 'redcro_al', 'redcro_or', 'shttre1_sn', 'shttre1_ct', 'sonthr1_sn', 'sonthr1_or', 'sonthr1_fl', 'sonthr1_ct', 'sonthr1_al', 'sonthr1_dr', 'spofly1_ct', 'spofly1_or', 'spofly1_sn', 'stodov1_sn', 'tawowl1_ct', 'tawowl1_sn', 'tawowl1_or', 'tawowl1_st', 'tawowl1_ex', 'trepip_sn', 'trepip_fl', 'trepip_ct', 'trepip_al', 'whtdip1_fl', 'whtdip1_ct', 'whtdip1_sn', 'wiltit1_ct', 'wiltit1_sn', 'wiltit1_st', 'wlwwar_sn', 'wlwwar_ct', 'woowar_sn', 'woowar_ct', 'woowar_st', 'yellow2_sn', 'yellow2_ct', 'yellow2_fl', 'yellow2_or', 'NA_or']\n",
      "Test naive classes ('134'): ['winwre4_sn', 'comcha_ct', 'comcha_sn', 'gretit1_ct', 'misthr1_fl', 'comcha_fl', 'hawfin_or', 'coatit2_or', 'eurrob1_or', 'blutit_or', 'grswoo_or', 'goldcr1_or', 'yellow2_or', 'shttre1_or', 'brambl_fl', 'coatit2_sn', 'blutit_sn', 'eurgol_fl', 'eurnut2_ct', 'NA_ct', 'blutit_ct', 'dunnoc1_or', 'sonthr1_or', 'norlap_or', 'eurrob1_sn', 'sonthr1_sn', 'NA_or', 'eurbla_sn', 'martit2_sn', 'misthr1_sn', 'dunnoc1_sn', 'grswoo_dr', 'eurnut2_sn', 'wlwwar_sn', 'gretit1_sn', 'cowpig1_sn', 'NA_al', 'eurbla_al', 'eurjay1_ct', 'comchi1_sn', 'NA_sn', 'cretit2_ct', 'goldcr1_sn', 'comchi1_ct', 'eugwoo2_sn', 'winwre4_ct', 'martit2_ct', 'firecr1_sn', 'grswoo_ct', 'stodov1_sn', 'sonthr1_fl', 'stodov1_fl', 'eursta_sn', 'tawowl1_or', 'blackc1_sn', 'eurrob1_ct', 'shttre1_ct', 'eurbla_ag', 'shttre1_sn', 'eurgre1_fl', 'spofly1_ct', 'goldcr1_ct', 'gyfwoo1_sn', 'gyfwoo1_dr', 'eursta_or', 'firecr1_ct', 'sonthr1_al', 'woowar_sn', 'woowar_or', 'comcuc_sn', 'eurtre1_sn', 'blackc1_ct', 'eurbla_ct', 'hawfin_ct', 'tawowl1_sn', 'eupfly1_sn', 'miswoo1_sn', 'hawfin_fl', 'blawoo1_fl', 'blawoo1_sn', 'eutdov_or', 'brambl_sn', 'brambl_ct', 'eurjac_fl', 'yellow2_ct', 'dunnoc1_fl', 'yellow2_sn', 'wiltit1_sn', 'wiltit1_or', 'whtdip1_fl', 'eurbul_fl', 'gretit1_al', 'NA_ai', 'eurgre1_sn', 'coatit2_ct', 'cowpig1_dr', 'redcro_ex', 'eursis_sn', 'redwin_al', 'redwin_sn', 'redwin_fl', 'fieldf_fl', 'carcro1_ct', 'skylar_sn', 'martit2_st', 'blawoo1_ex', 'blawoo1_ct', 'redcro_fl', 'norgos1_sn', 'grewhi1_sn', 'eurtre1_ct', 'comnig1_sn', 'comrav_ct', 'redcro_sn', 'firecr1_st', 'redjun_sn', 'garwar1_sn', 'winwre4_al', 'trepip_fl', 'trepip_sn', 'eurwoo_sn', 'eurbul_or', 'eursis_fl', 'eursis_ct', 'blackc1_al', 'comchi1_al', 'comcha_al', 'NA_fl', 'blutit_fl', 'comrav_fl', 'eursis_st', 'sonthr1_ct', 'eurbla_fl', 'comcha_st']\n",
      "Train blacklist ('93'): {'skylar_or', 'fieldf_sn', 'eurrob1_fl', 'trepip_al', 'skylar_ct', 'grewhi1_ct', 'redcro_or', 'eurgre1_ct', 'coatit2_fl', 'yellow2_fl', 'firecr1_fl', 'eugwoo2_ct', 'gretit1_fl', 'eurgol_or', 'eugwoo2_fl', 'eurgol_sn', 'tawowl1_st', 'eursta_fl', 'blackc1_fl', 'miswoo1_ct', 'comnig1_ct', 'trepip_ct', 'dunnoc1_ct', 'spofly1_sn', 'comrav_or', 'comchi1_fl', 'blackc1_ex', 'eupfly1_fl', 'comchi1_ex', 'grswoo_sn', 'cowpig1_or', 'eupfly1_or', 'gretit1_or', 'skylar_fl', 'tawowl1_ex', 'eutdov_sn', 'wiltit1_st', 'gyfwoo1_ct', 'eurnut2_al', 'eurnut2_ex', 'eurrob1_st', 'misthr1_al', 'cowpig1_al', 'eursta_ct', 'garwar1_ct', 'eurbul_sn', 'spofly1_or', 'wlwwar_ct', 'woowar_st', 'blawoo1_or', 'gretit1_st', 'eurnut2_or', 'redcro_al', 'blawoo1_dr', 'eurbla_st', 'cretit2_sn', 'fieldf_or', 'eurjay1_al', 'carcro1_fl', 'blutit_al', 'eurjac_ct', 'norlap_fl', 'comcuc_ct', 'eurwoo_al', 'norlap_sn', 'cretit2_or', 'tawowl1_ct', 'gyfwoo1_fl', 'grewhi1_fl', 'comcuc_fl', 'woowar_ct', 'eurbla_or', 'blackc1_st', 'eursis_or', 'sonthr1_dr', 'eurnut2_fl', 'comcuc_st', 'eutdov_ct', 'eupfly1_ct', 'fieldf_ct', 'eurjay1_sn', 'eurrob1_al', 'whtdip1_ct', 'whtdip1_sn', 'eurgre1_or', 'wiltit1_ct', 'eurgol_ct', 'norlap_ct', 'eurrob1_ai', 'eurbul_ct', 'misthr1_or', 'misthr1_ct', 'fieldf_al'}\n",
      "Test blacklist ('27'): {'shttre1_or', 'martit2_st', 'NA_ct', 'blutit_or', 'redwin_sn', 'coatit2_or', 'comcha_st', 'NA_ai', 'woowar_or', 'norgos1_sn', 'NA_fl', 'cowpig1_dr', 'redwin_al', 'brambl_fl', 'wiltit1_or', 'firecr1_st', 'norlap_or', 'eutdov_or', 'redjun_sn', 'brambl_sn', 'NA_sn', 'stodov1_fl', 'hawfin_or', 'eursis_st', 'redwin_fl', 'NA_al', 'brambl_ct'}\n"
     ]
    }
   ],
   "source": [
    "train_ebird_call_codes = train_dataset[\"train\"].unique(\"ebird_code_and_call\")\n",
    "test_ebird_call_codes = test_dataset[\"train\"].unique(\"ebird_code_and_call\")\n",
    "\n",
    "print(f\"Train naive classes ('{len(train_ebird_call_codes)}'):\", train_ebird_call_codes)\n",
    "print(f\"Test naive classes ('{len(test_ebird_call_codes)}'):\", test_ebird_call_codes)\n",
    "\n",
    "train_blacklist = set(train_ebird_call_codes) - set(test_ebird_call_codes)\n",
    "test_blacklist = set(test_ebird_call_codes) - set(train_ebird_call_codes)\n",
    "\n",
    "print(f\"Train blacklist ('{len(train_blacklist)}'):\", train_blacklist)\n",
    "print(f\"Test blacklist ('{len(test_blacklist)}'):\", test_blacklist)\n",
    "\n",
    "with open(output_blacklist_naive_train, \"w\") as f:\n",
    "    f.write(\"# eBird codes not present in the test set\\n\")\n",
    "    for code in train_blacklist:\n",
    "        f.write(f\"{code}\\n\")\n",
    "\n",
    "with open(output_blacklist_naive_test, \"w\") as f:\n",
    "    f.write(\"# eBird codes not present in the train set\\n\")\n",
    "    for code in test_blacklist:\n",
    "        f.write(f\"{code}\\n\")"
   ]
  },
  {
   "cell_type": "markdown",
   "id": "c95987f7",
   "metadata": {},
   "source": [
    "# Apply filters"
   ]
  },
  {
   "cell_type": "code",
   "execution_count": 9,
   "id": "9239ecc6",
   "metadata": {},
   "outputs": [
    {
     "data": {
      "application/vnd.jupyter.widget-view+json": {
       "model_id": "2a0f40fb2c5e429496cb02a3bcc64a6f",
       "version_major": 2,
       "version_minor": 0
      },
      "text/plain": [
       "Filter:   0%|          | 0/91771 [00:00<?, ? examples/s]"
      ]
     },
     "metadata": {},
     "output_type": "display_data"
    },
    {
     "data": {
      "application/vnd.jupyter.widget-view+json": {
       "model_id": "bfe23437378049b9b62eb8a8f0da2328",
       "version_major": 2,
       "version_minor": 0
      },
      "text/plain": [
       "Filter:   0%|          | 0/16020 [00:00<?, ? examples/s]"
      ]
     },
     "metadata": {},
     "output_type": "display_data"
    }
   ],
   "source": [
    "filtered_train_dataset = train_dataset.filter(lambda x: x[\"ebird_code_and_call\"] not in train_blacklist)\n",
    "filtered_test_dataset = test_dataset.filter(lambda x: x[\"ebird_code_and_call\"] not in test_blacklist)\n"
   ]
  },
  {
   "cell_type": "markdown",
   "id": "e1d13a53",
   "metadata": {},
   "source": [
    "# Output final useable naive data"
   ]
  },
  {
   "cell_type": "code",
   "execution_count": 10,
   "id": "fbd5d962",
   "metadata": {},
   "outputs": [
    {
     "data": {
      "application/vnd.jupyter.widget-view+json": {
       "model_id": "5b1d86a90602423daf9277971bff16ef",
       "version_major": 2,
       "version_minor": 0
      },
      "text/plain": [
       "Flattening the indices:   0%|          | 0/86514 [00:00<?, ? examples/s]"
      ]
     },
     "metadata": {},
     "output_type": "display_data"
    },
    {
     "data": {
      "application/vnd.jupyter.widget-view+json": {
       "model_id": "00a68794862d4e04b8718d4a856e0d81",
       "version_major": 2,
       "version_minor": 0
      },
      "text/plain": [
       "Flattening the indices:   0%|          | 0/15555 [00:00<?, ? examples/s]"
      ]
     },
     "metadata": {},
     "output_type": "display_data"
    },
    {
     "name": "stdout",
     "output_type": "stream",
     "text": [
      "Filtered train dataset has length 86514 (original 91771) with 107 (93 filtered) unique classes\n",
      "Filtered test  dataset has length 15555 (original 16020) with 107 (27 filtered) unique classes\n"
     ]
    }
   ],
   "source": [
    "filtered_train_length = len(filtered_train_dataset[\"train\"])\n",
    "filtered_test_length = len(filtered_test_dataset[\"train\"])\n",
    "\n",
    "source_train_length = len(train_dataset[\"train\"])\n",
    "source_test_length = len(test_dataset[\"train\"])\n",
    "\n",
    "class_count_train = len(filtered_train_dataset[\"train\"].unique(\"ebird_code_and_call\"))\n",
    "class_count_test = len(filtered_test_dataset[\"train\"].unique(\"ebird_code_and_call\"))\n",
    "\n",
    "class_train_filtered_count = len(train_blacklist)\n",
    "class_test_filtered_count = len(test_blacklist)\n",
    "\n",
    "print(f\"Filtered train dataset has length {filtered_train_length} (original {source_train_length}) with {class_count_train} ({class_train_filtered_count} filtered) unique classes\")\n",
    "print(f\"Filtered test  dataset has length {filtered_test_length} (original {source_test_length}) with {class_count_test} ({class_test_filtered_count} filtered) unique classes\")"
   ]
  }
 ],
 "metadata": {
  "kernelspec": {
   "display_name": "birdset-xS3fZVNL-py3.10",
   "language": "python",
   "name": "python3"
  },
  "language_info": {
   "codemirror_mode": {
    "name": "ipython",
    "version": 3
   },
   "file_extension": ".py",
   "mimetype": "text/x-python",
   "name": "python",
   "nbconvert_exporter": "python",
   "pygments_lexer": "ipython3",
   "version": "3.10.12"
  }
 },
 "nbformat": 4,
 "nbformat_minor": 5
}
