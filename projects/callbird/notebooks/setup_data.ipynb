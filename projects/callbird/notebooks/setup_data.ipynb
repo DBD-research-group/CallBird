{
 "cells": [
  {
   "cell_type": "code",
   "execution_count": 32,
   "id": "d099e676",
   "metadata": {},
   "outputs": [],
   "source": [
    "from projects.callbird.src.readUtils import readLabeledMapping\n",
    "from os import path"
   ]
  },
  {
   "cell_type": "markdown",
   "id": "4e6a33ed",
   "metadata": {},
   "source": [
    "# Load datasets and replace None values"
   ]
  },
  {
   "cell_type": "code",
   "execution_count": null,
   "id": "30005995",
   "metadata": {},
   "outputs": [
    {
     "data": {
      "application/vnd.jupyter.widget-view+json": {
       "model_id": "54c047c78bd84c77ae68a19c0a61193a",
       "version_major": 2,
       "version_minor": 0
      },
      "text/plain": [
       "Resolving data files:   0%|          | 0/56 [00:00<?, ?it/s]"
      ]
     },
     "metadata": {},
     "output_type": "display_data"
    },
    {
     "data": {
      "application/vnd.jupyter.widget-view+json": {
       "model_id": "28f856daad114964b8ed647cb6d4ce2c",
       "version_major": 2,
       "version_minor": 0
      },
      "text/plain": [
       "Resolving data files:   0%|          | 0/153 [00:00<?, ?it/s]"
      ]
     },
     "metadata": {},
     "output_type": "display_data"
    },
    {
     "data": {
      "application/vnd.jupyter.widget-view+json": {
       "model_id": "5e4e55d2c6ec4464850856bb50fbb2e6",
       "version_major": 2,
       "version_minor": 0
      },
      "text/plain": [
       "Map:   0%|          | 0/16020 [00:00<?, ? examples/s]"
      ]
     },
     "metadata": {},
     "output_type": "display_data"
    },
    {
     "data": {
      "application/vnd.jupyter.widget-view+json": {
       "model_id": "83ccdc824d134c2d96b0191284184da8",
       "version_major": 2,
       "version_minor": 0
      },
      "text/plain": [
       "Map:   0%|          | 0/16020 [00:00<?, ? examples/s]"
      ]
     },
     "metadata": {},
     "output_type": "display_data"
    }
   ],
   "source": [
    "from datasets import load_dataset, Features, Value\n",
    "\n",
    "train_dataset = load_dataset(\n",
    "    \"csv\",\n",
    "    data_files=\"/workspace/oekofor/trainset/csvlabels/*.csv\",\n",
    "    delimiter=\";\",\n",
    "    features=Features(\n",
    "        {\n",
    "            \"ebird_code\": Value(\"string\"),\n",
    "            \"call_type\": Value(\"string\"),\n",
    "            \"actual_filename\": Value(\"string\"),\n",
    "            \"common_name\": Value(\"string\"),\n",
    "        }\n",
    "    )\n",
    ")\n",
    "\n",
    "test_dataset = load_dataset(\"csv\", data_files=\"/workspace/oekofor/testset/labels/*.csv\")\n",
    "\n",
    "train_dataset = train_dataset.map(lambda x: {\"ebird_code\": x[\"ebird_code\"] if x[\"ebird_code\"] is not None else \"NA\"})\n",
    "# For the test dataset we need to handle a special case, where there are two different reasons a ebird code is missing\n",
    "test_dataset = test_dataset.map(lambda x: {\"ebird_code\": x[\"ebird_code\"] if x[\"ebird_code\"] is not None else (\"UNKNOWN\" if x[\"common_name\"] == \"Bird\" else \"NA\")})\n",
    "\n",
    "train_dataset = train_dataset.map(lambda x: {\"call_type\": x[\"call_type\"] if x[\"call_type\"] is not None else \"NA\"})\n",
    "test_dataset = test_dataset.map(lambda x: {\"vocalization_type\": x[\"vocalization_type\"] if x[\"vocalization_type\"] is not None else \"NA\"})"
   ]
  },
  {
   "cell_type": "markdown",
   "id": "b92869d9",
   "metadata": {},
   "source": [
    "# Setup output files"
   ]
  },
  {
   "cell_type": "code",
   "execution_count": 34,
   "id": "eee34a15",
   "metadata": {},
   "outputs": [],
   "source": [
    "output_root = \"/workspace/projects/callbird/datastats\"\n",
    "output_root_train = f\"{output_root}/train\"\n",
    "output_root_test = f\"{output_root}/test\"\n",
    "\n",
    "output_blacklist_ebird_train = f\"{output_root_train}/blacklist_ebird.txt\"\n",
    "output_blacklist_ebird_test = f\"{output_root_test}/blacklist_ebird.txt\"\n",
    "\n",
    "output_blacklist_naive_train = f\"{output_root_train}/blacklist_naive.txt\"\n",
    "output_blacklist_naive_test = f\"{output_root_test}/blacklist_naive.txt\"\n",
    "\n",
    "output_blacklist_files_train = f\"{output_root_train}/blacklist_files.txt\"\n",
    "\n",
    "file_calltype_mapping = \"/workspace/projects/callbird/datastats/call_types_list\""
   ]
  },
  {
   "cell_type": "markdown",
   "id": "921d721f",
   "metadata": {},
   "source": [
    "# Determine ebird code blacklist (unused)"
   ]
  },
  {
   "cell_type": "code",
   "execution_count": 35,
   "id": "869e4620",
   "metadata": {},
   "outputs": [
    {
     "name": "stdout",
     "output_type": "stream",
     "text": [
      "Train call types ('56'): ['blawoo1', 'carcro1', 'coatit2', 'comcha', 'comchi1', 'comcuc', 'firecr1', 'comnig1', 'comrav', 'cowpig1', 'cretit2', 'dunnoc1', 'eurbla', 'blackc1', 'blutit', 'eurbul', 'eugwoo2', 'eurjac', 'eurjay1', 'eurnut2', 'eursis', 'skylar', 'eurtre1', 'eurwoo', 'winwre4', 'eurgol', 'eurgre1', 'eupfly1', 'eurrob1', 'eursta', 'eutdov', 'fieldf', 'garwar1', 'goldcr1', 'gyfwoo1', 'grswoo', 'gretit1', 'grewhi1', 'hawfin', 'martit2', 'miswoo1', 'misthr1', 'norlap', 'redcro', 'shttre1', 'sonthr1', 'spofly1', 'stodov1', 'tawowl1', 'trepip', 'whtdip1', 'wiltit1', 'wlwwar', 'woowar', 'yellow2', 'NA']\n",
      "Test call types ('61'): ['winwre4', 'comcha', 'gretit1', 'misthr1', 'hawfin', 'coatit2', 'eurrob1', 'blutit', 'grswoo', 'goldcr1', 'yellow2', 'shttre1', 'brambl', 'eurgol', 'eurnut2', 'UNKNOWN', 'dunnoc1', 'sonthr1', 'norlap', 'eurbla', 'martit2', 'wlwwar', 'cowpig1', 'NA', 'eurjay1', 'comchi1', 'cretit2', 'eugwoo2', 'firecr1', 'stodov1', 'eursta', 'tawowl1', 'blackc1', 'eurgre1', 'spofly1', 'gyfwoo1', 'woowar', 'comcuc', 'eurtre1', 'eupfly1', 'miswoo1', 'blawoo1', 'eutdov', 'eurjac', 'wiltit1', 'whtdip1', 'eurbul', 'redcro', 'eursis', 'redwin', 'fieldf', 'carcro1', 'skylar', 'norgos1', 'grewhi1', 'comnig1', 'comrav', 'redjun', 'garwar1', 'trepip', 'eurwoo']\n",
      "Train blacklist ('0'): set()\n",
      "Test blacklist ('5'): {'norgos1', 'redwin', 'UNKNOWN', 'redjun', 'brambl'}\n"
     ]
    }
   ],
   "source": [
    "train_ebirdcodes = train_dataset[\"train\"].unique(\"ebird_code\")\n",
    "test_ebirdcodes = test_dataset[\"train\"].unique(\"ebird_code\")\n",
    "\n",
    "print(f\"Train call types ('{len(train_ebirdcodes)}'):\", train_ebirdcodes)\n",
    "print(f\"Test call types ('{len(test_ebirdcodes)}'):\", test_ebirdcodes)\n",
    "\n",
    "train_blacklist = set(train_ebirdcodes) - set(test_ebirdcodes)\n",
    "test_blacklist = set(test_ebirdcodes) - set(train_ebirdcodes)\n",
    "\n",
    "print(f\"Train blacklist ('{len(train_blacklist)}'):\", train_blacklist)\n",
    "print(f\"Test blacklist ('{len(test_blacklist)}'):\", test_blacklist)\n",
    "\n",
    "with open(output_blacklist_ebird_train, \"w\") as f:\n",
    "    f.write(\"# eBird codes not present in the test set\\n\")\n",
    "    for code in train_blacklist:\n",
    "        f.write(f\"{code}\\n\")\n",
    "\n",
    "with open(output_blacklist_ebird_test, \"w\") as f:\n",
    "    f.write(\"# eBird codes not present in the train set\\n\")\n",
    "    for code in test_blacklist:\n",
    "        f.write(f\"{code}\\n\")"
   ]
  },
  {
   "cell_type": "markdown",
   "id": "12c56d23",
   "metadata": {},
   "source": [
    "# Reduce number of no bird samples"
   ]
  },
  {
   "cell_type": "code",
   "execution_count": 36,
   "id": "36ae06bd",
   "metadata": {},
   "outputs": [],
   "source": [
    "from datasets import concatenate_datasets\n",
    "\n",
    "# Limit the number of \"NA\" ebird_code entries to 5000\n",
    "na_dataset = train_dataset.filter(lambda x: x[\"ebird_code\"] == \"NA\")\n",
    "other_dataset = train_dataset.filter(lambda x: x[\"ebird_code\"] != \"NA\")\n",
    "na_subset = na_dataset['train'].shuffle(seed=42).select(range(min(5000, len(na_dataset['train']))))\n",
    "train_dataset['train'] = concatenate_datasets([other_dataset['train'], na_subset])"
   ]
  },
  {
   "cell_type": "markdown",
   "id": "79bc9bea",
   "metadata": {},
   "source": [
    "# Ensuring valid call type mappign"
   ]
  },
  {
   "cell_type": "code",
   "execution_count": 37,
   "id": "bf3c27fc",
   "metadata": {},
   "outputs": [
    {
     "name": "stdout",
     "output_type": "stream",
     "text": [
      "Train call types ('15'): ['f (Flugruf)', 'c (Kontaktruf)', 's (Gesang)', 't (Trommeln)', 'b (Bettelruf)', 'e (Erregungsruf)', 'ic (Interaktionsrufe)', 'ac (Alarmruf)', 's2 (Zweitgesang)', 'wb (Fluegelschlag)', 'nfc (Nachtzugruf)', 'rs (Rufe am Schlafplatz)', 'ac_b (Alarmruf_Bodenfeinde)', 'ac_f (Alarmruf Luftfeinde)', 'NA']\n",
      "Test call types ('13'): ['song', 'contact call', 'flight call', 'something', 'drumming', 'alarm call', 'vocal', 'ground alarm call', 'call', 'whistle', 'air alarm call', 'excitement call', 'sub song']\n",
      "Call type mapping test ('13'): {'song': 'sn', 'contact call': 'ct', 'flight call': 'fl', 'something': 'or', 'drumming': 'dr', 'alarm call': 'al', 'vocal': 'or', 'ground alarm call': 'al', 'call': 'or', 'whistle': 'or', 'air alarm call': 'al', 'excitement call': 'ex', 'sub song': 'st'}\n",
      "Call type mapping train ('15'): {'f (Flugruf)': 'fl', 'c (Kontaktruf)': 'ct', 's (Gesang)': 'sn', 't (Trommeln)': 'dr', 'b (Bettelruf)': 'or', 'e (Erregungsruf)': 'ex', 'ic (Interaktionsrufe)': 'or', 'ac (Alarmruf)': 'al', 's2 (Zweitgesang)': 'st', 'wb (Fluegelschlag)': 'or', 'nfc (Nachtzugruf)': 'or', 'rs (Rufe am Schlafplatz)': 'or', 'ac_b (Alarmruf_Bodenfeinde)': 'al', 'ac_f (Alarmruf Luftfeinde)': 'al', 'NA': 'or'}\n",
      "\n",
      "All call types are mapped correctly.\n"
     ]
    },
    {
     "data": {
      "application/vnd.jupyter.widget-view+json": {
       "model_id": "534642efa15a4a8186b5ea426c7d47d0",
       "version_major": 2,
       "version_minor": 0
      },
      "text/plain": [
       "Map:   0%|          | 0/16020 [00:00<?, ? examples/s]"
      ]
     },
     "metadata": {},
     "output_type": "display_data"
    }
   ],
   "source": [
    "train_calltypes = train_dataset[\"train\"].unique(\"call_type\")\n",
    "test_calltypes = test_dataset[\"train\"].unique(\"vocalization_type\")\n",
    "\n",
    "print(f\"Train call types ('{len(train_calltypes)}'):\", train_calltypes)\n",
    "print(f\"Test call types ('{len(test_calltypes)}'):\", test_calltypes)\n",
    "\n",
    "calltype_mapping = readLabeledMapping(file_calltype_mapping, None)\n",
    "calltype_mapping_test = calltype_mapping[\"test\"]\n",
    "calltype_mapping_train = calltype_mapping[\"train\"]\n",
    "\n",
    "print(f\"Call type mapping test ('{len(calltype_mapping_test)}'):\", calltype_mapping_test)\n",
    "print(f\"Call type mapping train ('{len(calltype_mapping_train)}'):\", calltype_mapping_train)\n",
    "\n",
    "# Ensuring valid call type mapping\n",
    "missing_train = set(train_calltypes) - set(calltype_mapping_train.keys())\n",
    "missing_test = set(test_calltypes) - set(calltype_mapping_test.keys())\n",
    "\n",
    "if missing_train:\n",
    "    print(f\"\\nMissing call types in train mapping: {missing_train}\")\n",
    "if missing_test:\n",
    "    print(f\"\\nMissing call types in test mapping: {missing_test}\")\n",
    "if not missing_train and not missing_test:\n",
    "    print(\"\\nAll call types are mapped correctly.\")\n",
    "\n",
    "# Update datasets with call type mappings\n",
    "train_dataset = train_dataset.map(lambda x: {\"short_call_type\": calltype_mapping_train.get(x[\"call_type\"], None)}) # Using None to force an error if the call type is not found\n",
    "test_dataset = test_dataset.map(lambda x: {\"short_call_type\": calltype_mapping_test.get(x[\"vocalization_type\"], None)}) # Using None to force an error if the vocalization type is not found"
   ]
  },
  {
   "cell_type": "markdown",
   "id": "12f26d4f",
   "metadata": {},
   "source": [
    "# Determine naive classes"
   ]
  },
  {
   "cell_type": "code",
   "execution_count": 38,
   "id": "0963a01e",
   "metadata": {},
   "outputs": [
    {
     "data": {
      "application/vnd.jupyter.widget-view+json": {
       "model_id": "7d250dcdbc804c7aa960ac7621a93f90",
       "version_major": 2,
       "version_minor": 0
      },
      "text/plain": [
       "Map:   0%|          | 0/16020 [00:00<?, ? examples/s]"
      ]
     },
     "metadata": {},
     "output_type": "display_data"
    },
    {
     "name": "stdout",
     "output_type": "stream",
     "text": [
      "Test naive classes ('134'): ['winwre4_sn', 'comcha_ct', 'comcha_sn', 'gretit1_ct', 'misthr1_fl', 'comcha_fl', 'hawfin_or', 'coatit2_or', 'eurrob1_or', 'blutit_or', 'grswoo_or', 'goldcr1_or', 'yellow2_or', 'shttre1_or', 'brambl_fl', 'coatit2_sn', 'blutit_sn', 'eurgol_fl', 'eurnut2_ct', 'UNKNOWN_ct', 'blutit_ct', 'dunnoc1_or', 'sonthr1_or', 'norlap_or', 'eurrob1_sn', 'sonthr1_sn', 'UNKNOWN_or', 'eurbla_sn', 'martit2_sn', 'misthr1_sn', 'dunnoc1_sn', 'grswoo_dr', 'eurnut2_sn', 'wlwwar_sn', 'gretit1_sn', 'cowpig1_sn', 'NA_al', 'eurbla_al', 'eurjay1_ct', 'comchi1_sn', 'UNKNOWN_sn', 'cretit2_ct', 'goldcr1_sn', 'comchi1_ct', 'eugwoo2_sn', 'winwre4_ct', 'martit2_ct', 'NA_or', 'firecr1_sn', 'grswoo_ct', 'stodov1_sn', 'sonthr1_fl', 'stodov1_fl', 'eursta_sn', 'tawowl1_or', 'blackc1_sn', 'eurrob1_ct', 'shttre1_ct', 'shttre1_sn', 'eurgre1_fl', 'spofly1_ct', 'goldcr1_ct', 'gyfwoo1_sn', 'gyfwoo1_dr', 'eursta_or', 'UNKNOWN_al', 'firecr1_ct', 'sonthr1_al', 'woowar_sn', 'woowar_or', 'comcuc_sn', 'eurtre1_sn', 'blackc1_ct', 'eurbla_ct', 'hawfin_ct', 'tawowl1_sn', 'eupfly1_sn', 'miswoo1_sn', 'hawfin_fl', 'blawoo1_fl', 'blawoo1_sn', 'eutdov_or', 'brambl_sn', 'brambl_ct', 'eurjac_fl', 'yellow2_ct', 'dunnoc1_fl', 'yellow2_sn', 'wiltit1_sn', 'wiltit1_or', 'whtdip1_fl', 'eurbul_fl', 'gretit1_al', 'eurgre1_sn', 'coatit2_ct', 'cowpig1_dr', 'redcro_ex', 'eursis_sn', 'redwin_al', 'redwin_sn', 'redwin_fl', 'fieldf_fl', 'carcro1_ct', 'skylar_sn', 'martit2_st', 'blawoo1_ex', 'blawoo1_ct', 'redcro_fl', 'norgos1_sn', 'grewhi1_sn', 'eurtre1_ct', 'comnig1_sn', 'comrav_ct', 'redcro_sn', 'firecr1_st', 'redjun_sn', 'garwar1_sn', 'winwre4_al', 'trepip_fl', 'trepip_sn', 'eurwoo_sn', 'eurbul_or', 'eursis_fl', 'eursis_ct', 'blackc1_al', 'comchi1_al', 'comcha_al', 'UNKNOWN_fl', 'blutit_fl', 'comrav_fl', 'eursis_st', 'sonthr1_ct', 'eurbla_fl', 'comcha_st']\n",
      "Train naive classes ('198'): ['blawoo1_fl', 'blawoo1_ct', 'blawoo1_sn', 'blawoo1_dr', 'blawoo1_or', 'blawoo1_ex', 'carcro1_fl', 'carcro1_ct', 'coatit2_ct', 'coatit2_sn', 'coatit2_fl', 'comcha_sn', 'comcha_ct', 'comcha_fl', 'comcha_al', 'comchi1_sn', 'comchi1_ct', 'comchi1_ex', 'comchi1_fl', 'comchi1_al', 'comcuc_sn', 'comcuc_st', 'comcuc_ct', 'comcuc_fl', 'firecr1_sn', 'firecr1_ct', 'firecr1_fl', 'comnig1_sn', 'comnig1_ct', 'comrav_ct', 'comrav_fl', 'comrav_or', 'cowpig1_sn', 'cowpig1_al', 'cowpig1_or', 'cretit2_ct', 'cretit2_sn', 'cretit2_or', 'dunnoc1_sn', 'dunnoc1_or', 'dunnoc1_fl', 'dunnoc1_ct', 'eurbla_ct', 'eurbla_sn', 'eurbla_or', 'eurbla_al', 'eurbla_fl', 'eurbla_st', 'blackc1_sn', 'blackc1_ct', 'blackc1_al', 'blackc1_fl', 'blackc1_ex', 'blackc1_st', 'blutit_ct', 'blutit_sn', 'blutit_al', 'blutit_fl', 'eurbul_or', 'eurbul_fl', 'eurbul_sn', 'eurbul_ct', 'eugwoo2_ct', 'eugwoo2_sn', 'eugwoo2_fl', 'eurjac_fl', 'eurjac_ct', 'eurjay1_ct', 'eurjay1_sn', 'eurjay1_al', 'eurnut2_sn', 'eurnut2_ct', 'eurnut2_al', 'eurnut2_fl', 'eurnut2_or', 'eurnut2_ex', 'eursis_fl', 'eursis_ct', 'eursis_or', 'eursis_sn', 'skylar_sn', 'skylar_ct', 'skylar_fl', 'skylar_or', 'eurtre1_sn', 'eurtre1_ct', 'eurwoo_sn', 'eurwoo_al', 'winwre4_sn', 'winwre4_al', 'winwre4_ct', 'eurgol_sn', 'eurgol_or', 'eurgol_fl', 'eurgol_ct', 'eurgre1_fl', 'eurgre1_sn', 'eurgre1_or', 'eurgre1_ct', 'eupfly1_or', 'eupfly1_sn', 'eupfly1_ct', 'eupfly1_fl', 'eurrob1_sn', 'eurrob1_or', 'eurrob1_al', 'eurrob1_ct', 'eurrob1_fl', 'eurrob1_st', 'eursta_ct', 'eursta_or', 'eursta_sn', 'eursta_fl', 'eutdov_sn', 'eutdov_ct', 'fieldf_fl', 'fieldf_ct', 'fieldf_or', 'fieldf_al', 'fieldf_sn', 'garwar1_sn', 'garwar1_ct', 'goldcr1_ct', 'goldcr1_sn', 'goldcr1_or', 'gyfwoo1_sn', 'gyfwoo1_dr', 'gyfwoo1_fl', 'gyfwoo1_ct', 'grswoo_dr', 'grswoo_ct', 'grswoo_sn', 'grswoo_or', 'gretit1_sn', 'gretit1_ct', 'gretit1_st', 'gretit1_al', 'gretit1_fl', 'gretit1_or', 'grewhi1_sn', 'grewhi1_ct', 'grewhi1_fl', 'hawfin_ct', 'hawfin_fl', 'martit2_sn', 'martit2_ct', 'miswoo1_sn', 'miswoo1_ct', 'misthr1_sn', 'misthr1_ct', 'misthr1_or', 'misthr1_fl', 'misthr1_al', 'norlap_fl', 'norlap_ct', 'norlap_sn', 'redcro_fl', 'redcro_ex', 'redcro_sn', 'redcro_al', 'redcro_or', 'shttre1_sn', 'shttre1_ct', 'sonthr1_sn', 'sonthr1_or', 'sonthr1_fl', 'sonthr1_ct', 'sonthr1_al', 'sonthr1_dr', 'spofly1_ct', 'spofly1_or', 'spofly1_sn', 'stodov1_sn', 'tawowl1_ct', 'tawowl1_sn', 'tawowl1_or', 'tawowl1_st', 'tawowl1_ex', 'trepip_sn', 'trepip_fl', 'trepip_ct', 'trepip_al', 'whtdip1_fl', 'whtdip1_ct', 'whtdip1_sn', 'wiltit1_ct', 'wiltit1_sn', 'wiltit1_st', 'wlwwar_sn', 'wlwwar_ct', 'woowar_sn', 'woowar_ct', 'woowar_st', 'yellow2_sn', 'yellow2_ct', 'yellow2_fl', 'yellow2_or', 'NA_or']\n"
     ]
    }
   ],
   "source": [
    "test_dataset = test_dataset.map(lambda x: { \"ebird_code_and_call\": f\"{x['ebird_code']}_{x['short_call_type']}\" })\n",
    "train_dataset = train_dataset.map(lambda x: { \"ebird_code_and_call\": f\"{x['ebird_code']}_{x['short_call_type']}\" })\n",
    "\n",
    "test_naive_classes = test_dataset[\"train\"].unique(\"ebird_code_and_call\")\n",
    "train_naive_classes = train_dataset[\"train\"].unique(\"ebird_code_and_call\")\n",
    "\n",
    "print(f\"Test naive classes ('{len(test_naive_classes)}'):\", test_naive_classes)\n",
    "print(f\"Train naive classes ('{len(train_naive_classes)}'):\", train_naive_classes)"
   ]
  },
  {
   "cell_type": "markdown",
   "id": "534f2ea1",
   "metadata": {},
   "source": [
    "# Determine naive blacklist (unused)"
   ]
  },
  {
   "cell_type": "code",
   "execution_count": 39,
   "id": "a0446681",
   "metadata": {},
   "outputs": [
    {
     "name": "stdout",
     "output_type": "stream",
     "text": [
      "Train naive classes ('198'): ['blawoo1_fl', 'blawoo1_ct', 'blawoo1_sn', 'blawoo1_dr', 'blawoo1_or', 'blawoo1_ex', 'carcro1_fl', 'carcro1_ct', 'coatit2_ct', 'coatit2_sn', 'coatit2_fl', 'comcha_sn', 'comcha_ct', 'comcha_fl', 'comcha_al', 'comchi1_sn', 'comchi1_ct', 'comchi1_ex', 'comchi1_fl', 'comchi1_al', 'comcuc_sn', 'comcuc_st', 'comcuc_ct', 'comcuc_fl', 'firecr1_sn', 'firecr1_ct', 'firecr1_fl', 'comnig1_sn', 'comnig1_ct', 'comrav_ct', 'comrav_fl', 'comrav_or', 'cowpig1_sn', 'cowpig1_al', 'cowpig1_or', 'cretit2_ct', 'cretit2_sn', 'cretit2_or', 'dunnoc1_sn', 'dunnoc1_or', 'dunnoc1_fl', 'dunnoc1_ct', 'eurbla_ct', 'eurbla_sn', 'eurbla_or', 'eurbla_al', 'eurbla_fl', 'eurbla_st', 'blackc1_sn', 'blackc1_ct', 'blackc1_al', 'blackc1_fl', 'blackc1_ex', 'blackc1_st', 'blutit_ct', 'blutit_sn', 'blutit_al', 'blutit_fl', 'eurbul_or', 'eurbul_fl', 'eurbul_sn', 'eurbul_ct', 'eugwoo2_ct', 'eugwoo2_sn', 'eugwoo2_fl', 'eurjac_fl', 'eurjac_ct', 'eurjay1_ct', 'eurjay1_sn', 'eurjay1_al', 'eurnut2_sn', 'eurnut2_ct', 'eurnut2_al', 'eurnut2_fl', 'eurnut2_or', 'eurnut2_ex', 'eursis_fl', 'eursis_ct', 'eursis_or', 'eursis_sn', 'skylar_sn', 'skylar_ct', 'skylar_fl', 'skylar_or', 'eurtre1_sn', 'eurtre1_ct', 'eurwoo_sn', 'eurwoo_al', 'winwre4_sn', 'winwre4_al', 'winwre4_ct', 'eurgol_sn', 'eurgol_or', 'eurgol_fl', 'eurgol_ct', 'eurgre1_fl', 'eurgre1_sn', 'eurgre1_or', 'eurgre1_ct', 'eupfly1_or', 'eupfly1_sn', 'eupfly1_ct', 'eupfly1_fl', 'eurrob1_sn', 'eurrob1_or', 'eurrob1_al', 'eurrob1_ct', 'eurrob1_fl', 'eurrob1_st', 'eursta_ct', 'eursta_or', 'eursta_sn', 'eursta_fl', 'eutdov_sn', 'eutdov_ct', 'fieldf_fl', 'fieldf_ct', 'fieldf_or', 'fieldf_al', 'fieldf_sn', 'garwar1_sn', 'garwar1_ct', 'goldcr1_ct', 'goldcr1_sn', 'goldcr1_or', 'gyfwoo1_sn', 'gyfwoo1_dr', 'gyfwoo1_fl', 'gyfwoo1_ct', 'grswoo_dr', 'grswoo_ct', 'grswoo_sn', 'grswoo_or', 'gretit1_sn', 'gretit1_ct', 'gretit1_st', 'gretit1_al', 'gretit1_fl', 'gretit1_or', 'grewhi1_sn', 'grewhi1_ct', 'grewhi1_fl', 'hawfin_ct', 'hawfin_fl', 'martit2_sn', 'martit2_ct', 'miswoo1_sn', 'miswoo1_ct', 'misthr1_sn', 'misthr1_ct', 'misthr1_or', 'misthr1_fl', 'misthr1_al', 'norlap_fl', 'norlap_ct', 'norlap_sn', 'redcro_fl', 'redcro_ex', 'redcro_sn', 'redcro_al', 'redcro_or', 'shttre1_sn', 'shttre1_ct', 'sonthr1_sn', 'sonthr1_or', 'sonthr1_fl', 'sonthr1_ct', 'sonthr1_al', 'sonthr1_dr', 'spofly1_ct', 'spofly1_or', 'spofly1_sn', 'stodov1_sn', 'tawowl1_ct', 'tawowl1_sn', 'tawowl1_or', 'tawowl1_st', 'tawowl1_ex', 'trepip_sn', 'trepip_fl', 'trepip_ct', 'trepip_al', 'whtdip1_fl', 'whtdip1_ct', 'whtdip1_sn', 'wiltit1_ct', 'wiltit1_sn', 'wiltit1_st', 'wlwwar_sn', 'wlwwar_ct', 'woowar_sn', 'woowar_ct', 'woowar_st', 'yellow2_sn', 'yellow2_ct', 'yellow2_fl', 'yellow2_or', 'NA_or']\n",
      "Test naive classes ('134'): ['winwre4_sn', 'comcha_ct', 'comcha_sn', 'gretit1_ct', 'misthr1_fl', 'comcha_fl', 'hawfin_or', 'coatit2_or', 'eurrob1_or', 'blutit_or', 'grswoo_or', 'goldcr1_or', 'yellow2_or', 'shttre1_or', 'brambl_fl', 'coatit2_sn', 'blutit_sn', 'eurgol_fl', 'eurnut2_ct', 'UNKNOWN_ct', 'blutit_ct', 'dunnoc1_or', 'sonthr1_or', 'norlap_or', 'eurrob1_sn', 'sonthr1_sn', 'UNKNOWN_or', 'eurbla_sn', 'martit2_sn', 'misthr1_sn', 'dunnoc1_sn', 'grswoo_dr', 'eurnut2_sn', 'wlwwar_sn', 'gretit1_sn', 'cowpig1_sn', 'NA_al', 'eurbla_al', 'eurjay1_ct', 'comchi1_sn', 'UNKNOWN_sn', 'cretit2_ct', 'goldcr1_sn', 'comchi1_ct', 'eugwoo2_sn', 'winwre4_ct', 'martit2_ct', 'NA_or', 'firecr1_sn', 'grswoo_ct', 'stodov1_sn', 'sonthr1_fl', 'stodov1_fl', 'eursta_sn', 'tawowl1_or', 'blackc1_sn', 'eurrob1_ct', 'shttre1_ct', 'shttre1_sn', 'eurgre1_fl', 'spofly1_ct', 'goldcr1_ct', 'gyfwoo1_sn', 'gyfwoo1_dr', 'eursta_or', 'UNKNOWN_al', 'firecr1_ct', 'sonthr1_al', 'woowar_sn', 'woowar_or', 'comcuc_sn', 'eurtre1_sn', 'blackc1_ct', 'eurbla_ct', 'hawfin_ct', 'tawowl1_sn', 'eupfly1_sn', 'miswoo1_sn', 'hawfin_fl', 'blawoo1_fl', 'blawoo1_sn', 'eutdov_or', 'brambl_sn', 'brambl_ct', 'eurjac_fl', 'yellow2_ct', 'dunnoc1_fl', 'yellow2_sn', 'wiltit1_sn', 'wiltit1_or', 'whtdip1_fl', 'eurbul_fl', 'gretit1_al', 'eurgre1_sn', 'coatit2_ct', 'cowpig1_dr', 'redcro_ex', 'eursis_sn', 'redwin_al', 'redwin_sn', 'redwin_fl', 'fieldf_fl', 'carcro1_ct', 'skylar_sn', 'martit2_st', 'blawoo1_ex', 'blawoo1_ct', 'redcro_fl', 'norgos1_sn', 'grewhi1_sn', 'eurtre1_ct', 'comnig1_sn', 'comrav_ct', 'redcro_sn', 'firecr1_st', 'redjun_sn', 'garwar1_sn', 'winwre4_al', 'trepip_fl', 'trepip_sn', 'eurwoo_sn', 'eurbul_or', 'eursis_fl', 'eursis_ct', 'blackc1_al', 'comchi1_al', 'comcha_al', 'UNKNOWN_fl', 'blutit_fl', 'comrav_fl', 'eursis_st', 'sonthr1_ct', 'eurbla_fl', 'comcha_st']\n",
      "Train blacklist ('92'): {'eurjay1_al', 'eurgol_sn', 'spofly1_or', 'eursta_ct', 'blackc1_st', 'eugwoo2_ct', 'eurbla_st', 'wiltit1_ct', 'eupfly1_or', 'eurrob1_fl', 'norlap_ct', 'eurnut2_al', 'yellow2_fl', 'eutdov_ct', 'comnig1_ct', 'eursta_fl', 'carcro1_fl', 'tawowl1_ex', 'comcuc_fl', 'misthr1_or', 'wiltit1_st', 'eurjac_ct', 'gretit1_st', 'eupfly1_fl', 'eurgol_ct', 'comcuc_ct', 'coatit2_fl', 'eutdov_sn', 'comchi1_fl', 'fieldf_al', 'eurjay1_sn', 'eurbla_or', 'eugwoo2_fl', 'eurbul_sn', 'whtdip1_sn', 'gretit1_fl', 'fieldf_or', 'tawowl1_st', 'blutit_al', 'eurgol_or', 'trepip_ct', 'eurgre1_or', 'spofly1_sn', 'misthr1_al', 'cowpig1_al', 'redcro_or', 'eurnut2_or', 'eurnut2_ex', 'tawowl1_ct', 'firecr1_fl', 'grswoo_sn', 'comcuc_st', 'blackc1_ex', 'skylar_ct', 'eurgre1_ct', 'misthr1_ct', 'eurbul_ct', 'eurwoo_al', 'fieldf_ct', 'dunnoc1_ct', 'sonthr1_dr', 'comchi1_ex', 'norlap_sn', 'eurrob1_al', 'trepip_al', 'wlwwar_ct', 'blackc1_fl', 'eurnut2_fl', 'whtdip1_ct', 'eurrob1_st', 'blawoo1_or', 'comrav_or', 'fieldf_sn', 'gretit1_or', 'woowar_st', 'garwar1_ct', 'eupfly1_ct', 'grewhi1_fl', 'norlap_fl', 'miswoo1_ct', 'blawoo1_dr', 'redcro_al', 'cowpig1_or', 'grewhi1_ct', 'gyfwoo1_ct', 'skylar_or', 'skylar_fl', 'cretit2_sn', 'eursis_or', 'woowar_ct', 'gyfwoo1_fl', 'cretit2_or'}\n",
      "Test blacklist ('28'): {'brambl_fl', 'stodov1_fl', 'UNKNOWN_al', 'redjun_sn', 'brambl_ct', 'redwin_al', 'cowpig1_dr', 'norgos1_sn', 'UNKNOWN_fl', 'norlap_or', 'brambl_sn', 'UNKNOWN_or', 'comcha_st', 'wiltit1_or', 'redwin_sn', 'UNKNOWN_ct', 'blutit_or', 'hawfin_or', 'martit2_st', 'eursis_st', 'shttre1_or', 'NA_al', 'coatit2_or', 'eutdov_or', 'woowar_or', 'firecr1_st', 'redwin_fl', 'UNKNOWN_sn'}\n"
     ]
    }
   ],
   "source": [
    "train_ebird_call_codes = train_dataset[\"train\"].unique(\"ebird_code_and_call\")\n",
    "test_ebird_call_codes = test_dataset[\"train\"].unique(\"ebird_code_and_call\")\n",
    "\n",
    "print(f\"Train naive classes ('{len(train_ebird_call_codes)}'):\", train_ebird_call_codes)\n",
    "print(f\"Test naive classes ('{len(test_ebird_call_codes)}'):\", test_ebird_call_codes)\n",
    "\n",
    "train_blacklist = set(train_ebird_call_codes) - set(test_ebird_call_codes)\n",
    "test_blacklist = set(test_ebird_call_codes) - set(train_ebird_call_codes)\n",
    "\n",
    "print(f\"Train blacklist ('{len(train_blacklist)}'):\", train_blacklist)\n",
    "print(f\"Test blacklist ('{len(test_blacklist)}'):\", test_blacklist)\n",
    "\n",
    "with open(output_blacklist_naive_train, \"w\") as f:\n",
    "    f.write(\"# eBird codes not present in the test set\\n\")\n",
    "    for code in train_blacklist:\n",
    "        f.write(f\"{code}\\n\")\n",
    "\n",
    "with open(output_blacklist_naive_test, \"w\") as f:\n",
    "    f.write(\"# eBird codes not present in the train set\\n\")\n",
    "    for code in test_blacklist:\n",
    "        f.write(f\"{code}\\n\")"
   ]
  },
  {
   "cell_type": "markdown",
   "id": "ee2370e3",
   "metadata": {},
   "source": [
    "# Determine and apply missing data for train data"
   ]
  },
  {
   "cell_type": "code",
   "execution_count": 40,
   "id": "114155c7",
   "metadata": {},
   "outputs": [
    {
     "name": "stdout",
     "output_type": "stream",
     "text": [
      "Blacklist naive ('0'): set()\n"
     ]
    }
   ],
   "source": [
    "original_filepaths = set(train_dataset[\"train\"][\"actual_filename\"])\n",
    "\n",
    "train_dataset = train_dataset.filter(lambda x: path.exists(f\"/workspace/oekofor/dataset/{x['actual_filename']}.flac\") or path.exists(f\"/workspace/oekofor/dataset/{x['actual_filename']}.wav\"))\n",
    "\n",
    "blacklist_train_files = set(original_filepaths) - set(train_dataset[\"train\"][\"actual_filename\"])\n",
    "\n",
    "print(f\"Blacklist naive ('{len(blacklist_train_files)}'):\", blacklist_train_files)\n",
    "\n",
    "with open(output_blacklist_files_train, \"w\") as f:\n",
    "    f.write(\"# File paths not present in the train set\\n\")\n",
    "    for filepath in blacklist_train_files:\n",
    "        f.write(f\"{filepath}\\n\")"
   ]
  },
  {
   "cell_type": "markdown",
   "id": "c95987f7",
   "metadata": {},
   "source": [
    "# Apply filters (unused)"
   ]
  },
  {
   "cell_type": "code",
   "execution_count": 41,
   "id": "9239ecc6",
   "metadata": {},
   "outputs": [
    {
     "data": {
      "application/vnd.jupyter.widget-view+json": {
       "model_id": "b2e3752eae4c4606826b18b06618fd5a",
       "version_major": 2,
       "version_minor": 0
      },
      "text/plain": [
       "Filter:   0%|          | 0/16020 [00:00<?, ? examples/s]"
      ]
     },
     "metadata": {},
     "output_type": "display_data"
    }
   ],
   "source": [
    "filtered_train_dataset = train_dataset.filter(lambda x: x[\"ebird_code_and_call\"] not in train_blacklist)\n",
    "filtered_test_dataset = test_dataset.filter(lambda x: x[\"ebird_code_and_call\"] not in test_blacklist)\n"
   ]
  },
  {
   "cell_type": "markdown",
   "id": "e1d13a53",
   "metadata": {},
   "source": [
    "# Output filtered useable naive data (unused)"
   ]
  },
  {
   "cell_type": "code",
   "execution_count": 42,
   "id": "fbd5d962",
   "metadata": {},
   "outputs": [
    {
     "data": {
      "application/vnd.jupyter.widget-view+json": {
       "model_id": "978adb71d5f842f091f3f42aa6576324",
       "version_major": 2,
       "version_minor": 0
      },
      "text/plain": [
       "Flattening the indices:   0%|          | 0/14933 [00:00<?, ? examples/s]"
      ]
     },
     "metadata": {},
     "output_type": "display_data"
    },
    {
     "name": "stdout",
     "output_type": "stream",
     "text": [
      "Filtered train dataset has length 61198 (original 'valid' 66455) with 106 (92 filtered) unique classes\n",
      "Filtered test  dataset has length 14933 (original 'valid' 16020) with 106 (28 filtered) unique classes\n"
     ]
    }
   ],
   "source": [
    "filtered_train_length = len(filtered_train_dataset[\"train\"])\n",
    "filtered_test_length = len(filtered_test_dataset[\"train\"])\n",
    "\n",
    "source_train_length = len(train_dataset[\"train\"])\n",
    "source_test_length = len(test_dataset[\"train\"])\n",
    "\n",
    "class_count_train = len(filtered_train_dataset[\"train\"].unique(\"ebird_code_and_call\"))\n",
    "class_count_test = len(filtered_test_dataset[\"train\"].unique(\"ebird_code_and_call\"))\n",
    "\n",
    "class_train_filtered_count = len(train_blacklist)\n",
    "class_test_filtered_count = len(test_blacklist)\n",
    "\n",
    "print(f\"Filtered train dataset has length {filtered_train_length} (original 'valid' {source_train_length}) with {class_count_train} ({class_train_filtered_count} filtered) unique classes\")\n",
    "print(f\"Filtered test  dataset has length {filtered_test_length} (original 'valid' {source_test_length}) with {class_count_test} ({class_test_filtered_count} filtered) unique classes\")"
   ]
  },
  {
   "cell_type": "markdown",
   "id": "e7a6cfc7",
   "metadata": {},
   "source": [
    "# Output used data latex stats"
   ]
  },
  {
   "cell_type": "code",
   "execution_count": 44,
   "id": "1cb1d4f1",
   "metadata": {},
   "outputs": [
    {
     "name": "stdout",
     "output_type": "stream",
     "text": [
      "Train data contains 198 classes\n",
      "Test data contains 134 classes\n",
      "Train eBird codes ('56'): ['blawoo1', 'carcro1', 'coatit2', 'comcha', 'comchi1', 'comcuc', 'firecr1', 'comnig1', 'comrav', 'cowpig1', 'cretit2', 'dunnoc1', 'eurbla', 'blackc1', 'blutit', 'eurbul', 'eugwoo2', 'eurjac', 'eurjay1', 'eurnut2', 'eursis', 'skylar', 'eurtre1', 'eurwoo', 'winwre4', 'eurgol', 'eurgre1', 'eupfly1', 'eurrob1', 'eursta', 'eutdov', 'fieldf', 'garwar1', 'goldcr1', 'gyfwoo1', 'grswoo', 'gretit1', 'grewhi1', 'hawfin', 'martit2', 'miswoo1', 'misthr1', 'norlap', 'redcro', 'shttre1', 'sonthr1', 'spofly1', 'stodov1', 'tawowl1', 'trepip', 'whtdip1', 'wiltit1', 'wlwwar', 'woowar', 'yellow2', 'NA']\n",
      "Test eBird codes ('61'): ['winwre4', 'comcha', 'gretit1', 'misthr1', 'hawfin', 'coatit2', 'eurrob1', 'blutit', 'grswoo', 'goldcr1', 'yellow2', 'shttre1', 'brambl', 'eurgol', 'eurnut2', 'UNKNOWN', 'dunnoc1', 'sonthr1', 'norlap', 'eurbla', 'martit2', 'wlwwar', 'cowpig1', 'NA', 'eurjay1', 'comchi1', 'cretit2', 'eugwoo2', 'firecr1', 'stodov1', 'eursta', 'tawowl1', 'blackc1', 'eurgre1', 'spofly1', 'gyfwoo1', 'woowar', 'comcuc', 'eurtre1', 'eupfly1', 'miswoo1', 'blawoo1', 'eutdov', 'eurjac', 'wiltit1', 'whtdip1', 'eurbul', 'redcro', 'eursis', 'redwin', 'fieldf', 'carcro1', 'skylar', 'norgos1', 'grewhi1', 'comnig1', 'comrav', 'redjun', 'garwar1', 'trepip', 'eurwoo']\n",
      "Train call types ('8'): ['al', 'ct', 'dr', 'ex', 'fl', 'sn', 'st', 'or']\n",
      "Test call types ('8'): ['al', 'ct', 'dr', 'ex', 'fl', 'sn', 'st', 'or']\n",
      "train eBird common names ('56'): ['Black Woodpecker', 'Carrion Crow', 'Coal Tit', 'Common Chaffinch', 'Common Chiffchaff', 'Common Cuckoo', 'Common Firecrest', 'Common Nightingale', 'Common Raven', 'Common Wood-Pigeon', 'Crested Tit', 'Dunnock', 'Eurasian Blackbird', 'Eurasian Blackcap', 'Eurasian Blue Tit', 'Eurasian Bullfinch', 'Eurasian Green Woodpecker', 'Eurasian Jackdaw', 'Eurasian Jay', 'Eurasian Nuthatch', 'Eurasian Siskin', 'Eurasian Skylark', 'Eurasian Treecreeper', 'Eurasian Woodcock', 'Eurasian Wren', 'European Goldfinch', 'European Greenfinch', 'European Pied Flycatcher', 'European Robin', 'European Starling', 'European Turtle-Dove', 'Fieldfare', 'Garden Warbler', 'Goldcrest', 'Gray-headed Woodpecker', 'Great Spotted Woodpecker', 'Great Tit', 'Greater Whitethroat', 'Hawfinch', 'Marsh Tit', 'Middle Spotted Woodpecker', 'Mistle Thrush', 'Northern Lapwing', 'Red Crossbill', 'Short-toed Treecreeper', 'Song Thrush', 'Spotted Flycatcher', 'Stock Dove', 'Tawny Owl', 'Tree Pipit', 'White-throated Dipper', 'Willow Tit', 'Willow Warbler', 'Wood Warbler', 'Yellowhammer', 'no bird']\n",
      "Writing train LaTeX table\n",
      "test eBird common names ('61'): ['Eurasian Wren', 'Common Chaffinch', 'Great Tit', 'Mistle Thrush', 'Hawfinch', 'Coal Tit', 'European Robin', 'Eurasian Blue Tit', 'Great Spotted Woodpecker', 'Goldcrest', 'Yellowhammer', 'Short-toed Treecreeper', 'Brambling', 'European Goldfinch', 'Eurasian Nuthatch', 'Bird', 'Dunnock', 'Song Thrush', 'Northern Lapwing', 'Eurasian Blackbird', 'Marsh Tit', 'Willow Warbler', 'Common Wood-Pigeon', 'European Roe Deer', 'Eurasian Jay', 'Common Chiffchaff', 'Crested Tit', 'Eurasian Green Woodpecker', 'Common Firecrest', 'Stock Dove', 'European Starling', 'Tawny Owl', 'Eurasian Blackcap', 'European Greenfinch', 'Spotted Flycatcher', 'Gray-headed Woodpecker', 'Wood Warbler', 'Common Cuckoo', 'Eurasian Treecreeper', 'European Pied Flycatcher', 'Middle Spotted Woodpecker', 'Black Woodpecker', 'European Turtle-Dove', 'Eurasian Jackdaw', 'Willow Tit', 'White-throated Dipper', 'Eurasian Bullfinch', 'Red Crossbill', 'Eurasian Siskin', 'Redwing', 'Fieldfare', 'Carrion Crow', 'Eurasian Skylark', 'Eurasian Goshawk', 'Greater Whitethroat', 'Common Nightingale', 'Common Raven', 'Red Junglefowl', 'Garden Warbler', 'Tree Pipit', 'Eurasian Woodcock']\n",
      "Writing test LaTeX table\n"
     ]
    }
   ],
   "source": [
    "latex_train_output_file = \"/workspace/projects/callbird/notebooks/latex_output_train\"\n",
    "latex_test_output_file = \"/workspace/projects/callbird/notebooks/latex_output_test\"\n",
    "latex_legend_output_file = \"/workspace/projects/callbird/notebooks/latex_output_legend\"\n",
    "\n",
    "train_length = len(train_dataset[\"train\"])\n",
    "test_length = len(test_dataset[\"train\"])\n",
    "\n",
    "class_count_train = len(train_dataset[\"train\"].unique(\"ebird_code_and_call\"))\n",
    "class_count_test = len(test_dataset[\"train\"].unique(\"ebird_code_and_call\"))\n",
    "\n",
    "print(\"Train data contains {} classes\".format(class_count_train))\n",
    "print(\"Test data contains {} classes\".format(class_count_test))\n",
    "\n",
    "train_ebirds = train_dataset[\"train\"].unique(\"ebird_code\")\n",
    "test_ebirds = test_dataset[\"train\"].unique(\"ebird_code\")\n",
    "\n",
    "train_calltypes = train_dataset[\"train\"].unique(\"short_call_type\")\n",
    "test_calltypes = test_dataset[\"train\"].unique(\"short_call_type\")\n",
    "\n",
    "train_calltypes.sort()\n",
    "test_calltypes.sort()\n",
    "\n",
    "train_calltypes = sorted(train_calltypes, key=lambda x: (x == \"or\", x))\n",
    "test_calltypes = sorted(test_calltypes, key=lambda x: (x == \"or\", x))\n",
    "\n",
    "print(f\"Train eBird codes ('{len(train_ebirds)}'):\", train_ebirds)\n",
    "print(f\"Test eBird codes ('{len(test_ebirds)}'):\", test_ebirds)\n",
    "\n",
    "print(f\"Train call types ('{len(train_calltypes)}'):\", train_calltypes)\n",
    "print(f\"Test call types ('{len(test_calltypes)}'):\", test_calltypes)\n",
    "\n",
    "from datasets import DatasetDict\n",
    "def createLatexTable(dataset: DatasetDict, name: str, latexOutputPath: str, birdCodes: list[str], callCodes: list[str]):\n",
    "    ebird_common_name_dict = {}\n",
    "    # loop train dataset (not lists) and fill above dict\n",
    "    for example in dataset[\"train\"]:\n",
    "        ebird_code = example[\"ebird_code\"]\n",
    "        common_name = example[\"common_name\"]\n",
    "        if ebird_code not in ebird_common_name_dict:\n",
    "            ebird_common_name_dict[ebird_code] = common_name\n",
    "        elif ebird_common_name_dict[ebird_code] != common_name:\n",
    "            print(f\"Warning: eBird code '{ebird_code}' has multiple common names: '{ebird_common_name_dict[ebird_code]}' and '{common_name}'\")\n",
    "\n",
    "    ebird_calls_count = {}\n",
    "    for example in dataset[\"train\"]:\n",
    "        ebird_code = example[\"ebird_code\"]\n",
    "        call_type = example[\"short_call_type\"]\n",
    "        if ebird_code not in ebird_calls_count:\n",
    "            ebird_calls_count[ebird_code] = {}\n",
    "        ebird_calls_count[ebird_code][call_type] = ebird_calls_count[ebird_code].get(call_type, 0) + 1\n",
    "\n",
    "    # map ebirds to names\n",
    "    ebird_common_names = [ebird_common_name_dict[ebird] for ebird in birdCodes]\n",
    "    print(f\"{name} eBird common names ('{len(ebird_common_names)}'):\", ebird_common_names)\n",
    "\n",
    "    print(f\"Writing {name} LaTeX table\")\n",
    "    with open(latexOutputPath, \"w\") as f:\n",
    "        coloumn_style = \"|c\" * (len(callCodes))\n",
    "        f.write(f\"\\\\begin{{longtable}}{{|l{coloumn_style}|}}\\n\")\n",
    "        f.write(\"\\\\hline\\n\")\n",
    "        calltypes_with_ref = map(lambda x: f\"\\\\hyperref[tab:callbird_legend]{{{x}}}\", callCodes)\n",
    "        calltype_columns = \" & \".join(calltypes_with_ref)\n",
    "        f.write(f\"Common Name & {calltype_columns} \\\\\\\\\\n\")\n",
    "        f.write(\"\\\\hline\\n\")\n",
    "        for ebird in birdCodes:\n",
    "            # write the ebird in first coloumn and other a check or \"-\" whether a datapoint with exists\n",
    "            # combined_code = f\"{ebird}_{x['short_call_type']}\"\n",
    "            common_name = ebird_common_name_dict[ebird]\n",
    "            # calltypes_exists = [f\"{ebird}_{calltype}\" in dataset['train'].unique('ebird_code_and_call') for calltype in train_calltypes]\n",
    "            # checkmark_symbol = \"\\\\checkmark\"\n",
    "            calltype_bird_count = [ebird_calls_count[ebird].get(calltype, 0) for calltype in callCodes]\n",
    "            f.write(f\"{common_name} & {' & '.join([str(count) if count > 0 else '-' for count in calltype_bird_count])} \\\\\\\\\\n\")\n",
    "        f.write(\"\\\\hline\\n\")\n",
    "        f.write(\"\\\\caption{Number of samples for each bird and call type}\\n\")\n",
    "        f.write(\"\\\\label{tab:callbird_longtable\" + name + \"}\\n\")\n",
    "        f.write(\"\\\\end{longtable}\\n\")\n",
    "\n",
    "createLatexTable(train_dataset, \"train\", latex_train_output_file, train_ebirds, train_calltypes)\n",
    "createLatexTable(test_dataset, \"test\", latex_test_output_file, test_ebirds, test_calltypes)\n",
    "\n",
    "with open(latex_legend_output_file, \"w\") as f:\n",
    "    calltype_name_map = calltype_mapping[\"map\"]\n",
    "    f.write(f\"\\\\begin{{longtable}}{{|l|l|}}\\n\")\n",
    "    f.write(\"\\\\hline\\n\")\n",
    "    f.write(f\"Name & Abbreviation \\\\\\\\\\n\")\n",
    "    f.write(\"\\\\hline\\n\")\n",
    "    for name, abbr in calltype_name_map.items():\n",
    "        f.write(f\"{name} & {abbr} \\\\\\\\\\n\")\n",
    "    f.write(\"\\\\hline\\n\")\n",
    "    f.write(\"\\\\caption{Call types and their abbreviation}\\n\")\n",
    "    f.write(\"\\\\label{tab:callbird_legend}\\n\")\n",
    "    f.write(\"\\\\end{longtable}\\n\")"
   ]
  }
 ],
 "metadata": {
  "kernelspec": {
   "display_name": "birdset-xS3fZVNL-py3.10",
   "language": "python",
   "name": "python3"
  },
  "language_info": {
   "codemirror_mode": {
    "name": "ipython",
    "version": 3
   },
   "file_extension": ".py",
   "mimetype": "text/x-python",
   "name": "python",
   "nbconvert_exporter": "python",
   "pygments_lexer": "ipython3",
   "version": "3.10.12"
  }
 },
 "nbformat": 4,
 "nbformat_minor": 5
}
