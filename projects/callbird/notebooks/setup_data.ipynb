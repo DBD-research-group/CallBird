{
 "cells": [
  {
   "cell_type": "markdown",
   "id": "4e6a33ed",
   "metadata": {},
   "source": [
    "# Load datasets"
   ]
  },
  {
   "cell_type": "code",
   "execution_count": 1,
   "id": "30005995",
   "metadata": {},
   "outputs": [
    {
     "data": {
      "application/vnd.jupyter.widget-view+json": {
       "model_id": "3e9a04e8982840a3968b46b76bf8e0f6",
       "version_major": 2,
       "version_minor": 0
      },
      "text/plain": [
       "Resolving data files:   0%|          | 0/56 [00:00<?, ?it/s]"
      ]
     },
     "metadata": {},
     "output_type": "display_data"
    },
    {
     "data": {
      "application/vnd.jupyter.widget-view+json": {
       "model_id": "3804304fd8bb43aa96f11c47fd15fc8a",
       "version_major": 2,
       "version_minor": 0
      },
      "text/plain": [
       "Resolving data files:   0%|          | 0/153 [00:00<?, ?it/s]"
      ]
     },
     "metadata": {},
     "output_type": "display_data"
    }
   ],
   "source": [
    "from datasets import load_dataset, Features, Value\n",
    "\n",
    "train_dataset = load_dataset(\n",
    "    \"csv\",\n",
    "    data_files=\"/workspace/oekofor/trainset/csvlabels/*.csv\",\n",
    "    delimiter=\";\",\n",
    "    features=Features(\n",
    "        {\n",
    "            \"ebird_code\": Value(\"string\"),\n",
    "            \"call_type\": Value(\"string\"),\n",
    "        }\n",
    "    )\n",
    ")\n",
    "\n",
    "test_dataset = load_dataset(\"csv\", data_files=\"/workspace/oekofor/testset/labels/*.csv\")"
   ]
  },
  {
   "cell_type": "markdown",
   "id": "b92869d9",
   "metadata": {},
   "source": [
    "# Setup output files"
   ]
  },
  {
   "cell_type": "code",
   "execution_count": 8,
   "id": "eee34a15",
   "metadata": {},
   "outputs": [],
   "source": [
    "output_root = \"/workspace/projects/callbird/datastats\"\n",
    "output_root_train = f\"{output_root}/train\"\n",
    "output_root_test = f\"{output_root}/test\"\n",
    "\n",
    "output_blacklist_train = f\"{output_root_train}/blacklist.txt\"\n",
    "output_blacklist_test = f\"{output_root_test}/blacklist.txt\""
   ]
  },
  {
   "cell_type": "markdown",
   "id": "921d721f",
   "metadata": {},
   "source": [
    "# Determine ebird code blacklist"
   ]
  },
  {
   "cell_type": "code",
   "execution_count": 12,
   "id": "869e4620",
   "metadata": {},
   "outputs": [
    {
     "name": "stdout",
     "output_type": "stream",
     "text": [
      "Train call types ('56'): ['blawoo1', 'carcro1', 'coatit2', 'comcha', 'comchi1', 'comcuc', 'firecr1', 'comnig1', 'comrav', 'cowpig1', 'cretit2', 'dunnoc1', 'eurbla', 'blackc1', 'blutit', 'eurbul', 'eugwoo2', 'eurjac', 'eurjay1', 'eurnut2', 'eursis', 'skylar', 'eurtre1', 'eurwoo', 'winwre4', 'eurgol', 'eurgre1', 'eupfly1', 'eurrob1', 'eursta', 'eutdov', 'fieldf', 'garwar1', 'goldcr1', 'gyfwoo1', 'grswoo', 'gretit1', 'grewhi1', 'hawfin', 'martit2', 'miswoo1', 'misthr1', 'norlap', 'redcro', 'shttre1', 'sonthr1', 'spofly1', 'stodov1', 'tawowl1', 'trepip', 'whtdip1', 'wiltit1', 'wlwwar', 'woowar', 'yellow2', None]\n",
      "Test call types ('60'): ['winwre4', 'comcha', 'gretit1', 'misthr1', 'hawfin', 'coatit2', 'eurrob1', 'blutit', 'grswoo', 'goldcr1', 'yellow2', 'shttre1', 'brambl', 'eurgol', 'eurnut2', None, 'dunnoc1', 'sonthr1', 'norlap', 'eurbla', 'martit2', 'wlwwar', 'cowpig1', 'eurjay1', 'comchi1', 'cretit2', 'eugwoo2', 'firecr1', 'stodov1', 'eursta', 'tawowl1', 'blackc1', 'eurgre1', 'spofly1', 'gyfwoo1', 'woowar', 'comcuc', 'eurtre1', 'eupfly1', 'miswoo1', 'blawoo1', 'eutdov', 'eurjac', 'wiltit1', 'whtdip1', 'eurbul', 'redcro', 'eursis', 'redwin', 'fieldf', 'carcro1', 'skylar', 'norgos1', 'grewhi1', 'comnig1', 'comrav', 'redjun', 'garwar1', 'trepip', 'eurwoo']\n",
      "Train blacklist ('0'): set()\n",
      "Test blacklist ('4'): {'redwin', 'redjun', 'brambl', 'norgos1'}\n"
     ]
    }
   ],
   "source": [
    "train_ebirdcodes = train_dataset[\"train\"].unique(\"ebird_code\")\n",
    "test_ebirdcodes = test_dataset[\"train\"].unique(\"ebird_code\")\n",
    "\n",
    "print(f\"Train call types ('{len(train_ebirdcodes)}'):\", train_ebirdcodes)\n",
    "print(f\"Test call types ('{len(test_ebirdcodes)}'):\", test_ebirdcodes)\n",
    "\n",
    "train_blacklist = set(train_ebirdcodes) - set(test_ebirdcodes)\n",
    "test_blacklist = set(test_ebirdcodes) - set(train_ebirdcodes)\n",
    "\n",
    "print(f\"Train blacklist ('{len(train_blacklist)}'):\", train_blacklist)\n",
    "print(f\"Test blacklist ('{len(test_blacklist)}'):\", test_blacklist)\n",
    "\n",
    "with open(output_blacklist_train, \"w\") as f:\n",
    "    f.write(\"# eBird codes not present in the test set\\n\")\n",
    "    for code in train_blacklist:\n",
    "        f.write(f\"{code}\\n\")\n",
    "\n",
    "with open(output_blacklist_test, \"w\") as f:\n",
    "    f.write(\"# eBird codes not present in the train set\\n\")\n",
    "    for code in test_blacklist:\n",
    "        f.write(f\"{code}\\n\")"
   ]
  },
  {
   "cell_type": "markdown",
   "id": "79bc9bea",
   "metadata": {},
   "source": [
    "# Create unified call_type values"
   ]
  },
  {
   "cell_type": "code",
   "execution_count": null,
   "id": "bf3c27fc",
   "metadata": {},
   "outputs": [
    {
     "name": "stdout",
     "output_type": "stream",
     "text": [
      "Train call types ('15'): ['f (Flugruf)', 'c (Kontaktruf)', 's (Gesang)', 't (Trommeln)', 'b (Bettelruf)', 'e (Erregungsruf)', 'ic (Interaktionsrufe)', 'ac (Alarmruf)', 's2 (Zweitgesang)', 'wb (Fluegelschlag)', 'nfc (Nachtzugruf)', 'rs (Rufe am Schlafplatz)', 'ac_b (Alarmruf_Bodenfeinde)', 'ac_f (Alarmruf Luftfeinde)', None]\n",
      "Test call types ('13'): ['song', 'contact call', 'flight call', 'something', 'drumming', 'alarm call', 'vocal', 'ground alarm call', 'call', 'whistle', 'air alarm call', 'excitement call', 'sub song']\n"
     ]
    }
   ],
   "source": [
    "train_calltypes = train_dataset[\"train\"].unique(\"call_type\")\n",
    "test_calltypes = test_dataset[\"train\"].unique(\"vocalization_type\")\n",
    "\n",
    "print(f\"Train call types ('{len(train_calltypes)}'):\", train_calltypes)\n",
    "print(f\"Test call types ('{len(test_calltypes)}'):\", test_calltypes)\n",
    "\n",
    "\"\"\" Groupings used:\n",
    "Flight : fl\n",
    "Contact : ct\n",
    "Song : sn\n",
    "Song 2 : st\n",
    "Drumming : dr\n",
    "Exitment : ex\n",
    "Alert : al\n",
    "Alert ground : ag\n",
    "Alert air : ai\n",
    "Other : or\n",
    "\"\"\"\n",
    "\n",
    "train_map = {\n",
    "    \"f (Flugruf)\" : \"fl\",\n",
    "    \"c (Kontaktruf)\" : \"ct\",\n",
    "    \"s (Gesang)\" : \"sn\",\n",
    "    \"t (Trommeln)\" : \"dr\",\n",
    "    \"b (Bettelruf)\" : \"or\",\n",
    "    \"e (Erregungsruf)\" : \"ex\",\n",
    "    \"ic (Interaktionsrufe)\" : \"or\",\n",
    "    \"ac (Alarmruf)\" : \"al\",\n",
    "    \"s2 (Zweitgesang)\" : \"st\",\n",
    "    \"wb (Fluegelschlag)\" : \"or\",\n",
    "    \"nfc (Nachtzugruf)\" : \"or\",\n",
    "    \"rs (Rufe am Schlafplatz)\" : \"or\",\n",
    "    \"ac_b (Alarmruf_Bodenfeinde)\" : \"ag\",\n",
    "    \"ac_f (Alarmruf Luftfeinde)\" : \"ai\",\n",
    "    \"None\" : \"or\"\n",
    "}\n",
    "\n",
    "test_map = {\n",
    "    \"song\" : \"sn\",\n",
    "    \"contact call\" : \"ct\",\n",
    "    \"flight call\" : \"fl\",\n",
    "    \"something\" : \"or\",\n",
    "    \"drumming\" : \"dr\",\n",
    "    \"alarm call\" : \"al\",\n",
    "    \"vocal\" : \"or\",\n",
    "    \"ground alarm call\" : \"ag\",\n",
    "    \"call\" : \"or\",\n",
    "    \"whistle\" : \"or\",\n",
    "    \"air alarm call\" : \"ai\",\n",
    "    \"excitement call\" : \"ex\",\n",
    "    \"sub song\" : \"st\"\n",
    "}"
   ]
  }
 ],
 "metadata": {
  "kernelspec": {
   "display_name": "birdset-xS3fZVNL-py3.10",
   "language": "python",
   "name": "python3"
  },
  "language_info": {
   "codemirror_mode": {
    "name": "ipython",
    "version": 3
   },
   "file_extension": ".py",
   "mimetype": "text/x-python",
   "name": "python",
   "nbconvert_exporter": "python",
   "pygments_lexer": "ipython3",
   "version": "3.10.12"
  }
 },
 "nbformat": 4,
 "nbformat_minor": 5
}
