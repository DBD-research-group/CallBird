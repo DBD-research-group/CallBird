{
 "cells": [
  {
   "cell_type": "code",
   "execution_count": 31,
   "id": "d099e676",
   "metadata": {},
   "outputs": [],
   "source": [
    "from projects.callbird.src.readUtils import readLabeledMapping\n",
    "from os import path"
   ]
  },
  {
   "cell_type": "markdown",
   "id": "4e6a33ed",
   "metadata": {},
   "source": [
    "# Load datasets and replace None values"
   ]
  },
  {
   "cell_type": "code",
   "execution_count": 32,
   "id": "30005995",
   "metadata": {},
   "outputs": [
    {
     "data": {
      "application/vnd.jupyter.widget-view+json": {
       "model_id": "b06f537a999a4e0ba865e8ed748c5963",
       "version_major": 2,
       "version_minor": 0
      },
      "text/plain": [
       "Resolving data files:   0%|          | 0/56 [00:00<?, ?it/s]"
      ]
     },
     "metadata": {},
     "output_type": "display_data"
    },
    {
     "data": {
      "application/vnd.jupyter.widget-view+json": {
       "model_id": "c21ba09335ba4d8c811c118e7d70feb1",
       "version_major": 2,
       "version_minor": 0
      },
      "text/plain": [
       "Resolving data files:   0%|          | 0/153 [00:00<?, ?it/s]"
      ]
     },
     "metadata": {},
     "output_type": "display_data"
    }
   ],
   "source": [
    "from datasets import load_dataset, Features, Value\n",
    "\n",
    "train_dataset = load_dataset(\n",
    "    \"csv\",\n",
    "    data_files=\"/workspace/oekofor/trainset/csvlabels/*.csv\",\n",
    "    delimiter=\";\",\n",
    "    features=Features(\n",
    "        {\n",
    "            \"ebird_code\": Value(\"string\"),\n",
    "            \"call_type\": Value(\"string\"),\n",
    "            \"actual_filename\": Value(\"string\"),\n",
    "            \"common_name\": Value(\"string\"),\n",
    "        }\n",
    "    )\n",
    ")\n",
    "\n",
    "test_dataset = load_dataset(\"csv\", data_files=\"/workspace/oekofor/testset/labels/*.csv\")\n",
    "\n",
    "train_dataset = train_dataset.map(lambda x: {\"ebird_code\": x[\"ebird_code\"] if x[\"ebird_code\"] is not None else \"NA\"})\n",
    "test_dataset = test_dataset.map(lambda x: {\"ebird_code\": x[\"ebird_code\"] if x[\"ebird_code\"] is not None else \"NA\"})\n",
    "\n",
    "train_dataset = train_dataset.map(lambda x: {\"call_type\": x[\"call_type\"] if x[\"call_type\"] is not None else \"NA\"})\n",
    "test_dataset = test_dataset.map(lambda x: {\"vocalization_type\": x[\"vocalization_type\"] if x[\"vocalization_type\"] is not None else \"NA\"})"
   ]
  },
  {
   "cell_type": "markdown",
   "id": "b92869d9",
   "metadata": {},
   "source": [
    "# Setup output files"
   ]
  },
  {
   "cell_type": "code",
   "execution_count": 33,
   "id": "eee34a15",
   "metadata": {},
   "outputs": [],
   "source": [
    "output_root = \"/workspace/projects/callbird/datastats\"\n",
    "output_root_train = f\"{output_root}/train\"\n",
    "output_root_test = f\"{output_root}/test\"\n",
    "\n",
    "output_blacklist_ebird_train = f\"{output_root_train}/blacklist_ebird.txt\"\n",
    "output_blacklist_ebird_test = f\"{output_root_test}/blacklist_ebird.txt\"\n",
    "\n",
    "output_blacklist_naive_train = f\"{output_root_train}/blacklist_naive.txt\"\n",
    "output_blacklist_naive_test = f\"{output_root_test}/blacklist_naive.txt\"\n",
    "\n",
    "output_blacklist_files_train = f\"{output_root_train}/blacklist_files.txt\"\n",
    "\n",
    "file_calltype_mapping = \"/workspace/projects/callbird/datastats/call_types_list\""
   ]
  },
  {
   "cell_type": "markdown",
   "id": "921d721f",
   "metadata": {},
   "source": [
    "# Determine ebird code blacklist (unused)"
   ]
  },
  {
   "cell_type": "code",
   "execution_count": 34,
   "id": "869e4620",
   "metadata": {},
   "outputs": [
    {
     "name": "stdout",
     "output_type": "stream",
     "text": [
      "Train call types ('56'): ['blawoo1', 'carcro1', 'coatit2', 'comcha', 'comchi1', 'comcuc', 'firecr1', 'comnig1', 'comrav', 'cowpig1', 'cretit2', 'dunnoc1', 'eurbla', 'blackc1', 'blutit', 'eurbul', 'eugwoo2', 'eurjac', 'eurjay1', 'eurnut2', 'eursis', 'skylar', 'eurtre1', 'eurwoo', 'winwre4', 'eurgol', 'eurgre1', 'eupfly1', 'eurrob1', 'eursta', 'eutdov', 'fieldf', 'garwar1', 'goldcr1', 'gyfwoo1', 'grswoo', 'gretit1', 'grewhi1', 'hawfin', 'martit2', 'miswoo1', 'misthr1', 'norlap', 'redcro', 'shttre1', 'sonthr1', 'spofly1', 'stodov1', 'tawowl1', 'trepip', 'whtdip1', 'wiltit1', 'wlwwar', 'woowar', 'yellow2', 'NA']\n",
      "Test call types ('60'): ['winwre4', 'comcha', 'gretit1', 'misthr1', 'hawfin', 'coatit2', 'eurrob1', 'blutit', 'grswoo', 'goldcr1', 'yellow2', 'shttre1', 'brambl', 'eurgol', 'eurnut2', 'NA', 'dunnoc1', 'sonthr1', 'norlap', 'eurbla', 'martit2', 'wlwwar', 'cowpig1', 'eurjay1', 'comchi1', 'cretit2', 'eugwoo2', 'firecr1', 'stodov1', 'eursta', 'tawowl1', 'blackc1', 'eurgre1', 'spofly1', 'gyfwoo1', 'woowar', 'comcuc', 'eurtre1', 'eupfly1', 'miswoo1', 'blawoo1', 'eutdov', 'eurjac', 'wiltit1', 'whtdip1', 'eurbul', 'redcro', 'eursis', 'redwin', 'fieldf', 'carcro1', 'skylar', 'norgos1', 'grewhi1', 'comnig1', 'comrav', 'redjun', 'garwar1', 'trepip', 'eurwoo']\n",
      "Train blacklist ('0'): set()\n",
      "Test blacklist ('4'): {'redwin', 'norgos1', 'redjun', 'brambl'}\n"
     ]
    }
   ],
   "source": [
    "train_ebirdcodes = train_dataset[\"train\"].unique(\"ebird_code\")\n",
    "test_ebirdcodes = test_dataset[\"train\"].unique(\"ebird_code\")\n",
    "\n",
    "print(f\"Train call types ('{len(train_ebirdcodes)}'):\", train_ebirdcodes)\n",
    "print(f\"Test call types ('{len(test_ebirdcodes)}'):\", test_ebirdcodes)\n",
    "\n",
    "train_blacklist = set(train_ebirdcodes) - set(test_ebirdcodes)\n",
    "test_blacklist = set(test_ebirdcodes) - set(train_ebirdcodes)\n",
    "\n",
    "print(f\"Train blacklist ('{len(train_blacklist)}'):\", train_blacklist)\n",
    "print(f\"Test blacklist ('{len(test_blacklist)}'):\", test_blacklist)\n",
    "\n",
    "with open(output_blacklist_ebird_train, \"w\") as f:\n",
    "    f.write(\"# eBird codes not present in the test set\\n\")\n",
    "    for code in train_blacklist:\n",
    "        f.write(f\"{code}\\n\")\n",
    "\n",
    "with open(output_blacklist_ebird_test, \"w\") as f:\n",
    "    f.write(\"# eBird codes not present in the train set\\n\")\n",
    "    for code in test_blacklist:\n",
    "        f.write(f\"{code}\\n\")"
   ]
  },
  {
   "cell_type": "markdown",
   "id": "79bc9bea",
   "metadata": {},
   "source": [
    "# Ensuring valid call type mappign"
   ]
  },
  {
   "cell_type": "code",
   "execution_count": 35,
   "id": "bf3c27fc",
   "metadata": {},
   "outputs": [
    {
     "name": "stdout",
     "output_type": "stream",
     "text": [
      "Train call types ('15'): ['f (Flugruf)', 'c (Kontaktruf)', 's (Gesang)', 't (Trommeln)', 'b (Bettelruf)', 'e (Erregungsruf)', 'ic (Interaktionsrufe)', 'ac (Alarmruf)', 's2 (Zweitgesang)', 'wb (Fluegelschlag)', 'nfc (Nachtzugruf)', 'rs (Rufe am Schlafplatz)', 'ac_b (Alarmruf_Bodenfeinde)', 'ac_f (Alarmruf Luftfeinde)', 'NA']\n",
      "Test call types ('13'): ['song', 'contact call', 'flight call', 'something', 'drumming', 'alarm call', 'vocal', 'ground alarm call', 'call', 'whistle', 'air alarm call', 'excitement call', 'sub song']\n",
      "Call type mapping test ('13'): {'song': 'sn', 'contact call': 'ct', 'flight call': 'fl', 'something': 'or', 'drumming': 'dr', 'alarm call': 'al', 'vocal': 'or', 'ground alarm call': 'ag', 'call': 'or', 'whistle': 'or', 'air alarm call': 'ai', 'excitement call': 'ex', 'sub song': 'st'}\n",
      "Call type mapping train ('15'): {'f (Flugruf)': 'fl', 'c (Kontaktruf)': 'ct', 's (Gesang)': 'sn', 't (Trommeln)': 'dr', 'b (Bettelruf)': 'or', 'e (Erregungsruf)': 'ex', 'ic (Interaktionsrufe)': 'or', 'ac (Alarmruf)': 'al', 's2 (Zweitgesang)': 'st', 'wb (Fluegelschlag)': 'or', 'nfc (Nachtzugruf)': 'or', 'rs (Rufe am Schlafplatz)': 'or', 'ac_b (Alarmruf_Bodenfeinde)': 'ag', 'ac_f (Alarmruf Luftfeinde)': 'ai', 'NA': 'or'}\n",
      "\n",
      "All call types are mapped correctly.\n"
     ]
    }
   ],
   "source": [
    "train_calltypes = train_dataset[\"train\"].unique(\"call_type\")\n",
    "test_calltypes = test_dataset[\"train\"].unique(\"vocalization_type\")\n",
    "\n",
    "print(f\"Train call types ('{len(train_calltypes)}'):\", train_calltypes)\n",
    "print(f\"Test call types ('{len(test_calltypes)}'):\", test_calltypes)\n",
    "\n",
    "calltype_mapping = readLabeledMapping(file_calltype_mapping, None)\n",
    "calltype_mapping_test = calltype_mapping[\"test\"]\n",
    "calltype_mapping_train = calltype_mapping[\"train\"]\n",
    "\n",
    "print(f\"Call type mapping test ('{len(calltype_mapping_test)}'):\", calltype_mapping_test)\n",
    "print(f\"Call type mapping train ('{len(calltype_mapping_train)}'):\", calltype_mapping_train)\n",
    "\n",
    "# Ensuring valid call type mapping\n",
    "missing_train = set(train_calltypes) - set(calltype_mapping_train.keys())\n",
    "missing_test = set(test_calltypes) - set(calltype_mapping_test.keys())\n",
    "\n",
    "if missing_train:\n",
    "    print(f\"\\nMissing call types in train mapping: {missing_train}\")\n",
    "if missing_test:\n",
    "    print(f\"\\nMissing call types in test mapping: {missing_test}\")\n",
    "if not missing_train and not missing_test:\n",
    "    print(\"\\nAll call types are mapped correctly.\")\n",
    "\n",
    "# Update datasets with call type mappings\n",
    "train_dataset = train_dataset.map(lambda x: {\"short_call_type\": calltype_mapping_train.get(x[\"call_type\"], None)}) # Using None to force an error if the call type is not found\n",
    "test_dataset = test_dataset.map(lambda x: {\"short_call_type\": calltype_mapping_test.get(x[\"vocalization_type\"], None)}) # Using None to force an error if the vocalization type is not found"
   ]
  },
  {
   "cell_type": "markdown",
   "id": "12f26d4f",
   "metadata": {},
   "source": [
    "# Determine naive classes"
   ]
  },
  {
   "cell_type": "code",
   "execution_count": 36,
   "id": "0963a01e",
   "metadata": {},
   "outputs": [
    {
     "name": "stdout",
     "output_type": "stream",
     "text": [
      "Test naive classes ('134'): ['winwre4_sn', 'comcha_ct', 'comcha_sn', 'gretit1_ct', 'misthr1_fl', 'comcha_fl', 'hawfin_or', 'coatit2_or', 'eurrob1_or', 'blutit_or', 'grswoo_or', 'goldcr1_or', 'yellow2_or', 'shttre1_or', 'brambl_fl', 'coatit2_sn', 'blutit_sn', 'eurgol_fl', 'eurnut2_ct', 'NA_ct', 'blutit_ct', 'dunnoc1_or', 'sonthr1_or', 'norlap_or', 'eurrob1_sn', 'sonthr1_sn', 'NA_or', 'eurbla_sn', 'martit2_sn', 'misthr1_sn', 'dunnoc1_sn', 'grswoo_dr', 'eurnut2_sn', 'wlwwar_sn', 'gretit1_sn', 'cowpig1_sn', 'NA_al', 'eurbla_al', 'eurjay1_ct', 'comchi1_sn', 'NA_sn', 'cretit2_ct', 'goldcr1_sn', 'comchi1_ct', 'eugwoo2_sn', 'winwre4_ct', 'martit2_ct', 'firecr1_sn', 'grswoo_ct', 'stodov1_sn', 'sonthr1_fl', 'stodov1_fl', 'eursta_sn', 'tawowl1_or', 'blackc1_sn', 'eurrob1_ct', 'shttre1_ct', 'eurbla_ag', 'shttre1_sn', 'eurgre1_fl', 'spofly1_ct', 'goldcr1_ct', 'gyfwoo1_sn', 'gyfwoo1_dr', 'eursta_or', 'firecr1_ct', 'sonthr1_al', 'woowar_sn', 'woowar_or', 'comcuc_sn', 'eurtre1_sn', 'blackc1_ct', 'eurbla_ct', 'hawfin_ct', 'tawowl1_sn', 'eupfly1_sn', 'miswoo1_sn', 'hawfin_fl', 'blawoo1_fl', 'blawoo1_sn', 'eutdov_or', 'brambl_sn', 'brambl_ct', 'eurjac_fl', 'yellow2_ct', 'dunnoc1_fl', 'yellow2_sn', 'wiltit1_sn', 'wiltit1_or', 'whtdip1_fl', 'eurbul_fl', 'gretit1_al', 'NA_ai', 'eurgre1_sn', 'coatit2_ct', 'cowpig1_dr', 'redcro_ex', 'eursis_sn', 'redwin_al', 'redwin_sn', 'redwin_fl', 'fieldf_fl', 'carcro1_ct', 'skylar_sn', 'martit2_st', 'blawoo1_ex', 'blawoo1_ct', 'redcro_fl', 'norgos1_sn', 'grewhi1_sn', 'eurtre1_ct', 'comnig1_sn', 'comrav_ct', 'redcro_sn', 'firecr1_st', 'redjun_sn', 'garwar1_sn', 'winwre4_al', 'trepip_fl', 'trepip_sn', 'eurwoo_sn', 'eurbul_or', 'eursis_fl', 'eursis_ct', 'blackc1_al', 'comchi1_al', 'comcha_al', 'NA_fl', 'blutit_fl', 'comrav_fl', 'eursis_st', 'sonthr1_ct', 'eurbla_fl', 'comcha_st']\n",
      "Train naive classes ('200'): ['blawoo1_fl', 'blawoo1_ct', 'blawoo1_sn', 'blawoo1_dr', 'blawoo1_or', 'blawoo1_ex', 'carcro1_fl', 'carcro1_ct', 'coatit2_ct', 'coatit2_sn', 'coatit2_fl', 'comcha_sn', 'comcha_ct', 'comcha_fl', 'comcha_al', 'comchi1_sn', 'comchi1_ct', 'comchi1_ex', 'comchi1_fl', 'comchi1_al', 'comcuc_sn', 'comcuc_st', 'comcuc_ct', 'comcuc_fl', 'firecr1_sn', 'firecr1_ct', 'firecr1_fl', 'comnig1_sn', 'comnig1_ct', 'comrav_ct', 'comrav_fl', 'comrav_or', 'cowpig1_sn', 'cowpig1_al', 'cowpig1_or', 'cretit2_ct', 'cretit2_sn', 'cretit2_or', 'dunnoc1_sn', 'dunnoc1_or', 'dunnoc1_fl', 'dunnoc1_ct', 'eurbla_ct', 'eurbla_sn', 'eurbla_or', 'eurbla_al', 'eurbla_ag', 'eurbla_fl', 'eurbla_st', 'blackc1_sn', 'blackc1_ct', 'blackc1_al', 'blackc1_fl', 'blackc1_ex', 'blackc1_st', 'blutit_ct', 'blutit_sn', 'blutit_al', 'blutit_fl', 'eurbul_or', 'eurbul_fl', 'eurbul_sn', 'eurbul_ct', 'eugwoo2_ct', 'eugwoo2_sn', 'eugwoo2_fl', 'eurjac_fl', 'eurjac_ct', 'eurjay1_ct', 'eurjay1_sn', 'eurjay1_al', 'eurnut2_sn', 'eurnut2_ct', 'eurnut2_al', 'eurnut2_fl', 'eurnut2_or', 'eurnut2_ex', 'eursis_fl', 'eursis_ct', 'eursis_or', 'eursis_sn', 'skylar_sn', 'skylar_ct', 'skylar_fl', 'skylar_or', 'eurtre1_sn', 'eurtre1_ct', 'eurwoo_sn', 'eurwoo_al', 'winwre4_sn', 'winwre4_al', 'winwre4_ct', 'eurgol_sn', 'eurgol_or', 'eurgol_fl', 'eurgol_ct', 'eurgre1_fl', 'eurgre1_sn', 'eurgre1_or', 'eurgre1_ct', 'eupfly1_or', 'eupfly1_sn', 'eupfly1_ct', 'eupfly1_fl', 'eurrob1_sn', 'eurrob1_or', 'eurrob1_al', 'eurrob1_ct', 'eurrob1_fl', 'eurrob1_ai', 'eurrob1_st', 'eursta_ct', 'eursta_or', 'eursta_sn', 'eursta_fl', 'eutdov_sn', 'eutdov_ct', 'fieldf_fl', 'fieldf_ct', 'fieldf_or', 'fieldf_al', 'fieldf_sn', 'garwar1_sn', 'garwar1_ct', 'goldcr1_ct', 'goldcr1_sn', 'goldcr1_or', 'gyfwoo1_sn', 'gyfwoo1_dr', 'gyfwoo1_fl', 'gyfwoo1_ct', 'grswoo_dr', 'grswoo_ct', 'grswoo_sn', 'grswoo_or', 'gretit1_sn', 'gretit1_ct', 'gretit1_st', 'gretit1_al', 'gretit1_fl', 'gretit1_or', 'grewhi1_sn', 'grewhi1_ct', 'grewhi1_fl', 'hawfin_ct', 'hawfin_fl', 'martit2_sn', 'martit2_ct', 'miswoo1_sn', 'miswoo1_ct', 'misthr1_sn', 'misthr1_ct', 'misthr1_or', 'misthr1_fl', 'misthr1_al', 'norlap_fl', 'norlap_ct', 'norlap_sn', 'redcro_fl', 'redcro_ex', 'redcro_sn', 'redcro_al', 'redcro_or', 'shttre1_sn', 'shttre1_ct', 'sonthr1_sn', 'sonthr1_or', 'sonthr1_fl', 'sonthr1_ct', 'sonthr1_al', 'sonthr1_dr', 'spofly1_ct', 'spofly1_or', 'spofly1_sn', 'stodov1_sn', 'tawowl1_ct', 'tawowl1_sn', 'tawowl1_or', 'tawowl1_st', 'tawowl1_ex', 'trepip_sn', 'trepip_fl', 'trepip_ct', 'trepip_al', 'whtdip1_fl', 'whtdip1_ct', 'whtdip1_sn', 'wiltit1_ct', 'wiltit1_sn', 'wiltit1_st', 'wlwwar_sn', 'wlwwar_ct', 'woowar_sn', 'woowar_ct', 'woowar_st', 'yellow2_sn', 'yellow2_ct', 'yellow2_fl', 'yellow2_or', 'NA_or']\n"
     ]
    }
   ],
   "source": [
    "test_dataset = test_dataset.map(lambda x: { \"ebird_code_and_call\": f\"{x['ebird_code']}_{x['short_call_type']}\" })\n",
    "train_dataset = train_dataset.map(lambda x: { \"ebird_code_and_call\": f\"{x['ebird_code']}_{x['short_call_type']}\" })\n",
    "\n",
    "test_naive_classes = test_dataset[\"train\"].unique(\"ebird_code_and_call\")\n",
    "train_naive_classes = train_dataset[\"train\"].unique(\"ebird_code_and_call\")\n",
    "\n",
    "print(f\"Test naive classes ('{len(test_naive_classes)}'):\", test_naive_classes)\n",
    "print(f\"Train naive classes ('{len(train_naive_classes)}'):\", train_naive_classes)"
   ]
  },
  {
   "cell_type": "markdown",
   "id": "534f2ea1",
   "metadata": {},
   "source": [
    "# Determine naive blacklist (unused)"
   ]
  },
  {
   "cell_type": "code",
   "execution_count": 37,
   "id": "a0446681",
   "metadata": {},
   "outputs": [
    {
     "name": "stdout",
     "output_type": "stream",
     "text": [
      "Train naive classes ('200'): ['blawoo1_fl', 'blawoo1_ct', 'blawoo1_sn', 'blawoo1_dr', 'blawoo1_or', 'blawoo1_ex', 'carcro1_fl', 'carcro1_ct', 'coatit2_ct', 'coatit2_sn', 'coatit2_fl', 'comcha_sn', 'comcha_ct', 'comcha_fl', 'comcha_al', 'comchi1_sn', 'comchi1_ct', 'comchi1_ex', 'comchi1_fl', 'comchi1_al', 'comcuc_sn', 'comcuc_st', 'comcuc_ct', 'comcuc_fl', 'firecr1_sn', 'firecr1_ct', 'firecr1_fl', 'comnig1_sn', 'comnig1_ct', 'comrav_ct', 'comrav_fl', 'comrav_or', 'cowpig1_sn', 'cowpig1_al', 'cowpig1_or', 'cretit2_ct', 'cretit2_sn', 'cretit2_or', 'dunnoc1_sn', 'dunnoc1_or', 'dunnoc1_fl', 'dunnoc1_ct', 'eurbla_ct', 'eurbla_sn', 'eurbla_or', 'eurbla_al', 'eurbla_ag', 'eurbla_fl', 'eurbla_st', 'blackc1_sn', 'blackc1_ct', 'blackc1_al', 'blackc1_fl', 'blackc1_ex', 'blackc1_st', 'blutit_ct', 'blutit_sn', 'blutit_al', 'blutit_fl', 'eurbul_or', 'eurbul_fl', 'eurbul_sn', 'eurbul_ct', 'eugwoo2_ct', 'eugwoo2_sn', 'eugwoo2_fl', 'eurjac_fl', 'eurjac_ct', 'eurjay1_ct', 'eurjay1_sn', 'eurjay1_al', 'eurnut2_sn', 'eurnut2_ct', 'eurnut2_al', 'eurnut2_fl', 'eurnut2_or', 'eurnut2_ex', 'eursis_fl', 'eursis_ct', 'eursis_or', 'eursis_sn', 'skylar_sn', 'skylar_ct', 'skylar_fl', 'skylar_or', 'eurtre1_sn', 'eurtre1_ct', 'eurwoo_sn', 'eurwoo_al', 'winwre4_sn', 'winwre4_al', 'winwre4_ct', 'eurgol_sn', 'eurgol_or', 'eurgol_fl', 'eurgol_ct', 'eurgre1_fl', 'eurgre1_sn', 'eurgre1_or', 'eurgre1_ct', 'eupfly1_or', 'eupfly1_sn', 'eupfly1_ct', 'eupfly1_fl', 'eurrob1_sn', 'eurrob1_or', 'eurrob1_al', 'eurrob1_ct', 'eurrob1_fl', 'eurrob1_ai', 'eurrob1_st', 'eursta_ct', 'eursta_or', 'eursta_sn', 'eursta_fl', 'eutdov_sn', 'eutdov_ct', 'fieldf_fl', 'fieldf_ct', 'fieldf_or', 'fieldf_al', 'fieldf_sn', 'garwar1_sn', 'garwar1_ct', 'goldcr1_ct', 'goldcr1_sn', 'goldcr1_or', 'gyfwoo1_sn', 'gyfwoo1_dr', 'gyfwoo1_fl', 'gyfwoo1_ct', 'grswoo_dr', 'grswoo_ct', 'grswoo_sn', 'grswoo_or', 'gretit1_sn', 'gretit1_ct', 'gretit1_st', 'gretit1_al', 'gretit1_fl', 'gretit1_or', 'grewhi1_sn', 'grewhi1_ct', 'grewhi1_fl', 'hawfin_ct', 'hawfin_fl', 'martit2_sn', 'martit2_ct', 'miswoo1_sn', 'miswoo1_ct', 'misthr1_sn', 'misthr1_ct', 'misthr1_or', 'misthr1_fl', 'misthr1_al', 'norlap_fl', 'norlap_ct', 'norlap_sn', 'redcro_fl', 'redcro_ex', 'redcro_sn', 'redcro_al', 'redcro_or', 'shttre1_sn', 'shttre1_ct', 'sonthr1_sn', 'sonthr1_or', 'sonthr1_fl', 'sonthr1_ct', 'sonthr1_al', 'sonthr1_dr', 'spofly1_ct', 'spofly1_or', 'spofly1_sn', 'stodov1_sn', 'tawowl1_ct', 'tawowl1_sn', 'tawowl1_or', 'tawowl1_st', 'tawowl1_ex', 'trepip_sn', 'trepip_fl', 'trepip_ct', 'trepip_al', 'whtdip1_fl', 'whtdip1_ct', 'whtdip1_sn', 'wiltit1_ct', 'wiltit1_sn', 'wiltit1_st', 'wlwwar_sn', 'wlwwar_ct', 'woowar_sn', 'woowar_ct', 'woowar_st', 'yellow2_sn', 'yellow2_ct', 'yellow2_fl', 'yellow2_or', 'NA_or']\n",
      "Test naive classes ('134'): ['winwre4_sn', 'comcha_ct', 'comcha_sn', 'gretit1_ct', 'misthr1_fl', 'comcha_fl', 'hawfin_or', 'coatit2_or', 'eurrob1_or', 'blutit_or', 'grswoo_or', 'goldcr1_or', 'yellow2_or', 'shttre1_or', 'brambl_fl', 'coatit2_sn', 'blutit_sn', 'eurgol_fl', 'eurnut2_ct', 'NA_ct', 'blutit_ct', 'dunnoc1_or', 'sonthr1_or', 'norlap_or', 'eurrob1_sn', 'sonthr1_sn', 'NA_or', 'eurbla_sn', 'martit2_sn', 'misthr1_sn', 'dunnoc1_sn', 'grswoo_dr', 'eurnut2_sn', 'wlwwar_sn', 'gretit1_sn', 'cowpig1_sn', 'NA_al', 'eurbla_al', 'eurjay1_ct', 'comchi1_sn', 'NA_sn', 'cretit2_ct', 'goldcr1_sn', 'comchi1_ct', 'eugwoo2_sn', 'winwre4_ct', 'martit2_ct', 'firecr1_sn', 'grswoo_ct', 'stodov1_sn', 'sonthr1_fl', 'stodov1_fl', 'eursta_sn', 'tawowl1_or', 'blackc1_sn', 'eurrob1_ct', 'shttre1_ct', 'eurbla_ag', 'shttre1_sn', 'eurgre1_fl', 'spofly1_ct', 'goldcr1_ct', 'gyfwoo1_sn', 'gyfwoo1_dr', 'eursta_or', 'firecr1_ct', 'sonthr1_al', 'woowar_sn', 'woowar_or', 'comcuc_sn', 'eurtre1_sn', 'blackc1_ct', 'eurbla_ct', 'hawfin_ct', 'tawowl1_sn', 'eupfly1_sn', 'miswoo1_sn', 'hawfin_fl', 'blawoo1_fl', 'blawoo1_sn', 'eutdov_or', 'brambl_sn', 'brambl_ct', 'eurjac_fl', 'yellow2_ct', 'dunnoc1_fl', 'yellow2_sn', 'wiltit1_sn', 'wiltit1_or', 'whtdip1_fl', 'eurbul_fl', 'gretit1_al', 'NA_ai', 'eurgre1_sn', 'coatit2_ct', 'cowpig1_dr', 'redcro_ex', 'eursis_sn', 'redwin_al', 'redwin_sn', 'redwin_fl', 'fieldf_fl', 'carcro1_ct', 'skylar_sn', 'martit2_st', 'blawoo1_ex', 'blawoo1_ct', 'redcro_fl', 'norgos1_sn', 'grewhi1_sn', 'eurtre1_ct', 'comnig1_sn', 'comrav_ct', 'redcro_sn', 'firecr1_st', 'redjun_sn', 'garwar1_sn', 'winwre4_al', 'trepip_fl', 'trepip_sn', 'eurwoo_sn', 'eurbul_or', 'eursis_fl', 'eursis_ct', 'blackc1_al', 'comchi1_al', 'comcha_al', 'NA_fl', 'blutit_fl', 'comrav_fl', 'eursis_st', 'sonthr1_ct', 'eurbla_fl', 'comcha_st']\n",
      "Train blacklist ('93'): {'grewhi1_fl', 'fieldf_ct', 'eurnut2_or', 'blackc1_ex', 'eursta_fl', 'comcuc_fl', 'eutdov_sn', 'tawowl1_ex', 'wlwwar_ct', 'gretit1_fl', 'misthr1_or', 'whtdip1_sn', 'eupfly1_or', 'eutdov_ct', 'redcro_or', 'eugwoo2_ct', 'fieldf_or', 'blutit_al', 'skylar_fl', 'grewhi1_ct', 'woowar_st', 'gyfwoo1_ct', 'eurrob1_ai', 'cowpig1_or', 'woowar_ct', 'fieldf_al', 'comchi1_fl', 'whtdip1_ct', 'eurnut2_ex', 'misthr1_al', 'eurrob1_st', 'blackc1_fl', 'spofly1_or', 'firecr1_fl', 'eupfly1_ct', 'gyfwoo1_fl', 'skylar_or', 'misthr1_ct', 'norlap_sn', 'cretit2_sn', 'eurnut2_fl', 'eursis_or', 'miswoo1_ct', 'eurbul_sn', 'eurbla_st', 'trepip_al', 'blackc1_st', 'trepip_ct', 'fieldf_sn', 'cowpig1_al', 'redcro_al', 'comcuc_st', 'eurnut2_al', 'norlap_ct', 'eurwoo_al', 'eurrob1_al', 'gretit1_or', 'grswoo_sn', 'sonthr1_dr', 'norlap_fl', 'eurgol_or', 'tawowl1_ct', 'dunnoc1_ct', 'comcuc_ct', 'eurgol_ct', 'comnig1_ct', 'eurgre1_ct', 'blawoo1_or', 'eurjac_ct', 'eurrob1_fl', 'yellow2_fl', 'cretit2_or', 'eupfly1_fl', 'gretit1_st', 'eurbul_ct', 'eugwoo2_fl', 'tawowl1_st', 'blawoo1_dr', 'eurjay1_al', 'wiltit1_st', 'comrav_or', 'eursta_ct', 'wiltit1_ct', 'garwar1_ct', 'eurjay1_sn', 'skylar_ct', 'eurgol_sn', 'carcro1_fl', 'coatit2_fl', 'eurgre1_or', 'eurbla_or', 'spofly1_sn', 'comchi1_ex'}\n",
      "Test blacklist ('27'): {'comcha_st', 'brambl_sn', 'woowar_or', 'redwin_sn', 'NA_sn', 'eutdov_or', 'wiltit1_or', 'shttre1_or', 'NA_al', 'coatit2_or', 'brambl_fl', 'firecr1_st', 'eursis_st', 'redwin_al', 'NA_ai', 'hawfin_or', 'NA_ct', 'norlap_or', 'brambl_ct', 'martit2_st', 'cowpig1_dr', 'norgos1_sn', 'stodov1_fl', 'blutit_or', 'redwin_fl', 'redjun_sn', 'NA_fl'}\n"
     ]
    }
   ],
   "source": [
    "train_ebird_call_codes = train_dataset[\"train\"].unique(\"ebird_code_and_call\")\n",
    "test_ebird_call_codes = test_dataset[\"train\"].unique(\"ebird_code_and_call\")\n",
    "\n",
    "print(f\"Train naive classes ('{len(train_ebird_call_codes)}'):\", train_ebird_call_codes)\n",
    "print(f\"Test naive classes ('{len(test_ebird_call_codes)}'):\", test_ebird_call_codes)\n",
    "\n",
    "train_blacklist = set(train_ebird_call_codes) - set(test_ebird_call_codes)\n",
    "test_blacklist = set(test_ebird_call_codes) - set(train_ebird_call_codes)\n",
    "\n",
    "print(f\"Train blacklist ('{len(train_blacklist)}'):\", train_blacklist)\n",
    "print(f\"Test blacklist ('{len(test_blacklist)}'):\", test_blacklist)\n",
    "\n",
    "with open(output_blacklist_naive_train, \"w\") as f:\n",
    "    f.write(\"# eBird codes not present in the test set\\n\")\n",
    "    for code in train_blacklist:\n",
    "        f.write(f\"{code}\\n\")\n",
    "\n",
    "with open(output_blacklist_naive_test, \"w\") as f:\n",
    "    f.write(\"# eBird codes not present in the train set\\n\")\n",
    "    for code in test_blacklist:\n",
    "        f.write(f\"{code}\\n\")"
   ]
  },
  {
   "cell_type": "markdown",
   "id": "ee2370e3",
   "metadata": {},
   "source": [
    "# Determine and apply missing data for train data"
   ]
  },
  {
   "cell_type": "code",
   "execution_count": 38,
   "id": "114155c7",
   "metadata": {},
   "outputs": [
    {
     "name": "stdout",
     "output_type": "stream",
     "text": [
      "Blacklist naive ('0'): set()\n"
     ]
    }
   ],
   "source": [
    "original_filepaths = set(train_dataset[\"train\"][\"actual_filename\"])\n",
    "\n",
    "train_dataset = train_dataset.filter(lambda x: path.exists(f\"/workspace/oekofor/dataset/{x['actual_filename']}.flac\") or path.exists(f\"/workspace/oekofor/dataset/{x['actual_filename']}.wav\"))\n",
    "\n",
    "blacklist_train_files = set(original_filepaths) - set(train_dataset[\"train\"][\"actual_filename\"])\n",
    "\n",
    "print(f\"Blacklist naive ('{len(blacklist_train_files)}'):\", blacklist_train_files)\n",
    "\n",
    "with open(output_blacklist_files_train, \"w\") as f:\n",
    "    f.write(\"# File paths not present in the train set\\n\")\n",
    "    for filepath in blacklist_train_files:\n",
    "        f.write(f\"{filepath}\\n\")"
   ]
  },
  {
   "cell_type": "markdown",
   "id": "c95987f7",
   "metadata": {},
   "source": [
    "# Apply filters (unused)"
   ]
  },
  {
   "cell_type": "code",
   "execution_count": 39,
   "id": "9239ecc6",
   "metadata": {},
   "outputs": [],
   "source": [
    "filtered_train_dataset = train_dataset.filter(lambda x: x[\"ebird_code_and_call\"] not in train_blacklist)\n",
    "filtered_test_dataset = test_dataset.filter(lambda x: x[\"ebird_code_and_call\"] not in test_blacklist)\n"
   ]
  },
  {
   "cell_type": "markdown",
   "id": "e1d13a53",
   "metadata": {},
   "source": [
    "# Output filtered useable naive data (unused)"
   ]
  },
  {
   "cell_type": "code",
   "execution_count": 40,
   "id": "fbd5d962",
   "metadata": {},
   "outputs": [
    {
     "name": "stdout",
     "output_type": "stream",
     "text": [
      "Filtered train dataset has length 86514 (original 'valid' 91771) with 107 (93 filtered) unique classes\n",
      "Filtered test  dataset has length 15555 (original 'valid' 16020) with 107 (27 filtered) unique classes\n"
     ]
    }
   ],
   "source": [
    "filtered_train_length = len(filtered_train_dataset[\"train\"])\n",
    "filtered_test_length = len(filtered_test_dataset[\"train\"])\n",
    "\n",
    "source_train_length = len(train_dataset[\"train\"])\n",
    "source_test_length = len(test_dataset[\"train\"])\n",
    "\n",
    "class_count_train = len(filtered_train_dataset[\"train\"].unique(\"ebird_code_and_call\"))\n",
    "class_count_test = len(filtered_test_dataset[\"train\"].unique(\"ebird_code_and_call\"))\n",
    "\n",
    "class_train_filtered_count = len(train_blacklist)\n",
    "class_test_filtered_count = len(test_blacklist)\n",
    "\n",
    "print(f\"Filtered train dataset has length {filtered_train_length} (original 'valid' {source_train_length}) with {class_count_train} ({class_train_filtered_count} filtered) unique classes\")\n",
    "print(f\"Filtered test  dataset has length {filtered_test_length} (original 'valid' {source_test_length}) with {class_count_test} ({class_test_filtered_count} filtered) unique classes\")"
   ]
  },
  {
   "cell_type": "markdown",
   "id": "e7a6cfc7",
   "metadata": {},
   "source": [
    "# Output used data latex stats"
   ]
  },
  {
   "cell_type": "code",
   "execution_count": 41,
   "id": "1cb1d4f1",
   "metadata": {},
   "outputs": [
    {
     "name": "stdout",
     "output_type": "stream",
     "text": [
      "Train data contains 200 classes\n",
      "Test data contains 134 classes\n",
      "Train eBird common names ('56'): ['Black Woodpecker', 'Carrion Crow', 'Coal Tit', 'Common Chaffinch', 'Common Chiffchaff', 'Common Cuckoo', 'Common Firecrest', 'Common Nightingale', 'Common Raven', 'Common Wood-Pigeon', 'Crested Tit', 'Dunnock', 'Eurasian Blackbird', 'Eurasian Blackcap', 'Eurasian Blue Tit', 'Eurasian Bullfinch', 'Eurasian Green Woodpecker', 'Eurasian Jackdaw', 'Eurasian Jay', 'Eurasian Nuthatch', 'Eurasian Siskin', 'Eurasian Skylark', 'Eurasian Treecreeper', 'Eurasian Woodcock', 'Eurasian Wren', 'European Goldfinch', 'European Greenfinch', 'European Pied Flycatcher', 'European Robin', 'European Starling', 'European Turtle-Dove', 'Fieldfare', 'Garden Warbler', 'Goldcrest', 'Gray-headed Woodpecker', 'Great Spotted Woodpecker', 'Great Tit', 'Greater Whitethroat', 'Hawfinch', 'Marsh Tit', 'Middle Spotted Woodpecker', 'Mistle Thrush', 'Northern Lapwing', 'Red Crossbill', 'Short-toed Treecreeper', 'Song Thrush', 'Spotted Flycatcher', 'Stock Dove', 'Tawny Owl', 'Tree Pipit', 'White-throated Dipper', 'Willow Tit', 'Willow Warbler', 'Wood Warbler', 'Yellowhammer', 'no bird']\n",
      "Train eBird codes ('56'): ['blawoo1', 'carcro1', 'coatit2', 'comcha', 'comchi1', 'comcuc', 'firecr1', 'comnig1', 'comrav', 'cowpig1', 'cretit2', 'dunnoc1', 'eurbla', 'blackc1', 'blutit', 'eurbul', 'eugwoo2', 'eurjac', 'eurjay1', 'eurnut2', 'eursis', 'skylar', 'eurtre1', 'eurwoo', 'winwre4', 'eurgol', 'eurgre1', 'eupfly1', 'eurrob1', 'eursta', 'eutdov', 'fieldf', 'garwar1', 'goldcr1', 'gyfwoo1', 'grswoo', 'gretit1', 'grewhi1', 'hawfin', 'martit2', 'miswoo1', 'misthr1', 'norlap', 'redcro', 'shttre1', 'sonthr1', 'spofly1', 'stodov1', 'tawowl1', 'trepip', 'whtdip1', 'wiltit1', 'wlwwar', 'woowar', 'yellow2', 'NA']\n",
      "Test eBird codes ('60'): ['winwre4', 'comcha', 'gretit1', 'misthr1', 'hawfin', 'coatit2', 'eurrob1', 'blutit', 'grswoo', 'goldcr1', 'yellow2', 'shttre1', 'brambl', 'eurgol', 'eurnut2', 'NA', 'dunnoc1', 'sonthr1', 'norlap', 'eurbla', 'martit2', 'wlwwar', 'cowpig1', 'eurjay1', 'comchi1', 'cretit2', 'eugwoo2', 'firecr1', 'stodov1', 'eursta', 'tawowl1', 'blackc1', 'eurgre1', 'spofly1', 'gyfwoo1', 'woowar', 'comcuc', 'eurtre1', 'eupfly1', 'miswoo1', 'blawoo1', 'eutdov', 'eurjac', 'wiltit1', 'whtdip1', 'eurbul', 'redcro', 'eursis', 'redwin', 'fieldf', 'carcro1', 'skylar', 'norgos1', 'grewhi1', 'comnig1', 'comrav', 'redjun', 'garwar1', 'trepip', 'eurwoo']\n",
      "Train call types ('10'): ['fl', 'ct', 'sn', 'dr', 'or', 'ex', 'al', 'st', 'ag', 'ai']\n",
      "Test call types ('10'): ['sn', 'ct', 'fl', 'or', 'dr', 'al', 'ag', 'ai', 'ex', 'st']\n"
     ]
    }
   ],
   "source": [
    "latex_output_file = \"/workspace/projects/callbird/notebooks/latex_output\"\n",
    "\n",
    "train_length = len(train_dataset[\"train\"])\n",
    "test_length = len(test_dataset[\"train\"])\n",
    "\n",
    "class_count_train = len(train_dataset[\"train\"].unique(\"ebird_code_and_call\"))\n",
    "class_count_test = len(test_dataset[\"train\"].unique(\"ebird_code_and_call\"))\n",
    "\n",
    "print(\"Train data contains {} classes\".format(class_count_train))\n",
    "print(\"Test data contains {} classes\".format(class_count_test))\n",
    "\n",
    "train_ebirds = train_dataset[\"train\"].unique(\"ebird_code\")\n",
    "test_ebirds = test_dataset[\"train\"].unique(\"ebird_code\")\n",
    "\n",
    "train_ebird_common_name_dict = {}\n",
    "# loop train dataset (not lists) and fill above dict\n",
    "for example in train_dataset[\"train\"]:\n",
    "    ebird_code = example[\"ebird_code\"]\n",
    "    common_name = example[\"common_name\"]\n",
    "    if ebird_code not in train_ebird_common_name_dict:\n",
    "        train_ebird_common_name_dict[ebird_code] = common_name\n",
    "    elif train_ebird_common_name_dict[ebird_code] != common_name:\n",
    "        print(f\"Warning: eBird code '{ebird_code}' has multiple common names: '{train_ebird_common_name_dict[ebird_code]}' and '{common_name}'\")\n",
    "\n",
    "train_ebird_calls_count = {}\n",
    "for example in train_dataset[\"train\"]:\n",
    "    ebird_code = example[\"ebird_code\"]\n",
    "    call_type = example[\"short_call_type\"]\n",
    "    if ebird_code not in train_ebird_calls_count:\n",
    "        train_ebird_calls_count[ebird_code] = {}\n",
    "    train_ebird_calls_count[ebird_code][call_type] = train_ebird_calls_count[ebird_code].get(call_type, 0) + 1\n",
    "\n",
    "# map train_ebirds to names\n",
    "train_ebird_common_names = [train_ebird_common_name_dict[ebird] for ebird in train_ebirds]\n",
    "print(f\"Train eBird common names ('{len(train_ebird_common_names)}'):\", train_ebird_common_names)\n",
    "\n",
    "train_calltypes = train_dataset[\"train\"].unique(\"short_call_type\")\n",
    "test_calltypes = test_dataset[\"train\"].unique(\"short_call_type\")\n",
    "\n",
    "print(f\"Train eBird codes ('{len(train_ebirds)}'):\", train_ebirds)\n",
    "print(f\"Test eBird codes ('{len(test_ebirds)}'):\", test_ebirds)\n",
    "\n",
    "print(f\"Train call types ('{len(train_calltypes)}'):\", train_calltypes)\n",
    "print(f\"Test call types ('{len(test_calltypes)}'):\", test_calltypes)\n",
    "\n",
    "with open(latex_output_file, \"w\") as f:\n",
    "    coloumn_style = \"|c\" * (len(train_calltypes))\n",
    "    f.write(f\"\\\\begin{{tabular}}{{|l{coloumn_style}|}}\\n\")\n",
    "    f.write(\"\\\\hline\\n\")\n",
    "    calltype_columns = \" & \".join(train_calltypes)\n",
    "    f.write(f\"eBird Code & {calltype_columns} \\\\\\\\\\n\")\n",
    "    f.write(\"\\\\hline\\n\")\n",
    "    for ebird in train_ebirds:\n",
    "        # write the ebird in first coloumn and other a check or \"-\" whether a datapoint with exists\n",
    "        # combined_code = f\"{ebird}_{x['short_call_type']}\"\n",
    "        common_name = train_ebird_common_name_dict[ebird]\n",
    "        calltypes_exists = [f\"{ebird}_{calltype}\" in train_dataset['train'].unique('ebird_code_and_call') for calltype in train_calltypes]\n",
    "        # checkmark_symbol = \"\\\\checkmark\"\n",
    "        calltype_bird_count = [train_ebird_calls_count[ebird].get(calltype, 0) for calltype in train_calltypes]\n",
    "        f.write(f\"{common_name} & {' & '.join([str(count) if count > 0 else '-' for count in calltype_bird_count])} \\\\\\\\\\n\")\n",
    "    f.write(\"\\\\hline\\n\")\n",
    "    f.write(\"\\\\end{tabular}\\n\")\n"
   ]
  }
 ],
 "metadata": {
  "kernelspec": {
   "display_name": "birdset-xS3fZVNL-py3.10",
   "language": "python",
   "name": "python3"
  },
  "language_info": {
   "codemirror_mode": {
    "name": "ipython",
    "version": 3
   },
   "file_extension": ".py",
   "mimetype": "text/x-python",
   "name": "python",
   "nbconvert_exporter": "python",
   "pygments_lexer": "ipython3",
   "version": "3.10.12"
  }
 },
 "nbformat": 4,
 "nbformat_minor": 5
}
