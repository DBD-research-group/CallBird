{
 "cells": [
  {
   "cell_type": "code",
   "execution_count": 8,
   "id": "e2646750",
   "metadata": {},
   "outputs": [],
   "source": [
    "from projects.callbird.src.datasets.load_test_dataset import load_test_dataset\n",
    "from projects.callbird.src.datasets.load_train_dataset import load_train_dataset"
   ]
  },
  {
   "cell_type": "code",
   "execution_count": 9,
   "id": "4b3da9b2",
   "metadata": {},
   "outputs": [
    {
     "data": {
      "application/vnd.jupyter.widget-view+json": {
       "model_id": "4aee028112614ebd9327e8f784e8badc",
       "version_major": 2,
       "version_minor": 0
      },
      "text/plain": [
       "Resolving data files:   0%|          | 0/153 [00:00<?, ?it/s]"
      ]
     },
     "metadata": {},
     "output_type": "display_data"
    },
    {
     "data": {
      "application/vnd.jupyter.widget-view+json": {
       "model_id": "b092242248f84643ae298ecf4b72ecad",
       "version_major": 2,
       "version_minor": 0
      },
      "text/plain": [
       "Map:   0%|          | 0/16020 [00:00<?, ? examples/s]"
      ]
     },
     "metadata": {},
     "output_type": "display_data"
    },
    {
     "data": {
      "application/vnd.jupyter.widget-view+json": {
       "model_id": "ad65b68f8ab14103bd1c6a7e5d43c68d",
       "version_major": 2,
       "version_minor": 0
      },
      "text/plain": [
       "Filter:   0%|          | 0/16020 [00:00<?, ? examples/s]"
      ]
     },
     "metadata": {},
     "output_type": "display_data"
    },
    {
     "data": {
      "application/vnd.jupyter.widget-view+json": {
       "model_id": "3284fad511af46d3bdf47bca40664b50",
       "version_major": 2,
       "version_minor": 0
      },
      "text/plain": [
       "Map:   0%|          | 0/15009 [00:00<?, ? examples/s]"
      ]
     },
     "metadata": {},
     "output_type": "display_data"
    },
    {
     "data": {
      "application/vnd.jupyter.widget-view+json": {
       "model_id": "54163055ee7d4057838929bed79ef4d1",
       "version_major": 2,
       "version_minor": 0
      },
      "text/plain": [
       "Filter:   0%|          | 0/15009 [00:00<?, ? examples/s]"
      ]
     },
     "metadata": {},
     "output_type": "display_data"
    },
    {
     "data": {
      "application/vnd.jupyter.widget-view+json": {
       "model_id": "703062b1841c4d37abe383c7e9a01d95",
       "version_major": 2,
       "version_minor": 0
      },
      "text/plain": [
       "Map:   0%|          | 0/14974 [00:00<?, ? examples/s]"
      ]
     },
     "metadata": {},
     "output_type": "display_data"
    },
    {
     "data": {
      "application/vnd.jupyter.widget-view+json": {
       "model_id": "2651f9ad554b49b8b89b564b83a38a44",
       "version_major": 2,
       "version_minor": 0
      },
      "text/plain": [
       "Resolving data files:   0%|          | 0/56 [00:00<?, ?it/s]"
      ]
     },
     "metadata": {},
     "output_type": "display_data"
    },
    {
     "data": {
      "application/vnd.jupyter.widget-view+json": {
       "model_id": "68006aebb6ee4dd3b786f202bb4ccccb",
       "version_major": 2,
       "version_minor": 0
      },
      "text/plain": [
       "Map:   0%|          | 0/66455 [00:00<?, ? examples/s]"
      ]
     },
     "metadata": {},
     "output_type": "display_data"
    },
    {
     "data": {
      "application/vnd.jupyter.widget-view+json": {
       "model_id": "2cdf291eae8d465085cc49729e243650",
       "version_major": 2,
       "version_minor": 0
      },
      "text/plain": [
       "Map:   0%|          | 0/66455 [00:00<?, ? examples/s]"
      ]
     },
     "metadata": {},
     "output_type": "display_data"
    },
    {
     "data": {
      "application/vnd.jupyter.widget-view+json": {
       "model_id": "4a395d2cd13849b4834afa8979ca56e9",
       "version_major": 2,
       "version_minor": 0
      },
      "text/plain": [
       "Filter:   0%|          | 0/66455 [00:00<?, ? examples/s]"
      ]
     },
     "metadata": {},
     "output_type": "display_data"
    },
    {
     "data": {
      "application/vnd.jupyter.widget-view+json": {
       "model_id": "a1ac6b770226484586c7edcefbfb12a2",
       "version_major": 2,
       "version_minor": 0
      },
      "text/plain": [
       "Map:   0%|          | 0/61245 [00:00<?, ? examples/s]"
      ]
     },
     "metadata": {},
     "output_type": "display_data"
    }
   ],
   "source": [
    "test_dataset = load_test_dataset()\n",
    "train_dataset = load_train_dataset()"
   ]
  },
  {
   "cell_type": "code",
   "execution_count": null,
   "id": "f983642d",
   "metadata": {},
   "outputs": [
    {
     "name": "stdout",
     "output_type": "stream",
     "text": [
      "Number of train samples: 61245\n",
      "Number of test samples: 14974\n",
      "Ebird codes (train): 106\n",
      "Ebird codes (test): 106\n",
      "Call types (train): 7\n",
      "Call types (test): 7\n",
      "Call types (train): ['fl', 'ct', 'sn', 'ex', 'al', 'or', 'dr']\n"
     ]
    }
   ],
   "source": [
    "trainTrain = train_dataset[\"train\"];\n",
    "testTrain = test_dataset[\"train\"];\n",
    "\n",
    "print(f\"Number of train samples: {len(trainTrain)}\")\n",
    "print(f\"Number of test samples: {len(testTrain)}\")\n",
    "\n",
    "trainComb = trainTrain.unique(\"ebird_code_and_call\")\n",
    "testComb = testTrain.unique(\"ebird_code_and_call\")\n",
    "\n",
    "print(f\"Ebird codes (train): {len((trainComb))}\")\n",
    "print(f\"Ebird codes (test): {len((testComb))}\")\n",
    "\n",
    "trainCalls = trainTrain.unique(\"short_call_type\")\n",
    "testCalls = testTrain.unique(\"short_call_type\")\n",
    "\n",
    "print(f\"Call types (train): {len((trainCalls))}\")\n",
    "print(f\"Call types (test): {len((testCalls))}\")\n",
    "print(f\"Call types (train): {trainCalls}\")\n",
    "print(f\"Call types (test): {testCalls}\")"
   ]
  }
 ],
 "metadata": {
  "kernelspec": {
   "display_name": "birdset-xS3fZVNL-py3.10",
   "language": "python",
   "name": "python3"
  },
  "language_info": {
   "codemirror_mode": {
    "name": "ipython",
    "version": 3
   },
   "file_extension": ".py",
   "mimetype": "text/x-python",
   "name": "python",
   "nbconvert_exporter": "python",
   "pygments_lexer": "ipython3",
   "version": "3.10.12"
  }
 },
 "nbformat": 4,
 "nbformat_minor": 5
}
