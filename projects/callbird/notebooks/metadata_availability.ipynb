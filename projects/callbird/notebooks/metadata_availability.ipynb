{
 "cells": [
  {
   "cell_type": "code",
   "execution_count": 5,
   "id": "1ca2ffe9",
   "metadata": {},
   "outputs": [],
   "source": [
    "from datasets import concatenate_datasets, load_dataset, Features, Value"
   ]
  },
  {
   "cell_type": "code",
   "execution_count": 6,
   "id": "3bd08db9",
   "metadata": {},
   "outputs": [
    {
     "data": {
      "application/vnd.jupyter.widget-view+json": {
       "model_id": "746c15440e574d1cae5345aa0b5bcade",
       "version_major": 2,
       "version_minor": 0
      },
      "text/plain": [
       "Resolving data files:   0%|          | 0/153 [00:00<?, ?it/s]"
      ]
     },
     "metadata": {},
     "output_type": "display_data"
    }
   ],
   "source": [
    "test_dataset = load_dataset(\n",
    "    \"csv\",\n",
    "    data_files = \"/workspace/oekofor/testset/labels/*.csv\",\n",
    "    cache_dir = None,\n",
    "    num_proc = 1,\n",
    "    trust_remote_code = True, # While not needed for local datasets, it is kept for consistency\n",
    ")\n",
    "\n",
    "test_dataset = test_dataset[\"train\"]"
   ]
  },
  {
   "cell_type": "code",
   "execution_count": 7,
   "id": "f9a2a7c2",
   "metadata": {},
   "outputs": [
    {
     "data": {
      "application/vnd.jupyter.widget-view+json": {
       "model_id": "f8f3fb3e977544d6b0ef8b2550bcd460",
       "version_major": 2,
       "version_minor": 0
      },
      "text/plain": [
       "Resolving data files:   0%|          | 0/56 [00:00<?, ?it/s]"
      ]
     },
     "metadata": {},
     "output_type": "display_data"
    }
   ],
   "source": [
    "train_dataset = load_dataset(\n",
    "    \"csv\",\n",
    "    data_files = \"/workspace/oekofor/trainset/csvlabels/*.csv\",\n",
    "    delimiter=\";\",\n",
    "    cache_dir = None,\n",
    "    features = Features({ # TODO: Add all features available in BirdSet\n",
    "        \"ebird_code\": Value(\"string\"),\n",
    "        \"call_type\": Value(\"string\"),\n",
    "        \"start_sample [s]\": Value(\"float\"),\n",
    "        \"end_sample [s]\": Value(\"float\"),\n",
    "        \"actual_filename\": Value(\"string\"),\n",
    "        \"call_center [s]\": Value(\"string\"),\n",
    "        \"randomised_call_center [s]\": Value(\"string\"),\n",
    "        \"low_freq [Hz]\": Value(\"string\"),\n",
    "        \"high_freq [Hz]\": Value(\"string\"),\n",
    "        \"common_name\": Value(\"string\"),\n",
    "        \"subspecies\": Value(\"string\"),\n",
    "        \"sex\": Value(\"string\"),\n",
    "        \"correct\": Value(\"string\"),\n",
    "        \"confidence\": Value(\"string\"),\n",
    "        \"original_file.name\": Value(\"string\"),\n",
    "        \"name_of_validator\": Value(\"string\"),\n",
    "        \"date_of_validation\": Value(\"string\"),\n",
    "        \"latitude [WGS84]\": Value(\"string\"),\n",
    "        \"longitude [WGS84]\": Value(\"string\"),\n",
    "        \"uncertainty of GPS data [km]\": Value(\"string\"),\n",
    "        \"date\": Value(\"string\"),\n",
    "        \"BirdNET Version\": Value(\"string\"),\n",
    "        \"notes\": Value(\"string\"),\n",
    "    }),\n",
    "    num_proc = 1,\n",
    "    trust_remote_code = True, # While not needed for local datasets, it is kept for consistency\n",
    ")\n",
    "\n",
    "train_dataset = train_dataset[\"train\"]"
   ]
  },
  {
   "cell_type": "code",
   "execution_count": 12,
   "id": "21eedab6",
   "metadata": {},
   "outputs": [
    {
     "name": "stdout",
     "output_type": "stream",
     "text": [
      "Number of samples without ebird_code (test): 955 / 16020\n",
      "Number of samples without ebird_code (train): 30316 / 91771\n",
      "Species without ebird_code (train): ['no bird']\n",
      "Species without common_name: ['Bird', 'European Roe Deer']\n",
      "Number of test samples with common_name \"Bird\": 941 / 16020\n",
      "audio\\_filename & $\\checkmark$ & 16020 & 0 \\\\\n",
      "start\\_time & $\\checkmark$ & 16020 & 0 \\\\\n",
      "end\\_time & $\\checkmark$ & 16020 & 0 \\\\\n",
      "low\\_freq & $\\checkmark$ & 16020 & 0 \\\\\n",
      "high\\_freq & $\\checkmark$ & 16020 & 0 \\\\\n",
      "lat & $\\checkmark$ & 16020 & 0 \\\\\n",
      "long & $\\checkmark$ & 16020 & 0 \\\\\n",
      "GPS\\_uncertainty\\_km & $\\checkmark$ & 16020 & 0 \\\\\n",
      "project\\_code & $\\checkmark$ & 16020 & 0 \\\\\n",
      "recorder & $\\checkmark$ & 16020 & 0 \\\\\n",
      "pointofvocalization & $\\times$ & 0 & 16020 \\\\\n",
      "vocalization\\_type & $\\checkmark$ & 16020 & 0 \\\\\n",
      "sex & $\\times$ & 0 & 16020 \\\\\n",
      "correct & $\\checkmark$ & 16020 & 0 \\\\\n",
      "time\\_UTC & $\\checkmark$ & 16020 & 0 \\\\\n",
      "ebird\\_code & $\\checkmark$ & 15065 & 955 \\\\\n",
      "tsn\\_code & $\\checkmark$ & 15079 & 941 \\\\\n",
      "GBIF\\_ID & $\\checkmark$ & 15079 & 941 \\\\\n",
      "common\\_name & $\\checkmark$ & 16020 & 0 \\\\\n",
      "scientific\\_name & $\\checkmark$ & 15079 & 941 \\\\\n",
      "subspecies & $\\times$ & 0 & 16020 \\\\\n",
      "microphone & $\\checkmark$ & 16020 & 0 \\\\\n",
      "source & $\\checkmark$ & 16020 & 0 \\\\\n",
      "recordist & $\\checkmark$ & 16020 & 0 \\\\\n",
      "validator & $\\checkmark$ & 16020 & 0 \\\\\n",
      "validation\\_time & $\\checkmark$ & 16020 & 0 \\\\\n",
      "\n",
      "---\n",
      "\n",
      "ebird\\_code & $\\checkmark$ & 61455 & 30316 \\\\\n",
      "call\\_type & $\\checkmark$ & 61455 & 30316 \\\\\n",
      "start\\_sample [s] & $\\checkmark$ & 91771 & 0 \\\\\n",
      "end\\_sample [s] & $\\checkmark$ & 91771 & 0 \\\\\n",
      "actual\\_filename & $\\checkmark$ & 91771 & 0 \\\\\n",
      "call\\_center [s] & $\\checkmark$ & 86975 & 4796 \\\\\n",
      "randomised\\_call\\_center [s] & $\\checkmark$ & 91771 & 0 \\\\\n",
      "low\\_freq [Hz] & $\\checkmark$ & 814 & 90957 \\\\\n",
      "high\\_freq [Hz] & $\\checkmark$ & 814 & 90957 \\\\\n",
      "common\\_name & $\\checkmark$ & 91771 & 0 \\\\\n",
      "subspecies & $\\checkmark$ & 2019 & 89752 \\\\\n",
      "sex & $\\checkmark$ & 1 & 91770 \\\\\n",
      "correct & $\\checkmark$ & 91771 & 0 \\\\\n",
      "confidence & $\\checkmark$ & 17396 & 74375 \\\\\n",
      "original\\_file.name & $\\checkmark$ & 91771 & 0 \\\\\n",
      "name\\_of\\_validator & $\\checkmark$ & 91771 & 0 \\\\\n",
      "date\\_of\\_validation & $\\checkmark$ & 88844 & 2927 \\\\\n",
      "latitude [WGS84] & $\\checkmark$ & 90326 & 1445 \\\\\n",
      "longitude [WGS84] & $\\checkmark$ & 90326 & 1445 \\\\\n",
      "uncertainty of GPS data [km] & $\\checkmark$ & 90326 & 1445 \\\\\n",
      "date & $\\checkmark$ & 90656 & 1115 \\\\\n",
      "BirdNET Version & $\\checkmark$ & 91771 & 0 \\\\\n",
      "notes & $\\checkmark$ & 453 & 91318 \\\\\n"
     ]
    }
   ],
   "source": [
    "test_no_bird_code = test_dataset.filter(lambda example: example[\"ebird_code\"] is None)\n",
    "train_no_bird_code = train_dataset.filter(lambda example: example[\"ebird_code\"] is None)\n",
    "print(f\"Number of samples without ebird_code (test): {test_no_bird_code.num_rows} / {len(test_dataset)}\")\n",
    "print(f\"Number of samples without ebird_code (train): {train_no_bird_code.num_rows} / {len(train_dataset)}\")\n",
    "\n",
    "test_no_bird_species_names = test_dataset.filter(lambda example: example[\"ebird_code\"] is None or example[\"ebird_code\"] == \"\").unique(\"common_name\")\n",
    "train_no_bird_species_names = train_dataset.filter(lambda example: example[\"ebird_code\"] is None or example[\"ebird_code\"] == \"\").unique(\"common_name\")\n",
    "print(f\"Species without ebird_code (train): {train_no_bird_species_names}\")\n",
    "print(f\"Species without common_name: {test_no_bird_species_names}\")\n",
    "\n",
    "bird_unspecified = test_dataset.filter(lambda example: example[\"common_name\"] == \"Bird\") .num_rows\n",
    "print(f\"Number of test samples with common_name \\\"Bird\\\": {bird_unspecified} / {len(test_dataset)}\")\n",
    "\n",
    "test_availability_map = {}\n",
    "train_availability_map = {}\n",
    "\n",
    "for feature in test_dataset.features:\n",
    "    num_total = len(test_dataset)\n",
    "    num_available = test_dataset.filter(lambda example: example[feature] is not None and example[feature] != \"\").num_rows\n",
    "    available = num_available > 0\n",
    "    specicies_with_missing = test_dataset.filter(lambda example: example[feature] is None or example[feature] == \"\").num_rows\n",
    "    test_availability_map[feature] = (available, num_available, num_total, specicies_with_missing)\n",
    "\n",
    "for feature in train_dataset.features:\n",
    "    num_total = len(train_dataset)\n",
    "    num_available = train_dataset.filter(lambda example: example[feature] is not None and example[feature] != \"\").num_rows\n",
    "    available = num_available > 0\n",
    "    specicies_with_missing = train_dataset.filter(lambda example: example[feature] is None or example[feature] == \"\").num_rows\n",
    "    train_availability_map[feature] = (available, num_available, num_total, specicies_with_missing)\n",
    "\n",
    "for feature, (available, num_available, num_total, specicies_with_missing) in test_availability_map.items():\n",
    "    latex_save_feature = feature.replace(\"_\", \"\\\\_\")\n",
    "    available = \"\\\\checkmark\" if available else \"\\\\times\"\n",
    "    # print(f\"{feature}: {available} ({num_available}/{num_total}), species with missing: {specicies_with_missing}\")\n",
    "    print(f\"{latex_save_feature} & ${available}$ & {num_available} & {specicies_with_missing} \\\\\\\\\")\n",
    "\n",
    "print(\"\\n---\\n\")\n",
    "\n",
    "for feature, (available, num_available, num_total, specicies_with_missing) in train_availability_map.items():\n",
    "    latex_save_feature = feature.replace(\"_\", \"\\\\_\")\n",
    "    available = \"\\\\checkmark\" if available else \"\\\\times\"\n",
    "    # print(f\"{feature}: {available} ({num_available}/{num_total}), species with missing: {specicies_with_missing}\")\n",
    "    print(f\"{latex_save_feature} & ${available}$ & {num_available} & {specicies_with_missing} \\\\\\\\\")"
   ]
  }
 ],
 "metadata": {
  "kernelspec": {
   "display_name": "birdset-xS3fZVNL-py3.10",
   "language": "python",
   "name": "python3"
  },
  "language_info": {
   "codemirror_mode": {
    "name": "ipython",
    "version": 3
   },
   "file_extension": ".py",
   "mimetype": "text/x-python",
   "name": "python",
   "nbconvert_exporter": "python",
   "pygments_lexer": "ipython3",
   "version": "3.10.12"
  }
 },
 "nbformat": 4,
 "nbformat_minor": 5
}
