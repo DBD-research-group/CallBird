{
 "cells": [
  {
   "cell_type": "code",
   "execution_count": 1,
   "id": "4779af16",
   "metadata": {},
   "outputs": [],
   "source": [
    "from projects.callbird.src.datasets.load_test_dataset import load_test_dataset\n",
    "from projects.callbird.src.datasets.load_train_dataset import load_train_dataset"
   ]
  },
  {
   "cell_type": "code",
   "execution_count": 2,
   "id": "ecf42a45",
   "metadata": {},
   "outputs": [
    {
     "data": {
      "application/vnd.jupyter.widget-view+json": {
       "model_id": "49a796b9abc9491e842586f231b3c974",
       "version_major": 2,
       "version_minor": 0
      },
      "text/plain": [
       "Resolving data files:   0%|          | 0/153 [00:00<?, ?it/s]"
      ]
     },
     "metadata": {},
     "output_type": "display_data"
    },
    {
     "data": {
      "application/vnd.jupyter.widget-view+json": {
       "model_id": "56fc9e4d07394e8fb29701e577454bf5",
       "version_major": 2,
       "version_minor": 0
      },
      "text/plain": [
       "Resolving data files:   0%|          | 0/56 [00:00<?, ?it/s]"
      ]
     },
     "metadata": {},
     "output_type": "display_data"
    }
   ],
   "source": [
    "test_dataset = load_test_dataset()\n",
    "train_dataset = load_train_dataset()"
   ]
  },
  {
   "cell_type": "code",
   "execution_count": 3,
   "id": "7406dad2",
   "metadata": {},
   "outputs": [],
   "source": [
    "import pandas as pd\n",
    "import matplotlib.pyplot as plt\n",
    "\n",
    "def generateDistribution(dataset, column_name, second_dataset, second_column_name, name):\n",
    "    # The datasets are DatasetDict, access the 'train' split before converting to pandas.\n",
    "    df1 = dataset['train'].to_pandas()\n",
    "    df2 = second_dataset['train'].to_pandas()\n",
    "\n",
    "    # Get the value counts for the specified column\n",
    "    counts1 = df1[column_name].value_counts()\n",
    "    counts2 = df2[second_column_name].value_counts()\n",
    "\n",
    "    # Combine the two series into a single DataFrame for plotting\n",
    "    comparison_df = pd.DataFrame({'Train Dataset': counts1, 'Test Dataset': counts2})\n",
    "\n",
    "    # Sort the DataFrame by the counts of the first dataset in descending order\n",
    "    comparison_df = comparison_df.sort_values(by='Train Dataset', ascending=False)\n",
    "\n",
    "    # Create the bar plot\n",
    "    ax = comparison_df.plot(kind='bar', figsize=(15, 8), width=0.8)\n",
    "\n",
    "    # Add a title\n",
    "    plt.title(f'Comparative Distribution of {column_name}')\n",
    "\n",
    "    # Add labels to the axes\n",
    "    plt.xlabel(column_name)\n",
    "    plt.ylabel('Count')\n",
    "\n",
    "    # Rotate x-axis labels for better readability\n",
    "    plt.xticks(rotation=90)\n",
    "\n",
    "    # Adjust layout to make sure everything fits\n",
    "    plt.tight_layout()\n",
    "\n",
    "    # Save the figure to a file\n",
    "    plt.savefig(f'{name}.png')\n",
    "\n",
    "    # Close the plot figure to free up memory\n",
    "    plt.close()\n"
   ]
  },
  {
   "cell_type": "code",
   "execution_count": 4,
   "id": "08f6c98c",
   "metadata": {},
   "outputs": [
    {
     "data": {
      "application/vnd.jupyter.widget-view+json": {
       "model_id": "386d6e672b2d4dac83a23b111fa54a15",
       "version_major": 2,
       "version_minor": 0
      },
      "text/plain": [
       "Map:   0%|          | 0/61198 [00:00<?, ? examples/s]"
      ]
     },
     "metadata": {},
     "output_type": "display_data"
    },
    {
     "data": {
      "application/vnd.jupyter.widget-view+json": {
       "model_id": "4a918d55dd0242dd9225cef016ecc56b",
       "version_major": 2,
       "version_minor": 0
      },
      "text/plain": [
       "Map:   0%|          | 0/14933 [00:00<?, ? examples/s]"
      ]
     },
     "metadata": {},
     "output_type": "display_data"
    }
   ],
   "source": [
    "from projects.callbird.src.readUtils import readLabeledMapping\n",
    "calltype_mapping = readLabeledMapping(\"/workspace/projects/callbird/datastats/call_types_list\", \"map\")\n",
    "reverse_mapping = {v: k for k, v in calltype_mapping.items()}\n",
    "\n",
    "train_dataset = train_dataset.map(lambda x: {\"full_call_type\": reverse_mapping.get(x[\"short_call_type\"], \"Error\")})\n",
    "test_dataset = test_dataset.map(lambda x: {\"full_call_type\": reverse_mapping.get(x[\"short_call_type\"], \"Error\")})"
   ]
  },
  {
   "cell_type": "code",
   "execution_count": 5,
   "id": "cc643dd3",
   "metadata": {},
   "outputs": [],
   "source": [
    "generateDistribution(train_dataset, 'full_call_type', test_dataset, 'full_call_type', 'call_type_distribution')\n",
    "generateDistribution(train_dataset, \"ebird_code\", test_dataset, \"ebird_code\", \"ebird_code_distribution\")\n"
   ]
  }
 ],
 "metadata": {
  "kernelspec": {
   "display_name": "birdset-xS3fZVNL-py3.10",
   "language": "python",
   "name": "python3"
  },
  "language_info": {
   "codemirror_mode": {
    "name": "ipython",
    "version": 3
   },
   "file_extension": ".py",
   "mimetype": "text/x-python",
   "name": "python",
   "nbconvert_exporter": "python",
   "pygments_lexer": "ipython3",
   "version": "3.10.12"
  }
 },
 "nbformat": 4,
 "nbformat_minor": 5
}
