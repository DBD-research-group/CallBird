{
 "cells": [
  {
   "cell_type": "code",
   "execution_count": 2,
   "id": "e2646750",
   "metadata": {},
   "outputs": [],
   "source": [
    "from projects.callbird.src.datasets.load_test_dataset import load_test_dataset\n",
    "from projects.callbird.src.datasets.load_train_dataset import load_train_dataset"
   ]
  },
  {
   "cell_type": "code",
   "execution_count": 3,
   "id": "4b3da9b2",
   "metadata": {},
   "outputs": [
    {
     "data": {
      "application/vnd.jupyter.widget-view+json": {
       "model_id": "472ae80f8b414728b20b31adbaf02106",
       "version_major": 2,
       "version_minor": 0
      },
      "text/plain": [
       "Resolving data files:   0%|          | 0/153 [00:00<?, ?it/s]"
      ]
     },
     "metadata": {},
     "output_type": "display_data"
    },
    {
     "data": {
      "application/vnd.jupyter.widget-view+json": {
       "model_id": "ffe98436f9bc4eb9b810e66d3f9d56cb",
       "version_major": 2,
       "version_minor": 0
      },
      "text/plain": [
       "Filter:   0%|          | 0/16020 [00:00<?, ? examples/s]"
      ]
     },
     "metadata": {},
     "output_type": "display_data"
    },
    {
     "data": {
      "application/vnd.jupyter.widget-view+json": {
       "model_id": "61e9492823f44794953649cae3317f3c",
       "version_major": 2,
       "version_minor": 0
      },
      "text/plain": [
       "Map:   0%|          | 0/15009 [00:00<?, ? examples/s]"
      ]
     },
     "metadata": {},
     "output_type": "display_data"
    },
    {
     "data": {
      "application/vnd.jupyter.widget-view+json": {
       "model_id": "567b55cafc504790bf375484d4485cfe",
       "version_major": 2,
       "version_minor": 0
      },
      "text/plain": [
       "Filter:   0%|          | 0/15009 [00:00<?, ? examples/s]"
      ]
     },
     "metadata": {},
     "output_type": "display_data"
    },
    {
     "data": {
      "application/vnd.jupyter.widget-view+json": {
       "model_id": "799d7ba8d79a4e69a36cd5bfd2c54ace",
       "version_major": 2,
       "version_minor": 0
      },
      "text/plain": [
       "Map:   0%|          | 0/14933 [00:00<?, ? examples/s]"
      ]
     },
     "metadata": {},
     "output_type": "display_data"
    },
    {
     "data": {
      "application/vnd.jupyter.widget-view+json": {
       "model_id": "597e30e5a7124e8f9c29cff4fe7d3400",
       "version_major": 2,
       "version_minor": 0
      },
      "text/plain": [
       "Resolving data files:   0%|          | 0/56 [00:00<?, ?it/s]"
      ]
     },
     "metadata": {},
     "output_type": "display_data"
    },
    {
     "data": {
      "application/vnd.jupyter.widget-view+json": {
       "model_id": "12eb9feaeb544405bf870a99087c8b3e",
       "version_major": 2,
       "version_minor": 0
      },
      "text/plain": [
       "Filter:   0%|          | 0/66455 [00:00<?, ? examples/s]"
      ]
     },
     "metadata": {},
     "output_type": "display_data"
    },
    {
     "data": {
      "application/vnd.jupyter.widget-view+json": {
       "model_id": "c3b747d606a747738bf4ddf8965503a8",
       "version_major": 2,
       "version_minor": 0
      },
      "text/plain": [
       "Map:   0%|          | 0/61198 [00:00<?, ? examples/s]"
      ]
     },
     "metadata": {},
     "output_type": "display_data"
    }
   ],
   "source": [
    "test_dataset = load_test_dataset()\n",
    "train_dataset = load_train_dataset()"
   ]
  },
  {
   "cell_type": "code",
   "execution_count": 4,
   "id": "f983642d",
   "metadata": {},
   "outputs": [
    {
     "name": "stdout",
     "output_type": "stream",
     "text": [
      "Number of train samples: 61198\n",
      "Number of test samples: 14933\n",
      "Ebird codes (train): 106\n",
      "Ebird codes (test): 106\n",
      "Call types (train): 7\n",
      "Call types (test): 7\n",
      "Call types (train): ['fl', 'ct', 'sn', 'ex', 'al', 'or', 'dr']\n",
      "Call types (test): ['sn', 'ct', 'fl', 'or', 'dr', 'al', 'ex']\n"
     ]
    }
   ],
   "source": [
    "trainTrain = train_dataset[\"train\"];\n",
    "testTrain = test_dataset[\"train\"];\n",
    "\n",
    "print(f\"Number of train samples: {len(trainTrain)}\")\n",
    "print(f\"Number of test samples: {len(testTrain)}\")\n",
    "\n",
    "trainComb = trainTrain.unique(\"ebird_code_and_call\")\n",
    "testComb = testTrain.unique(\"ebird_code_and_call\")\n",
    "\n",
    "print(f\"Ebird codes (train): {len((trainComb))}\")\n",
    "print(f\"Ebird codes (test): {len((testComb))}\")\n",
    "\n",
    "trainCalls = trainTrain.unique(\"short_call_type\")\n",
    "testCalls = testTrain.unique(\"short_call_type\")\n",
    "\n",
    "print(f\"Call types (train): {len((trainCalls))}\")\n",
    "print(f\"Call types (test): {len((testCalls))}\")\n",
    "print(f\"Call types (train): {trainCalls}\")\n",
    "print(f\"Call types (test): {testCalls}\")"
   ]
  }
 ],
 "metadata": {
  "kernelspec": {
   "display_name": "birdset-xS3fZVNL-py3.10",
   "language": "python",
   "name": "python3"
  },
  "language_info": {
   "codemirror_mode": {
    "name": "ipython",
    "version": 3
   },
   "file_extension": ".py",
   "mimetype": "text/x-python",
   "name": "python",
   "nbconvert_exporter": "python",
   "pygments_lexer": "ipython3",
   "version": "3.10.12"
  }
 },
 "nbformat": 4,
 "nbformat_minor": 5
}
