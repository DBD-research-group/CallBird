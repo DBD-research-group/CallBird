{
 "cells": [
  {
   "cell_type": "code",
   "execution_count": 1,
   "id": "41a92162",
   "metadata": {},
   "outputs": [
    {
     "data": {
      "application/vnd.jupyter.widget-view+json": {
       "model_id": "7d42737847dc40c6b0ac1e3f41313ec3",
       "version_major": 2,
       "version_minor": 0
      },
      "text/plain": [
       "Resolving data files:   0%|          | 0/56 [00:00<?, ?it/s]"
      ]
     },
     "metadata": {},
     "output_type": "display_data"
    },
    {
     "data": {
      "application/vnd.jupyter.widget-view+json": {
       "model_id": "f111deea184e4b3ba7ddd1eb9e6b5463",
       "version_major": 2,
       "version_minor": 0
      },
      "text/plain": [
       "Map:   0%|          | 0/91771 [00:00<?, ? examples/s]"
      ]
     },
     "metadata": {},
     "output_type": "display_data"
    },
    {
     "data": {
      "application/vnd.jupyter.widget-view+json": {
       "model_id": "f8d92efdf81642a8b1f12f1a4da239bc",
       "version_major": 2,
       "version_minor": 0
      },
      "text/plain": [
       "Map:   0%|          | 0/91771 [00:00<?, ? examples/s]"
      ]
     },
     "metadata": {},
     "output_type": "display_data"
    },
    {
     "data": {
      "application/vnd.jupyter.widget-view+json": {
       "model_id": "51308da1de1c49f3819b91efdcc62944",
       "version_major": 2,
       "version_minor": 0
      },
      "text/plain": [
       "Filter:   0%|          | 0/91771 [00:00<?, ? examples/s]"
      ]
     },
     "metadata": {},
     "output_type": "display_data"
    },
    {
     "data": {
      "application/vnd.jupyter.widget-view+json": {
       "model_id": "a2a82a9377a74aaf988bca795b5395f3",
       "version_major": 2,
       "version_minor": 0
      },
      "text/plain": [
       "Filter:   0%|          | 0/91771 [00:00<?, ? examples/s]"
      ]
     },
     "metadata": {},
     "output_type": "display_data"
    },
    {
     "data": {
      "application/vnd.jupyter.widget-view+json": {
       "model_id": "84ddc208125d4b27841f2fb5898147ba",
       "version_major": 2,
       "version_minor": 0
      },
      "text/plain": [
       "Map:   0%|          | 0/66455 [00:00<?, ? examples/s]"
      ]
     },
     "metadata": {},
     "output_type": "display_data"
    },
    {
     "data": {
      "application/vnd.jupyter.widget-view+json": {
       "model_id": "f5125f862b8c44e9a9a7baac4da5ebcc",
       "version_major": 2,
       "version_minor": 0
      },
      "text/plain": [
       "Map:   0%|          | 0/66455 [00:00<?, ? examples/s]"
      ]
     },
     "metadata": {},
     "output_type": "display_data"
    },
    {
     "data": {
      "application/vnd.jupyter.widget-view+json": {
       "model_id": "f48f610ef9014dc1a042a9ec3d0002d3",
       "version_major": 2,
       "version_minor": 0
      },
      "text/plain": [
       "Filter:   0%|          | 0/66455 [00:00<?, ? examples/s]"
      ]
     },
     "metadata": {},
     "output_type": "display_data"
    },
    {
     "data": {
      "application/vnd.jupyter.widget-view+json": {
       "model_id": "56da809997214f23ae7c47afa39ca991",
       "version_major": 2,
       "version_minor": 0
      },
      "text/plain": [
       "Map:   0%|          | 0/61198 [00:00<?, ? examples/s]"
      ]
     },
     "metadata": {},
     "output_type": "display_data"
    }
   ],
   "source": [
    "from callbird.src.datasets.load_train_dataset import load_train_dataset\n",
    "\n",
    "dataset = load_train_dataset()"
   ]
  },
  {
   "cell_type": "code",
   "execution_count": null,
   "id": "fc8ddb2a",
   "metadata": {},
   "outputs": [
    {
     "name": "stdout",
     "output_type": "stream",
     "text": [
      "Using 51 processes to find sample rates.\n"
     ]
    },
    {
     "data": {
      "application/vnd.jupyter.widget-view+json": {
       "model_id": "5cdce909b8e84d9e8c6b7a77c5966cc1",
       "version_major": 2,
       "version_minor": 0
      },
      "text/plain": [
       "Processing audio files (num_proc=51):   0%|          | 0/61198 [00:00<?, ? examples/s]"
      ]
     },
     "metadata": {},
     "output_type": "display_data"
    },
    {
     "name": "stdout",
     "output_type": "stream",
     "text": [
      "Error processing /workspace/oekofor/dataset/Great Tit_c (Kontaktruf)_1_NA_Ralph Martin_SN008_2019_02_23_07_31_44_FeMaAp_morning_s1172.3.flac: Failed to decode audio.\n",
      "\n",
      "Error processing /workspace/oekofor/dataset/Great Tit_c (Kontaktruf)_1_NA_Ralph Martin_SN008_2019_02_23_07_31_44_FeMaAp_morning_s1175.flac: Failed to decode audio.\n",
      "Error processing /workspace/oekofor/dataset/Great Tit_c (Kontaktruf)_1_NA_Ralph Martin_SN008_2019_02_23_07_31_44_FeMaAp_morning_s1175.flac: Failed to decode audio.\n",
      "Error processing /workspace/oekofor/dataset/Coal Tit_s (Gesang)_1_NA_Ralph Martin_SN008_2019_02_23_07_31_44_FeMaAp_morning_s1592.8.flac: Failed to decode audio.\n",
      "Error processing /workspace/oekofor/dataset/Coal Tit_s (Gesang)_1_NA_Ralph Martin_SN008_2019_02_23_07_31_44_FeMaAp_morning_s1592.8.flac: Failed to decode audio.\n",
      "Error processing /workspace/oekofor/dataset/Great Spotted Woodpecker_t (Trommeln)_1_NA_Ralph Martin_SN008_2019_02_23_07_31_44_FeMaAp_morning_s940.8.flac: Failed to decode audio.\n",
      "Error processing /workspace/oekofor/dataset/Great Spotted Woodpecker_t (Trommeln)_1_NA_Ralph Martin_SN008_2019_02_23_07_31_44_FeMaAp_morning_s940.8.flac: Failed to decode audio.\n",
      "Error processing /workspace/oekofor/dataset/Coal Tit_s (Gesang)_1_NA_Ralph Martin_SN008_2019_02_23_07_31_44_FeMaAp_morning_s1597.flac: Failed to decode audio.\n",
      "Error processing /workspace/oekofor/dataset/Coal Tit_s (Gesang)_1_NA_Ralph Martin_SN008_2019_02_23_07_31_44_FeMaAp_morning_s1597.flac: Failed to decode audio.\n",
      "\n",
      "Unique sample rates found:\n",
      "48000\n",
      "32000\n",
      "24000\n",
      "28000\n",
      "44100\n",
      "16000\n",
      "96000\n",
      "192000\n",
      "\n",
      "Unique sample rates found:\n",
      "48000\n",
      "32000\n",
      "24000\n",
      "28000\n",
      "44100\n",
      "16000\n",
      "96000\n",
      "192000\n"
     ]
    }
   ],
   "source": [
    "\"\"\"\n",
    "Train Dataset:\n",
    "Error processing /workspace/oekofor/dataset/Great Tit_c (Kontaktruf)_1_NA_Ralph Martin_SN008_2019_02_23_07_31_44_FeMaAp_morning_s1172.3.flac: Failed to decode audio.\n",
    "\n",
    "Error processing /workspace/oekofor/dataset/Great Tit_c (Kontaktruf)_1_NA_Ralph Martin_SN008_2019_02_23_07_31_44_FeMaAp_morning_s1175.flac: Failed to decode audio.\n",
    "Error processing /workspace/oekofor/dataset/Great Tit_c (Kontaktruf)_1_NA_Ralph Martin_SN008_2019_02_23_07_31_44_FeMaAp_morning_s1175.flac: Failed to decode audio.\n",
    "Error processing /workspace/oekofor/dataset/Coal Tit_s (Gesang)_1_NA_Ralph Martin_SN008_2019_02_23_07_31_44_FeMaAp_morning_s1592.8.flac: Failed to decode audio.\n",
    "Error processing /workspace/oekofor/dataset/Coal Tit_s (Gesang)_1_NA_Ralph Martin_SN008_2019_02_23_07_31_44_FeMaAp_morning_s1592.8.flac: Failed to decode audio.\n",
    "Error processing /workspace/oekofor/dataset/Great Spotted Woodpecker_t (Trommeln)_1_NA_Ralph Martin_SN008_2019_02_23_07_31_44_FeMaAp_morning_s940.8.flac: Failed to decode audio.\n",
    "Error processing /workspace/oekofor/dataset/Great Spotted Woodpecker_t (Trommeln)_1_NA_Ralph Martin_SN008_2019_02_23_07_31_44_FeMaAp_morning_s940.8.flac: Failed to decode audio.\n",
    "Error processing /workspace/oekofor/dataset/Coal Tit_s (Gesang)_1_NA_Ralph Martin_SN008_2019_02_23_07_31_44_FeMaAp_morning_s1597.flac: Failed to decode audio.\n",
    "Error processing /workspace/oekofor/dataset/Coal Tit_s (Gesang)_1_NA_Ralph Martin_SN008_2019_02_23_07_31_44_FeMaAp_morning_s1597.flac: Failed to decode audio.\n",
    "\n",
    "Unique sample rates found:\n",
    "48000\n",
    "32000\n",
    "24000\n",
    "28000\n",
    "44100\n",
    "16000\n",
    "96000\n",
    "192000\n",
    "\n",
    "Unique sample rates found:\n",
    "48000\n",
    "32000\n",
    "24000\n",
    "28000\n",
    "44100\n",
    "16000\n",
    "96000\n",
    "192000\n",
    "\"\"\"\n",
    "\n",
    "# import torchaudio\n",
    "# import os\n",
    "\n",
    "# # Test Datasets: 28k\n",
    "\n",
    "# def get_sample_rate(example):\n",
    "#     try:\n",
    "#         info = torchaudio.info(example[\"filepath\"])\n",
    "#         return {\"sample_rate\": info.sample_rate}\n",
    "#     except Exception as e:\n",
    "#         print(f\"Error processing {example['filepath']}: {e}\")\n",
    "#         return {\"sample_rate\": None}\n",
    "\n",
    "# # Use about 80% of the available CPUs, with a minimum of 1.\n",
    "# num_proc = max(1, int(os.cpu_count() * 0.8))\n",
    "# print(f\"Using {num_proc} processes to find sample rates.\")\n",
    "\n",
    "# # Use the map function for parallel processing\n",
    "# processed_dataset = dataset[\"train\"].map(\n",
    "#     get_sample_rate,\n",
    "#     num_proc=num_proc,\n",
    "#     desc=\"Processing audio files\"\n",
    "# )\n",
    "\n",
    "# # Filter out None values that may have resulted from errors\n",
    "# sample_rates = set(rate for rate in processed_dataset[\"sample_rate\"] if rate is not None)\n",
    "\n",
    "# print(\"\\nUnique sample rates found:\")\n",
    "# for rate in sample_rates:\n",
    "#     print(rate)"
   ]
  }
 ],
 "metadata": {
  "kernelspec": {
   "display_name": "birdset-xS3fZVNL-py3.10",
   "language": "python",
   "name": "python3"
  },
  "language_info": {
   "codemirror_mode": {
    "name": "ipython",
    "version": 3
   },
   "file_extension": ".py",
   "mimetype": "text/x-python",
   "name": "python",
   "nbconvert_exporter": "python",
   "pygments_lexer": "ipython3",
   "version": "3.10.12"
  }
 },
 "nbformat": 4,
 "nbformat_minor": 5
}
