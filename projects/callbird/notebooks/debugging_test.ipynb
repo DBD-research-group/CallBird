{
 "cells": [
  {
   "cell_type": "code",
   "execution_count": 1,
   "id": "6791128b",
   "metadata": {},
   "outputs": [],
   "source": [
    "from projects.callbird.src.datasets.load_test_dataset import load_test_dataset\n",
    "from projects.callbird.src.datasets.load_train_dataset import load_train_dataset"
   ]
  },
  {
   "cell_type": "code",
   "execution_count": 2,
   "id": "633509a7",
   "metadata": {},
   "outputs": [],
   "source": [
    "def _process_loaded_multitask_data(dataset, decode: bool = True):\n",
    "    def add_event_columns(example):\n",
    "        example[\"detected_events\"] = (example[\"start_time\"], example[\"end_time\"])\n",
    "        # TODO: Fix event_cluster value\n",
    "        example[\"event_cluster\"] = [0]\n",
    "        return example\n",
    "\n",
    "    dataset = dataset.map(add_event_columns)\n",
    "\n",
    "    # dataset = self._ensure_train_test_splits(dataset)\n",
    "    def add_multilabel_column(example):\n",
    "        example[\"ebird_code_multilabel\"] = example[\"ebird_code\"]\n",
    "        example[\"call_type_multilabel\"] = example[\"short_call_type\"]\n",
    "        return example\n",
    "    \n",
    "    dataset = dataset.map(add_multilabel_column)\n",
    "\n",
    "    ebird_labels = set()\n",
    "    calltype_labels = set()\n",
    "\n",
    "    for split in dataset.keys():\n",
    "        ebird_labels.update(dataset[split][\"ebird_code\"])\n",
    "        calltype_labels.update(dataset[split][\"short_call_type\"])\n",
    "\n",
    "    ebird_labels = sorted(list(ebird_labels))\n",
    "    calltype_labels = sorted(list(calltype_labels))\n",
    "\n",
    "    ebird_label_to_id = {lbl: i for i, lbl in enumerate(ebird_labels)}\n",
    "    calltype_label_to_id = {lbl: i for i, lbl in enumerate(calltype_labels)}\n",
    "\n",
    "    def label_to_id_fn(batch):\n",
    "        for i in range(len(batch[\"ebird_code_multilabel\"])):\n",
    "            batch[\"ebird_code_multilabel\"][i] = ebird_label_to_id[batch[\"ebird_code_multilabel\"][i]]\n",
    "\n",
    "        for i in range(len(batch[\"call_type_multilabel\"])):\n",
    "            batch[\"call_type_multilabel\"][i] = calltype_label_to_id[batch[\"call_type_multilabel\"][i]]\n",
    "\n",
    "        return batch\n",
    "\n",
    "    dataset = dataset.map(\n",
    "        label_to_id_fn,\n",
    "        batched=True,\n",
    "        batch_size=500,\n",
    "        load_from_cache_file=True,\n",
    "        num_proc=1,\n",
    "    )\n",
    "\n",
    "    return dataset"
   ]
  },
  {
   "cell_type": "code",
   "execution_count": 3,
   "id": "fd99ec18",
   "metadata": {},
   "outputs": [
    {
     "data": {
      "application/vnd.jupyter.widget-view+json": {
       "model_id": "dea33c7dbc2648a69c98d3c8e05cd921",
       "version_major": 2,
       "version_minor": 0
      },
      "text/plain": [
       "Resolving data files:   0%|          | 0/153 [00:00<?, ?it/s]"
      ]
     },
     "metadata": {},
     "output_type": "display_data"
    },
    {
     "data": {
      "application/vnd.jupyter.widget-view+json": {
       "model_id": "613b070308e742bd8f49c7f9de935b61",
       "version_major": 2,
       "version_minor": 0
      },
      "text/plain": [
       "Resolving data files:   0%|          | 0/56 [00:00<?, ?it/s]"
      ]
     },
     "metadata": {},
     "output_type": "display_data"
    }
   ],
   "source": [
    "test_dataset = load_test_dataset()\n",
    "train_dataset = load_train_dataset()\n",
    "\n",
    "test_dataset = _process_loaded_multitask_data(test_dataset)\n",
    "train_dataset = _process_loaded_multitask_data(train_dataset)\n",
    "\n",
    "test_multilabel_map = {}\n",
    "train_multilabel_map = {}\n",
    "\n",
    "for example in test_dataset['train']:\n",
    "    multi_label = example['ebird_code_multilabel']\n",
    "    ebird_code = example['ebird_code']\n",
    "\n",
    "    if ebird_code in test_multilabel_map and multi_label != test_multilabel_map[ebird_code]:\n",
    "        print(f\"Conflict found for eBird code {ebird_code}: train={multi_label}, test={test_multilabel_map[ebird_code]}\")\n",
    "    else:\n",
    "        test_multilabel_map[ebird_code] = multi_label\n",
    "\n",
    "for example in train_dataset['train']:\n",
    "    multi_label = example['ebird_code_multilabel']\n",
    "    ebird_code = example['ebird_code']\n",
    "\n",
    "    if ebird_code in train_multilabel_map and multi_label != train_multilabel_map[ebird_code]:\n",
    "        print(f\"Conflict found for eBird code {ebird_code}: train={multi_label}, test={train_multilabel_map[ebird_code]}\")\n",
    "    else:\n",
    "        train_multilabel_map[ebird_code] = multi_label\n",
    "\n",
    "# Check differences in map\n",
    "for ebird_code in set(test_multilabel_map.keys()).union(set(train_multilabel_map.keys())):\n",
    "    test_label = test_multilabel_map.get(ebird_code)\n",
    "    train_label = train_multilabel_map.get(ebird_code)\n",
    "    if test_label != train_label:\n",
    "        print(f\"Difference found for eBird code {ebird_code}: train={train_label}, test={test_label}\")\n"
   ]
  }
 ],
 "metadata": {
  "kernelspec": {
   "display_name": "birdset-xS3fZVNL-py3.10",
   "language": "python",
   "name": "python3"
  },
  "language_info": {
   "codemirror_mode": {
    "name": "ipython",
    "version": 3
   },
   "file_extension": ".py",
   "mimetype": "text/x-python",
   "name": "python",
   "nbconvert_exporter": "python",
   "pygments_lexer": "ipython3",
   "version": "3.10.12"
  }
 },
 "nbformat": 4,
 "nbformat_minor": 5
}
