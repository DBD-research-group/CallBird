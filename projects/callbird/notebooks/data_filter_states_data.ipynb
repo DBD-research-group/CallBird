{
 "cells": [
  {
   "cell_type": "code",
   "execution_count": 9,
   "id": "5594f5ca",
   "metadata": {},
   "outputs": [],
   "source": [
    "from datasets import IterableDataset\n",
    "\n",
    "def print_dataset_info(name: str, dataset: IterableDataset):\n",
    "    trainset = dataset[\"train\"]\n",
    "\n",
    "    print(\"\")\n",
    "    print(f\"Dataset: {name}\")\n",
    "    print(f\"Number of examples in the dataset: {len(trainset)}\")\n",
    "    print(f\"Number of ebird_code labels: {len(trainset.unique('ebird_code'))}\")\n",
    "    print(f\"Number of calltype labels: {len(trainset.unique('short_call_type'))}\")\n",
    "    print(f\"Number of combined labels: {len(trainset.unique('ebird_code_and_call'))}\")\n",
    "\n",
    "    # If a calltype is None, print all features of that example\n",
    "    none_calltypes = trainset.filter(lambda x: x[\"short_call_type\"] is None)\n",
    "    if len(none_calltypes) > 0:\n",
    "        print(f\"Examples with None as calltype label: {len(none_calltypes)}\")\n",
    "        for example in none_calltypes:\n",
    "            print(example)\n",
    "        raise ValueError(\"There are examples with None as calltype label. Please fix the mapping.\")\n",
    "\n",
    "    # print table of counts for each short_call_type label\n",
    "    count_map = {}\n",
    "    for call_type in trainset.unique(\"short_call_type\"):\n",
    "        count_map[call_type] = len(trainset.filter(lambda x: x[\"short_call_type\"] == call_type))\n",
    "    print(\"\\nNumber of examples per calltype label:\")\n",
    "    print(\"{:<20} {:<10}\".format(\"Call Type\", \"Count\"))\n",
    "    print(\"-\" * 30)\n",
    "    for call_type, count in count_map.items():\n",
    "        print(f\"{call_type} {count}\")\n",
    "    \n",
    "    # print table of counts for each ebird_code label (top 10)\n",
    "    count_map = {}\n",
    "    for ebird_code in trainset.unique(\"ebird_code\"):\n",
    "        count_map[ebird_code] = len(trainset.filter(lambda x: x[\"ebird_code\"] == ebird_code))\n",
    "        sorted_count_map = dict(sorted(count_map.items(), key=lambda item: item[1], reverse=True))\n",
    "    print(\"\\nTop 10 most common ebird_code labels:\")\n",
    "    print(\"{:<10} {:<10}\".format(\"Ebird Code\", \"Count\"))\n",
    "    print(\"-\" * 20)\n",
    "    for ebird_code, count in list(sorted_count_map.items())[:10]:\n",
    "        print(f\"{ebird_code} {count}\")\n",
    "    "
   ]
  },
  {
   "cell_type": "code",
   "execution_count": 10,
   "id": "3838deee",
   "metadata": {},
   "outputs": [
    {
     "data": {
      "application/vnd.jupyter.widget-view+json": {
       "model_id": "8a5bac59241d4ef7b4792c572ff65fd2",
       "version_major": 2,
       "version_minor": 0
      },
      "text/plain": [
       "Resolving data files:   0%|          | 0/153 [00:00<?, ?it/s]"
      ]
     },
     "metadata": {},
     "output_type": "display_data"
    },
    {
     "data": {
      "application/vnd.jupyter.widget-view+json": {
       "model_id": "b2cce3b864e442dbaf2e392ea1d45360",
       "version_major": 2,
       "version_minor": 0
      },
      "text/plain": [
       "Resolving data files:   0%|          | 0/56 [00:00<?, ?it/s]"
      ]
     },
     "metadata": {},
     "output_type": "display_data"
    },
    {
     "name": "stdout",
     "output_type": "stream",
     "text": [
      "\n",
      "Dataset: Original Train\n",
      "Number of examples in the dataset: 91771\n",
      "Number of ebird_code labels: 56\n",
      "Number of calltype labels: 15\n",
      "Number of combined labels: 212\n",
      "\n",
      "Number of examples per calltype label:\n",
      "Call Type            Count     \n",
      "------------------------------\n",
      "f (Flugruf) 6790\n",
      "c (Kontaktruf) 10972\n",
      "s (Gesang) 34755\n",
      "t (Trommeln) 5266\n",
      "b (Bettelruf) 232\n",
      "e (Erregungsruf) 172\n",
      "ic (Interaktionsrufe) 10\n",
      "ac (Alarmruf) 722\n",
      "s2 (Zweitgesang) 47\n",
      "wb (Fluegelschlag) 5\n",
      "nfc (Nachtzugruf) 1768\n",
      "rs (Rufe am Schlafplatz) 704\n",
      "ac_b (Alarmruf_Bodenfeinde) 11\n",
      "ac_f (Alarmruf Luftfeinde) 1\n",
      "NA 30316\n",
      "\n",
      "Top 10 most common ebird_code labels:\n",
      "Ebird Code Count     \n",
      "--------------------\n",
      "NA 30316\n",
      "grswoo 6535\n",
      "eurbla 5579\n",
      "sonthr1 5527\n",
      "comcha 3214\n",
      "blawoo1 3119\n",
      "eurrob1 2688\n",
      "redcro 2462\n",
      "tawowl1 2305\n",
      "comchi1 2184\n",
      "\n",
      "Dataset: Original Test\n",
      "Number of examples in the dataset: 16020\n",
      "Number of ebird_code labels: 61\n",
      "Number of calltype labels: 13\n",
      "Number of combined labels: 137\n",
      "\n",
      "Number of examples per calltype label:\n",
      "Call Type            Count     \n",
      "------------------------------\n",
      "song 11078\n",
      "contact call 3006\n",
      "flight call 411\n",
      "something 651\n",
      "drumming 85\n",
      "alarm call 592\n",
      "vocal 1\n",
      "ground alarm call 1\n",
      "call 5\n",
      "whistle 1\n",
      "air alarm call 107\n",
      "excitement call 41\n",
      "sub song 41\n",
      "\n",
      "Top 10 most common ebird_code labels:\n",
      "Ebird Code Count     \n",
      "--------------------\n",
      "eurbla 2659\n",
      "comcha 1906\n",
      "eurrob1 1604\n",
      "sonthr1 1596\n",
      "blackc1 1051\n",
      "UNKNOWN 941\n",
      "comchi1 907\n",
      "blutit 566\n",
      "gretit1 504\n",
      "winwre4 462\n"
     ]
    }
   ],
   "source": [
    "from datasets import load_dataset, Features, Value\n",
    "\n",
    "original_test_dataset = load_dataset(\n",
    "    \"csv\",\n",
    "    data_files = \"/workspace/oekofor/testset/labels/*.csv\",\n",
    "    features = Features({ # TODO: Add all features available in BirdSet\n",
    "        \"ebird_code\": Value(\"string\"),\n",
    "        \"common_name\": Value(\"string\"),\n",
    "        \"vocalization_type\": Value(\"string\"),\n",
    "        \"start_time\": Value(\"float\"),\n",
    "        \"end_time\": Value(\"float\"),\n",
    "        \"audio_filename\": Value(\"string\"),\n",
    "    }),\n",
    "    cache_dir = None,\n",
    "    num_proc = 1,\n",
    "    trust_remote_code = True, # While not needed for local datasets, it is kept for consistency\n",
    ")\n",
    "\n",
    "# We need to remove None values from the 'ebird_code' column since the pipeline cannot handle them\n",
    "original_test_dataset = original_test_dataset.map(lambda x: {\"ebird_code\": x[\"ebird_code\"] if x[\"ebird_code\"] is not None else (\"UNKNOWN\" if x[\"common_name\"] == \"Bird\" else \"NA\")}) # TODO: Check if NA is an existing code\n",
    "original_test_dataset = original_test_dataset.map(lambda x: {\"vocalization_type\": x[\"vocalization_type\"] if x[\"vocalization_type\"] is not None else \"NA\"}) # TODO: Check if NA is an existing code\n",
    "original_test_dataset = original_test_dataset.map(lambda x: {\"short_call_type\": x[\"vocalization_type\"]})\n",
    "original_test_dataset = original_test_dataset.map(lambda x: { \"ebird_code_and_call\": f\"{x['ebird_code']}_{x['short_call_type']}\" })\n",
    "\n",
    "original_train_dataset = load_dataset(\n",
    "    \"csv\",\n",
    "    data_files = \"/workspace/oekofor/trainset/csvlabels/*.csv\",\n",
    "    features = Features({ # TODO: Add all features available in BirdSet\n",
    "        \"ebird_code\": Value(\"string\"),\n",
    "        \"call_type\": Value(\"string\"),\n",
    "        \"start_sample [s]\": Value(\"float\"),\n",
    "        \"end_sample [s]\": Value(\"float\"),\n",
    "        \"actual_filename\": Value(\"string\"),\n",
    "    }),\n",
    "    delimiter=\";\",\n",
    "    cache_dir = None,\n",
    "    num_proc = 1,\n",
    "    trust_remote_code = True, # While not needed for local datasets, it is kept for consistency\n",
    ")\n",
    "\n",
    "# We need to remove None values from the 'ebird_code' column since the pipeline cannot handle them\n",
    "original_train_dataset = original_train_dataset.map(lambda x: {\"ebird_code\": x[\"ebird_code\"] if x[\"ebird_code\"] is not None else \"NA\"})\n",
    "original_train_dataset = original_train_dataset.map(lambda x: {\"call_type\": x[\"call_type\"] if x[\"call_type\"] is not None else \"NA\"})\n",
    "original_train_dataset = original_train_dataset.map(lambda x: {\"short_call_type\": x[\"call_type\"]})\n",
    "original_train_dataset = original_train_dataset.map(lambda x: { \"ebird_code_and_call\": f\"{x['ebird_code']}_{x['short_call_type']}\" })\n",
    "\n",
    "print_dataset_info(\"Original Train\", original_train_dataset)\n",
    "print_dataset_info(\"Original Test\", original_test_dataset)"
   ]
  },
  {
   "cell_type": "code",
   "execution_count": 11,
   "id": "0221c59d",
   "metadata": {},
   "outputs": [],
   "source": [
    "from callbird.src.datasets.load_test_dataset import load_test_dataset\n",
    "from callbird.src.datasets.load_train_dataset import load_train_dataset"
   ]
  },
  {
   "cell_type": "code",
   "execution_count": 12,
   "id": "259b46dc",
   "metadata": {},
   "outputs": [
    {
     "data": {
      "application/vnd.jupyter.widget-view+json": {
       "model_id": "61b19c6c259048959d4aae85378cc1a9",
       "version_major": 2,
       "version_minor": 0
      },
      "text/plain": [
       "Resolving data files:   0%|          | 0/56 [00:00<?, ?it/s]"
      ]
     },
     "metadata": {},
     "output_type": "display_data"
    },
    {
     "name": "stdout",
     "output_type": "stream",
     "text": [
      "\n",
      "Dataset: Raw Train\n",
      "Number of examples in the dataset: 52167\n",
      "Number of ebird_code labels: 56\n",
      "Number of calltype labels: 15\n",
      "Number of combined labels: 210\n",
      "\n",
      "Number of examples per calltype label:\n",
      "Call Type            Count     \n",
      "------------------------------\n",
      "flight 6790\n",
      "contact 10843\n",
      "drumming 4862\n",
      "begging 232\n",
      "excitement 172\n",
      "interaction 10\n",
      "alarm 722\n",
      "sub_song 47\n",
      "wing_flap 5\n",
      "night_migration 1768\n",
      "sleep_site 704\n",
      "alarm_ground 11\n",
      "alarm_air 1\n",
      "NA 6000\n",
      "song 20000\n",
      "\n",
      "Top 10 most common ebird_code labels:\n",
      "Ebird Code Count     \n",
      "--------------------\n",
      "NA 6000\n",
      "grswoo 5997\n",
      "eurbla 3889\n",
      "sonthr1 3687\n",
      "blawoo1 2928\n",
      "redcro 2432\n",
      "comcha 2374\n",
      "eurrob1 1890\n",
      "tawowl1 1716\n",
      "comchi1 1349\n"
     ]
    },
    {
     "data": {
      "application/vnd.jupyter.widget-view+json": {
       "model_id": "c99a1c872f1940a79ed084f7beba7515",
       "version_major": 2,
       "version_minor": 0
      },
      "text/plain": [
       "Resolving data files:   0%|          | 0/153 [00:00<?, ?it/s]"
      ]
     },
     "metadata": {},
     "output_type": "display_data"
    },
    {
     "name": "stdout",
     "output_type": "stream",
     "text": [
      "\n",
      "Dataset: Raw Test\n",
      "Number of examples in the dataset: 15009\n",
      "Number of ebird_code labels: 56\n",
      "Number of calltype labels: 12\n",
      "Number of combined labels: 121\n",
      "\n",
      "Number of examples per calltype label:\n",
      "Call Type            Count     \n",
      "------------------------------\n",
      "song 11017\n",
      "contact 2841\n",
      "flight 403\n",
      "something 28\n",
      "drumming 85\n",
      "NA 14\n",
      "alarm 532\n",
      "alarm_ground 1\n",
      "call 5\n",
      "whistle 1\n",
      "excitement 41\n",
      "sub_song 41\n",
      "\n",
      "Top 10 most common ebird_code labels:\n",
      "Ebird Code Count     \n",
      "--------------------\n",
      "eurbla 2659\n",
      "comcha 1906\n",
      "eurrob1 1604\n",
      "sonthr1 1596\n",
      "blackc1 1051\n",
      "comchi1 907\n",
      "blutit 566\n",
      "gretit1 504\n",
      "winwre4 462\n",
      "misthr1 405\n"
     ]
    }
   ],
   "source": [
    "\n",
    "\n",
    "print_dataset_info(\"Raw Train\", load_train_dataset(\"/workspace/projects/callbird/call_type_mappings/identity_map\", None, None, False))\n",
    "print_dataset_info(\"Raw Test\", load_test_dataset(\"/workspace/projects/callbird/call_type_mappings/identity_map\", None, None, \"NA\"))"
   ]
  },
  {
   "cell_type": "code",
   "execution_count": 13,
   "id": "51a500d1",
   "metadata": {},
   "outputs": [
    {
     "data": {
      "application/vnd.jupyter.widget-view+json": {
       "model_id": "d5164890816c4b8690fc2843b1dff8f7",
       "version_major": 2,
       "version_minor": 0
      },
      "text/plain": [
       "Resolving data files:   0%|          | 0/56 [00:00<?, ?it/s]"
      ]
     },
     "metadata": {},
     "output_type": "display_data"
    },
    {
     "name": "stdout",
     "output_type": "stream",
     "text": [
      "\n",
      "Dataset: Initial Train\n",
      "Number of examples in the dataset: 52167\n",
      "Number of ebird_code labels: 56\n",
      "Number of calltype labels: 11\n",
      "Number of combined labels: 198\n",
      "\n",
      "Number of examples per calltype label:\n",
      "Call Type            Count     \n",
      "------------------------------\n",
      "flight 6790\n",
      "contact 10843\n",
      "drumming 4862\n",
      "other 2714\n",
      "excitement 172\n",
      "alarm 722\n",
      "sub_song 47\n",
      "NA 6005\n",
      "alarm_ground 11\n",
      "alarm_air 1\n",
      "song 20000\n",
      "\n",
      "Top 10 most common ebird_code labels:\n",
      "Ebird Code Count     \n",
      "--------------------\n",
      "NA 6000\n",
      "grswoo 5997\n",
      "eurbla 3889\n",
      "sonthr1 3687\n",
      "blawoo1 2928\n",
      "redcro 2432\n",
      "comcha 2374\n",
      "eurrob1 1890\n",
      "tawowl1 1716\n",
      "comchi1 1349\n"
     ]
    },
    {
     "data": {
      "application/vnd.jupyter.widget-view+json": {
       "model_id": "0414f8495f714fc091ecd70e47ec8831",
       "version_major": 2,
       "version_minor": 0
      },
      "text/plain": [
       "Resolving data files:   0%|          | 0/153 [00:00<?, ?it/s]"
      ]
     },
     "metadata": {},
     "output_type": "display_data"
    },
    {
     "name": "stdout",
     "output_type": "stream",
     "text": [
      "\n",
      "Dataset: Initial Test\n",
      "Number of examples in the dataset: 15009\n",
      "Number of ebird_code labels: 56\n",
      "Number of calltype labels: 10\n",
      "Number of combined labels: 121\n",
      "\n",
      "Number of examples per calltype label:\n",
      "Call Type            Count     \n",
      "------------------------------\n",
      "song 11017\n",
      "contact 2841\n",
      "flight 403\n",
      "NA 47\n",
      "drumming 85\n",
      "alarm 532\n",
      "alarm_ground 1\n",
      "other 1\n",
      "excitement 41\n",
      "sub_song 41\n",
      "\n",
      "Top 10 most common ebird_code labels:\n",
      "Ebird Code Count     \n",
      "--------------------\n",
      "eurbla 2659\n",
      "comcha 1906\n",
      "eurrob1 1604\n",
      "sonthr1 1596\n",
      "blackc1 1051\n",
      "comchi1 907\n",
      "blutit 566\n",
      "gretit1 504\n",
      "winwre4 462\n",
      "misthr1 405\n"
     ]
    }
   ],
   "source": [
    "print_dataset_info(\"Initial Train\", load_train_dataset(\"/workspace/projects/callbird/call_type_mappings/same_space_map\", None, None, False))\n",
    "print_dataset_info(\"Initial Test\", load_test_dataset(\"/workspace/projects/callbird/call_type_mappings/same_space_map\", None, None, \"NA\"))"
   ]
  },
  {
   "cell_type": "code",
   "execution_count": 14,
   "id": "29acfb20",
   "metadata": {},
   "outputs": [
    {
     "data": {
      "application/vnd.jupyter.widget-view+json": {
       "model_id": "2565bd314f2846aab73fe9a193c3c80b",
       "version_major": 2,
       "version_minor": 0
      },
      "text/plain": [
       "Resolving data files:   0%|          | 0/56 [00:00<?, ?it/s]"
      ]
     },
     "metadata": {},
     "output_type": "display_data"
    },
    {
     "name": "stdout",
     "output_type": "stream",
     "text": [
      "\n",
      "Dataset: Initial Train\n",
      "Number of examples in the dataset: 45427\n",
      "Number of ebird_code labels: 54\n",
      "Number of calltype labels: 8\n",
      "Number of combined labels: 98\n",
      "\n",
      "Number of examples per calltype label:\n",
      "Call Type            Count     \n",
      "------------------------------\n",
      "flight 5109\n",
      "contact 9148\n",
      "excitement 167\n",
      "alarm 556\n",
      "alarm_ground 11\n",
      "drumming 4564\n",
      "NA 6000\n",
      "song 19872\n",
      "\n",
      "Top 10 most common ebird_code labels:\n",
      "Ebird Code Count     \n",
      "--------------------\n",
      "NA 6000\n",
      "grswoo 5974\n",
      "eurbla 3067\n",
      "sonthr1 2833\n",
      "blawoo1 2625\n",
      "redcro 2390\n",
      "comcha 2374\n",
      "eurrob1 1554\n",
      "comchi1 1344\n",
      "gretit1 1068\n"
     ]
    },
    {
     "data": {
      "application/vnd.jupyter.widget-view+json": {
       "model_id": "a185b8e624fa48daaa11c22100c4e23a",
       "version_major": 2,
       "version_minor": 0
      },
      "text/plain": [
       "Resolving data files:   0%|          | 0/153 [00:00<?, ?it/s]"
      ]
     },
     "metadata": {},
     "output_type": "display_data"
    },
    {
     "name": "stdout",
     "output_type": "stream",
     "text": [
      "\n",
      "Dataset: Initial Test\n",
      "Number of examples in the dataset: 14930\n",
      "Number of ebird_code labels: 54\n",
      "Number of calltype labels: 8\n",
      "Number of combined labels: 98\n",
      "\n",
      "Number of examples per calltype label:\n",
      "Call Type            Count     \n",
      "------------------------------\n",
      "song 11017\n",
      "contact 2841\n",
      "flight 402\n",
      "drumming 82\n",
      "NA 14\n",
      "alarm 532\n",
      "alarm_ground 1\n",
      "excitement 41\n",
      "\n",
      "Top 10 most common ebird_code labels:\n",
      "Ebird Code Count     \n",
      "--------------------\n",
      "eurbla 2659\n",
      "comcha 1875\n",
      "eurrob1 1601\n",
      "sonthr1 1594\n",
      "blackc1 1051\n",
      "comchi1 907\n",
      "blutit 563\n",
      "gretit1 504\n",
      "winwre4 462\n",
      "misthr1 405\n"
     ]
    }
   ],
   "source": [
    "print_dataset_info(\"Initial Train\", load_train_dataset(\"/workspace/projects/callbird/call_type_mappings/same_space_map\", None, \"/workspace/projects/callbird/blacklists/same_space_train.txt\", False))\n",
    "print_dataset_info(\"Initial Test\", load_test_dataset(\"/workspace/projects/callbird/call_type_mappings/same_space_map\", None, \"/workspace/projects/callbird/blacklists/same_space_test.txt\", \"NA\"))"
   ]
  },
  {
   "cell_type": "code",
   "execution_count": 15,
   "id": "7f862418",
   "metadata": {},
   "outputs": [
    {
     "data": {
      "application/vnd.jupyter.widget-view+json": {
       "model_id": "f460e6f5375b4d898dad7a04ae99c5fe",
       "version_major": 2,
       "version_minor": 0
      },
      "text/plain": [
       "Resolving data files:   0%|          | 0/56 [00:00<?, ?it/s]"
      ]
     },
     "metadata": {},
     "output_type": "display_data"
    },
    {
     "name": "stdout",
     "output_type": "stream",
     "text": [
      "\n",
      "Dataset: Initial Train\n",
      "Number of examples in the dataset: 45427\n",
      "Number of ebird_code labels: 54\n",
      "Number of calltype labels: 8\n",
      "Number of combined labels: 98\n",
      "\n",
      "Number of examples per calltype label:\n",
      "Call Type            Count     \n",
      "------------------------------\n",
      "flight 5109\n",
      "contact 9148\n",
      "excitement 167\n",
      "alarm 556\n",
      "alarm_ground 11\n",
      "drumming 4564\n",
      "NA 6000\n",
      "song 19872\n",
      "\n",
      "Top 10 most common ebird_code labels:\n",
      "Ebird Code Count     \n",
      "--------------------\n",
      "NA 6000\n",
      "grswoo 5974\n",
      "eurbla 3067\n",
      "sonthr1 2833\n",
      "blawoo1 2625\n",
      "redcro 2390\n",
      "comcha 2374\n",
      "eurrob1 1554\n",
      "comchi1 1344\n",
      "gretit1 1068\n"
     ]
    },
    {
     "data": {
      "application/vnd.jupyter.widget-view+json": {
       "model_id": "93153600afd748878224fd30ab2c0c17",
       "version_major": 2,
       "version_minor": 0
      },
      "text/plain": [
       "Resolving data files:   0%|          | 0/153 [00:00<?, ?it/s]"
      ]
     },
     "metadata": {},
     "output_type": "display_data"
    },
    {
     "name": "stdout",
     "output_type": "stream",
     "text": [
      "\n",
      "Dataset: Initial Test\n",
      "Number of examples in the dataset: 14930\n",
      "Number of ebird_code labels: 54\n",
      "Number of calltype labels: 8\n",
      "Number of combined labels: 98\n",
      "\n",
      "Number of examples per calltype label:\n",
      "Call Type            Count     \n",
      "------------------------------\n",
      "song 11017\n",
      "contact 2841\n",
      "flight 402\n",
      "drumming 82\n",
      "NA 14\n",
      "alarm 532\n",
      "alarm_ground 1\n",
      "excitement 41\n",
      "\n",
      "Top 10 most common ebird_code labels:\n",
      "Ebird Code Count     \n",
      "--------------------\n",
      "eurbla 2659\n",
      "comcha 1875\n",
      "eurrob1 1601\n",
      "sonthr1 1594\n",
      "blackc1 1051\n",
      "comchi1 907\n",
      "blutit 563\n",
      "gretit1 504\n",
      "winwre4 462\n",
      "misthr1 405\n"
     ]
    }
   ],
   "source": [
    "print_dataset_info(\"Initial Train\", load_train_dataset(\"/workspace/projects/callbird/call_type_mappings/same_space_map\", None, \"/workspace/projects/callbird/blacklists/same_space_train.txt\", True))\n",
    "print_dataset_info(\"Initial Test\", load_test_dataset(\"/workspace/projects/callbird/call_type_mappings/same_space_map\", None, \"/workspace/projects/callbird/blacklists/same_space_test.txt\", \"NA\"))"
   ]
  },
  {
   "cell_type": "code",
   "execution_count": 16,
   "id": "86ab0bbc",
   "metadata": {},
   "outputs": [
    {
     "data": {
      "application/vnd.jupyter.widget-view+json": {
       "model_id": "86493b338afb49509fb6d5122f671f3d",
       "version_major": 2,
       "version_minor": 0
      },
      "text/plain": [
       "Resolving data files:   0%|          | 0/56 [00:00<?, ?it/s]"
      ]
     },
     "metadata": {},
     "output_type": "display_data"
    },
    {
     "name": "stdout",
     "output_type": "stream",
     "text": [
      "\n",
      "Dataset: Initial Train\n",
      "Number of examples in the dataset: 45474\n",
      "Number of ebird_code labels: 54\n",
      "Number of calltype labels: 7\n",
      "Number of combined labels: 97\n",
      "\n",
      "Number of examples per calltype label:\n",
      "Call Type            Count     \n",
      "------------------------------\n",
      "flight 5109\n",
      "contact 9148\n",
      "excitement 167\n",
      "alarm 567\n",
      "song 19919\n",
      "drumming 4564\n",
      "NA 6000\n",
      "\n",
      "Top 10 most common ebird_code labels:\n",
      "Ebird Code Count     \n",
      "--------------------\n",
      "NA 6000\n",
      "grswoo 5974\n",
      "eurbla 3068\n",
      "sonthr1 2833\n",
      "blawoo1 2625\n",
      "redcro 2390\n",
      "comcha 2374\n",
      "eurrob1 1555\n",
      "comchi1 1344\n",
      "gretit1 1073\n"
     ]
    },
    {
     "data": {
      "application/vnd.jupyter.widget-view+json": {
       "model_id": "ff8d689b20b34bacbd0cf3bd7943228e",
       "version_major": 2,
       "version_minor": 0
      },
      "text/plain": [
       "Resolving data files:   0%|          | 0/153 [00:00<?, ?it/s]"
      ]
     },
     "metadata": {},
     "output_type": "display_data"
    },
    {
     "name": "stdout",
     "output_type": "stream",
     "text": [
      "\n",
      "Dataset: Initial Test\n",
      "Number of examples in the dataset: 14971\n",
      "Number of ebird_code labels: 54\n",
      "Number of calltype labels: 7\n",
      "Number of combined labels: 97\n",
      "\n",
      "Number of examples per calltype label:\n",
      "Call Type            Count     \n",
      "------------------------------\n",
      "song 11058\n",
      "contact 2841\n",
      "flight 402\n",
      "drumming 82\n",
      "NA 14\n",
      "alarm 533\n",
      "excitement 41\n",
      "\n",
      "Top 10 most common ebird_code labels:\n",
      "Ebird Code Count     \n",
      "--------------------\n",
      "eurbla 2659\n",
      "comcha 1906\n",
      "eurrob1 1601\n",
      "sonthr1 1594\n",
      "blackc1 1051\n",
      "comchi1 907\n",
      "blutit 563\n",
      "gretit1 504\n",
      "winwre4 462\n",
      "misthr1 405\n"
     ]
    }
   ],
   "source": [
    "print_dataset_info(\"Initial Train\", load_train_dataset(\"/workspace/projects/callbird/call_type_mappings/unspecified_map\", None, \"/workspace/projects/callbird/blacklists/unspecified_train.txt\", True))\n",
    "print_dataset_info(\"Initial Test\", load_test_dataset(\"/workspace/projects/callbird/call_type_mappings/unspecified_map\", None, \"/workspace/projects/callbird/blacklists/unspecified_test.txt\", \"NA\"))"
   ]
  }
 ],
 "metadata": {
  "kernelspec": {
   "display_name": "birdset-xS3fZVNL-py3.10",
   "language": "python",
   "name": "python3"
  },
  "language_info": {
   "codemirror_mode": {
    "name": "ipython",
    "version": 3
   },
   "file_extension": ".py",
   "mimetype": "text/x-python",
   "name": "python",
   "nbconvert_exporter": "python",
   "pygments_lexer": "ipython3",
   "version": "3.10.12"
  }
 },
 "nbformat": 4,
 "nbformat_minor": 5
}
