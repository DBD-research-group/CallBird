{
 "cells": [
  {
   "cell_type": "code",
   "execution_count": 1,
   "id": "5594f5ca",
   "metadata": {},
   "outputs": [],
   "source": [
    "from datasets import IterableDataset\n",
    "\n",
    "def print_dataset_info(name: str, dataset: IterableDataset):\n",
    "    trainset = dataset[\"train\"]\n",
    "\n",
    "    print(\"\")\n",
    "    print(f\"Dataset: {name}\")\n",
    "    print(f\"Number of examples in the dataset: {len(trainset)}\")\n",
    "    print(f\"Number of ebird_code labels: {len(trainset.unique('ebird_code'))}\")\n",
    "    print(f\"Number of calltype labels: {len(trainset.unique('short_call_type'))}\")\n",
    "    print(f\"Number of combined labels: {len(trainset.unique('ebird_code_and_call'))}\")\n",
    "\n",
    "    # If a calltype is None, print all features of that example\n",
    "    none_calltypes = trainset.filter(lambda x: x[\"short_call_type\"] is None)\n",
    "    if len(none_calltypes) > 0:\n",
    "        print(f\"Examples with None as calltype label: {len(none_calltypes)}\")\n",
    "        for example in none_calltypes:\n",
    "            print(example)\n",
    "        raise ValueError(\"There are examples with None as calltype label. Please fix the mapping.\")\n",
    "\n",
    "    # print table of counts for each short_call_type label\n",
    "    count_map = {}\n",
    "    for call_type in trainset.unique(\"short_call_type\"):\n",
    "        count_map[call_type] = len(trainset.filter(lambda x: x[\"short_call_type\"] == call_type))\n",
    "    print(\"\\nNumber of examples per calltype label:\")\n",
    "    print(\"{:<20} {:<10}\".format(\"Call Type\", \"Count\"))\n",
    "    print(\"-\" * 30)\n",
    "    for call_type, count in count_map.items():\n",
    "        print(f\"{call_type} {count}\")\n",
    "    \n",
    "    # print table of counts for each ebird_code label (top 10)\n",
    "    count_map = {}\n",
    "    for ebird_code in trainset.unique(\"ebird_code\"):\n",
    "        count_map[ebird_code] = len(trainset.filter(lambda x: x[\"ebird_code\"] == ebird_code))\n",
    "        sorted_count_map = dict(sorted(count_map.items(), key=lambda item: item[1], reverse=True))\n",
    "    print(\"\\nTop 10 most common ebird_code labels:\")\n",
    "    print(\"{:<10} {:<10}\".format(\"Ebird Code\", \"Count\"))\n",
    "    print(\"-\" * 20)\n",
    "    for ebird_code, count in list(sorted_count_map.items())[:10]:\n",
    "        print(f\"{ebird_code} {count}\")\n",
    "    "
   ]
  },
  {
   "cell_type": "code",
   "execution_count": 2,
   "id": "3838deee",
   "metadata": {},
   "outputs": [
    {
     "data": {
      "application/vnd.jupyter.widget-view+json": {
       "model_id": "eb82cb4af94a4dc5a628cd621e12da55",
       "version_major": 2,
       "version_minor": 0
      },
      "text/plain": [
       "Resolving data files:   0%|          | 0/153 [00:00<?, ?it/s]"
      ]
     },
     "metadata": {},
     "output_type": "display_data"
    },
    {
     "data": {
      "application/vnd.jupyter.widget-view+json": {
       "model_id": "b4e0fe2fccb64bafb57f322ef3f867c8",
       "version_major": 2,
       "version_minor": 0
      },
      "text/plain": [
       "Resolving data files:   0%|          | 0/56 [00:00<?, ?it/s]"
      ]
     },
     "metadata": {},
     "output_type": "display_data"
    },
    {
     "name": "stdout",
     "output_type": "stream",
     "text": [
      "\n",
      "Dataset: Original Train\n",
      "Number of examples in the dataset: 91771\n",
      "Number of ebird_code labels: 56\n",
      "Number of calltype labels: 15\n",
      "Number of combined labels: 212\n",
      "\n",
      "Number of examples per calltype label:\n",
      "Call Type            Count     \n",
      "------------------------------\n",
      "f (Flugruf) 6790\n",
      "c (Kontaktruf) 10972\n",
      "s (Gesang) 34755\n",
      "t (Trommeln) 5266\n",
      "b (Bettelruf) 232\n",
      "e (Erregungsruf) 172\n",
      "ic (Interaktionsrufe) 10\n",
      "ac (Alarmruf) 722\n",
      "s2 (Zweitgesang) 47\n",
      "wb (Fluegelschlag) 5\n",
      "nfc (Nachtzugruf) 1768\n",
      "rs (Rufe am Schlafplatz) 704\n",
      "ac_b (Alarmruf_Bodenfeinde) 11\n",
      "ac_f (Alarmruf Luftfeinde) 1\n",
      "NA 30316\n",
      "\n",
      "Top 10 most common ebird_code labels:\n",
      "Ebird Code Count     \n",
      "--------------------\n",
      "NA 30316\n",
      "grswoo 6535\n",
      "eurbla 5579\n",
      "sonthr1 5527\n",
      "comcha 3214\n",
      "blawoo1 3119\n",
      "eurrob1 2688\n",
      "redcro 2462\n",
      "tawowl1 2305\n",
      "comchi1 2184\n",
      "\n",
      "Dataset: Original Test\n",
      "Number of examples in the dataset: 16020\n",
      "Number of ebird_code labels: 61\n",
      "Number of calltype labels: 13\n",
      "Number of combined labels: 137\n",
      "\n",
      "Number of examples per calltype label:\n",
      "Call Type            Count     \n",
      "------------------------------\n",
      "song 11078\n",
      "contact call 3006\n",
      "flight call 411\n",
      "something 651\n",
      "drumming 85\n",
      "alarm call 592\n",
      "vocal 1\n",
      "ground alarm call 1\n",
      "call 5\n",
      "whistle 1\n",
      "air alarm call 107\n",
      "excitement call 41\n",
      "sub song 41\n",
      "\n",
      "Top 10 most common ebird_code labels:\n",
      "Ebird Code Count     \n",
      "--------------------\n",
      "eurbla 2659\n",
      "comcha 1906\n",
      "eurrob1 1604\n",
      "sonthr1 1596\n",
      "blackc1 1051\n",
      "UNKNOWN 941\n",
      "comchi1 907\n",
      "blutit 566\n",
      "gretit1 504\n",
      "winwre4 462\n"
     ]
    }
   ],
   "source": [
    "from datasets import load_dataset, Features, Value\n",
    "\n",
    "original_test_dataset = load_dataset(\n",
    "    \"csv\",\n",
    "    data_files = \"/workspace/oekofor/testset/labels/*.csv\",\n",
    "    features = Features({ # TODO: Add all features available in BirdSet\n",
    "        \"ebird_code\": Value(\"string\"),\n",
    "        \"common_name\": Value(\"string\"),\n",
    "        \"vocalization_type\": Value(\"string\"),\n",
    "        \"start_time\": Value(\"float\"),\n",
    "        \"end_time\": Value(\"float\"),\n",
    "        \"audio_filename\": Value(\"string\"),\n",
    "    }),\n",
    "    cache_dir = None,\n",
    "    num_proc = 1,\n",
    "    trust_remote_code = True, # While not needed for local datasets, it is kept for consistency\n",
    ")\n",
    "\n",
    "# We need to remove None values from the 'ebird_code' column since the pipeline cannot handle them\n",
    "original_test_dataset = original_test_dataset.map(lambda x: {\"ebird_code\": x[\"ebird_code\"] if x[\"ebird_code\"] is not None else (\"UNKNOWN\" if x[\"common_name\"] == \"Bird\" else \"NA\")}) # TODO: Check if NA is an existing code\n",
    "original_test_dataset = original_test_dataset.map(lambda x: {\"vocalization_type\": x[\"vocalization_type\"] if x[\"vocalization_type\"] is not None else \"NA\"}) # TODO: Check if NA is an existing code\n",
    "original_test_dataset = original_test_dataset.map(lambda x: {\"short_call_type\": x[\"vocalization_type\"]})\n",
    "original_test_dataset = original_test_dataset.map(lambda x: { \"ebird_code_and_call\": f\"{x['ebird_code']}_{x['short_call_type']}\" })\n",
    "\n",
    "original_train_dataset = load_dataset(\n",
    "    \"csv\",\n",
    "    data_files = \"/workspace/oekofor/trainset/csvlabels/*.csv\",\n",
    "    features = Features({ # TODO: Add all features available in BirdSet\n",
    "        \"ebird_code\": Value(\"string\"),\n",
    "        \"call_type\": Value(\"string\"),\n",
    "        \"start_sample [s]\": Value(\"float\"),\n",
    "        \"end_sample [s]\": Value(\"float\"),\n",
    "        \"actual_filename\": Value(\"string\"),\n",
    "    }),\n",
    "    delimiter=\";\",\n",
    "    cache_dir = None,\n",
    "    num_proc = 1,\n",
    "    trust_remote_code = True, # While not needed for local datasets, it is kept for consistency\n",
    ")\n",
    "\n",
    "# We need to remove None values from the 'ebird_code' column since the pipeline cannot handle them\n",
    "original_train_dataset = original_train_dataset.map(lambda x: {\"ebird_code\": x[\"ebird_code\"] if x[\"ebird_code\"] is not None else \"NA\"})\n",
    "original_train_dataset = original_train_dataset.map(lambda x: {\"call_type\": x[\"call_type\"] if x[\"call_type\"] is not None else \"NA\"})\n",
    "original_train_dataset = original_train_dataset.map(lambda x: {\"short_call_type\": x[\"call_type\"]})\n",
    "original_train_dataset = original_train_dataset.map(lambda x: { \"ebird_code_and_call\": f\"{x['ebird_code']}_{x['short_call_type']}\" })\n",
    "\n",
    "print_dataset_info(\"Original Train\", original_train_dataset)\n",
    "print_dataset_info(\"Original Test\", original_test_dataset)"
   ]
  },
  {
   "cell_type": "code",
   "execution_count": 3,
   "id": "0221c59d",
   "metadata": {},
   "outputs": [],
   "source": [
    "from callbird.src.datasets.load_test_dataset import load_test_dataset\n",
    "from callbird.src.datasets.load_train_dataset import load_train_dataset"
   ]
  },
  {
   "cell_type": "code",
   "execution_count": null,
   "id": "259b46dc",
   "metadata": {},
   "outputs": [],
   "source": [
    "\n",
    "# As closely as possible to the original dataset\n",
    "print_dataset_info(\"Raw Train\", load_train_dataset(\"/workspace/projects/callbird/call_type_mappings/identity_map\", None, filter_naive=None, limit_samples=False))\n",
    "print_dataset_info(\"Raw Test\", load_test_dataset(\"/workspace/projects/callbird/call_type_mappings/identity_map\", None, filter_naive=None, unknown_ebird_code=\"NA\", filter_unspecified=False))"
   ]
  },
  {
   "cell_type": "code",
   "execution_count": null,
   "id": "51a500d1",
   "metadata": {},
   "outputs": [],
   "source": [
    "# Stats for same space stage\n",
    "print_dataset_info(\"Same Space Train\", load_train_dataset(\"/workspace/projects/callbird/call_type_mappings/same_space_map\", None, filter_naive=None, limit_samples=False))\n",
    "print_dataset_info(\"Same Space Test\", load_test_dataset(\"/workspace/projects/callbird/call_type_mappings/same_space_map\", None, filter_naive=None, unknown_ebird_code=\"NA\", filter_unspecified=False))"
   ]
  },
  {
   "cell_type": "code",
   "execution_count": 4,
   "id": "ff312b87",
   "metadata": {},
   "outputs": [
    {
     "data": {
      "application/vnd.jupyter.widget-view+json": {
       "model_id": "25df7e39d79341be95ecd80cc7a8550a",
       "version_major": 2,
       "version_minor": 0
      },
      "text/plain": [
       "Resolving data files:   0%|          | 0/56 [00:00<?, ?it/s]"
      ]
     },
     "metadata": {},
     "output_type": "display_data"
    },
    {
     "name": "stdout",
     "output_type": "stream",
     "text": [
      "\n",
      "Dataset: Same Space Train Filtered\n",
      "Number of examples in the dataset: 84933\n",
      "Number of ebird_code labels: 54\n",
      "Number of calltype labels: 8\n",
      "Number of combined labels: 98\n",
      "\n",
      "Number of examples per calltype label:\n",
      "Call Type            Count     \n",
      "------------------------------\n",
      "flight 5109\n",
      "contact 9277\n",
      "song 34529\n",
      "excitement 167\n",
      "alarm 556\n",
      "alarm_ground 11\n",
      "drumming 4968\n",
      "NA 30316\n",
      "\n",
      "Top 10 most common ebird_code labels:\n",
      "Ebird Code Count     \n",
      "--------------------\n",
      "NA 30316\n",
      "grswoo 6507\n",
      "eurbla 4757\n",
      "sonthr1 4673\n",
      "comcha 3214\n",
      "blawoo1 2816\n",
      "redcro 2420\n",
      "eurrob1 2352\n",
      "comchi1 2179\n",
      "eugwoo2 1709\n"
     ]
    },
    {
     "data": {
      "application/vnd.jupyter.widget-view+json": {
       "model_id": "f2a01718ac7443a79999e56c709ecc35",
       "version_major": 2,
       "version_minor": 0
      },
      "text/plain": [
       "Resolving data files:   0%|          | 0/153 [00:00<?, ?it/s]"
      ]
     },
     "metadata": {},
     "output_type": "display_data"
    },
    {
     "name": "stdout",
     "output_type": "stream",
     "text": [
      "\n",
      "Dataset: Same Space Test Filtered\n",
      "Number of examples in the dataset: 15552\n",
      "Number of ebird_code labels: 54\n",
      "Number of calltype labels: 8\n",
      "Number of combined labels: 98\n",
      "\n",
      "Number of examples per calltype label:\n",
      "Call Type            Count     \n",
      "------------------------------\n",
      "song 11017\n",
      "contact 2841\n",
      "flight 402\n",
      "NA 636\n",
      "drumming 82\n",
      "alarm 532\n",
      "alarm_ground 1\n",
      "excitement 41\n",
      "\n",
      "Top 10 most common ebird_code labels:\n",
      "Ebird Code Count     \n",
      "--------------------\n",
      "eurbla 2659\n",
      "comcha 1875\n",
      "eurrob1 1601\n",
      "sonthr1 1594\n",
      "blackc1 1051\n",
      "comchi1 907\n",
      "NA 636\n",
      "blutit 563\n",
      "gretit1 504\n",
      "winwre4 462\n"
     ]
    }
   ],
   "source": [
    "print_dataset_info(\"Same Space Train Filtered\", load_train_dataset(\"/workspace/projects/callbird/call_type_mappings/same_space_map\", None, filter_naive=\"/workspace/projects/callbird/blacklists/same_space_train.txt\", limit_samples=False))\n",
    "print_dataset_info(\"Same Space Test Filtered\", load_test_dataset(\"/workspace/projects/callbird/call_type_mappings/same_space_map\", None, filter_naive=\"/workspace/projects/callbird/blacklists/same_space_test.txt\", unknown_ebird_code=\"NA\", filter_unspecified=False))"
   ]
  },
  {
   "cell_type": "code",
   "execution_count": null,
   "id": "ea73632f",
   "metadata": {},
   "outputs": [],
   "source": [
    "# Stats for limit samples stage\n",
    "print_dataset_info(\"Limit Samples Train\", load_train_dataset(\"/workspace/projects/callbird/call_type_mappings/same_space_map\", None, filter_naive=None, limit_samples=True))\n",
    "print_dataset_info(\"Limit Samples Test\", load_test_dataset(\"/workspace/projects/callbird/call_type_mappings/same_space_map\", None, filter_naive=None, unknown_ebird_code=\"NA\", filter_unspecified=False))"
   ]
  },
  {
   "cell_type": "code",
   "execution_count": 5,
   "id": "23acfd33",
   "metadata": {},
   "outputs": [
    {
     "data": {
      "application/vnd.jupyter.widget-view+json": {
       "model_id": "c08b1e59edfe4a3da895f7f135b711f4",
       "version_major": 2,
       "version_minor": 0
      },
      "text/plain": [
       "Resolving data files:   0%|          | 0/56 [00:00<?, ?it/s]"
      ]
     },
     "metadata": {},
     "output_type": "display_data"
    },
    {
     "name": "stdout",
     "output_type": "stream",
     "text": [
      "\n",
      "Dataset: Limit Samples Train\n",
      "Number of examples in the dataset: 45427\n",
      "Number of ebird_code labels: 54\n",
      "Number of calltype labels: 8\n",
      "Number of combined labels: 98\n",
      "\n",
      "Number of examples per calltype label:\n",
      "Call Type            Count     \n",
      "------------------------------\n",
      "flight 5109\n",
      "contact 9148\n",
      "excitement 167\n",
      "alarm 556\n",
      "alarm_ground 11\n",
      "drumming 4564\n",
      "NA 6000\n",
      "song 19872\n",
      "\n",
      "Top 10 most common ebird_code labels:\n",
      "Ebird Code Count     \n",
      "--------------------\n",
      "NA 6000\n",
      "grswoo 5974\n",
      "eurbla 3067\n",
      "sonthr1 2833\n",
      "blawoo1 2625\n",
      "redcro 2390\n",
      "comcha 2374\n",
      "eurrob1 1554\n",
      "comchi1 1344\n",
      "gretit1 1068\n"
     ]
    },
    {
     "data": {
      "application/vnd.jupyter.widget-view+json": {
       "model_id": "44f41271d0b145f3a13577867d6de9cc",
       "version_major": 2,
       "version_minor": 0
      },
      "text/plain": [
       "Resolving data files:   0%|          | 0/153 [00:00<?, ?it/s]"
      ]
     },
     "metadata": {},
     "output_type": "display_data"
    },
    {
     "name": "stdout",
     "output_type": "stream",
     "text": [
      "\n",
      "Dataset: Limit Samples Test\n",
      "Number of examples in the dataset: 15552\n",
      "Number of ebird_code labels: 54\n",
      "Number of calltype labels: 8\n",
      "Number of combined labels: 98\n",
      "\n",
      "Number of examples per calltype label:\n",
      "Call Type            Count     \n",
      "------------------------------\n",
      "song 11017\n",
      "contact 2841\n",
      "flight 402\n",
      "NA 636\n",
      "drumming 82\n",
      "alarm 532\n",
      "alarm_ground 1\n",
      "excitement 41\n",
      "\n",
      "Top 10 most common ebird_code labels:\n",
      "Ebird Code Count     \n",
      "--------------------\n",
      "eurbla 2659\n",
      "comcha 1875\n",
      "eurrob1 1601\n",
      "sonthr1 1594\n",
      "blackc1 1051\n",
      "comchi1 907\n",
      "NA 636\n",
      "blutit 563\n",
      "gretit1 504\n",
      "winwre4 462\n"
     ]
    }
   ],
   "source": [
    "# Stats for limit samples stage\n",
    "print_dataset_info(\"Limit Samples Train\", load_train_dataset(\"/workspace/projects/callbird/call_type_mappings/same_space_map\", None, filter_naive=\"/workspace/projects/callbird/blacklists/limit_samples_train.txt\", limit_samples=True))\n",
    "print_dataset_info(\"Limit Samples Test\", load_test_dataset(\"/workspace/projects/callbird/call_type_mappings/same_space_map\", None, filter_naive=\"/workspace/projects/callbird/blacklists/limit_samples_test.txt\", unknown_ebird_code=\"NA\", filter_unspecified=False))"
   ]
  },
  {
   "cell_type": "code",
   "execution_count": 6,
   "id": "79333258",
   "metadata": {},
   "outputs": [
    {
     "data": {
      "application/vnd.jupyter.widget-view+json": {
       "model_id": "b4c424ed270b42ff8272aa516b1f12d0",
       "version_major": 2,
       "version_minor": 0
      },
      "text/plain": [
       "Resolving data files:   0%|          | 0/56 [00:00<?, ?it/s]"
      ]
     },
     "metadata": {},
     "output_type": "display_data"
    },
    {
     "name": "stdout",
     "output_type": "stream",
     "text": [
      "\n",
      "Dataset: Alarm Umbrella Class Train\n",
      "Number of examples in the dataset: 45427\n",
      "Number of ebird_code labels: 54\n",
      "Number of calltype labels: 7\n",
      "Number of combined labels: 97\n",
      "\n",
      "Number of examples per calltype label:\n",
      "Call Type            Count     \n",
      "------------------------------\n",
      "flight 5109\n",
      "contact 9148\n",
      "excitement 167\n",
      "alarm 567\n",
      "drumming 4564\n",
      "NA 6000\n",
      "song 19872\n",
      "\n",
      "Top 10 most common ebird_code labels:\n",
      "Ebird Code Count     \n",
      "--------------------\n",
      "NA 6000\n",
      "grswoo 5974\n",
      "eurbla 3067\n",
      "sonthr1 2833\n",
      "blawoo1 2625\n",
      "redcro 2390\n",
      "comcha 2374\n",
      "eurrob1 1554\n",
      "comchi1 1344\n",
      "gretit1 1068\n"
     ]
    },
    {
     "data": {
      "application/vnd.jupyter.widget-view+json": {
       "model_id": "cc6887a4327048a68fa1dcbf4f319752",
       "version_major": 2,
       "version_minor": 0
      },
      "text/plain": [
       "Resolving data files:   0%|          | 0/153 [00:00<?, ?it/s]"
      ]
     },
     "metadata": {},
     "output_type": "display_data"
    },
    {
     "name": "stdout",
     "output_type": "stream",
     "text": [
      "\n",
      "Dataset: Alarm Umbrella Class Test\n",
      "Number of examples in the dataset: 15552\n",
      "Number of ebird_code labels: 54\n",
      "Number of calltype labels: 7\n",
      "Number of combined labels: 97\n",
      "\n",
      "Number of examples per calltype label:\n",
      "Call Type            Count     \n",
      "------------------------------\n",
      "song 11017\n",
      "contact 2841\n",
      "flight 402\n",
      "NA 636\n",
      "drumming 82\n",
      "alarm 533\n",
      "excitement 41\n",
      "\n",
      "Top 10 most common ebird_code labels:\n",
      "Ebird Code Count     \n",
      "--------------------\n",
      "eurbla 2659\n",
      "comcha 1875\n",
      "eurrob1 1601\n",
      "sonthr1 1594\n",
      "blackc1 1051\n",
      "comchi1 907\n",
      "NA 636\n",
      "blutit 563\n",
      "gretit1 504\n",
      "winwre4 462\n"
     ]
    }
   ],
   "source": [
    "# Stats for limit samples stage\n",
    "print_dataset_info(\"Alarm Umbrella Class Train\", load_train_dataset(\"/workspace/projects/callbird/call_type_mappings/alarm_merge_map\", None, filter_naive=\"/workspace/projects/callbird/blacklists/alarm_merge_train.txt\", limit_samples=True))\n",
    "print_dataset_info(\"Alarm Umbrella Class Test\", load_test_dataset(\"/workspace/projects/callbird/call_type_mappings/alarm_merge_map\", None, filter_naive=\"/workspace/projects/callbird/blacklists/alarm_merge_test.txt\", unknown_ebird_code=\"NA\", filter_unspecified=False))"
   ]
  },
  {
   "cell_type": "code",
   "execution_count": 7,
   "id": "844e1d0a",
   "metadata": {},
   "outputs": [
    {
     "data": {
      "application/vnd.jupyter.widget-view+json": {
       "model_id": "fddfb0f797d644598c9804dab95a8873",
       "version_major": 2,
       "version_minor": 0
      },
      "text/plain": [
       "Resolving data files:   0%|          | 0/56 [00:00<?, ?it/s]"
      ]
     },
     "metadata": {},
     "output_type": "display_data"
    },
    {
     "name": "stdout",
     "output_type": "stream",
     "text": [
      "\n",
      "Dataset: Song Merge Train\n",
      "Number of examples in the dataset: 45474\n",
      "Number of ebird_code labels: 54\n",
      "Number of calltype labels: 8\n",
      "Number of combined labels: 98\n",
      "\n",
      "Number of examples per calltype label:\n",
      "Call Type            Count     \n",
      "------------------------------\n",
      "flight 5109\n",
      "contact 9148\n",
      "excitement 167\n",
      "alarm 556\n",
      "song 19919\n",
      "alarm_ground 11\n",
      "drumming 4564\n",
      "NA 6000\n",
      "\n",
      "Top 10 most common ebird_code labels:\n",
      "Ebird Code Count     \n",
      "--------------------\n",
      "NA 6000\n",
      "grswoo 5974\n",
      "eurbla 3068\n",
      "sonthr1 2833\n",
      "blawoo1 2625\n",
      "redcro 2390\n",
      "comcha 2374\n",
      "eurrob1 1555\n",
      "comchi1 1344\n",
      "gretit1 1073\n"
     ]
    },
    {
     "data": {
      "application/vnd.jupyter.widget-view+json": {
       "model_id": "1716578dc18644828f35bd8194e732a1",
       "version_major": 2,
       "version_minor": 0
      },
      "text/plain": [
       "Resolving data files:   0%|          | 0/153 [00:00<?, ?it/s]"
      ]
     },
     "metadata": {},
     "output_type": "display_data"
    },
    {
     "name": "stdout",
     "output_type": "stream",
     "text": [
      "\n",
      "Dataset: Song Merge Test\n",
      "Number of examples in the dataset: 15593\n",
      "Number of ebird_code labels: 54\n",
      "Number of calltype labels: 8\n",
      "Number of combined labels: 98\n",
      "\n",
      "Number of examples per calltype label:\n",
      "Call Type            Count     \n",
      "------------------------------\n",
      "song 11058\n",
      "contact 2841\n",
      "flight 402\n",
      "NA 636\n",
      "drumming 82\n",
      "alarm 532\n",
      "alarm_ground 1\n",
      "excitement 41\n",
      "\n",
      "Top 10 most common ebird_code labels:\n",
      "Ebird Code Count     \n",
      "--------------------\n",
      "eurbla 2659\n",
      "comcha 1906\n",
      "eurrob1 1601\n",
      "sonthr1 1594\n",
      "blackc1 1051\n",
      "comchi1 907\n",
      "NA 636\n",
      "blutit 563\n",
      "gretit1 504\n",
      "winwre4 462\n"
     ]
    }
   ],
   "source": [
    "# Stats for limit samples stage\n",
    "print_dataset_info(\"Song Merge Train\", load_train_dataset(\"/workspace/projects/callbird/call_type_mappings/song_merge_map\", None, filter_naive=\"/workspace/projects/callbird/blacklists/song_merge_train.txt\", limit_samples=True))\n",
    "print_dataset_info(\"Song Merge Test\", load_test_dataset(\"/workspace/projects/callbird/call_type_mappings/song_merge_map\", None, filter_naive=\"/workspace/projects/callbird/blacklists/song_merge_test.txt\", unknown_ebird_code=\"NA\", filter_unspecified=False))"
   ]
  },
  {
   "cell_type": "code",
   "execution_count": 8,
   "id": "890f5462",
   "metadata": {},
   "outputs": [
    {
     "data": {
      "application/vnd.jupyter.widget-view+json": {
       "model_id": "bae0284600ef4ba7afc378f431f9760d",
       "version_major": 2,
       "version_minor": 0
      },
      "text/plain": [
       "Resolving data files:   0%|          | 0/56 [00:00<?, ?it/s]"
      ]
     },
     "metadata": {},
     "output_type": "display_data"
    },
    {
     "name": "stdout",
     "output_type": "stream",
     "text": [
      "\n",
      "Dataset: Unspecified Train\n",
      "Number of examples in the dataset: 45474\n",
      "Number of ebird_code labels: 54\n",
      "Number of calltype labels: 8\n",
      "Number of combined labels: 98\n",
      "\n",
      "Number of examples per calltype label:\n",
      "Call Type            Count     \n",
      "------------------------------\n",
      "flight 5109\n",
      "contact 9148\n",
      "excitement 167\n",
      "alarm 556\n",
      "song 19919\n",
      "alarm_ground 11\n",
      "drumming 4564\n",
      "NA 6000\n",
      "\n",
      "Top 10 most common ebird_code labels:\n",
      "Ebird Code Count     \n",
      "--------------------\n",
      "NA 6000\n",
      "grswoo 5974\n",
      "eurbla 3068\n",
      "sonthr1 2833\n",
      "blawoo1 2625\n",
      "redcro 2390\n",
      "comcha 2374\n",
      "eurrob1 1555\n",
      "comchi1 1344\n",
      "gretit1 1073\n"
     ]
    },
    {
     "data": {
      "application/vnd.jupyter.widget-view+json": {
       "model_id": "8af79a358bf340c290b584a276779e6a",
       "version_major": 2,
       "version_minor": 0
      },
      "text/plain": [
       "Resolving data files:   0%|          | 0/153 [00:00<?, ?it/s]"
      ]
     },
     "metadata": {},
     "output_type": "display_data"
    },
    {
     "data": {
      "application/vnd.jupyter.widget-view+json": {
       "model_id": "7d2a9c96a8d84f399ab422d7b8317d38",
       "version_major": 2,
       "version_minor": 0
      },
      "text/plain": [
       "Filter:   0%|          | 0/15950 [00:00<?, ? examples/s]"
      ]
     },
     "metadata": {},
     "output_type": "display_data"
    },
    {
     "data": {
      "application/vnd.jupyter.widget-view+json": {
       "model_id": "c4a69a431ae44c8a83f8a1393bae9b45",
       "version_major": 2,
       "version_minor": 0
      },
      "text/plain": [
       "Filter:   0%|          | 0/15912 [00:00<?, ? examples/s]"
      ]
     },
     "metadata": {},
     "output_type": "display_data"
    },
    {
     "data": {
      "application/vnd.jupyter.widget-view+json": {
       "model_id": "ccc6cb11fbdc471394d3042fde8f0cb3",
       "version_major": 2,
       "version_minor": 0
      },
      "text/plain": [
       "Map:   0%|          | 0/14971 [00:00<?, ? examples/s]"
      ]
     },
     "metadata": {},
     "output_type": "display_data"
    },
    {
     "data": {
      "application/vnd.jupyter.widget-view+json": {
       "model_id": "3833d9c05c2b4c21b66e491440d9a02f",
       "version_major": 2,
       "version_minor": 0
      },
      "text/plain": [
       "Map:   0%|          | 0/14971 [00:00<?, ? examples/s]"
      ]
     },
     "metadata": {},
     "output_type": "display_data"
    },
    {
     "name": "stdout",
     "output_type": "stream",
     "text": [
      "\n",
      "Dataset: Unspecified Test\n",
      "Number of examples in the dataset: 14971\n",
      "Number of ebird_code labels: 54\n",
      "Number of calltype labels: 8\n",
      "Number of combined labels: 98\n"
     ]
    },
    {
     "data": {
      "application/vnd.jupyter.widget-view+json": {
       "model_id": "1c47d1bb6a824cf5bf0ca35522faceef",
       "version_major": 2,
       "version_minor": 0
      },
      "text/plain": [
       "Filter:   0%|          | 0/14971 [00:00<?, ? examples/s]"
      ]
     },
     "metadata": {},
     "output_type": "display_data"
    },
    {
     "data": {
      "application/vnd.jupyter.widget-view+json": {
       "model_id": "894559d5d38b4b3cb9abeaaee9b562c7",
       "version_major": 2,
       "version_minor": 0
      },
      "text/plain": [
       "Filter:   0%|          | 0/14971 [00:00<?, ? examples/s]"
      ]
     },
     "metadata": {},
     "output_type": "display_data"
    },
    {
     "data": {
      "application/vnd.jupyter.widget-view+json": {
       "model_id": "ebf91c8f3c9d4273befa66b6203a9e8f",
       "version_major": 2,
       "version_minor": 0
      },
      "text/plain": [
       "Filter:   0%|          | 0/14971 [00:00<?, ? examples/s]"
      ]
     },
     "metadata": {},
     "output_type": "display_data"
    },
    {
     "data": {
      "application/vnd.jupyter.widget-view+json": {
       "model_id": "811085c8b5494ff1946ae558e56d59a7",
       "version_major": 2,
       "version_minor": 0
      },
      "text/plain": [
       "Filter:   0%|          | 0/14971 [00:00<?, ? examples/s]"
      ]
     },
     "metadata": {},
     "output_type": "display_data"
    },
    {
     "data": {
      "application/vnd.jupyter.widget-view+json": {
       "model_id": "8f3ba5a6f8644ceebdc227d2319597cb",
       "version_major": 2,
       "version_minor": 0
      },
      "text/plain": [
       "Filter:   0%|          | 0/14971 [00:00<?, ? examples/s]"
      ]
     },
     "metadata": {},
     "output_type": "display_data"
    },
    {
     "data": {
      "application/vnd.jupyter.widget-view+json": {
       "model_id": "f27cbb4b90c544a3ac1e3de1d48aca72",
       "version_major": 2,
       "version_minor": 0
      },
      "text/plain": [
       "Filter:   0%|          | 0/14971 [00:00<?, ? examples/s]"
      ]
     },
     "metadata": {},
     "output_type": "display_data"
    },
    {
     "data": {
      "application/vnd.jupyter.widget-view+json": {
       "model_id": "15b92dd76dfa43ac9c71bacb28fca224",
       "version_major": 2,
       "version_minor": 0
      },
      "text/plain": [
       "Filter:   0%|          | 0/14971 [00:00<?, ? examples/s]"
      ]
     },
     "metadata": {},
     "output_type": "display_data"
    },
    {
     "data": {
      "application/vnd.jupyter.widget-view+json": {
       "model_id": "138bd3b409a84eaea0d69e8568d5ec09",
       "version_major": 2,
       "version_minor": 0
      },
      "text/plain": [
       "Filter:   0%|          | 0/14971 [00:00<?, ? examples/s]"
      ]
     },
     "metadata": {},
     "output_type": "display_data"
    },
    {
     "data": {
      "application/vnd.jupyter.widget-view+json": {
       "model_id": "4ed8fc4a0f034040b35a81d5fb4e2ab9",
       "version_major": 2,
       "version_minor": 0
      },
      "text/plain": [
       "Filter:   0%|          | 0/14971 [00:00<?, ? examples/s]"
      ]
     },
     "metadata": {},
     "output_type": "display_data"
    },
    {
     "name": "stdout",
     "output_type": "stream",
     "text": [
      "\n",
      "Number of examples per calltype label:\n",
      "Call Type            Count     \n",
      "------------------------------\n",
      "song 11058\n",
      "contact 2841\n",
      "flight 402\n",
      "drumming 82\n",
      "NA 14\n",
      "alarm 532\n",
      "alarm_ground 1\n",
      "excitement 41\n"
     ]
    },
    {
     "data": {
      "application/vnd.jupyter.widget-view+json": {
       "model_id": "7907a04b03fe47f58ee60c115bde0333",
       "version_major": 2,
       "version_minor": 0
      },
      "text/plain": [
       "Filter:   0%|          | 0/14971 [00:00<?, ? examples/s]"
      ]
     },
     "metadata": {},
     "output_type": "display_data"
    },
    {
     "data": {
      "application/vnd.jupyter.widget-view+json": {
       "model_id": "42aa84c7427a47ddb0abd4cb12c02fda",
       "version_major": 2,
       "version_minor": 0
      },
      "text/plain": [
       "Filter:   0%|          | 0/14971 [00:00<?, ? examples/s]"
      ]
     },
     "metadata": {},
     "output_type": "display_data"
    },
    {
     "data": {
      "application/vnd.jupyter.widget-view+json": {
       "model_id": "67cfc3aa1328499388bd282707b15cb6",
       "version_major": 2,
       "version_minor": 0
      },
      "text/plain": [
       "Filter:   0%|          | 0/14971 [00:00<?, ? examples/s]"
      ]
     },
     "metadata": {},
     "output_type": "display_data"
    },
    {
     "data": {
      "application/vnd.jupyter.widget-view+json": {
       "model_id": "61d21a31b6144476a3c8cb4b34c7045f",
       "version_major": 2,
       "version_minor": 0
      },
      "text/plain": [
       "Filter:   0%|          | 0/14971 [00:00<?, ? examples/s]"
      ]
     },
     "metadata": {},
     "output_type": "display_data"
    },
    {
     "data": {
      "application/vnd.jupyter.widget-view+json": {
       "model_id": "8f781810d59049e9a3c2042a5d8672bf",
       "version_major": 2,
       "version_minor": 0
      },
      "text/plain": [
       "Filter:   0%|          | 0/14971 [00:00<?, ? examples/s]"
      ]
     },
     "metadata": {},
     "output_type": "display_data"
    },
    {
     "data": {
      "application/vnd.jupyter.widget-view+json": {
       "model_id": "25c0312b00bf4d2e9a8b0336473fa333",
       "version_major": 2,
       "version_minor": 0
      },
      "text/plain": [
       "Filter:   0%|          | 0/14971 [00:00<?, ? examples/s]"
      ]
     },
     "metadata": {},
     "output_type": "display_data"
    },
    {
     "data": {
      "application/vnd.jupyter.widget-view+json": {
       "model_id": "17c3513462b24379b7fc66789ab447a9",
       "version_major": 2,
       "version_minor": 0
      },
      "text/plain": [
       "Filter:   0%|          | 0/14971 [00:00<?, ? examples/s]"
      ]
     },
     "metadata": {},
     "output_type": "display_data"
    },
    {
     "data": {
      "application/vnd.jupyter.widget-view+json": {
       "model_id": "36dc20e06f3646f5bd17040f2d59dc74",
       "version_major": 2,
       "version_minor": 0
      },
      "text/plain": [
       "Filter:   0%|          | 0/14971 [00:00<?, ? examples/s]"
      ]
     },
     "metadata": {},
     "output_type": "display_data"
    },
    {
     "data": {
      "application/vnd.jupyter.widget-view+json": {
       "model_id": "c7f2a56db4bd4446a7c97f42184418bc",
       "version_major": 2,
       "version_minor": 0
      },
      "text/plain": [
       "Filter:   0%|          | 0/14971 [00:00<?, ? examples/s]"
      ]
     },
     "metadata": {},
     "output_type": "display_data"
    },
    {
     "data": {
      "application/vnd.jupyter.widget-view+json": {
       "model_id": "7bacc069e2054a1faa20b4d5844a68cc",
       "version_major": 2,
       "version_minor": 0
      },
      "text/plain": [
       "Filter:   0%|          | 0/14971 [00:00<?, ? examples/s]"
      ]
     },
     "metadata": {},
     "output_type": "display_data"
    },
    {
     "data": {
      "application/vnd.jupyter.widget-view+json": {
       "model_id": "8b70406a2cc64210bd93d06f04126497",
       "version_major": 2,
       "version_minor": 0
      },
      "text/plain": [
       "Filter:   0%|          | 0/14971 [00:00<?, ? examples/s]"
      ]
     },
     "metadata": {},
     "output_type": "display_data"
    },
    {
     "data": {
      "application/vnd.jupyter.widget-view+json": {
       "model_id": "7346d87a9fcc4b19959203673f5e1fe5",
       "version_major": 2,
       "version_minor": 0
      },
      "text/plain": [
       "Filter:   0%|          | 0/14971 [00:00<?, ? examples/s]"
      ]
     },
     "metadata": {},
     "output_type": "display_data"
    },
    {
     "data": {
      "application/vnd.jupyter.widget-view+json": {
       "model_id": "cac5546305e74243af423572559243f8",
       "version_major": 2,
       "version_minor": 0
      },
      "text/plain": [
       "Filter:   0%|          | 0/14971 [00:00<?, ? examples/s]"
      ]
     },
     "metadata": {},
     "output_type": "display_data"
    },
    {
     "data": {
      "application/vnd.jupyter.widget-view+json": {
       "model_id": "1bf1b6d158aa49cea11940c76761fab4",
       "version_major": 2,
       "version_minor": 0
      },
      "text/plain": [
       "Filter:   0%|          | 0/14971 [00:00<?, ? examples/s]"
      ]
     },
     "metadata": {},
     "output_type": "display_data"
    },
    {
     "data": {
      "application/vnd.jupyter.widget-view+json": {
       "model_id": "1750d70d63ec4ea4b4819d0ec974de07",
       "version_major": 2,
       "version_minor": 0
      },
      "text/plain": [
       "Filter:   0%|          | 0/14971 [00:00<?, ? examples/s]"
      ]
     },
     "metadata": {},
     "output_type": "display_data"
    },
    {
     "data": {
      "application/vnd.jupyter.widget-view+json": {
       "model_id": "22fed096c36843319f83cd01a854ed4d",
       "version_major": 2,
       "version_minor": 0
      },
      "text/plain": [
       "Filter:   0%|          | 0/14971 [00:00<?, ? examples/s]"
      ]
     },
     "metadata": {},
     "output_type": "display_data"
    },
    {
     "data": {
      "application/vnd.jupyter.widget-view+json": {
       "model_id": "ce5f280cfc9a4c2d89d3367e21f4f80c",
       "version_major": 2,
       "version_minor": 0
      },
      "text/plain": [
       "Filter:   0%|          | 0/14971 [00:00<?, ? examples/s]"
      ]
     },
     "metadata": {},
     "output_type": "display_data"
    },
    {
     "data": {
      "application/vnd.jupyter.widget-view+json": {
       "model_id": "9f71077cd75b4702bee0deafd89fd7d6",
       "version_major": 2,
       "version_minor": 0
      },
      "text/plain": [
       "Filter:   0%|          | 0/14971 [00:00<?, ? examples/s]"
      ]
     },
     "metadata": {},
     "output_type": "display_data"
    },
    {
     "data": {
      "application/vnd.jupyter.widget-view+json": {
       "model_id": "bf2a6f2026f646348dbec3e93f75b50e",
       "version_major": 2,
       "version_minor": 0
      },
      "text/plain": [
       "Filter:   0%|          | 0/14971 [00:00<?, ? examples/s]"
      ]
     },
     "metadata": {},
     "output_type": "display_data"
    },
    {
     "data": {
      "application/vnd.jupyter.widget-view+json": {
       "model_id": "e68a192a43a841f7a53e775d2a891afe",
       "version_major": 2,
       "version_minor": 0
      },
      "text/plain": [
       "Filter:   0%|          | 0/14971 [00:00<?, ? examples/s]"
      ]
     },
     "metadata": {},
     "output_type": "display_data"
    },
    {
     "data": {
      "application/vnd.jupyter.widget-view+json": {
       "model_id": "1ad1f53ab2974648845f9e2942da8a30",
       "version_major": 2,
       "version_minor": 0
      },
      "text/plain": [
       "Filter:   0%|          | 0/14971 [00:00<?, ? examples/s]"
      ]
     },
     "metadata": {},
     "output_type": "display_data"
    },
    {
     "data": {
      "application/vnd.jupyter.widget-view+json": {
       "model_id": "25880c8c9a634c559007b55132bdb3b0",
       "version_major": 2,
       "version_minor": 0
      },
      "text/plain": [
       "Filter:   0%|          | 0/14971 [00:00<?, ? examples/s]"
      ]
     },
     "metadata": {},
     "output_type": "display_data"
    },
    {
     "data": {
      "application/vnd.jupyter.widget-view+json": {
       "model_id": "ec768ae6255b48cabca583f9722d081a",
       "version_major": 2,
       "version_minor": 0
      },
      "text/plain": [
       "Filter:   0%|          | 0/14971 [00:00<?, ? examples/s]"
      ]
     },
     "metadata": {},
     "output_type": "display_data"
    },
    {
     "data": {
      "application/vnd.jupyter.widget-view+json": {
       "model_id": "1dcd936656804517ae713ac39244afd8",
       "version_major": 2,
       "version_minor": 0
      },
      "text/plain": [
       "Filter:   0%|          | 0/14971 [00:00<?, ? examples/s]"
      ]
     },
     "metadata": {},
     "output_type": "display_data"
    },
    {
     "data": {
      "application/vnd.jupyter.widget-view+json": {
       "model_id": "f23e8bd43d0f457ba061c48538a4e52d",
       "version_major": 2,
       "version_minor": 0
      },
      "text/plain": [
       "Filter:   0%|          | 0/14971 [00:00<?, ? examples/s]"
      ]
     },
     "metadata": {},
     "output_type": "display_data"
    },
    {
     "data": {
      "application/vnd.jupyter.widget-view+json": {
       "model_id": "77fd5485fdca4d20a0e1356640a56f09",
       "version_major": 2,
       "version_minor": 0
      },
      "text/plain": [
       "Filter:   0%|          | 0/14971 [00:00<?, ? examples/s]"
      ]
     },
     "metadata": {},
     "output_type": "display_data"
    },
    {
     "data": {
      "application/vnd.jupyter.widget-view+json": {
       "model_id": "0fa871309386429e96b0d84b39e165e7",
       "version_major": 2,
       "version_minor": 0
      },
      "text/plain": [
       "Filter:   0%|          | 0/14971 [00:00<?, ? examples/s]"
      ]
     },
     "metadata": {},
     "output_type": "display_data"
    },
    {
     "data": {
      "application/vnd.jupyter.widget-view+json": {
       "model_id": "e2f0a20bfbf7472d9e53c3c7e2257ac0",
       "version_major": 2,
       "version_minor": 0
      },
      "text/plain": [
       "Filter:   0%|          | 0/14971 [00:00<?, ? examples/s]"
      ]
     },
     "metadata": {},
     "output_type": "display_data"
    },
    {
     "data": {
      "application/vnd.jupyter.widget-view+json": {
       "model_id": "0b2a2758e70c4b049bf0473af6277c3f",
       "version_major": 2,
       "version_minor": 0
      },
      "text/plain": [
       "Filter:   0%|          | 0/14971 [00:00<?, ? examples/s]"
      ]
     },
     "metadata": {},
     "output_type": "display_data"
    },
    {
     "data": {
      "application/vnd.jupyter.widget-view+json": {
       "model_id": "d18776ff169f4011b992708e7693eddd",
       "version_major": 2,
       "version_minor": 0
      },
      "text/plain": [
       "Filter:   0%|          | 0/14971 [00:00<?, ? examples/s]"
      ]
     },
     "metadata": {},
     "output_type": "display_data"
    },
    {
     "data": {
      "application/vnd.jupyter.widget-view+json": {
       "model_id": "58b1e2b70d5949048d51c6f49895a418",
       "version_major": 2,
       "version_minor": 0
      },
      "text/plain": [
       "Filter:   0%|          | 0/14971 [00:00<?, ? examples/s]"
      ]
     },
     "metadata": {},
     "output_type": "display_data"
    },
    {
     "data": {
      "application/vnd.jupyter.widget-view+json": {
       "model_id": "f3d4d955dbee4141a0006aeade0154b6",
       "version_major": 2,
       "version_minor": 0
      },
      "text/plain": [
       "Filter:   0%|          | 0/14971 [00:00<?, ? examples/s]"
      ]
     },
     "metadata": {},
     "output_type": "display_data"
    },
    {
     "data": {
      "application/vnd.jupyter.widget-view+json": {
       "model_id": "9f6524325e134f46b0ba7e86a9ec7b8e",
       "version_major": 2,
       "version_minor": 0
      },
      "text/plain": [
       "Filter:   0%|          | 0/14971 [00:00<?, ? examples/s]"
      ]
     },
     "metadata": {},
     "output_type": "display_data"
    },
    {
     "data": {
      "application/vnd.jupyter.widget-view+json": {
       "model_id": "b5229877f1064055b206c0aae8e97a57",
       "version_major": 2,
       "version_minor": 0
      },
      "text/plain": [
       "Filter:   0%|          | 0/14971 [00:00<?, ? examples/s]"
      ]
     },
     "metadata": {},
     "output_type": "display_data"
    },
    {
     "data": {
      "application/vnd.jupyter.widget-view+json": {
       "model_id": "a136c4e8f20745a7a5e07ee5dc68af1f",
       "version_major": 2,
       "version_minor": 0
      },
      "text/plain": [
       "Filter:   0%|          | 0/14971 [00:00<?, ? examples/s]"
      ]
     },
     "metadata": {},
     "output_type": "display_data"
    },
    {
     "data": {
      "application/vnd.jupyter.widget-view+json": {
       "model_id": "c59e17a9830446d2a6ad34d992da029d",
       "version_major": 2,
       "version_minor": 0
      },
      "text/plain": [
       "Filter:   0%|          | 0/14971 [00:00<?, ? examples/s]"
      ]
     },
     "metadata": {},
     "output_type": "display_data"
    },
    {
     "data": {
      "application/vnd.jupyter.widget-view+json": {
       "model_id": "258cc824bcd24ec19cef97d3a169bce5",
       "version_major": 2,
       "version_minor": 0
      },
      "text/plain": [
       "Filter:   0%|          | 0/14971 [00:00<?, ? examples/s]"
      ]
     },
     "metadata": {},
     "output_type": "display_data"
    },
    {
     "data": {
      "application/vnd.jupyter.widget-view+json": {
       "model_id": "b6baa70ecfd04222b15a751e8df8b2f5",
       "version_major": 2,
       "version_minor": 0
      },
      "text/plain": [
       "Filter:   0%|          | 0/14971 [00:00<?, ? examples/s]"
      ]
     },
     "metadata": {},
     "output_type": "display_data"
    },
    {
     "data": {
      "application/vnd.jupyter.widget-view+json": {
       "model_id": "99064c8bd9b64550b249c383da1a787d",
       "version_major": 2,
       "version_minor": 0
      },
      "text/plain": [
       "Filter:   0%|          | 0/14971 [00:00<?, ? examples/s]"
      ]
     },
     "metadata": {},
     "output_type": "display_data"
    },
    {
     "data": {
      "application/vnd.jupyter.widget-view+json": {
       "model_id": "396f82174ade4911876d151ae3a76ea3",
       "version_major": 2,
       "version_minor": 0
      },
      "text/plain": [
       "Filter:   0%|          | 0/14971 [00:00<?, ? examples/s]"
      ]
     },
     "metadata": {},
     "output_type": "display_data"
    },
    {
     "data": {
      "application/vnd.jupyter.widget-view+json": {
       "model_id": "6e1b382a5434480e8417456594758030",
       "version_major": 2,
       "version_minor": 0
      },
      "text/plain": [
       "Filter:   0%|          | 0/14971 [00:00<?, ? examples/s]"
      ]
     },
     "metadata": {},
     "output_type": "display_data"
    },
    {
     "data": {
      "application/vnd.jupyter.widget-view+json": {
       "model_id": "19c07e743cab49f2b461ad8dddbd43f7",
       "version_major": 2,
       "version_minor": 0
      },
      "text/plain": [
       "Filter:   0%|          | 0/14971 [00:00<?, ? examples/s]"
      ]
     },
     "metadata": {},
     "output_type": "display_data"
    },
    {
     "data": {
      "application/vnd.jupyter.widget-view+json": {
       "model_id": "b24139bfb96b46efb5470f5fa5698a48",
       "version_major": 2,
       "version_minor": 0
      },
      "text/plain": [
       "Filter:   0%|          | 0/14971 [00:00<?, ? examples/s]"
      ]
     },
     "metadata": {},
     "output_type": "display_data"
    },
    {
     "data": {
      "application/vnd.jupyter.widget-view+json": {
       "model_id": "088d72f89c6d44909a56abaf7986ed01",
       "version_major": 2,
       "version_minor": 0
      },
      "text/plain": [
       "Filter:   0%|          | 0/14971 [00:00<?, ? examples/s]"
      ]
     },
     "metadata": {},
     "output_type": "display_data"
    },
    {
     "data": {
      "application/vnd.jupyter.widget-view+json": {
       "model_id": "3bbbe01ae39f4b209bc7640919d2077d",
       "version_major": 2,
       "version_minor": 0
      },
      "text/plain": [
       "Filter:   0%|          | 0/14971 [00:00<?, ? examples/s]"
      ]
     },
     "metadata": {},
     "output_type": "display_data"
    },
    {
     "data": {
      "application/vnd.jupyter.widget-view+json": {
       "model_id": "6700f4cbe3b346f4bc7b86377682eb41",
       "version_major": 2,
       "version_minor": 0
      },
      "text/plain": [
       "Filter:   0%|          | 0/14971 [00:00<?, ? examples/s]"
      ]
     },
     "metadata": {},
     "output_type": "display_data"
    },
    {
     "data": {
      "application/vnd.jupyter.widget-view+json": {
       "model_id": "850ee5526bc84a408ec66d8394a98d53",
       "version_major": 2,
       "version_minor": 0
      },
      "text/plain": [
       "Filter:   0%|          | 0/14971 [00:00<?, ? examples/s]"
      ]
     },
     "metadata": {},
     "output_type": "display_data"
    },
    {
     "data": {
      "application/vnd.jupyter.widget-view+json": {
       "model_id": "c92be6d388fd4712886ce7996544629e",
       "version_major": 2,
       "version_minor": 0
      },
      "text/plain": [
       "Filter:   0%|          | 0/14971 [00:00<?, ? examples/s]"
      ]
     },
     "metadata": {},
     "output_type": "display_data"
    },
    {
     "data": {
      "application/vnd.jupyter.widget-view+json": {
       "model_id": "df7b71f5813b4b67b9d04140ba10b5c6",
       "version_major": 2,
       "version_minor": 0
      },
      "text/plain": [
       "Filter:   0%|          | 0/14971 [00:00<?, ? examples/s]"
      ]
     },
     "metadata": {},
     "output_type": "display_data"
    },
    {
     "data": {
      "application/vnd.jupyter.widget-view+json": {
       "model_id": "aaa0bf42985c4a30aa4bb18f89db4917",
       "version_major": 2,
       "version_minor": 0
      },
      "text/plain": [
       "Filter:   0%|          | 0/14971 [00:00<?, ? examples/s]"
      ]
     },
     "metadata": {},
     "output_type": "display_data"
    },
    {
     "data": {
      "application/vnd.jupyter.widget-view+json": {
       "model_id": "aefef84f3f6b40cc813c314f11eecb42",
       "version_major": 2,
       "version_minor": 0
      },
      "text/plain": [
       "Filter:   0%|          | 0/14971 [00:00<?, ? examples/s]"
      ]
     },
     "metadata": {},
     "output_type": "display_data"
    },
    {
     "data": {
      "application/vnd.jupyter.widget-view+json": {
       "model_id": "df4c02c7cfb64f3e8edda6fd8b3f57d7",
       "version_major": 2,
       "version_minor": 0
      },
      "text/plain": [
       "Filter:   0%|          | 0/14971 [00:00<?, ? examples/s]"
      ]
     },
     "metadata": {},
     "output_type": "display_data"
    },
    {
     "data": {
      "application/vnd.jupyter.widget-view+json": {
       "model_id": "ea38b18c881c446580410bee969010a2",
       "version_major": 2,
       "version_minor": 0
      },
      "text/plain": [
       "Filter:   0%|          | 0/14971 [00:00<?, ? examples/s]"
      ]
     },
     "metadata": {},
     "output_type": "display_data"
    },
    {
     "data": {
      "application/vnd.jupyter.widget-view+json": {
       "model_id": "40cf371f0ba04ff485c67f5ad6ab3a9b",
       "version_major": 2,
       "version_minor": 0
      },
      "text/plain": [
       "Filter:   0%|          | 0/14971 [00:00<?, ? examples/s]"
      ]
     },
     "metadata": {},
     "output_type": "display_data"
    },
    {
     "name": "stdout",
     "output_type": "stream",
     "text": [
      "\n",
      "Top 10 most common ebird_code labels:\n",
      "Ebird Code Count     \n",
      "--------------------\n",
      "eurbla 2659\n",
      "comcha 1906\n",
      "eurrob1 1601\n",
      "sonthr1 1594\n",
      "blackc1 1051\n",
      "comchi1 907\n",
      "blutit 563\n",
      "gretit1 504\n",
      "winwre4 462\n",
      "misthr1 405\n"
     ]
    }
   ],
   "source": [
    "# Stats for limit samples stage\n",
    "print_dataset_info(\"Unspecified Train\", load_train_dataset(\"/workspace/projects/callbird/call_type_mappings/unspecified_map\", None, filter_naive=\"/workspace/projects/callbird/blacklists/unspecified_train.txt\", limit_samples=True))\n",
    "print_dataset_info(\"Unspecified Test\", load_test_dataset(\"/workspace/projects/callbird/call_type_mappings/unspecified_map\", None, filter_naive=\"/workspace/projects/callbird/blacklists/unspecified_test.txt\", unknown_ebird_code=\"NA\", filter_unspecified=True))"
   ]
  }
 ],
 "metadata": {
  "kernelspec": {
   "display_name": "birdset-xS3fZVNL-py3.10",
   "language": "python",
   "name": "python3"
  },
  "language_info": {
   "codemirror_mode": {
    "name": "ipython",
    "version": 3
   },
   "file_extension": ".py",
   "mimetype": "text/x-python",
   "name": "python",
   "nbconvert_exporter": "python",
   "pygments_lexer": "ipython3",
   "version": "3.10.12"
  }
 },
 "nbformat": 4,
 "nbformat_minor": 5
}
