{
 "cells": [
  {
   "cell_type": "code",
   "execution_count": 1,
   "id": "5594f5ca",
   "metadata": {},
   "outputs": [],
   "source": [
    "from datasets import IterableDataset\n",
    "\n",
    "def print_dataset_info(name: str, dataset: IterableDataset):\n",
    "    trainset = dataset[\"train\"]\n",
    "\n",
    "    print(\"\")\n",
    "    print(f\"Dataset: {name}\")\n",
    "    print(f\"Number of examples in the dataset: {len(trainset)}\")\n",
    "    print(f\"Number of ebird_code labels: {len(trainset.unique('ebird_code'))}\")\n",
    "    print(f\"Number of calltype labels: {len(trainset.unique('short_call_type'))}\")\n",
    "    print(f\"Number of combined labels: {len(trainset.unique('ebird_code_and_call'))}\")\n",
    "\n",
    "    # If a calltype is None, print all features of that example\n",
    "    none_calltypes = trainset.filter(lambda x: x[\"short_call_type\"] is None)\n",
    "    if len(none_calltypes) > 0:\n",
    "        print(f\"Examples with None as calltype label: {len(none_calltypes)}\")\n",
    "        for example in none_calltypes:\n",
    "            print(example)\n",
    "        raise ValueError(\"There are examples with None as calltype label. Please fix the mapping.\")\n",
    "\n",
    "    # print table of counts for each short_call_type label\n",
    "    count_map = {}\n",
    "    for call_type in trainset.unique(\"short_call_type\"):\n",
    "        count_map[call_type] = len(trainset.filter(lambda x: x[\"short_call_type\"] == call_type))\n",
    "    print(\"\\nNumber of examples per calltype label:\")\n",
    "    print(\"{:<20} {:<10}\".format(\"Call Type\", \"Count\"))\n",
    "    print(\"-\" * 30)\n",
    "    for call_type, count in count_map.items():\n",
    "        print(f\"{call_type} {count}\")\n",
    "    \n",
    "    # print table of counts for each ebird_code label (top 10)\n",
    "    count_map = {}\n",
    "    for ebird_code in trainset.unique(\"ebird_code\"):\n",
    "        count_map[ebird_code] = len(trainset.filter(lambda x: x[\"ebird_code\"] == ebird_code))\n",
    "        sorted_count_map = dict(sorted(count_map.items(), key=lambda item: item[1], reverse=True))\n",
    "    print(\"\\nTop 10 most common ebird_code labels:\")\n",
    "    print(\"{:<10} {:<10}\".format(\"Ebird Code\", \"Count\"))\n",
    "    print(\"-\" * 20)\n",
    "    for ebird_code, count in list(sorted_count_map.items())[:10]:\n",
    "        print(f\"{ebird_code} {count}\")\n",
    "    "
   ]
  },
  {
   "cell_type": "code",
   "execution_count": null,
   "id": "3838deee",
   "metadata": {},
   "outputs": [],
   "source": [
    "from datasets import load_dataset, Features, Value\n",
    "\n",
    "original_test_dataset = load_dataset(\n",
    "    \"csv\",\n",
    "    data_files = \"/workspace/oekofor/testset/labels/*.csv\",\n",
    "    features = Features({ # TODO: Add all features available in BirdSet\n",
    "        \"ebird_code\": Value(\"string\"),\n",
    "        \"common_name\": Value(\"string\"),\n",
    "        \"vocalization_type\": Value(\"string\"),\n",
    "        \"start_time\": Value(\"float\"),\n",
    "        \"end_time\": Value(\"float\"),\n",
    "        \"audio_filename\": Value(\"string\"),\n",
    "    }),\n",
    "    cache_dir = None,\n",
    "    num_proc = 1,\n",
    "    trust_remote_code = True, # While not needed for local datasets, it is kept for consistency\n",
    ")\n",
    "\n",
    "# We need to remove None values from the 'ebird_code' column since the pipeline cannot handle them\n",
    "original_test_dataset = original_test_dataset.map(lambda x: {\"ebird_code\": x[\"ebird_code\"] if x[\"ebird_code\"] is not None else (\"UNKNOWN\" if x[\"common_name\"] == \"Bird\" else \"NA\")}) # TODO: Check if NA is an existing code\n",
    "original_test_dataset = original_test_dataset.map(lambda x: {\"vocalization_type\": x[\"vocalization_type\"] if x[\"vocalization_type\"] is not None else \"NA\"}) # TODO: Check if NA is an existing code\n",
    "original_test_dataset = original_test_dataset.map(lambda x: {\"short_call_type\": x[\"vocalization_type\"]})\n",
    "original_test_dataset = original_test_dataset.map(lambda x: { \"ebird_code_and_call\": f\"{x['ebird_code']}_{x['short_call_type']}\" })\n",
    "\n",
    "original_train_dataset = load_dataset(\n",
    "    \"csv\",\n",
    "    data_files = \"/workspace/oekofor/trainset/csvlabels/*.csv\",\n",
    "    features = Features({ # TODO: Add all features available in BirdSet\n",
    "        \"ebird_code\": Value(\"string\"),\n",
    "        \"call_type\": Value(\"string\"),\n",
    "        \"start_sample [s]\": Value(\"float\"),\n",
    "        \"end_sample [s]\": Value(\"float\"),\n",
    "        \"actual_filename\": Value(\"string\"),\n",
    "    }),\n",
    "    delimiter=\";\",\n",
    "    cache_dir = None,\n",
    "    num_proc = 1,\n",
    "    trust_remote_code = True, # While not needed for local datasets, it is kept for consistency\n",
    ")\n",
    "\n",
    "# We need to remove None values from the 'ebird_code' column since the pipeline cannot handle them\n",
    "original_train_dataset = original_train_dataset.map(lambda x: {\"ebird_code\": x[\"ebird_code\"] if x[\"ebird_code\"] is not None else \"NA\"})\n",
    "original_train_dataset = original_train_dataset.map(lambda x: {\"call_type\": x[\"call_type\"] if x[\"call_type\"] is not None else \"NA\"})\n",
    "original_train_dataset = original_train_dataset.map(lambda x: {\"short_call_type\": x[\"call_type\"]})\n",
    "original_train_dataset = original_train_dataset.map(lambda x: { \"ebird_code_and_call\": f\"{x['ebird_code']}_{x['short_call_type']}\" })\n",
    "\n",
    "print_dataset_info(\"Original Train\", original_train_dataset)\n",
    "print_dataset_info(\"Original Test\", original_test_dataset)"
   ]
  },
  {
   "cell_type": "code",
   "execution_count": 2,
   "id": "0221c59d",
   "metadata": {},
   "outputs": [],
   "source": [
    "from callbird.src.datasets.load_test_dataset import load_test_dataset\n",
    "from callbird.src.datasets.load_train_dataset import load_train_dataset"
   ]
  },
  {
   "cell_type": "code",
   "execution_count": null,
   "id": "259b46dc",
   "metadata": {},
   "outputs": [],
   "source": [
    "\n",
    "# As closely as possible to the original dataset\n",
    "print_dataset_info(\"Raw Train\", load_train_dataset(\"/workspace/projects/callbird/call_type_mappings/identity_map\", None, filter_naive=None, limit_samples=False))\n",
    "print_dataset_info(\"Raw Test\", load_test_dataset(\"/workspace/projects/callbird/call_type_mappings/identity_map\", None, filter_naive=None, unknown_ebird_code=\"NA\", filter_unspecified=False))"
   ]
  },
  {
   "cell_type": "code",
   "execution_count": null,
   "id": "51a500d1",
   "metadata": {},
   "outputs": [],
   "source": [
    "# Stats for same space stage\n",
    "print_dataset_info(\"Same Space Train\", load_train_dataset(\"/workspace/projects/callbird/call_type_mappings/same_space_map\", None, filter_naive=None, limit_samples=False))\n",
    "print_dataset_info(\"Same Space Test\", load_test_dataset(\"/workspace/projects/callbird/call_type_mappings/same_space_map\", None, filter_naive=None, unknown_ebird_code=\"NA\", filter_unspecified=False))"
   ]
  },
  {
   "cell_type": "code",
   "execution_count": null,
   "id": "ff312b87",
   "metadata": {},
   "outputs": [],
   "source": [
    "print_dataset_info(\"Same Space Train Filtered\", load_train_dataset(\"/workspace/projects/callbird/call_type_mappings/same_space_map\", None, filter_naive=\"/workspace/projects/callbird/blacklists/same_space_train.txt\", limit_samples=False))\n",
    "print_dataset_info(\"Same Space Test Filtered\", load_test_dataset(\"/workspace/projects/callbird/call_type_mappings/same_space_map\", None, filter_naive=\"/workspace/projects/callbird/blacklists/same_space_test.txt\", unknown_ebird_code=\"NA\", filter_unspecified=False))"
   ]
  },
  {
   "cell_type": "code",
   "execution_count": 3,
   "id": "ea73632f",
   "metadata": {},
   "outputs": [
    {
     "data": {
      "application/vnd.jupyter.widget-view+json": {
       "model_id": "3bcb1334274e4a22bd385a755e7bb1b5",
       "version_major": 2,
       "version_minor": 0
      },
      "text/plain": [
       "Resolving data files:   0%|          | 0/56 [00:00<?, ?it/s]"
      ]
     },
     "metadata": {},
     "output_type": "display_data"
    },
    {
     "name": "stdout",
     "output_type": "stream",
     "text": [
      "\n",
      "Dataset: Limit Samples Train\n",
      "Number of examples in the dataset: 52167\n",
      "Number of ebird_code labels: 56\n",
      "Number of calltype labels: 11\n",
      "Number of combined labels: 198\n",
      "\n",
      "Number of examples per calltype label:\n",
      "Call Type            Count     \n",
      "------------------------------\n",
      "flight 6790\n",
      "contact 10843\n",
      "drumming 4862\n",
      "other 2714\n",
      "excitement 172\n",
      "alarm 722\n",
      "sub_song 47\n",
      "NA 6005\n",
      "alarm_ground 11\n",
      "alarm_air 1\n",
      "song 20000\n",
      "\n",
      "Top 10 most common ebird_code labels:\n",
      "Ebird Code Count     \n",
      "--------------------\n",
      "NA 6000\n",
      "grswoo 5997\n",
      "eurbla 3889\n",
      "sonthr1 3687\n",
      "blawoo1 2928\n",
      "redcro 2432\n",
      "comcha 2374\n",
      "eurrob1 1890\n",
      "tawowl1 1716\n",
      "comchi1 1349\n"
     ]
    },
    {
     "data": {
      "application/vnd.jupyter.widget-view+json": {
       "model_id": "218cd19d67b94c508b22904e70c032a1",
       "version_major": 2,
       "version_minor": 0
      },
      "text/plain": [
       "Resolving data files:   0%|          | 0/153 [00:00<?, ?it/s]"
      ]
     },
     "metadata": {},
     "output_type": "display_data"
    },
    {
     "name": "stdout",
     "output_type": "stream",
     "text": [
      "\n",
      "Dataset: Limit Samples Test\n",
      "Number of examples in the dataset: 15950\n",
      "Number of ebird_code labels: 56\n",
      "Number of calltype labels: 11\n",
      "Number of combined labels: 126\n",
      "\n",
      "Number of examples per calltype label:\n",
      "Call Type            Count     \n",
      "------------------------------\n",
      "song 11033\n",
      "contact 2992\n",
      "flight 404\n",
      "NA 669\n",
      "drumming 85\n",
      "alarm 576\n",
      "alarm_ground 1\n",
      "other 1\n",
      "alarm_air 107\n",
      "excitement 41\n",
      "sub_song 41\n",
      "\n",
      "Top 10 most common ebird_code labels:\n",
      "Ebird Code Count     \n",
      "--------------------\n",
      "eurbla 2659\n",
      "comcha 1906\n",
      "eurrob1 1604\n",
      "sonthr1 1596\n",
      "blackc1 1051\n",
      "NA 955\n",
      "comchi1 907\n",
      "blutit 566\n",
      "gretit1 504\n",
      "winwre4 462\n"
     ]
    }
   ],
   "source": [
    "# Stats for limit samples stage\n",
    "print_dataset_info(\"Limit Samples Train\", load_train_dataset(\"/workspace/projects/callbird/call_type_mappings/same_space_map\", None, filter_naive=None, limit_samples=True))\n",
    "print_dataset_info(\"Limit Samples Test\", load_test_dataset(\"/workspace/projects/callbird/call_type_mappings/same_space_map\", None, filter_naive=None, unknown_ebird_code=\"NA\", filter_unspecified=False))"
   ]
  },
  {
   "cell_type": "code",
   "execution_count": 4,
   "id": "23acfd33",
   "metadata": {},
   "outputs": [
    {
     "data": {
      "application/vnd.jupyter.widget-view+json": {
       "model_id": "65dbcb6f61bc484793d63c49c02b4d11",
       "version_major": 2,
       "version_minor": 0
      },
      "text/plain": [
       "Resolving data files:   0%|          | 0/56 [00:00<?, ?it/s]"
      ]
     },
     "metadata": {},
     "output_type": "display_data"
    },
    {
     "data": {
      "application/vnd.jupyter.widget-view+json": {
       "model_id": "7b082e8957444827bf731c77d54d49f2",
       "version_major": 2,
       "version_minor": 0
      },
      "text/plain": [
       "Filter:   0%|          | 0/52167 [00:00<?, ? examples/s]"
      ]
     },
     "metadata": {},
     "output_type": "display_data"
    },
    {
     "data": {
      "application/vnd.jupyter.widget-view+json": {
       "model_id": "cdfda8846f494292b2206f00dde60464",
       "version_major": 2,
       "version_minor": 0
      },
      "text/plain": [
       "Map:   0%|          | 0/45427 [00:00<?, ? examples/s]"
      ]
     },
     "metadata": {},
     "output_type": "display_data"
    },
    {
     "data": {
      "application/vnd.jupyter.widget-view+json": {
       "model_id": "9d070304b5774b27964c1780497cda54",
       "version_major": 2,
       "version_minor": 0
      },
      "text/plain": [
       "Map:   0%|          | 0/45427 [00:00<?, ? examples/s]"
      ]
     },
     "metadata": {},
     "output_type": "display_data"
    },
    {
     "name": "stdout",
     "output_type": "stream",
     "text": [
      "\n",
      "Dataset: Limit Samples Train\n",
      "Number of examples in the dataset: 45427\n",
      "Number of ebird_code labels: 54\n",
      "Number of calltype labels: 8\n",
      "Number of combined labels: 98\n"
     ]
    },
    {
     "data": {
      "application/vnd.jupyter.widget-view+json": {
       "model_id": "a327e7c7689e4baea5246dffe15c908b",
       "version_major": 2,
       "version_minor": 0
      },
      "text/plain": [
       "Filter:   0%|          | 0/45427 [00:00<?, ? examples/s]"
      ]
     },
     "metadata": {},
     "output_type": "display_data"
    },
    {
     "data": {
      "application/vnd.jupyter.widget-view+json": {
       "model_id": "b900ce14a24e4f409f963466f95bf322",
       "version_major": 2,
       "version_minor": 0
      },
      "text/plain": [
       "Filter:   0%|          | 0/45427 [00:00<?, ? examples/s]"
      ]
     },
     "metadata": {},
     "output_type": "display_data"
    },
    {
     "data": {
      "application/vnd.jupyter.widget-view+json": {
       "model_id": "bd9535e3440f46708448e9920e833c51",
       "version_major": 2,
       "version_minor": 0
      },
      "text/plain": [
       "Filter:   0%|          | 0/45427 [00:00<?, ? examples/s]"
      ]
     },
     "metadata": {},
     "output_type": "display_data"
    },
    {
     "data": {
      "application/vnd.jupyter.widget-view+json": {
       "model_id": "9495f91052204a6a9e1c1a37729ddaae",
       "version_major": 2,
       "version_minor": 0
      },
      "text/plain": [
       "Filter:   0%|          | 0/45427 [00:00<?, ? examples/s]"
      ]
     },
     "metadata": {},
     "output_type": "display_data"
    },
    {
     "data": {
      "application/vnd.jupyter.widget-view+json": {
       "model_id": "1e6ec389575949afa4fb54d764b42514",
       "version_major": 2,
       "version_minor": 0
      },
      "text/plain": [
       "Filter:   0%|          | 0/45427 [00:00<?, ? examples/s]"
      ]
     },
     "metadata": {},
     "output_type": "display_data"
    },
    {
     "data": {
      "application/vnd.jupyter.widget-view+json": {
       "model_id": "e09a29076140409ba0ee6bd1003234a1",
       "version_major": 2,
       "version_minor": 0
      },
      "text/plain": [
       "Filter:   0%|          | 0/45427 [00:00<?, ? examples/s]"
      ]
     },
     "metadata": {},
     "output_type": "display_data"
    },
    {
     "data": {
      "application/vnd.jupyter.widget-view+json": {
       "model_id": "14d6286b209a4113acd07c875b76e55d",
       "version_major": 2,
       "version_minor": 0
      },
      "text/plain": [
       "Filter:   0%|          | 0/45427 [00:00<?, ? examples/s]"
      ]
     },
     "metadata": {},
     "output_type": "display_data"
    },
    {
     "data": {
      "application/vnd.jupyter.widget-view+json": {
       "model_id": "da7eae245eda4350881a9779fb04abf2",
       "version_major": 2,
       "version_minor": 0
      },
      "text/plain": [
       "Filter:   0%|          | 0/45427 [00:00<?, ? examples/s]"
      ]
     },
     "metadata": {},
     "output_type": "display_data"
    },
    {
     "data": {
      "application/vnd.jupyter.widget-view+json": {
       "model_id": "7cb455e3f5ef4638ada89640368aeff4",
       "version_major": 2,
       "version_minor": 0
      },
      "text/plain": [
       "Filter:   0%|          | 0/45427 [00:00<?, ? examples/s]"
      ]
     },
     "metadata": {},
     "output_type": "display_data"
    },
    {
     "name": "stdout",
     "output_type": "stream",
     "text": [
      "\n",
      "Number of examples per calltype label:\n",
      "Call Type            Count     \n",
      "------------------------------\n",
      "flight 5109\n",
      "contact 9148\n",
      "excitement 167\n",
      "alarm 556\n",
      "alarm_ground 11\n",
      "drumming 4564\n",
      "NA 6000\n",
      "song 19872\n"
     ]
    },
    {
     "data": {
      "application/vnd.jupyter.widget-view+json": {
       "model_id": "317f19807a8f4cb1b5df09de68051877",
       "version_major": 2,
       "version_minor": 0
      },
      "text/plain": [
       "Filter:   0%|          | 0/45427 [00:00<?, ? examples/s]"
      ]
     },
     "metadata": {},
     "output_type": "display_data"
    },
    {
     "data": {
      "application/vnd.jupyter.widget-view+json": {
       "model_id": "14cda8ddaada483c8afffc5f93cc237a",
       "version_major": 2,
       "version_minor": 0
      },
      "text/plain": [
       "Filter:   0%|          | 0/45427 [00:00<?, ? examples/s]"
      ]
     },
     "metadata": {},
     "output_type": "display_data"
    },
    {
     "data": {
      "application/vnd.jupyter.widget-view+json": {
       "model_id": "b682142ad683405eb7189e65e4287eec",
       "version_major": 2,
       "version_minor": 0
      },
      "text/plain": [
       "Filter:   0%|          | 0/45427 [00:00<?, ? examples/s]"
      ]
     },
     "metadata": {},
     "output_type": "display_data"
    },
    {
     "data": {
      "application/vnd.jupyter.widget-view+json": {
       "model_id": "24b23175146e43ada0b091562519f0fd",
       "version_major": 2,
       "version_minor": 0
      },
      "text/plain": [
       "Filter:   0%|          | 0/45427 [00:00<?, ? examples/s]"
      ]
     },
     "metadata": {},
     "output_type": "display_data"
    },
    {
     "data": {
      "application/vnd.jupyter.widget-view+json": {
       "model_id": "6d1d65785f3d4faf93f53e4f32f74ba5",
       "version_major": 2,
       "version_minor": 0
      },
      "text/plain": [
       "Filter:   0%|          | 0/45427 [00:00<?, ? examples/s]"
      ]
     },
     "metadata": {},
     "output_type": "display_data"
    },
    {
     "data": {
      "application/vnd.jupyter.widget-view+json": {
       "model_id": "e28c8939aa7a446e90bbf7a9b924dcb8",
       "version_major": 2,
       "version_minor": 0
      },
      "text/plain": [
       "Filter:   0%|          | 0/45427 [00:00<?, ? examples/s]"
      ]
     },
     "metadata": {},
     "output_type": "display_data"
    },
    {
     "data": {
      "application/vnd.jupyter.widget-view+json": {
       "model_id": "211d016733854b42a7db06289acae962",
       "version_major": 2,
       "version_minor": 0
      },
      "text/plain": [
       "Filter:   0%|          | 0/45427 [00:00<?, ? examples/s]"
      ]
     },
     "metadata": {},
     "output_type": "display_data"
    },
    {
     "data": {
      "application/vnd.jupyter.widget-view+json": {
       "model_id": "967b593ed4624d3d9a38ed659a45fe01",
       "version_major": 2,
       "version_minor": 0
      },
      "text/plain": [
       "Filter:   0%|          | 0/45427 [00:00<?, ? examples/s]"
      ]
     },
     "metadata": {},
     "output_type": "display_data"
    },
    {
     "data": {
      "application/vnd.jupyter.widget-view+json": {
       "model_id": "1180e8171ef54c7b8192259672928a78",
       "version_major": 2,
       "version_minor": 0
      },
      "text/plain": [
       "Filter:   0%|          | 0/45427 [00:00<?, ? examples/s]"
      ]
     },
     "metadata": {},
     "output_type": "display_data"
    },
    {
     "data": {
      "application/vnd.jupyter.widget-view+json": {
       "model_id": "50bc4dd4a8e149e2b239d4ee3e8e0014",
       "version_major": 2,
       "version_minor": 0
      },
      "text/plain": [
       "Filter:   0%|          | 0/45427 [00:00<?, ? examples/s]"
      ]
     },
     "metadata": {},
     "output_type": "display_data"
    },
    {
     "data": {
      "application/vnd.jupyter.widget-view+json": {
       "model_id": "04ae81b0ab1d4cd2a909318ba3549ca4",
       "version_major": 2,
       "version_minor": 0
      },
      "text/plain": [
       "Filter:   0%|          | 0/45427 [00:00<?, ? examples/s]"
      ]
     },
     "metadata": {},
     "output_type": "display_data"
    },
    {
     "data": {
      "application/vnd.jupyter.widget-view+json": {
       "model_id": "24a491e3fcce4f128073474b7276b368",
       "version_major": 2,
       "version_minor": 0
      },
      "text/plain": [
       "Filter:   0%|          | 0/45427 [00:00<?, ? examples/s]"
      ]
     },
     "metadata": {},
     "output_type": "display_data"
    },
    {
     "data": {
      "application/vnd.jupyter.widget-view+json": {
       "model_id": "9a08d039ddaf4fb0a37419045f9aebb6",
       "version_major": 2,
       "version_minor": 0
      },
      "text/plain": [
       "Filter:   0%|          | 0/45427 [00:00<?, ? examples/s]"
      ]
     },
     "metadata": {},
     "output_type": "display_data"
    },
    {
     "data": {
      "application/vnd.jupyter.widget-view+json": {
       "model_id": "51b716b648a1434d82b8bafc6dbccfd8",
       "version_major": 2,
       "version_minor": 0
      },
      "text/plain": [
       "Filter:   0%|          | 0/45427 [00:00<?, ? examples/s]"
      ]
     },
     "metadata": {},
     "output_type": "display_data"
    },
    {
     "data": {
      "application/vnd.jupyter.widget-view+json": {
       "model_id": "c5905e48a6134c1f9d729313f1b0069b",
       "version_major": 2,
       "version_minor": 0
      },
      "text/plain": [
       "Filter:   0%|          | 0/45427 [00:00<?, ? examples/s]"
      ]
     },
     "metadata": {},
     "output_type": "display_data"
    },
    {
     "data": {
      "application/vnd.jupyter.widget-view+json": {
       "model_id": "fb320b1f49dd4e9daced03c571f70438",
       "version_major": 2,
       "version_minor": 0
      },
      "text/plain": [
       "Filter:   0%|          | 0/45427 [00:00<?, ? examples/s]"
      ]
     },
     "metadata": {},
     "output_type": "display_data"
    },
    {
     "data": {
      "application/vnd.jupyter.widget-view+json": {
       "model_id": "463bbc1b9fb44a838eef329d4a15c8c7",
       "version_major": 2,
       "version_minor": 0
      },
      "text/plain": [
       "Filter:   0%|          | 0/45427 [00:00<?, ? examples/s]"
      ]
     },
     "metadata": {},
     "output_type": "display_data"
    },
    {
     "data": {
      "application/vnd.jupyter.widget-view+json": {
       "model_id": "a02962126e5b45ab8114c7b80b11700f",
       "version_major": 2,
       "version_minor": 0
      },
      "text/plain": [
       "Filter:   0%|          | 0/45427 [00:00<?, ? examples/s]"
      ]
     },
     "metadata": {},
     "output_type": "display_data"
    },
    {
     "data": {
      "application/vnd.jupyter.widget-view+json": {
       "model_id": "47f6cc6ada6f40d389f34b34bb7d4766",
       "version_major": 2,
       "version_minor": 0
      },
      "text/plain": [
       "Filter:   0%|          | 0/45427 [00:00<?, ? examples/s]"
      ]
     },
     "metadata": {},
     "output_type": "display_data"
    },
    {
     "data": {
      "application/vnd.jupyter.widget-view+json": {
       "model_id": "53c9f740cf4343e29af9cb8218b87fbe",
       "version_major": 2,
       "version_minor": 0
      },
      "text/plain": [
       "Filter:   0%|          | 0/45427 [00:00<?, ? examples/s]"
      ]
     },
     "metadata": {},
     "output_type": "display_data"
    },
    {
     "data": {
      "application/vnd.jupyter.widget-view+json": {
       "model_id": "5d82dcf425844d4d95b8764b9fb99593",
       "version_major": 2,
       "version_minor": 0
      },
      "text/plain": [
       "Filter:   0%|          | 0/45427 [00:00<?, ? examples/s]"
      ]
     },
     "metadata": {},
     "output_type": "display_data"
    },
    {
     "data": {
      "application/vnd.jupyter.widget-view+json": {
       "model_id": "7e823207dc32439994ef8e05c6b57918",
       "version_major": 2,
       "version_minor": 0
      },
      "text/plain": [
       "Filter:   0%|          | 0/45427 [00:00<?, ? examples/s]"
      ]
     },
     "metadata": {},
     "output_type": "display_data"
    },
    {
     "data": {
      "application/vnd.jupyter.widget-view+json": {
       "model_id": "876d26c411544deaa28b677e98280ee5",
       "version_major": 2,
       "version_minor": 0
      },
      "text/plain": [
       "Filter:   0%|          | 0/45427 [00:00<?, ? examples/s]"
      ]
     },
     "metadata": {},
     "output_type": "display_data"
    },
    {
     "data": {
      "application/vnd.jupyter.widget-view+json": {
       "model_id": "7fc6f367454249cd8089030c7b37ab34",
       "version_major": 2,
       "version_minor": 0
      },
      "text/plain": [
       "Filter:   0%|          | 0/45427 [00:00<?, ? examples/s]"
      ]
     },
     "metadata": {},
     "output_type": "display_data"
    },
    {
     "data": {
      "application/vnd.jupyter.widget-view+json": {
       "model_id": "e11a4702d2fc4d6cabf65a9aad61d9bf",
       "version_major": 2,
       "version_minor": 0
      },
      "text/plain": [
       "Filter:   0%|          | 0/45427 [00:00<?, ? examples/s]"
      ]
     },
     "metadata": {},
     "output_type": "display_data"
    },
    {
     "data": {
      "application/vnd.jupyter.widget-view+json": {
       "model_id": "9c0d27b06d444b279f6cda34112c43b9",
       "version_major": 2,
       "version_minor": 0
      },
      "text/plain": [
       "Filter:   0%|          | 0/45427 [00:00<?, ? examples/s]"
      ]
     },
     "metadata": {},
     "output_type": "display_data"
    },
    {
     "data": {
      "application/vnd.jupyter.widget-view+json": {
       "model_id": "4696ec2768ee4c0bbc9c1f481edc7164",
       "version_major": 2,
       "version_minor": 0
      },
      "text/plain": [
       "Filter:   0%|          | 0/45427 [00:00<?, ? examples/s]"
      ]
     },
     "metadata": {},
     "output_type": "display_data"
    },
    {
     "data": {
      "application/vnd.jupyter.widget-view+json": {
       "model_id": "f248b135e05c478bb5b6fd81f402f6a6",
       "version_major": 2,
       "version_minor": 0
      },
      "text/plain": [
       "Filter:   0%|          | 0/45427 [00:00<?, ? examples/s]"
      ]
     },
     "metadata": {},
     "output_type": "display_data"
    },
    {
     "data": {
      "application/vnd.jupyter.widget-view+json": {
       "model_id": "36f0a64293e94369821983a24abc1eda",
       "version_major": 2,
       "version_minor": 0
      },
      "text/plain": [
       "Filter:   0%|          | 0/45427 [00:00<?, ? examples/s]"
      ]
     },
     "metadata": {},
     "output_type": "display_data"
    },
    {
     "data": {
      "application/vnd.jupyter.widget-view+json": {
       "model_id": "aba7b45161c142b1a08b432241d98ef2",
       "version_major": 2,
       "version_minor": 0
      },
      "text/plain": [
       "Filter:   0%|          | 0/45427 [00:00<?, ? examples/s]"
      ]
     },
     "metadata": {},
     "output_type": "display_data"
    },
    {
     "data": {
      "application/vnd.jupyter.widget-view+json": {
       "model_id": "e7495a36cfcd4ed598d47cae1347bd2f",
       "version_major": 2,
       "version_minor": 0
      },
      "text/plain": [
       "Filter:   0%|          | 0/45427 [00:00<?, ? examples/s]"
      ]
     },
     "metadata": {},
     "output_type": "display_data"
    },
    {
     "data": {
      "application/vnd.jupyter.widget-view+json": {
       "model_id": "ce6531d4381f42bba59fcc54a76374ed",
       "version_major": 2,
       "version_minor": 0
      },
      "text/plain": [
       "Filter:   0%|          | 0/45427 [00:00<?, ? examples/s]"
      ]
     },
     "metadata": {},
     "output_type": "display_data"
    },
    {
     "data": {
      "application/vnd.jupyter.widget-view+json": {
       "model_id": "d2ab070565b44ba1ace35fdbeea41afe",
       "version_major": 2,
       "version_minor": 0
      },
      "text/plain": [
       "Filter:   0%|          | 0/45427 [00:00<?, ? examples/s]"
      ]
     },
     "metadata": {},
     "output_type": "display_data"
    },
    {
     "data": {
      "application/vnd.jupyter.widget-view+json": {
       "model_id": "9c04467340a14e968e485bc592a49712",
       "version_major": 2,
       "version_minor": 0
      },
      "text/plain": [
       "Filter:   0%|          | 0/45427 [00:00<?, ? examples/s]"
      ]
     },
     "metadata": {},
     "output_type": "display_data"
    },
    {
     "data": {
      "application/vnd.jupyter.widget-view+json": {
       "model_id": "60c6c9c9e42c48bfb44fb4164d016100",
       "version_major": 2,
       "version_minor": 0
      },
      "text/plain": [
       "Filter:   0%|          | 0/45427 [00:00<?, ? examples/s]"
      ]
     },
     "metadata": {},
     "output_type": "display_data"
    },
    {
     "data": {
      "application/vnd.jupyter.widget-view+json": {
       "model_id": "c183dba5e17040fa81f4d67738a152e4",
       "version_major": 2,
       "version_minor": 0
      },
      "text/plain": [
       "Filter:   0%|          | 0/45427 [00:00<?, ? examples/s]"
      ]
     },
     "metadata": {},
     "output_type": "display_data"
    },
    {
     "data": {
      "application/vnd.jupyter.widget-view+json": {
       "model_id": "0f2d8d035f974103990707c447d419bc",
       "version_major": 2,
       "version_minor": 0
      },
      "text/plain": [
       "Filter:   0%|          | 0/45427 [00:00<?, ? examples/s]"
      ]
     },
     "metadata": {},
     "output_type": "display_data"
    },
    {
     "data": {
      "application/vnd.jupyter.widget-view+json": {
       "model_id": "72934e6f8ad34b2084f64da2f102c554",
       "version_major": 2,
       "version_minor": 0
      },
      "text/plain": [
       "Filter:   0%|          | 0/45427 [00:00<?, ? examples/s]"
      ]
     },
     "metadata": {},
     "output_type": "display_data"
    },
    {
     "data": {
      "application/vnd.jupyter.widget-view+json": {
       "model_id": "9a41984d285c4d279f3f7e505b654fcd",
       "version_major": 2,
       "version_minor": 0
      },
      "text/plain": [
       "Filter:   0%|          | 0/45427 [00:00<?, ? examples/s]"
      ]
     },
     "metadata": {},
     "output_type": "display_data"
    },
    {
     "data": {
      "application/vnd.jupyter.widget-view+json": {
       "model_id": "24c5337b978543e3b3d2ac0547a37077",
       "version_major": 2,
       "version_minor": 0
      },
      "text/plain": [
       "Filter:   0%|          | 0/45427 [00:00<?, ? examples/s]"
      ]
     },
     "metadata": {},
     "output_type": "display_data"
    },
    {
     "data": {
      "application/vnd.jupyter.widget-view+json": {
       "model_id": "e245038d94fb4af7ae0ca44b11fb7193",
       "version_major": 2,
       "version_minor": 0
      },
      "text/plain": [
       "Filter:   0%|          | 0/45427 [00:00<?, ? examples/s]"
      ]
     },
     "metadata": {},
     "output_type": "display_data"
    },
    {
     "data": {
      "application/vnd.jupyter.widget-view+json": {
       "model_id": "9aa19e2f22174586b7b37b524a89a7a0",
       "version_major": 2,
       "version_minor": 0
      },
      "text/plain": [
       "Filter:   0%|          | 0/45427 [00:00<?, ? examples/s]"
      ]
     },
     "metadata": {},
     "output_type": "display_data"
    },
    {
     "data": {
      "application/vnd.jupyter.widget-view+json": {
       "model_id": "ab99d3e3c1944020b918ffabbab56d31",
       "version_major": 2,
       "version_minor": 0
      },
      "text/plain": [
       "Filter:   0%|          | 0/45427 [00:00<?, ? examples/s]"
      ]
     },
     "metadata": {},
     "output_type": "display_data"
    },
    {
     "data": {
      "application/vnd.jupyter.widget-view+json": {
       "model_id": "2545d55cd9a94b0a9e40d13991d37975",
       "version_major": 2,
       "version_minor": 0
      },
      "text/plain": [
       "Filter:   0%|          | 0/45427 [00:00<?, ? examples/s]"
      ]
     },
     "metadata": {},
     "output_type": "display_data"
    },
    {
     "data": {
      "application/vnd.jupyter.widget-view+json": {
       "model_id": "6cc4a9a7ec3a458d80c505a455fbd9ee",
       "version_major": 2,
       "version_minor": 0
      },
      "text/plain": [
       "Filter:   0%|          | 0/45427 [00:00<?, ? examples/s]"
      ]
     },
     "metadata": {},
     "output_type": "display_data"
    },
    {
     "data": {
      "application/vnd.jupyter.widget-view+json": {
       "model_id": "87533d1ef1a74cc6b17725f6b7bf882c",
       "version_major": 2,
       "version_minor": 0
      },
      "text/plain": [
       "Filter:   0%|          | 0/45427 [00:00<?, ? examples/s]"
      ]
     },
     "metadata": {},
     "output_type": "display_data"
    },
    {
     "data": {
      "application/vnd.jupyter.widget-view+json": {
       "model_id": "634e39673ae3449a8624676a9bbf1868",
       "version_major": 2,
       "version_minor": 0
      },
      "text/plain": [
       "Filter:   0%|          | 0/45427 [00:00<?, ? examples/s]"
      ]
     },
     "metadata": {},
     "output_type": "display_data"
    },
    {
     "data": {
      "application/vnd.jupyter.widget-view+json": {
       "model_id": "bbd5c5fd3ad94ece9b15220689770620",
       "version_major": 2,
       "version_minor": 0
      },
      "text/plain": [
       "Filter:   0%|          | 0/45427 [00:00<?, ? examples/s]"
      ]
     },
     "metadata": {},
     "output_type": "display_data"
    },
    {
     "data": {
      "application/vnd.jupyter.widget-view+json": {
       "model_id": "c00b42718d5949a0846f079fc74acf1c",
       "version_major": 2,
       "version_minor": 0
      },
      "text/plain": [
       "Filter:   0%|          | 0/45427 [00:00<?, ? examples/s]"
      ]
     },
     "metadata": {},
     "output_type": "display_data"
    },
    {
     "data": {
      "application/vnd.jupyter.widget-view+json": {
       "model_id": "61426f9053c94699847925dbf43e5999",
       "version_major": 2,
       "version_minor": 0
      },
      "text/plain": [
       "Filter:   0%|          | 0/45427 [00:00<?, ? examples/s]"
      ]
     },
     "metadata": {},
     "output_type": "display_data"
    },
    {
     "data": {
      "application/vnd.jupyter.widget-view+json": {
       "model_id": "49953b66c0214c06bbc2170c0b436c2a",
       "version_major": 2,
       "version_minor": 0
      },
      "text/plain": [
       "Filter:   0%|          | 0/45427 [00:00<?, ? examples/s]"
      ]
     },
     "metadata": {},
     "output_type": "display_data"
    },
    {
     "data": {
      "application/vnd.jupyter.widget-view+json": {
       "model_id": "7699bac2a7a4409eac2c84837f38e456",
       "version_major": 2,
       "version_minor": 0
      },
      "text/plain": [
       "Filter:   0%|          | 0/45427 [00:00<?, ? examples/s]"
      ]
     },
     "metadata": {},
     "output_type": "display_data"
    },
    {
     "data": {
      "application/vnd.jupyter.widget-view+json": {
       "model_id": "fc753561724947fea3168293594534af",
       "version_major": 2,
       "version_minor": 0
      },
      "text/plain": [
       "Filter:   0%|          | 0/45427 [00:00<?, ? examples/s]"
      ]
     },
     "metadata": {},
     "output_type": "display_data"
    },
    {
     "data": {
      "application/vnd.jupyter.widget-view+json": {
       "model_id": "0e5cda193e8d4a52a19d83ba5daec2db",
       "version_major": 2,
       "version_minor": 0
      },
      "text/plain": [
       "Filter:   0%|          | 0/45427 [00:00<?, ? examples/s]"
      ]
     },
     "metadata": {},
     "output_type": "display_data"
    },
    {
     "name": "stdout",
     "output_type": "stream",
     "text": [
      "\n",
      "Top 10 most common ebird_code labels:\n",
      "Ebird Code Count     \n",
      "--------------------\n",
      "NA 6000\n",
      "grswoo 5974\n",
      "eurbla 3067\n",
      "sonthr1 2833\n",
      "blawoo1 2625\n",
      "redcro 2390\n",
      "comcha 2374\n",
      "eurrob1 1554\n",
      "comchi1 1344\n",
      "gretit1 1068\n"
     ]
    },
    {
     "data": {
      "application/vnd.jupyter.widget-view+json": {
       "model_id": "fe70255330834ea29a26aa60fe1c0eac",
       "version_major": 2,
       "version_minor": 0
      },
      "text/plain": [
       "Resolving data files:   0%|          | 0/153 [00:00<?, ?it/s]"
      ]
     },
     "metadata": {},
     "output_type": "display_data"
    },
    {
     "name": "stdout",
     "output_type": "stream",
     "text": [
      "\n",
      "Dataset: Limit Samples Test\n",
      "Number of examples in the dataset: 15552\n",
      "Number of ebird_code labels: 54\n",
      "Number of calltype labels: 8\n",
      "Number of combined labels: 98\n",
      "\n",
      "Number of examples per calltype label:\n",
      "Call Type            Count     \n",
      "------------------------------\n",
      "song 11017\n",
      "contact 2841\n",
      "flight 402\n",
      "NA 636\n",
      "drumming 82\n",
      "alarm 532\n",
      "alarm_ground 1\n",
      "excitement 41\n",
      "\n",
      "Top 10 most common ebird_code labels:\n",
      "Ebird Code Count     \n",
      "--------------------\n",
      "eurbla 2659\n",
      "comcha 1875\n",
      "eurrob1 1601\n",
      "sonthr1 1594\n",
      "blackc1 1051\n",
      "comchi1 907\n",
      "NA 636\n",
      "blutit 563\n",
      "gretit1 504\n",
      "winwre4 462\n"
     ]
    }
   ],
   "source": [
    "# Stats for limit samples stage\n",
    "print_dataset_info(\"Limit Samples Train\", load_train_dataset(\"/workspace/projects/callbird/call_type_mappings/same_space_map\", None, filter_naive=\"/workspace/projects/callbird/blacklists/limit_samples_train.txt\", limit_samples=True))\n",
    "print_dataset_info(\"Limit Samples Test\", load_test_dataset(\"/workspace/projects/callbird/call_type_mappings/same_space_map\", None, filter_naive=\"/workspace/projects/callbird/blacklists/limit_samples_test.txt\", unknown_ebird_code=\"NA\", filter_unspecified=False))"
   ]
  },
  {
   "cell_type": "code",
   "execution_count": 5,
   "id": "79333258",
   "metadata": {},
   "outputs": [
    {
     "data": {
      "application/vnd.jupyter.widget-view+json": {
       "model_id": "175fece4d72c4aa782276e37e5245866",
       "version_major": 2,
       "version_minor": 0
      },
      "text/plain": [
       "Resolving data files:   0%|          | 0/56 [00:00<?, ?it/s]"
      ]
     },
     "metadata": {},
     "output_type": "display_data"
    },
    {
     "name": "stdout",
     "output_type": "stream",
     "text": [
      "\n",
      "Dataset: Alarm Umbrella Class Train\n",
      "Number of examples in the dataset: 45427\n",
      "Number of ebird_code labels: 54\n",
      "Number of calltype labels: 7\n",
      "Number of combined labels: 97\n",
      "\n",
      "Number of examples per calltype label:\n",
      "Call Type            Count     \n",
      "------------------------------\n",
      "flight 5109\n",
      "contact 9148\n",
      "excitement 167\n",
      "alarm 567\n",
      "drumming 4564\n",
      "NA 6000\n",
      "song 19872\n",
      "\n",
      "Top 10 most common ebird_code labels:\n",
      "Ebird Code Count     \n",
      "--------------------\n",
      "NA 6000\n",
      "grswoo 5974\n",
      "eurbla 3067\n",
      "sonthr1 2833\n",
      "blawoo1 2625\n",
      "redcro 2390\n",
      "comcha 2374\n",
      "eurrob1 1554\n",
      "comchi1 1344\n",
      "gretit1 1068\n"
     ]
    },
    {
     "data": {
      "application/vnd.jupyter.widget-view+json": {
       "model_id": "68a84465a01e454e8249f4d2bb548fc1",
       "version_major": 2,
       "version_minor": 0
      },
      "text/plain": [
       "Resolving data files:   0%|          | 0/153 [00:00<?, ?it/s]"
      ]
     },
     "metadata": {},
     "output_type": "display_data"
    },
    {
     "name": "stdout",
     "output_type": "stream",
     "text": [
      "\n",
      "Dataset: Alarm Umbrella Class Test\n",
      "Number of examples in the dataset: 15552\n",
      "Number of ebird_code labels: 54\n",
      "Number of calltype labels: 7\n",
      "Number of combined labels: 97\n",
      "\n",
      "Number of examples per calltype label:\n",
      "Call Type            Count     \n",
      "------------------------------\n",
      "song 11017\n",
      "contact 2841\n",
      "flight 402\n",
      "NA 636\n",
      "drumming 82\n",
      "alarm 533\n",
      "excitement 41\n",
      "\n",
      "Top 10 most common ebird_code labels:\n",
      "Ebird Code Count     \n",
      "--------------------\n",
      "eurbla 2659\n",
      "comcha 1875\n",
      "eurrob1 1601\n",
      "sonthr1 1594\n",
      "blackc1 1051\n",
      "comchi1 907\n",
      "NA 636\n",
      "blutit 563\n",
      "gretit1 504\n",
      "winwre4 462\n"
     ]
    }
   ],
   "source": [
    "# Stats for limit samples stage\n",
    "print_dataset_info(\"Alarm Umbrella Class Train\", load_train_dataset(\"/workspace/projects/callbird/call_type_mappings/alarm_merge_map\", None, filter_naive=\"/workspace/projects/callbird/blacklists/alarm_merge_train.txt\", limit_samples=True))\n",
    "print_dataset_info(\"Alarm Umbrella Class Test\", load_test_dataset(\"/workspace/projects/callbird/call_type_mappings/alarm_merge_map\", None, filter_naive=\"/workspace/projects/callbird/blacklists/alarm_merge_test.txt\", unknown_ebird_code=\"NA\", filter_unspecified=False))"
   ]
  },
  {
   "cell_type": "code",
   "execution_count": null,
   "id": "844e1d0a",
   "metadata": {},
   "outputs": [],
   "source": [
    "# Stats for limit samples stage\n",
    "print_dataset_info(\"Song Merge Train\", load_train_dataset(\"/workspace/projects/callbird/call_type_mappings/song_merge_map\", None, filter_naive=\"/workspace/projects/callbird/blacklists/song_merge_train.txt\", limit_samples=True))\n",
    "print_dataset_info(\"Song Merge Test\", load_test_dataset(\"/workspace/projects/callbird/call_type_mappings/song_merge_map\", None, filter_naive=\"/workspace/projects/callbird/blacklists/song_merge_test.txt\", unknown_ebird_code=\"NA\", filter_unspecified=False))"
   ]
  }
 ],
 "metadata": {
  "kernelspec": {
   "display_name": "birdset-xS3fZVNL-py3.10",
   "language": "python",
   "name": "python3"
  },
  "language_info": {
   "codemirror_mode": {
    "name": "ipython",
    "version": 3
   },
   "file_extension": ".py",
   "mimetype": "text/x-python",
   "name": "python",
   "nbconvert_exporter": "python",
   "pygments_lexer": "ipython3",
   "version": "3.10.12"
  }
 },
 "nbformat": 4,
 "nbformat_minor": 5
}
