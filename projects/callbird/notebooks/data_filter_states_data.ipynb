{
 "cells": [
  {
   "cell_type": "code",
   "execution_count": 1,
   "id": "5594f5ca",
   "metadata": {},
   "outputs": [],
   "source": [
    "from datasets import IterableDataset\n",
    "\n",
    "def print_dataset_info(name: str, dataset: IterableDataset):\n",
    "    trainset = dataset[\"train\"]\n",
    "\n",
    "    print(\"\")\n",
    "    print(f\"Dataset: {name}\")\n",
    "    print(f\"Number of examples in the dataset: {len(trainset)}\")\n",
    "    print(f\"Number of ebird_code labels: {len(trainset.unique('ebird_code'))}\")\n",
    "    print(f\"Number of calltype labels: {len(trainset.unique('short_call_type'))}\")\n",
    "    print(f\"Number of combined labels: {len(trainset.unique('ebird_code_and_call'))}\")\n",
    "\n",
    "    # If a calltype is None, print all features of that example\n",
    "    none_calltypes = trainset.filter(lambda x: x[\"short_call_type\"] is None)\n",
    "    if len(none_calltypes) > 0:\n",
    "        print(f\"Examples with None as calltype label: {len(none_calltypes)}\")\n",
    "        for example in none_calltypes:\n",
    "            print(example)\n",
    "        raise ValueError(\"There are examples with None as calltype label. Please fix the mapping.\")\n",
    "\n",
    "    # print table of counts for each short_call_type label\n",
    "    count_map = {}\n",
    "    for call_type in trainset.unique(\"short_call_type\"):\n",
    "        count_map[call_type] = len(trainset.filter(lambda x: x[\"short_call_type\"] == call_type))\n",
    "    print(\"\\nNumber of examples per calltype label:\")\n",
    "    print(\"{:<20} {:<10}\".format(\"Call Type\", \"Count\"))\n",
    "    print(\"-\" * 30)\n",
    "    for call_type, count in count_map.items():\n",
    "        print(f\"{call_type} {count}\")\n",
    "    \n",
    "    # print table of counts for each ebird_code label (top 10)\n",
    "    count_map = {}\n",
    "    for ebird_code in trainset.unique(\"ebird_code\"):\n",
    "        count_map[ebird_code] = len(trainset.filter(lambda x: x[\"ebird_code\"] == ebird_code))\n",
    "        sorted_count_map = dict(sorted(count_map.items(), key=lambda item: item[1], reverse=True))\n",
    "    print(\"\\nTop 10 most common ebird_code labels:\")\n",
    "    print(\"{:<10} {:<10}\".format(\"Ebird Code\", \"Count\"))\n",
    "    print(\"-\" * 20)\n",
    "    for ebird_code, count in list(sorted_count_map.items())[:10]:\n",
    "        print(f\"{ebird_code} {count}\")\n",
    "    "
   ]
  },
  {
   "cell_type": "code",
   "execution_count": 2,
   "id": "3838deee",
   "metadata": {},
   "outputs": [
    {
     "data": {
      "application/vnd.jupyter.widget-view+json": {
       "model_id": "eb82cb4af94a4dc5a628cd621e12da55",
       "version_major": 2,
       "version_minor": 0
      },
      "text/plain": [
       "Resolving data files:   0%|          | 0/153 [00:00<?, ?it/s]"
      ]
     },
     "metadata": {},
     "output_type": "display_data"
    },
    {
     "data": {
      "application/vnd.jupyter.widget-view+json": {
       "model_id": "b4e0fe2fccb64bafb57f322ef3f867c8",
       "version_major": 2,
       "version_minor": 0
      },
      "text/plain": [
       "Resolving data files:   0%|          | 0/56 [00:00<?, ?it/s]"
      ]
     },
     "metadata": {},
     "output_type": "display_data"
    },
    {
     "name": "stdout",
     "output_type": "stream",
     "text": [
      "\n",
      "Dataset: Original Train\n",
      "Number of examples in the dataset: 91771\n",
      "Number of ebird_code labels: 56\n",
      "Number of calltype labels: 15\n",
      "Number of combined labels: 212\n",
      "\n",
      "Number of examples per calltype label:\n",
      "Call Type            Count     \n",
      "------------------------------\n",
      "f (Flugruf) 6790\n",
      "c (Kontaktruf) 10972\n",
      "s (Gesang) 34755\n",
      "t (Trommeln) 5266\n",
      "b (Bettelruf) 232\n",
      "e (Erregungsruf) 172\n",
      "ic (Interaktionsrufe) 10\n",
      "ac (Alarmruf) 722\n",
      "s2 (Zweitgesang) 47\n",
      "wb (Fluegelschlag) 5\n",
      "nfc (Nachtzugruf) 1768\n",
      "rs (Rufe am Schlafplatz) 704\n",
      "ac_b (Alarmruf_Bodenfeinde) 11\n",
      "ac_f (Alarmruf Luftfeinde) 1\n",
      "NA 30316\n",
      "\n",
      "Top 10 most common ebird_code labels:\n",
      "Ebird Code Count     \n",
      "--------------------\n",
      "NA 30316\n",
      "grswoo 6535\n",
      "eurbla 5579\n",
      "sonthr1 5527\n",
      "comcha 3214\n",
      "blawoo1 3119\n",
      "eurrob1 2688\n",
      "redcro 2462\n",
      "tawowl1 2305\n",
      "comchi1 2184\n",
      "\n",
      "Dataset: Original Test\n",
      "Number of examples in the dataset: 16020\n",
      "Number of ebird_code labels: 61\n",
      "Number of calltype labels: 13\n",
      "Number of combined labels: 137\n",
      "\n",
      "Number of examples per calltype label:\n",
      "Call Type            Count     \n",
      "------------------------------\n",
      "song 11078\n",
      "contact call 3006\n",
      "flight call 411\n",
      "something 651\n",
      "drumming 85\n",
      "alarm call 592\n",
      "vocal 1\n",
      "ground alarm call 1\n",
      "call 5\n",
      "whistle 1\n",
      "air alarm call 107\n",
      "excitement call 41\n",
      "sub song 41\n",
      "\n",
      "Top 10 most common ebird_code labels:\n",
      "Ebird Code Count     \n",
      "--------------------\n",
      "eurbla 2659\n",
      "comcha 1906\n",
      "eurrob1 1604\n",
      "sonthr1 1596\n",
      "blackc1 1051\n",
      "UNKNOWN 941\n",
      "comchi1 907\n",
      "blutit 566\n",
      "gretit1 504\n",
      "winwre4 462\n"
     ]
    }
   ],
   "source": [
    "from datasets import load_dataset, Features, Value\n",
    "\n",
    "original_test_dataset = load_dataset(\n",
    "    \"csv\",\n",
    "    data_files = \"/workspace/oekofor/testset/labels/*.csv\",\n",
    "    features = Features({ # TODO: Add all features available in BirdSet\n",
    "        \"ebird_code\": Value(\"string\"),\n",
    "        \"common_name\": Value(\"string\"),\n",
    "        \"vocalization_type\": Value(\"string\"),\n",
    "        \"start_time\": Value(\"float\"),\n",
    "        \"end_time\": Value(\"float\"),\n",
    "        \"audio_filename\": Value(\"string\"),\n",
    "    }),\n",
    "    cache_dir = None,\n",
    "    num_proc = 1,\n",
    "    trust_remote_code = True, # While not needed for local datasets, it is kept for consistency\n",
    ")\n",
    "\n",
    "# We need to remove None values from the 'ebird_code' column since the pipeline cannot handle them\n",
    "original_test_dataset = original_test_dataset.map(lambda x: {\"ebird_code\": x[\"ebird_code\"] if x[\"ebird_code\"] is not None else (\"UNKNOWN\" if x[\"common_name\"] == \"Bird\" else \"NA\")}) # TODO: Check if NA is an existing code\n",
    "original_test_dataset = original_test_dataset.map(lambda x: {\"vocalization_type\": x[\"vocalization_type\"] if x[\"vocalization_type\"] is not None else \"NA\"}) # TODO: Check if NA is an existing code\n",
    "original_test_dataset = original_test_dataset.map(lambda x: {\"short_call_type\": x[\"vocalization_type\"]})\n",
    "original_test_dataset = original_test_dataset.map(lambda x: { \"ebird_code_and_call\": f\"{x['ebird_code']}_{x['short_call_type']}\" })\n",
    "\n",
    "original_train_dataset = load_dataset(\n",
    "    \"csv\",\n",
    "    data_files = \"/workspace/oekofor/trainset/csvlabels/*.csv\",\n",
    "    features = Features({ # TODO: Add all features available in BirdSet\n",
    "        \"ebird_code\": Value(\"string\"),\n",
    "        \"call_type\": Value(\"string\"),\n",
    "        \"start_sample [s]\": Value(\"float\"),\n",
    "        \"end_sample [s]\": Value(\"float\"),\n",
    "        \"actual_filename\": Value(\"string\"),\n",
    "    }),\n",
    "    delimiter=\";\",\n",
    "    cache_dir = None,\n",
    "    num_proc = 1,\n",
    "    trust_remote_code = True, # While not needed for local datasets, it is kept for consistency\n",
    ")\n",
    "\n",
    "# We need to remove None values from the 'ebird_code' column since the pipeline cannot handle them\n",
    "original_train_dataset = original_train_dataset.map(lambda x: {\"ebird_code\": x[\"ebird_code\"] if x[\"ebird_code\"] is not None else \"NA\"})\n",
    "original_train_dataset = original_train_dataset.map(lambda x: {\"call_type\": x[\"call_type\"] if x[\"call_type\"] is not None else \"NA\"})\n",
    "original_train_dataset = original_train_dataset.map(lambda x: {\"short_call_type\": x[\"call_type\"]})\n",
    "original_train_dataset = original_train_dataset.map(lambda x: { \"ebird_code_and_call\": f\"{x['ebird_code']}_{x['short_call_type']}\" })\n",
    "\n",
    "print_dataset_info(\"Original Train\", original_train_dataset)\n",
    "print_dataset_info(\"Original Test\", original_test_dataset)"
   ]
  },
  {
   "cell_type": "code",
   "execution_count": 3,
   "id": "0221c59d",
   "metadata": {},
   "outputs": [],
   "source": [
    "from callbird.src.datasets.load_test_dataset import load_test_dataset\n",
    "from callbird.src.datasets.load_train_dataset import load_train_dataset"
   ]
  },
  {
   "cell_type": "code",
   "execution_count": null,
   "id": "259b46dc",
   "metadata": {},
   "outputs": [],
   "source": [
    "\n",
    "# As closely as possible to the original dataset\n",
    "print_dataset_info(\"Raw Train\", load_train_dataset(\"/workspace/projects/callbird/call_type_mappings/identity_map\", None, filter_naive=None, limit_samples=False))\n",
    "print_dataset_info(\"Raw Test\", load_test_dataset(\"/workspace/projects/callbird/call_type_mappings/identity_map\", None, filter_naive=None, unknown_ebird_code=\"NA\", filter_unspecified=False))"
   ]
  },
  {
   "cell_type": "code",
   "execution_count": null,
   "id": "51a500d1",
   "metadata": {},
   "outputs": [],
   "source": [
    "# Stats for same space stage\n",
    "print_dataset_info(\"Same Space Train\", load_train_dataset(\"/workspace/projects/callbird/call_type_mappings/same_space_map\", None, filter_naive=None, limit_samples=False))\n",
    "print_dataset_info(\"Same Space Test\", load_test_dataset(\"/workspace/projects/callbird/call_type_mappings/same_space_map\", None, filter_naive=None, unknown_ebird_code=\"NA\", filter_unspecified=False))"
   ]
  },
  {
   "cell_type": "code",
   "execution_count": 4,
   "id": "ff312b87",
   "metadata": {},
   "outputs": [
    {
     "data": {
      "application/vnd.jupyter.widget-view+json": {
       "model_id": "25df7e39d79341be95ecd80cc7a8550a",
       "version_major": 2,
       "version_minor": 0
      },
      "text/plain": [
       "Resolving data files:   0%|          | 0/56 [00:00<?, ?it/s]"
      ]
     },
     "metadata": {},
     "output_type": "display_data"
    },
    {
     "name": "stdout",
     "output_type": "stream",
     "text": [
      "\n",
      "Dataset: Same Space Train Filtered\n",
      "Number of examples in the dataset: 84933\n",
      "Number of ebird_code labels: 54\n",
      "Number of calltype labels: 8\n",
      "Number of combined labels: 98\n",
      "\n",
      "Number of examples per calltype label:\n",
      "Call Type            Count     \n",
      "------------------------------\n",
      "flight 5109\n",
      "contact 9277\n",
      "song 34529\n",
      "excitement 167\n",
      "alarm 556\n",
      "alarm_ground 11\n",
      "drumming 4968\n",
      "NA 30316\n",
      "\n",
      "Top 10 most common ebird_code labels:\n",
      "Ebird Code Count     \n",
      "--------------------\n",
      "NA 30316\n",
      "grswoo 6507\n",
      "eurbla 4757\n",
      "sonthr1 4673\n",
      "comcha 3214\n",
      "blawoo1 2816\n",
      "redcro 2420\n",
      "eurrob1 2352\n",
      "comchi1 2179\n",
      "eugwoo2 1709\n"
     ]
    },
    {
     "data": {
      "application/vnd.jupyter.widget-view+json": {
       "model_id": "f2a01718ac7443a79999e56c709ecc35",
       "version_major": 2,
       "version_minor": 0
      },
      "text/plain": [
       "Resolving data files:   0%|          | 0/153 [00:00<?, ?it/s]"
      ]
     },
     "metadata": {},
     "output_type": "display_data"
    },
    {
     "name": "stdout",
     "output_type": "stream",
     "text": [
      "\n",
      "Dataset: Same Space Test Filtered\n",
      "Number of examples in the dataset: 15552\n",
      "Number of ebird_code labels: 54\n",
      "Number of calltype labels: 8\n",
      "Number of combined labels: 98\n",
      "\n",
      "Number of examples per calltype label:\n",
      "Call Type            Count     \n",
      "------------------------------\n",
      "song 11017\n",
      "contact 2841\n",
      "flight 402\n",
      "NA 636\n",
      "drumming 82\n",
      "alarm 532\n",
      "alarm_ground 1\n",
      "excitement 41\n",
      "\n",
      "Top 10 most common ebird_code labels:\n",
      "Ebird Code Count     \n",
      "--------------------\n",
      "eurbla 2659\n",
      "comcha 1875\n",
      "eurrob1 1601\n",
      "sonthr1 1594\n",
      "blackc1 1051\n",
      "comchi1 907\n",
      "NA 636\n",
      "blutit 563\n",
      "gretit1 504\n",
      "winwre4 462\n"
     ]
    }
   ],
   "source": [
    "print_dataset_info(\"Same Space Train Filtered\", load_train_dataset(\"/workspace/projects/callbird/call_type_mappings/same_space_map\", None, filter_naive=\"/workspace/projects/callbird/blacklists/same_space_train.txt\", limit_samples=False))\n",
    "print_dataset_info(\"Same Space Test Filtered\", load_test_dataset(\"/workspace/projects/callbird/call_type_mappings/same_space_map\", None, filter_naive=\"/workspace/projects/callbird/blacklists/same_space_test.txt\", unknown_ebird_code=\"NA\", filter_unspecified=False))"
   ]
  },
  {
   "cell_type": "code",
   "execution_count": null,
   "id": "ea73632f",
   "metadata": {},
   "outputs": [],
   "source": [
    "# Stats for limit samples stage\n",
    "print_dataset_info(\"Limit Samples Train\", load_train_dataset(\"/workspace/projects/callbird/call_type_mappings/same_space_map\", None, filter_naive=None, limit_samples=True))\n",
    "print_dataset_info(\"Limit Samples Test\", load_test_dataset(\"/workspace/projects/callbird/call_type_mappings/same_space_map\", None, filter_naive=None, unknown_ebird_code=\"NA\", filter_unspecified=False))"
   ]
  },
  {
   "cell_type": "code",
   "execution_count": 5,
   "id": "23acfd33",
   "metadata": {},
   "outputs": [
    {
     "data": {
      "application/vnd.jupyter.widget-view+json": {
       "model_id": "c08b1e59edfe4a3da895f7f135b711f4",
       "version_major": 2,
       "version_minor": 0
      },
      "text/plain": [
       "Resolving data files:   0%|          | 0/56 [00:00<?, ?it/s]"
      ]
     },
     "metadata": {},
     "output_type": "display_data"
    },
    {
     "name": "stdout",
     "output_type": "stream",
     "text": [
      "\n",
      "Dataset: Limit Samples Train\n",
      "Number of examples in the dataset: 45427\n",
      "Number of ebird_code labels: 54\n",
      "Number of calltype labels: 8\n",
      "Number of combined labels: 98\n",
      "\n",
      "Number of examples per calltype label:\n",
      "Call Type            Count     \n",
      "------------------------------\n",
      "flight 5109\n",
      "contact 9148\n",
      "excitement 167\n",
      "alarm 556\n",
      "alarm_ground 11\n",
      "drumming 4564\n",
      "NA 6000\n",
      "song 19872\n",
      "\n",
      "Top 10 most common ebird_code labels:\n",
      "Ebird Code Count     \n",
      "--------------------\n",
      "NA 6000\n",
      "grswoo 5974\n",
      "eurbla 3067\n",
      "sonthr1 2833\n",
      "blawoo1 2625\n",
      "redcro 2390\n",
      "comcha 2374\n",
      "eurrob1 1554\n",
      "comchi1 1344\n",
      "gretit1 1068\n"
     ]
    },
    {
     "data": {
      "application/vnd.jupyter.widget-view+json": {
       "model_id": "44f41271d0b145f3a13577867d6de9cc",
       "version_major": 2,
       "version_minor": 0
      },
      "text/plain": [
       "Resolving data files:   0%|          | 0/153 [00:00<?, ?it/s]"
      ]
     },
     "metadata": {},
     "output_type": "display_data"
    },
    {
     "name": "stdout",
     "output_type": "stream",
     "text": [
      "\n",
      "Dataset: Limit Samples Test\n",
      "Number of examples in the dataset: 15552\n",
      "Number of ebird_code labels: 54\n",
      "Number of calltype labels: 8\n",
      "Number of combined labels: 98\n",
      "\n",
      "Number of examples per calltype label:\n",
      "Call Type            Count     \n",
      "------------------------------\n",
      "song 11017\n",
      "contact 2841\n",
      "flight 402\n",
      "NA 636\n",
      "drumming 82\n",
      "alarm 532\n",
      "alarm_ground 1\n",
      "excitement 41\n",
      "\n",
      "Top 10 most common ebird_code labels:\n",
      "Ebird Code Count     \n",
      "--------------------\n",
      "eurbla 2659\n",
      "comcha 1875\n",
      "eurrob1 1601\n",
      "sonthr1 1594\n",
      "blackc1 1051\n",
      "comchi1 907\n",
      "NA 636\n",
      "blutit 563\n",
      "gretit1 504\n",
      "winwre4 462\n"
     ]
    }
   ],
   "source": [
    "# Stats for limit samples stage\n",
    "print_dataset_info(\"Limit Samples Train\", load_train_dataset(\"/workspace/projects/callbird/call_type_mappings/same_space_map\", None, filter_naive=\"/workspace/projects/callbird/blacklists/limit_samples_train.txt\", limit_samples=True))\n",
    "print_dataset_info(\"Limit Samples Test\", load_test_dataset(\"/workspace/projects/callbird/call_type_mappings/same_space_map\", None, filter_naive=\"/workspace/projects/callbird/blacklists/limit_samples_test.txt\", unknown_ebird_code=\"NA\", filter_unspecified=False))"
   ]
  },
  {
   "cell_type": "code",
   "execution_count": 6,
   "id": "79333258",
   "metadata": {},
   "outputs": [
    {
     "data": {
      "application/vnd.jupyter.widget-view+json": {
       "model_id": "b4c424ed270b42ff8272aa516b1f12d0",
       "version_major": 2,
       "version_minor": 0
      },
      "text/plain": [
       "Resolving data files:   0%|          | 0/56 [00:00<?, ?it/s]"
      ]
     },
     "metadata": {},
     "output_type": "display_data"
    },
    {
     "name": "stdout",
     "output_type": "stream",
     "text": [
      "\n",
      "Dataset: Alarm Umbrella Class Train\n",
      "Number of examples in the dataset: 45427\n",
      "Number of ebird_code labels: 54\n",
      "Number of calltype labels: 7\n",
      "Number of combined labels: 97\n",
      "\n",
      "Number of examples per calltype label:\n",
      "Call Type            Count     \n",
      "------------------------------\n",
      "flight 5109\n",
      "contact 9148\n",
      "excitement 167\n",
      "alarm 567\n",
      "drumming 4564\n",
      "NA 6000\n",
      "song 19872\n",
      "\n",
      "Top 10 most common ebird_code labels:\n",
      "Ebird Code Count     \n",
      "--------------------\n",
      "NA 6000\n",
      "grswoo 5974\n",
      "eurbla 3067\n",
      "sonthr1 2833\n",
      "blawoo1 2625\n",
      "redcro 2390\n",
      "comcha 2374\n",
      "eurrob1 1554\n",
      "comchi1 1344\n",
      "gretit1 1068\n"
     ]
    },
    {
     "data": {
      "application/vnd.jupyter.widget-view+json": {
       "model_id": "cc6887a4327048a68fa1dcbf4f319752",
       "version_major": 2,
       "version_minor": 0
      },
      "text/plain": [
       "Resolving data files:   0%|          | 0/153 [00:00<?, ?it/s]"
      ]
     },
     "metadata": {},
     "output_type": "display_data"
    },
    {
     "name": "stdout",
     "output_type": "stream",
     "text": [
      "\n",
      "Dataset: Alarm Umbrella Class Test\n",
      "Number of examples in the dataset: 15552\n",
      "Number of ebird_code labels: 54\n",
      "Number of calltype labels: 7\n",
      "Number of combined labels: 97\n",
      "\n",
      "Number of examples per calltype label:\n",
      "Call Type            Count     \n",
      "------------------------------\n",
      "song 11017\n",
      "contact 2841\n",
      "flight 402\n",
      "NA 636\n",
      "drumming 82\n",
      "alarm 533\n",
      "excitement 41\n",
      "\n",
      "Top 10 most common ebird_code labels:\n",
      "Ebird Code Count     \n",
      "--------------------\n",
      "eurbla 2659\n",
      "comcha 1875\n",
      "eurrob1 1601\n",
      "sonthr1 1594\n",
      "blackc1 1051\n",
      "comchi1 907\n",
      "NA 636\n",
      "blutit 563\n",
      "gretit1 504\n",
      "winwre4 462\n"
     ]
    }
   ],
   "source": [
    "# Stats for limit samples stage\n",
    "print_dataset_info(\"Alarm Umbrella Class Train\", load_train_dataset(\"/workspace/projects/callbird/call_type_mappings/alarm_merge_map\", None, filter_naive=\"/workspace/projects/callbird/blacklists/alarm_merge_train.txt\", limit_samples=True))\n",
    "print_dataset_info(\"Alarm Umbrella Class Test\", load_test_dataset(\"/workspace/projects/callbird/call_type_mappings/alarm_merge_map\", None, filter_naive=\"/workspace/projects/callbird/blacklists/alarm_merge_test.txt\", unknown_ebird_code=\"NA\", filter_unspecified=False))"
   ]
  },
  {
   "cell_type": "code",
   "execution_count": 7,
   "id": "844e1d0a",
   "metadata": {},
   "outputs": [
    {
     "data": {
      "application/vnd.jupyter.widget-view+json": {
       "model_id": "fddfb0f797d644598c9804dab95a8873",
       "version_major": 2,
       "version_minor": 0
      },
      "text/plain": [
       "Resolving data files:   0%|          | 0/56 [00:00<?, ?it/s]"
      ]
     },
     "metadata": {},
     "output_type": "display_data"
    },
    {
     "name": "stdout",
     "output_type": "stream",
     "text": [
      "\n",
      "Dataset: Song Merge Train\n",
      "Number of examples in the dataset: 45474\n",
      "Number of ebird_code labels: 54\n",
      "Number of calltype labels: 8\n",
      "Number of combined labels: 98\n",
      "\n",
      "Number of examples per calltype label:\n",
      "Call Type            Count     \n",
      "------------------------------\n",
      "flight 5109\n",
      "contact 9148\n",
      "excitement 167\n",
      "alarm 556\n",
      "song 19919\n",
      "alarm_ground 11\n",
      "drumming 4564\n",
      "NA 6000\n",
      "\n",
      "Top 10 most common ebird_code labels:\n",
      "Ebird Code Count     \n",
      "--------------------\n",
      "NA 6000\n",
      "grswoo 5974\n",
      "eurbla 3068\n",
      "sonthr1 2833\n",
      "blawoo1 2625\n",
      "redcro 2390\n",
      "comcha 2374\n",
      "eurrob1 1555\n",
      "comchi1 1344\n",
      "gretit1 1073\n"
     ]
    },
    {
     "data": {
      "application/vnd.jupyter.widget-view+json": {
       "model_id": "1716578dc18644828f35bd8194e732a1",
       "version_major": 2,
       "version_minor": 0
      },
      "text/plain": [
       "Resolving data files:   0%|          | 0/153 [00:00<?, ?it/s]"
      ]
     },
     "metadata": {},
     "output_type": "display_data"
    },
    {
     "name": "stdout",
     "output_type": "stream",
     "text": [
      "\n",
      "Dataset: Song Merge Test\n",
      "Number of examples in the dataset: 15593\n",
      "Number of ebird_code labels: 54\n",
      "Number of calltype labels: 8\n",
      "Number of combined labels: 98\n",
      "\n",
      "Number of examples per calltype label:\n",
      "Call Type            Count     \n",
      "------------------------------\n",
      "song 11058\n",
      "contact 2841\n",
      "flight 402\n",
      "NA 636\n",
      "drumming 82\n",
      "alarm 532\n",
      "alarm_ground 1\n",
      "excitement 41\n",
      "\n",
      "Top 10 most common ebird_code labels:\n",
      "Ebird Code Count     \n",
      "--------------------\n",
      "eurbla 2659\n",
      "comcha 1906\n",
      "eurrob1 1601\n",
      "sonthr1 1594\n",
      "blackc1 1051\n",
      "comchi1 907\n",
      "NA 636\n",
      "blutit 563\n",
      "gretit1 504\n",
      "winwre4 462\n"
     ]
    }
   ],
   "source": [
    "# Stats for limit samples stage\n",
    "print_dataset_info(\"Song Merge Train\", load_train_dataset(\"/workspace/projects/callbird/call_type_mappings/song_merge_map\", None, filter_naive=\"/workspace/projects/callbird/blacklists/song_merge_train.txt\", limit_samples=True))\n",
    "print_dataset_info(\"Song Merge Test\", load_test_dataset(\"/workspace/projects/callbird/call_type_mappings/song_merge_map\", None, filter_naive=\"/workspace/projects/callbird/blacklists/song_merge_test.txt\", unknown_ebird_code=\"NA\", filter_unspecified=False))"
   ]
  }
 ],
 "metadata": {
  "kernelspec": {
   "display_name": "birdset-xS3fZVNL-py3.10",
   "language": "python",
   "name": "python3"
  },
  "language_info": {
   "codemirror_mode": {
    "name": "ipython",
    "version": 3
   },
   "file_extension": ".py",
   "mimetype": "text/x-python",
   "name": "python",
   "nbconvert_exporter": "python",
   "pygments_lexer": "ipython3",
   "version": "3.10.12"
  }
 },
 "nbformat": 4,
 "nbformat_minor": 5
}
