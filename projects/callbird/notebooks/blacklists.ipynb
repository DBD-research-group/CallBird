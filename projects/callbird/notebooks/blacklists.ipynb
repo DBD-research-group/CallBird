{
 "cells": [
  {
   "cell_type": "code",
   "execution_count": 1,
   "id": "503b0f45",
   "metadata": {},
   "outputs": [],
   "source": [
    "def generate_blacklist(train_dataset, test_dataset, name):\n",
    "    train_ebird_call_codes = train_dataset[\"train\"].unique(\"ebird_code_and_call\")\n",
    "    test_ebird_call_codes = test_dataset[\"train\"].unique(\"ebird_code_and_call\")\n",
    "\n",
    "    print(f\"Train naive classes ('{len(train_ebird_call_codes)}'):\", train_ebird_call_codes)\n",
    "    print(f\"Test naive classes ('{len(test_ebird_call_codes)}'):\", test_ebird_call_codes)\n",
    "\n",
    "    train_blacklist = set(train_ebird_call_codes) - set(test_ebird_call_codes)\n",
    "    test_blacklist = set(test_ebird_call_codes) - set(train_ebird_call_codes)\n",
    "\n",
    "    print(f\"Train blacklist ('{len(train_blacklist)}'):\", train_blacklist)\n",
    "    print(f\"Test blacklist ('{len(test_blacklist)}'):\", test_blacklist)\n",
    "\n",
    "    with open(f\"/workspace/projects/callbird/blacklists/{name}_train.txt\", \"w\") as f:\n",
    "        f.write(\"# eBird codes not present in the test set\\n\")\n",
    "        for code in train_blacklist:\n",
    "            f.write(f\"{code}\\n\")\n",
    "\n",
    "    with open(f\"/workspace/projects/callbird/blacklists/{name}_test.txt\", \"w\") as f:\n",
    "        f.write(\"# eBird codes not present in the train set\\n\")\n",
    "        for code in test_blacklist:\n",
    "            f.write(f\"{code}\\n\")\n",
    "\n",
    "    # Apply blacklist to datasets\n",
    "    filtered_train_dataset = train_dataset.filter(lambda example: example[\"ebird_code_and_call\"] not in train_blacklist)\n",
    "    filtered_test_dataset = test_dataset.filter(lambda example: example[\"ebird_code_and_call\"] not in test_blacklist)\n",
    "\n",
    "    filtered_train = filtered_train_dataset[\"train\"]\n",
    "    filtered_test = filtered_test_dataset[\"train\"]\n",
    "    train_train = train_dataset[\"train\"]\n",
    "    test_train = test_dataset[\"train\"]\n",
    "    print(f\"Train classes before / after filtering: {len(train_ebird_call_codes)} / {len(filtered_train.unique('ebird_code_and_call'))}\")\n",
    "    print(f\"Test classes before / after filtering: {len(test_ebird_call_codes)} / {len(filtered_test.unique('ebird_code_and_call'))}\")\n",
    "    print(f\"Train before / after filtering: {len(train_train)} / {len(filtered_train)}\")\n",
    "    print(f\"Test before / after filtering: {len(test_train)} / {len(filtered_test)}\")"
   ]
  },
  {
   "cell_type": "code",
   "execution_count": 2,
   "id": "b33697c6",
   "metadata": {},
   "outputs": [],
   "source": [
    "from callbird.src.datasets.load_test_dataset import load_test_dataset\n",
    "from callbird.src.datasets.load_train_dataset import load_train_dataset"
   ]
  },
  {
   "cell_type": "code",
   "execution_count": 3,
   "id": "cdec87b1",
   "metadata": {},
   "outputs": [
    {
     "data": {
      "application/vnd.jupyter.widget-view+json": {
       "model_id": "137e46a8d78d4c6fa0a787e309de9083",
       "version_major": 2,
       "version_minor": 0
      },
      "text/plain": [
       "Resolving data files:   0%|          | 0/56 [00:00<?, ?it/s]"
      ]
     },
     "metadata": {},
     "output_type": "display_data"
    },
    {
     "data": {
      "application/vnd.jupyter.widget-view+json": {
       "model_id": "dde55e1469e14f038f562a4cfa4fa9f5",
       "version_major": 2,
       "version_minor": 0
      },
      "text/plain": [
       "Resolving data files:   0%|          | 0/153 [00:00<?, ?it/s]"
      ]
     },
     "metadata": {},
     "output_type": "display_data"
    },
    {
     "name": "stdout",
     "output_type": "stream",
     "text": [
      "Train naive classes ('200'): ['blawoo1_flight', 'blawoo1_contact', 'blawoo1_song', 'blawoo1_drumming', 'blawoo1_other', 'blawoo1_excitement', 'carcro1_flight', 'carcro1_contact', 'coatit2_contact', 'coatit2_song', 'coatit2_flight', 'comcha_song', 'comcha_contact', 'comcha_flight', 'comcha_alarm', 'comchi1_song', 'comchi1_contact', 'comchi1_excitement', 'comchi1_flight', 'comchi1_alarm', 'comcuc_song', 'comcuc_sub_song', 'comcuc_contact', 'comcuc_flight', 'firecr1_song', 'firecr1_contact', 'firecr1_flight', 'comnig1_song', 'comnig1_contact', 'comrav_contact', 'comrav_flight', 'comrav_NA', 'cowpig1_song', 'cowpig1_alarm', 'cowpig1_NA', 'cretit2_contact', 'cretit2_song', 'cretit2_other', 'dunnoc1_song', 'dunnoc1_other', 'dunnoc1_flight', 'dunnoc1_contact', 'eurbla_contact', 'eurbla_song', 'eurbla_other', 'eurbla_alarm', 'eurbla_alarm_ground', 'eurbla_flight', 'eurbla_sub_song', 'blackc1_song', 'blackc1_contact', 'blackc1_alarm', 'blackc1_flight', 'blackc1_excitement', 'blackc1_sub_song', 'blutit_contact', 'blutit_song', 'blutit_alarm', 'blutit_flight', 'eurbul_other', 'eurbul_flight', 'eurbul_song', 'eurbul_contact', 'eugwoo2_contact', 'eugwoo2_song', 'eugwoo2_flight', 'eurjac_flight', 'eurjac_contact', 'eurjay1_contact', 'eurjay1_song', 'eurjay1_alarm', 'eurnut2_song', 'eurnut2_contact', 'eurnut2_alarm', 'eurnut2_flight', 'eurnut2_other', 'eurnut2_excitement', 'eursis_flight', 'eursis_contact', 'eursis_other', 'eursis_song', 'skylar_song', 'skylar_contact', 'skylar_flight', 'skylar_other', 'eurtre1_song', 'eurtre1_contact', 'eurwoo_song', 'eurwoo_alarm', 'winwre4_song', 'winwre4_alarm', 'winwre4_contact', 'eurgol_song', 'eurgol_other', 'eurgol_flight', 'eurgol_contact', 'eurgre1_flight', 'eurgre1_song', 'eurgre1_other', 'eurgre1_contact', 'eupfly1_other', 'eupfly1_song', 'eupfly1_contact', 'eupfly1_flight', 'eurrob1_song', 'eurrob1_other', 'eurrob1_alarm', 'eurrob1_contact', 'eurrob1_flight', 'eurrob1_alarm_air', 'eurrob1_sub_song', 'eursta_contact', 'eursta_other', 'eursta_song', 'eursta_flight', 'eutdov_song', 'eutdov_contact', 'fieldf_flight', 'fieldf_contact', 'fieldf_other', 'fieldf_alarm', 'fieldf_song', 'garwar1_song', 'garwar1_contact', 'goldcr1_contact', 'goldcr1_song', 'goldcr1_other', 'gyfwoo1_song', 'gyfwoo1_drumming', 'gyfwoo1_flight', 'gyfwoo1_contact', 'grswoo_drumming', 'grswoo_contact', 'grswoo_song', 'grswoo_other', 'gretit1_song', 'gretit1_contact', 'gretit1_sub_song', 'gretit1_alarm', 'gretit1_flight', 'gretit1_other', 'grewhi1_song', 'grewhi1_contact', 'grewhi1_flight', 'hawfin_contact', 'hawfin_flight', 'martit2_song', 'martit2_contact', 'miswoo1_song', 'miswoo1_contact', 'misthr1_song', 'misthr1_contact', 'misthr1_other', 'misthr1_flight', 'misthr1_alarm', 'norlap_flight', 'norlap_contact', 'norlap_song', 'redcro_flight', 'redcro_excitement', 'redcro_song', 'redcro_alarm', 'redcro_other', 'shttre1_song', 'shttre1_contact', 'sonthr1_song', 'sonthr1_other', 'sonthr1_flight', 'sonthr1_contact', 'sonthr1_alarm', 'sonthr1_drumming', 'spofly1_contact', 'spofly1_other', 'spofly1_song', 'stodov1_song', 'tawowl1_contact', 'tawowl1_song', 'tawowl1_other', 'tawowl1_sub_song', 'tawowl1_excitement', 'trepip_song', 'trepip_flight', 'trepip_contact', 'trepip_alarm', 'whtdip1_flight', 'whtdip1_contact', 'whtdip1_song', 'wiltit1_contact', 'wiltit1_song', 'wiltit1_sub_song', 'wlwwar_song', 'wlwwar_contact', 'woowar_song', 'woowar_contact', 'woowar_sub_song', 'yellow2_song', 'yellow2_contact', 'yellow2_flight', 'yellow2_other', 'NA_NA']\n",
      "Test naive classes ('126'): ['winwre4_song', 'comcha_contact', 'comcha_song', 'gretit1_contact', 'misthr1_flight', 'comcha_flight', 'hawfin_NA', 'coatit2_NA', 'eurrob1_NA', 'blutit_NA', 'grswoo_NA', 'goldcr1_NA', 'yellow2_NA', 'shttre1_NA', 'coatit2_song', 'blutit_song', 'eurgol_flight', 'eurnut2_contact', 'NA_contact', 'blutit_contact', 'dunnoc1_NA', 'sonthr1_NA', 'norlap_NA', 'eurrob1_song', 'sonthr1_song', 'NA_NA', 'eurbla_song', 'martit2_song', 'misthr1_song', 'dunnoc1_song', 'grswoo_drumming', 'eurnut2_song', 'wlwwar_song', 'gretit1_song', 'cowpig1_song', 'eurbla_alarm', 'eurjay1_contact', 'comchi1_song', 'NA_song', 'cretit2_contact', 'goldcr1_song', 'comchi1_contact', 'eugwoo2_song', 'winwre4_contact', 'martit2_contact', 'firecr1_song', 'grswoo_contact', 'stodov1_song', 'sonthr1_flight', 'stodov1_flight', 'eursta_song', 'tawowl1_NA', 'blackc1_song', 'eurrob1_contact', 'shttre1_contact', 'eurbla_alarm_ground', 'shttre1_song', 'eurgre1_flight', 'spofly1_contact', 'goldcr1_contact', 'gyfwoo1_song', 'gyfwoo1_drumming', 'eursta_NA', 'NA_alarm', 'firecr1_contact', 'sonthr1_alarm', 'woowar_song', 'woowar_other', 'comcuc_song', 'eurtre1_song', 'blackc1_contact', 'eurbla_contact', 'hawfin_contact', 'tawowl1_song', 'eupfly1_song', 'miswoo1_song', 'hawfin_flight', 'blawoo1_flight', 'blawoo1_song', 'eutdov_NA', 'eurjac_flight', 'yellow2_contact', 'dunnoc1_flight', 'yellow2_song', 'wiltit1_song', 'wiltit1_NA', 'whtdip1_flight', 'eurbul_flight', 'gretit1_alarm', 'NA_alarm_air', 'eurgre1_song', 'coatit2_contact', 'cowpig1_drumming', 'redcro_excitement', 'eursis_song', 'fieldf_flight', 'carcro1_contact', 'skylar_song', 'martit2_sub_song', 'blawoo1_excitement', 'blawoo1_contact', 'redcro_flight', 'grewhi1_song', 'eurtre1_contact', 'comnig1_song', 'comrav_contact', 'redcro_song', 'firecr1_sub_song', 'garwar1_song', 'winwre4_alarm', 'trepip_flight', 'trepip_song', 'eurwoo_song', 'eurbul_NA', 'eursis_flight', 'eursis_contact', 'blackc1_alarm', 'comchi1_alarm', 'comcha_alarm', 'NA_flight', 'blutit_flight', 'comrav_flight', 'eursis_sub_song', 'sonthr1_contact', 'eurbla_flight', 'comcha_sub_song']\n",
      "Train blacklist ('102'): {'sonthr1_drumming', 'whtdip1_song', 'woowar_sub_song', 'blackc1_sub_song', 'comrav_NA', 'eupfly1_contact', 'goldcr1_other', 'cowpig1_alarm', 'tawowl1_excitement', 'blackc1_flight', 'eurjac_contact', 'grewhi1_contact', 'fieldf_song', 'yellow2_flight', 'trepip_contact', 'eurjay1_song', 'eurbul_contact', 'redcro_alarm', 'eupfly1_other', 'norlap_song', 'cretit2_other', 'yellow2_other', 'eurbul_song', 'skylar_flight', 'eurgre1_other', 'eugwoo2_contact', 'grswoo_song', 'carcro1_flight', 'grewhi1_flight', 'eurbul_other', 'eutdov_contact', 'miswoo1_contact', 'eurnut2_excitement', 'eursis_other', 'eurrob1_other', 'dunnoc1_contact', 'eurgol_other', 'eurrob1_sub_song', 'comchi1_excitement', 'eupfly1_flight', 'eurwoo_alarm', 'gyfwoo1_flight', 'comchi1_flight', 'wiltit1_sub_song', 'comcuc_sub_song', 'eurgre1_contact', 'tawowl1_other', 'cretit2_song', 'misthr1_alarm', 'eursta_flight', 'comcuc_contact', 'norlap_flight', 'cowpig1_NA', 'eursta_other', 'skylar_contact', 'blawoo1_drumming', 'garwar1_contact', 'misthr1_contact', 'woowar_contact', 'fieldf_alarm', 'blackc1_excitement', 'grswoo_other', 'fieldf_other', 'eutdov_song', 'blawoo1_other', 'wiltit1_contact', 'eurrob1_alarm_air', 'gyfwoo1_contact', 'eurjay1_alarm', 'coatit2_flight', 'eurbla_sub_song', 'eurnut2_alarm', 'fieldf_contact', 'wlwwar_contact', 'spofly1_other', 'skylar_other', 'tawowl1_sub_song', 'eurnut2_flight', 'redcro_other', 'trepip_alarm', 'sonthr1_other', 'misthr1_other', 'gretit1_other', 'dunnoc1_other', 'gretit1_sub_song', 'eursta_contact', 'comnig1_contact', 'firecr1_flight', 'tawowl1_contact', 'blutit_alarm', 'eurrob1_flight', 'eugwoo2_flight', 'eurgol_song', 'comcuc_flight', 'eurnut2_other', 'eurgol_contact', 'norlap_contact', 'spofly1_song', 'whtdip1_contact', 'eurrob1_alarm', 'eurbla_other', 'gretit1_flight'}\n",
      "Test blacklist ('28'): {'NA_alarm', 'shttre1_NA', 'tawowl1_NA', 'eurbul_NA', 'blutit_NA', 'eurrob1_NA', 'coatit2_NA', 'comcha_sub_song', 'yellow2_NA', 'sonthr1_NA', 'dunnoc1_NA', 'norlap_NA', 'eutdov_NA', 'NA_flight', 'NA_contact', 'grswoo_NA', 'stodov1_flight', 'NA_song', 'woowar_other', 'hawfin_NA', 'eursta_NA', 'cowpig1_drumming', 'NA_alarm_air', 'martit2_sub_song', 'wiltit1_NA', 'firecr1_sub_song', 'goldcr1_NA', 'eursis_sub_song'}\n"
     ]
    },
    {
     "data": {
      "application/vnd.jupyter.widget-view+json": {
       "model_id": "50c8b5e591ab4d52a7414bae7146056d",
       "version_major": 2,
       "version_minor": 0
      },
      "text/plain": [
       "Filter:   0%|          | 0/91771 [00:00<?, ? examples/s]"
      ]
     },
     "metadata": {},
     "output_type": "display_data"
    },
    {
     "data": {
      "application/vnd.jupyter.widget-view+json": {
       "model_id": "51984e035da64d28b858c806430c1b3b",
       "version_major": 2,
       "version_minor": 0
      },
      "text/plain": [
       "Flattening the indices:   0%|          | 0/84933 [00:00<?, ? examples/s]"
      ]
     },
     "metadata": {},
     "output_type": "display_data"
    },
    {
     "name": "stdout",
     "output_type": "stream",
     "text": [
      "Train classes before / after filtering: 200 / 98\n",
      "Test classes before / after filtering: 126 / 98\n",
      "Train before / after filtering: 91771 / 84933\n",
      "Test before / after filtering: 15950 / 15552\n"
     ]
    }
   ],
   "source": [
    "# Stats for same space stage\n",
    "generate_blacklist(\n",
    "    load_train_dataset(\"/workspace/projects/callbird/call_type_mappings/same_space_map\", None, filter_naive=None, limit_samples=False),\n",
    "    load_test_dataset(\"/workspace/projects/callbird/call_type_mappings/same_space_map\", None, filter_naive=None, unknown_ebird_code=\"NA\", filter_unspecified=False),\n",
    "    \"same_space\"\n",
    ")"
   ]
  },
  {
   "cell_type": "code",
   "execution_count": 4,
   "id": "e1967272",
   "metadata": {},
   "outputs": [
    {
     "data": {
      "application/vnd.jupyter.widget-view+json": {
       "model_id": "82614670d34943e8a7e2ab49f243b910",
       "version_major": 2,
       "version_minor": 0
      },
      "text/plain": [
       "Resolving data files:   0%|          | 0/56 [00:00<?, ?it/s]"
      ]
     },
     "metadata": {},
     "output_type": "display_data"
    },
    {
     "data": {
      "application/vnd.jupyter.widget-view+json": {
       "model_id": "ca330836ad7644e986def2e5f950b3fb",
       "version_major": 2,
       "version_minor": 0
      },
      "text/plain": [
       "Resolving data files:   0%|          | 0/153 [00:00<?, ?it/s]"
      ]
     },
     "metadata": {},
     "output_type": "display_data"
    },
    {
     "name": "stdout",
     "output_type": "stream",
     "text": [
      "Train naive classes ('198'): ['blawoo1_flight', 'blawoo1_contact', 'blawoo1_drumming', 'blawoo1_other', 'blawoo1_excitement', 'carcro1_flight', 'carcro1_contact', 'coatit2_contact', 'coatit2_flight', 'comcha_contact', 'comcha_flight', 'comcha_alarm', 'comchi1_contact', 'comchi1_excitement', 'comchi1_flight', 'comchi1_alarm', 'comcuc_sub_song', 'comcuc_contact', 'comcuc_flight', 'firecr1_contact', 'firecr1_flight', 'comnig1_contact', 'comrav_contact', 'comrav_flight', 'comrav_NA', 'cowpig1_alarm', 'cowpig1_NA', 'cretit2_contact', 'cretit2_other', 'dunnoc1_other', 'dunnoc1_flight', 'dunnoc1_contact', 'eurbla_contact', 'eurbla_other', 'eurbla_alarm', 'eurbla_alarm_ground', 'eurbla_flight', 'eurbla_sub_song', 'blackc1_contact', 'blackc1_alarm', 'blackc1_flight', 'blackc1_excitement', 'blackc1_sub_song', 'blutit_contact', 'blutit_alarm', 'blutit_flight', 'eurbul_other', 'eurbul_flight', 'eurbul_contact', 'eugwoo2_contact', 'eugwoo2_flight', 'eurjac_flight', 'eurjac_contact', 'eurjay1_contact', 'eurjay1_alarm', 'eurnut2_contact', 'eurnut2_alarm', 'eurnut2_flight', 'eurnut2_other', 'eurnut2_excitement', 'eursis_flight', 'eursis_contact', 'eursis_other', 'skylar_contact', 'skylar_flight', 'skylar_other', 'eurtre1_contact', 'eurwoo_alarm', 'winwre4_alarm', 'winwre4_contact', 'eurgol_other', 'eurgol_flight', 'eurgol_contact', 'eurgre1_flight', 'eurgre1_other', 'eurgre1_contact', 'eupfly1_other', 'eupfly1_contact', 'eupfly1_flight', 'eurrob1_other', 'eurrob1_alarm', 'eurrob1_contact', 'eurrob1_flight', 'eurrob1_alarm_air', 'eurrob1_sub_song', 'eursta_contact', 'eursta_other', 'eursta_flight', 'eutdov_contact', 'fieldf_flight', 'fieldf_contact', 'fieldf_other', 'fieldf_alarm', 'garwar1_contact', 'goldcr1_contact', 'goldcr1_other', 'gyfwoo1_drumming', 'gyfwoo1_flight', 'gyfwoo1_contact', 'gretit1_contact', 'gretit1_sub_song', 'gretit1_alarm', 'gretit1_flight', 'gretit1_other', 'grewhi1_contact', 'grewhi1_flight', 'hawfin_contact', 'hawfin_flight', 'martit2_contact', 'miswoo1_contact', 'misthr1_contact', 'misthr1_other', 'misthr1_flight', 'misthr1_alarm', 'norlap_flight', 'norlap_contact', 'redcro_flight', 'redcro_excitement', 'redcro_alarm', 'redcro_other', 'shttre1_contact', 'sonthr1_other', 'sonthr1_flight', 'sonthr1_contact', 'sonthr1_alarm', 'sonthr1_drumming', 'spofly1_contact', 'spofly1_other', 'tawowl1_contact', 'tawowl1_other', 'tawowl1_sub_song', 'tawowl1_excitement', 'trepip_flight', 'trepip_contact', 'trepip_alarm', 'whtdip1_flight', 'whtdip1_contact', 'wiltit1_contact', 'wiltit1_sub_song', 'wlwwar_contact', 'woowar_contact', 'woowar_sub_song', 'yellow2_contact', 'yellow2_flight', 'yellow2_other', 'NA_NA', 'grswoo_drumming', 'grswoo_contact', 'grswoo_other', 'gretit1_song', 'eurbla_song', 'stodov1_song', 'comnig1_song', 'sonthr1_song', 'cowpig1_song', 'eurrob1_song', 'winwre4_song', 'blackc1_song', 'comchi1_song', 'dunnoc1_song', 'wlwwar_song', 'eurwoo_song', 'gyfwoo1_song', 'coatit2_song', 'tawowl1_song', 'eugwoo2_song', 'comcha_song', 'redcro_song', 'trepip_song', 'blawoo1_song', 'eupfly1_song', 'misthr1_song', 'firecr1_song', 'goldcr1_song', 'blutit_song', 'martit2_song', 'miswoo1_song', 'comcuc_song', 'eurtre1_song', 'eurnut2_song', 'yellow2_song', 'garwar1_song', 'eursta_song', 'wiltit1_song', 'eutdov_song', 'eurgre1_song', 'grewhi1_song', 'woowar_song', 'shttre1_song', 'skylar_song', 'cretit2_song', 'norlap_song', 'grswoo_song', 'eurgol_song', 'fieldf_song', 'eurjay1_song', 'eursis_song', 'whtdip1_song']\n",
      "Test naive classes ('126'): ['winwre4_song', 'comcha_contact', 'comcha_song', 'gretit1_contact', 'misthr1_flight', 'comcha_flight', 'hawfin_NA', 'coatit2_NA', 'eurrob1_NA', 'blutit_NA', 'grswoo_NA', 'goldcr1_NA', 'yellow2_NA', 'shttre1_NA', 'coatit2_song', 'blutit_song', 'eurgol_flight', 'eurnut2_contact', 'NA_contact', 'blutit_contact', 'dunnoc1_NA', 'sonthr1_NA', 'norlap_NA', 'eurrob1_song', 'sonthr1_song', 'NA_NA', 'eurbla_song', 'martit2_song', 'misthr1_song', 'dunnoc1_song', 'grswoo_drumming', 'eurnut2_song', 'wlwwar_song', 'gretit1_song', 'cowpig1_song', 'eurbla_alarm', 'eurjay1_contact', 'comchi1_song', 'NA_song', 'cretit2_contact', 'goldcr1_song', 'comchi1_contact', 'eugwoo2_song', 'winwre4_contact', 'martit2_contact', 'firecr1_song', 'grswoo_contact', 'stodov1_song', 'sonthr1_flight', 'stodov1_flight', 'eursta_song', 'tawowl1_NA', 'blackc1_song', 'eurrob1_contact', 'shttre1_contact', 'eurbla_alarm_ground', 'shttre1_song', 'eurgre1_flight', 'spofly1_contact', 'goldcr1_contact', 'gyfwoo1_song', 'gyfwoo1_drumming', 'eursta_NA', 'NA_alarm', 'firecr1_contact', 'sonthr1_alarm', 'woowar_song', 'woowar_other', 'comcuc_song', 'eurtre1_song', 'blackc1_contact', 'eurbla_contact', 'hawfin_contact', 'tawowl1_song', 'eupfly1_song', 'miswoo1_song', 'hawfin_flight', 'blawoo1_flight', 'blawoo1_song', 'eutdov_NA', 'eurjac_flight', 'yellow2_contact', 'dunnoc1_flight', 'yellow2_song', 'wiltit1_song', 'wiltit1_NA', 'whtdip1_flight', 'eurbul_flight', 'gretit1_alarm', 'NA_alarm_air', 'eurgre1_song', 'coatit2_contact', 'cowpig1_drumming', 'redcro_excitement', 'eursis_song', 'fieldf_flight', 'carcro1_contact', 'skylar_song', 'martit2_sub_song', 'blawoo1_excitement', 'blawoo1_contact', 'redcro_flight', 'grewhi1_song', 'eurtre1_contact', 'comnig1_song', 'comrav_contact', 'redcro_song', 'firecr1_sub_song', 'garwar1_song', 'winwre4_alarm', 'trepip_flight', 'trepip_song', 'eurwoo_song', 'eurbul_NA', 'eursis_flight', 'eursis_contact', 'blackc1_alarm', 'comchi1_alarm', 'comcha_alarm', 'NA_flight', 'blutit_flight', 'comrav_flight', 'eursis_sub_song', 'sonthr1_contact', 'eurbla_flight', 'comcha_sub_song']\n",
      "Train blacklist ('100'): {'sonthr1_drumming', 'whtdip1_song', 'woowar_sub_song', 'blackc1_sub_song', 'comrav_NA', 'eupfly1_contact', 'goldcr1_other', 'cowpig1_alarm', 'tawowl1_excitement', 'blackc1_flight', 'eurjac_contact', 'grewhi1_contact', 'yellow2_flight', 'fieldf_song', 'trepip_contact', 'eurjay1_song', 'eurbul_contact', 'redcro_alarm', 'eupfly1_other', 'norlap_song', 'cretit2_other', 'yellow2_other', 'skylar_flight', 'eurgre1_other', 'eugwoo2_contact', 'grswoo_song', 'carcro1_flight', 'grewhi1_flight', 'eurbul_other', 'eutdov_contact', 'miswoo1_contact', 'eurnut2_excitement', 'eursis_other', 'eurrob1_other', 'dunnoc1_contact', 'eurgol_other', 'eurrob1_sub_song', 'comchi1_excitement', 'eupfly1_flight', 'eurwoo_alarm', 'gyfwoo1_flight', 'comchi1_flight', 'wiltit1_sub_song', 'comcuc_sub_song', 'eurgre1_contact', 'tawowl1_other', 'cretit2_song', 'misthr1_alarm', 'eursta_flight', 'comcuc_contact', 'norlap_flight', 'cowpig1_NA', 'eursta_other', 'skylar_contact', 'blawoo1_drumming', 'garwar1_contact', 'misthr1_contact', 'woowar_contact', 'fieldf_alarm', 'blackc1_excitement', 'grswoo_other', 'fieldf_other', 'eutdov_song', 'blawoo1_other', 'wiltit1_contact', 'eurrob1_alarm_air', 'gyfwoo1_contact', 'eurjay1_alarm', 'coatit2_flight', 'eurbla_sub_song', 'eurnut2_alarm', 'fieldf_contact', 'wlwwar_contact', 'spofly1_other', 'skylar_other', 'tawowl1_sub_song', 'eurnut2_flight', 'redcro_other', 'trepip_alarm', 'sonthr1_other', 'misthr1_other', 'gretit1_other', 'dunnoc1_other', 'gretit1_sub_song', 'eursta_contact', 'comnig1_contact', 'firecr1_flight', 'tawowl1_contact', 'blutit_alarm', 'eurrob1_flight', 'eugwoo2_flight', 'eurgol_song', 'comcuc_flight', 'eurnut2_other', 'eurgol_contact', 'norlap_contact', 'whtdip1_contact', 'eurrob1_alarm', 'eurbla_other', 'gretit1_flight'}\n",
      "Test blacklist ('28'): {'NA_alarm', 'shttre1_NA', 'tawowl1_NA', 'eurbul_NA', 'blutit_NA', 'eurrob1_NA', 'coatit2_NA', 'comcha_sub_song', 'yellow2_NA', 'sonthr1_NA', 'dunnoc1_NA', 'norlap_NA', 'eutdov_NA', 'NA_flight', 'NA_contact', 'grswoo_NA', 'stodov1_flight', 'NA_song', 'woowar_other', 'hawfin_NA', 'eursta_NA', 'cowpig1_drumming', 'NA_alarm_air', 'martit2_sub_song', 'wiltit1_NA', 'firecr1_sub_song', 'goldcr1_NA', 'eursis_sub_song'}\n",
      "Train classes before / after filtering: 198 / 98\n",
      "Test classes before / after filtering: 126 / 98\n",
      "Train before / after filtering: 52167 / 45427\n",
      "Test before / after filtering: 15950 / 15552\n"
     ]
    }
   ],
   "source": [
    "# Stats for limit samples stage\n",
    "generate_blacklist(\n",
    "    load_train_dataset(\"/workspace/projects/callbird/call_type_mappings/same_space_map\", None, filter_naive=None, limit_samples=True),\n",
    "    load_test_dataset(\"/workspace/projects/callbird/call_type_mappings/same_space_map\", None, filter_naive=None, unknown_ebird_code=\"NA\", filter_unspecified=False),\n",
    "    \"limit_samples\"\n",
    ")"
   ]
  },
  {
   "cell_type": "code",
   "execution_count": 5,
   "id": "19cd2c46",
   "metadata": {},
   "outputs": [
    {
     "data": {
      "text/plain": [
       "'\\ngenerate_blacklist(\\n    load_train_dataset(\"/workspace/projects/callbird/call_type_mappings/alarm_merge_map\", None, filter_naive=None, limit_samples=False),\\n    load_test_dataset(\"/workspace/projects/callbird/call_type_mappings/alarm_merge_map\", None, filter_naive=None, unknown_ebird_code=\"NA\", filter_unspecified=False),\\n    \"alarm_merge\"\\n)\\n'"
      ]
     },
     "execution_count": 5,
     "metadata": {},
     "output_type": "execute_result"
    }
   ],
   "source": [
    "\"\"\"\n",
    "generate_blacklist(\n",
    "    load_train_dataset(\"/workspace/projects/callbird/call_type_mappings/alarm_merge_map\", None, filter_naive=None, limit_samples=False),\n",
    "    load_test_dataset(\"/workspace/projects/callbird/call_type_mappings/alarm_merge_map\", None, filter_naive=None, unknown_ebird_code=\"NA\", filter_unspecified=False),\n",
    "    \"alarm_merge\"\n",
    ")\n",
    "\"\"\""
   ]
  },
  {
   "cell_type": "code",
   "execution_count": 6,
   "id": "dacb3412",
   "metadata": {},
   "outputs": [
    {
     "data": {
      "text/plain": [
       "'\\ngenerate_blacklist(\\n    load_train_dataset(\"/workspace/projects/callbird/call_type_mappings/unspecified_map\", None, False, True),\\n    load_test_dataset(\"/workspace/projects/callbird/call_type_mappings/unspecified_map\", None, False, \"NA\"),\\n    \"unspecified\"\\n)\\n'"
      ]
     },
     "execution_count": 6,
     "metadata": {},
     "output_type": "execute_result"
    }
   ],
   "source": [
    "\"\"\"\n",
    "generate_blacklist(\n",
    "    load_train_dataset(\"/workspace/projects/callbird/call_type_mappings/unspecified_map\", None, False, True),\n",
    "    load_test_dataset(\"/workspace/projects/callbird/call_type_mappings/unspecified_map\", None, False, \"NA\"),\n",
    "    \"unspecified\"\n",
    ")\n",
    "\"\"\""
   ]
  }
 ],
 "metadata": {
  "kernelspec": {
   "display_name": "birdset-xS3fZVNL-py3.10",
   "language": "python",
   "name": "python3"
  },
  "language_info": {
   "codemirror_mode": {
    "name": "ipython",
    "version": 3
   },
   "file_extension": ".py",
   "mimetype": "text/x-python",
   "name": "python",
   "nbconvert_exporter": "python",
   "pygments_lexer": "ipython3",
   "version": "3.10.12"
  }
 },
 "nbformat": 4,
 "nbformat_minor": 5
}
