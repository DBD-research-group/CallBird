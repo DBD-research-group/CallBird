{
 "cells": [
  {
   "cell_type": "code",
   "execution_count": 16,
   "id": "503b0f45",
   "metadata": {},
   "outputs": [],
   "source": [
    "def generate_blacklist(train_dataset, test_dataset, name):\n",
    "    train_ebird_call_codes = train_dataset[\"train\"].unique(\"ebird_code_and_call\")\n",
    "    test_ebird_call_codes = test_dataset[\"train\"].unique(\"ebird_code_and_call\")\n",
    "\n",
    "    print(f\"Train naive classes ('{len(train_ebird_call_codes)}'):\", train_ebird_call_codes)\n",
    "    print(f\"Test naive classes ('{len(test_ebird_call_codes)}'):\", test_ebird_call_codes)\n",
    "\n",
    "    train_blacklist = set(train_ebird_call_codes) - set(test_ebird_call_codes)\n",
    "    test_blacklist = set(test_ebird_call_codes) - set(train_ebird_call_codes)\n",
    "\n",
    "    print(f\"Train blacklist ('{len(train_blacklist)}'):\", train_blacklist)\n",
    "    print(f\"Test blacklist ('{len(test_blacklist)}'):\", test_blacklist)\n",
    "\n",
    "    with open(f\"/workspace/projects/callbird/blacklists/{name}_train.txt\", \"w\") as f:\n",
    "        f.write(\"# eBird codes not present in the test set\\n\")\n",
    "        for code in train_blacklist:\n",
    "            f.write(f\"{code}\\n\")\n",
    "\n",
    "    with open(f\"/workspace/projects/callbird/blacklists/{name}_test.txt\", \"w\") as f:\n",
    "        f.write(\"# eBird codes not present in the train set\\n\")\n",
    "        for code in test_blacklist:\n",
    "            f.write(f\"{code}\\n\")\n",
    "\n",
    "    # Apply blacklist to datasets\n",
    "    filtered_train_dataset = train_dataset.filter(lambda example: example[\"ebird_code_and_call\"] not in train_blacklist)\n",
    "    filtered_test_dataset = test_dataset.filter(lambda example: example[\"ebird_code_and_call\"] not in test_blacklist)\n",
    "\n",
    "    filtered_train = filtered_train_dataset[\"train\"]\n",
    "    filtered_test = filtered_test_dataset[\"train\"]\n",
    "    train_train = train_dataset[\"train\"]\n",
    "    test_train = test_dataset[\"train\"]\n",
    "    print(f\"Train classes before / after filtering: {len(train_ebird_call_codes)} / {len(filtered_train.unique('ebird_code_and_call'))}\")\n",
    "    print(f\"Test classes before / after filtering: {len(test_ebird_call_codes)} / {len(filtered_test.unique('ebird_code_and_call'))}\")\n",
    "    print(f\"Train before / after filtering: {len(train_train)} / {len(filtered_train)}\")\n",
    "    print(f\"Test before / after filtering: {len(test_train)} / {len(filtered_test)}\")"
   ]
  },
  {
   "cell_type": "code",
   "execution_count": 17,
   "id": "b33697c6",
   "metadata": {},
   "outputs": [],
   "source": [
    "from callbird.src.datasets.load_test_dataset import load_test_dataset\n",
    "from callbird.src.datasets.load_train_dataset import load_train_dataset"
   ]
  },
  {
   "cell_type": "code",
   "execution_count": 18,
   "id": "cdec87b1",
   "metadata": {},
   "outputs": [
    {
     "data": {
      "application/vnd.jupyter.widget-view+json": {
       "model_id": "c97aa330c2ec4368bd1730572c061b0c",
       "version_major": 2,
       "version_minor": 0
      },
      "text/plain": [
       "Resolving data files:   0%|          | 0/56 [00:00<?, ?it/s]"
      ]
     },
     "metadata": {},
     "output_type": "display_data"
    },
    {
     "data": {
      "application/vnd.jupyter.widget-view+json": {
       "model_id": "b9c57446c0d041e19f4bba27bcc2fe9e",
       "version_major": 2,
       "version_minor": 0
      },
      "text/plain": [
       "Resolving data files:   0%|          | 0/153 [00:00<?, ?it/s]"
      ]
     },
     "metadata": {},
     "output_type": "display_data"
    },
    {
     "name": "stdout",
     "output_type": "stream",
     "text": [
      "Train naive classes ('200'): ['blawoo1_flight', 'blawoo1_contact', 'blawoo1_song', 'blawoo1_drumming', 'blawoo1_other', 'blawoo1_excitement', 'carcro1_flight', 'carcro1_contact', 'coatit2_contact', 'coatit2_song', 'coatit2_flight', 'comcha_song', 'comcha_contact', 'comcha_flight', 'comcha_alarm', 'comchi1_song', 'comchi1_contact', 'comchi1_excitement', 'comchi1_flight', 'comchi1_alarm', 'comcuc_song', 'comcuc_sub_song', 'comcuc_contact', 'comcuc_flight', 'firecr1_song', 'firecr1_contact', 'firecr1_flight', 'comnig1_song', 'comnig1_contact', 'comrav_contact', 'comrav_flight', 'comrav_NA', 'cowpig1_song', 'cowpig1_alarm', 'cowpig1_NA', 'cretit2_contact', 'cretit2_song', 'cretit2_other', 'dunnoc1_song', 'dunnoc1_other', 'dunnoc1_flight', 'dunnoc1_contact', 'eurbla_contact', 'eurbla_song', 'eurbla_other', 'eurbla_alarm', 'eurbla_alarm_ground', 'eurbla_flight', 'eurbla_sub_song', 'blackc1_song', 'blackc1_contact', 'blackc1_alarm', 'blackc1_flight', 'blackc1_excitement', 'blackc1_sub_song', 'blutit_contact', 'blutit_song', 'blutit_alarm', 'blutit_flight', 'eurbul_other', 'eurbul_flight', 'eurbul_song', 'eurbul_contact', 'eugwoo2_contact', 'eugwoo2_song', 'eugwoo2_flight', 'eurjac_flight', 'eurjac_contact', 'eurjay1_contact', 'eurjay1_song', 'eurjay1_alarm', 'eurnut2_song', 'eurnut2_contact', 'eurnut2_alarm', 'eurnut2_flight', 'eurnut2_other', 'eurnut2_excitement', 'eursis_flight', 'eursis_contact', 'eursis_other', 'eursis_song', 'skylar_song', 'skylar_contact', 'skylar_flight', 'skylar_other', 'eurtre1_song', 'eurtre1_contact', 'eurwoo_song', 'eurwoo_alarm', 'winwre4_song', 'winwre4_alarm', 'winwre4_contact', 'eurgol_song', 'eurgol_other', 'eurgol_flight', 'eurgol_contact', 'eurgre1_flight', 'eurgre1_song', 'eurgre1_other', 'eurgre1_contact', 'eupfly1_other', 'eupfly1_song', 'eupfly1_contact', 'eupfly1_flight', 'eurrob1_song', 'eurrob1_other', 'eurrob1_alarm', 'eurrob1_contact', 'eurrob1_flight', 'eurrob1_alarm_air', 'eurrob1_sub_song', 'eursta_contact', 'eursta_other', 'eursta_song', 'eursta_flight', 'eutdov_song', 'eutdov_contact', 'fieldf_flight', 'fieldf_contact', 'fieldf_other', 'fieldf_alarm', 'fieldf_song', 'garwar1_song', 'garwar1_contact', 'goldcr1_contact', 'goldcr1_song', 'goldcr1_other', 'gyfwoo1_song', 'gyfwoo1_drumming', 'gyfwoo1_flight', 'gyfwoo1_contact', 'grswoo_drumming', 'grswoo_contact', 'grswoo_song', 'grswoo_other', 'gretit1_song', 'gretit1_contact', 'gretit1_sub_song', 'gretit1_alarm', 'gretit1_flight', 'gretit1_other', 'grewhi1_song', 'grewhi1_contact', 'grewhi1_flight', 'hawfin_contact', 'hawfin_flight', 'martit2_song', 'martit2_contact', 'miswoo1_song', 'miswoo1_contact', 'misthr1_song', 'misthr1_contact', 'misthr1_other', 'misthr1_flight', 'misthr1_alarm', 'norlap_flight', 'norlap_contact', 'norlap_song', 'redcro_flight', 'redcro_excitement', 'redcro_song', 'redcro_alarm', 'redcro_other', 'shttre1_song', 'shttre1_contact', 'sonthr1_song', 'sonthr1_other', 'sonthr1_flight', 'sonthr1_contact', 'sonthr1_alarm', 'sonthr1_drumming', 'spofly1_contact', 'spofly1_other', 'spofly1_song', 'stodov1_song', 'tawowl1_contact', 'tawowl1_song', 'tawowl1_other', 'tawowl1_sub_song', 'tawowl1_excitement', 'trepip_song', 'trepip_flight', 'trepip_contact', 'trepip_alarm', 'whtdip1_flight', 'whtdip1_contact', 'whtdip1_song', 'wiltit1_contact', 'wiltit1_song', 'wiltit1_sub_song', 'wlwwar_song', 'wlwwar_contact', 'woowar_song', 'woowar_contact', 'woowar_sub_song', 'yellow2_song', 'yellow2_contact', 'yellow2_flight', 'yellow2_other', 'NA_NA']\n",
      "Test naive classes ('126'): ['winwre4_song', 'comcha_contact', 'comcha_song', 'gretit1_contact', 'misthr1_flight', 'comcha_flight', 'hawfin_NA', 'coatit2_NA', 'eurrob1_NA', 'blutit_NA', 'grswoo_NA', 'goldcr1_NA', 'yellow2_NA', 'shttre1_NA', 'coatit2_song', 'blutit_song', 'eurgol_flight', 'eurnut2_contact', 'NA_contact', 'blutit_contact', 'dunnoc1_NA', 'sonthr1_NA', 'norlap_NA', 'eurrob1_song', 'sonthr1_song', 'NA_NA', 'eurbla_song', 'martit2_song', 'misthr1_song', 'dunnoc1_song', 'grswoo_drumming', 'eurnut2_song', 'wlwwar_song', 'gretit1_song', 'cowpig1_song', 'eurbla_alarm', 'eurjay1_contact', 'comchi1_song', 'NA_song', 'cretit2_contact', 'goldcr1_song', 'comchi1_contact', 'eugwoo2_song', 'winwre4_contact', 'martit2_contact', 'firecr1_song', 'grswoo_contact', 'stodov1_song', 'sonthr1_flight', 'stodov1_flight', 'eursta_song', 'tawowl1_NA', 'blackc1_song', 'eurrob1_contact', 'shttre1_contact', 'eurbla_alarm_ground', 'shttre1_song', 'eurgre1_flight', 'spofly1_contact', 'goldcr1_contact', 'gyfwoo1_song', 'gyfwoo1_drumming', 'eursta_NA', 'NA_alarm', 'firecr1_contact', 'sonthr1_alarm', 'woowar_song', 'woowar_other', 'comcuc_song', 'eurtre1_song', 'blackc1_contact', 'eurbla_contact', 'hawfin_contact', 'tawowl1_song', 'eupfly1_song', 'miswoo1_song', 'hawfin_flight', 'blawoo1_flight', 'blawoo1_song', 'eutdov_NA', 'eurjac_flight', 'yellow2_contact', 'dunnoc1_flight', 'yellow2_song', 'wiltit1_song', 'wiltit1_NA', 'whtdip1_flight', 'eurbul_flight', 'gretit1_alarm', 'NA_alarm_air', 'eurgre1_song', 'coatit2_contact', 'cowpig1_drumming', 'redcro_excitement', 'eursis_song', 'fieldf_flight', 'carcro1_contact', 'skylar_song', 'martit2_sub_song', 'blawoo1_excitement', 'blawoo1_contact', 'redcro_flight', 'grewhi1_song', 'eurtre1_contact', 'comnig1_song', 'comrav_contact', 'redcro_song', 'firecr1_sub_song', 'garwar1_song', 'winwre4_alarm', 'trepip_flight', 'trepip_song', 'eurwoo_song', 'eurbul_NA', 'eursis_flight', 'eursis_contact', 'blackc1_alarm', 'comchi1_alarm', 'comcha_alarm', 'NA_flight', 'blutit_flight', 'comrav_flight', 'eursis_sub_song', 'sonthr1_contact', 'eurbla_flight', 'comcha_sub_song']\n",
      "Train blacklist ('102'): {'fieldf_song', 'tawowl1_other', 'eurrob1_sub_song', 'goldcr1_other', 'cretit2_other', 'skylar_contact', 'blawoo1_drumming', 'cowpig1_alarm', 'yellow2_other', 'eupfly1_other', 'blackc1_sub_song', 'eurrob1_flight', 'gyfwoo1_contact', 'eurgol_contact', 'gretit1_sub_song', 'eursta_contact', 'woowar_contact', 'misthr1_other', 'tawowl1_contact', 'wiltit1_contact', 'eurjay1_song', 'eutdov_song', 'eurgre1_contact', 'eurgol_song', 'tawowl1_sub_song', 'eurbul_song', 'wlwwar_contact', 'grswoo_song', 'spofly1_song', 'eurbla_other', 'trepip_alarm', 'cowpig1_NA', 'eurnut2_alarm', 'eursta_other', 'grewhi1_flight', 'fieldf_alarm', 'gretit1_flight', 'whtdip1_contact', 'blackc1_excitement', 'comchi1_excitement', 'comnig1_contact', 'wiltit1_sub_song', 'coatit2_flight', 'eurrob1_other', 'skylar_other', 'eurgre1_other', 'eurrob1_alarm_air', 'comrav_NA', 'eurbul_other', 'garwar1_contact', 'eurnut2_flight', 'redcro_alarm', 'tawowl1_excitement', 'miswoo1_contact', 'carcro1_flight', 'firecr1_flight', 'eurjay1_alarm', 'eugwoo2_contact', 'eutdov_contact', 'gyfwoo1_flight', 'sonthr1_drumming', 'eupfly1_contact', 'blackc1_flight', 'eurbla_sub_song', 'whtdip1_song', 'eurwoo_alarm', 'spofly1_other', 'eupfly1_flight', 'grewhi1_contact', 'blutit_alarm', 'comcuc_contact', 'skylar_flight', 'dunnoc1_other', 'woowar_sub_song', 'comcuc_sub_song', 'redcro_other', 'norlap_song', 'sonthr1_other', 'trepip_contact', 'misthr1_alarm', 'grswoo_other', 'cretit2_song', 'eurrob1_alarm', 'norlap_flight', 'yellow2_flight', 'eurgol_other', 'eurnut2_other', 'eugwoo2_flight', 'comchi1_flight', 'fieldf_other', 'eurnut2_excitement', 'norlap_contact', 'eursta_flight', 'eurbul_contact', 'comcuc_flight', 'eurjac_contact', 'misthr1_contact', 'eursis_other', 'dunnoc1_contact', 'fieldf_contact', 'gretit1_other', 'blawoo1_other'}\n",
      "Test blacklist ('28'): {'sonthr1_NA', 'dunnoc1_NA', 'firecr1_sub_song', 'tawowl1_NA', 'yellow2_NA', 'blutit_NA', 'NA_alarm', 'wiltit1_NA', 'NA_alarm_air', 'eutdov_NA', 'martit2_sub_song', 'coatit2_NA', 'hawfin_NA', 'NA_contact', 'norlap_NA', 'cowpig1_drumming', 'stodov1_flight', 'NA_song', 'eurrob1_NA', 'grswoo_NA', 'comcha_sub_song', 'shttre1_NA', 'woowar_other', 'eursta_NA', 'goldcr1_NA', 'eursis_sub_song', 'NA_flight', 'eurbul_NA'}\n",
      "Train classes before / after filtering: 200 / 98\n",
      "Test classes before / after filtering: 126 / 98\n",
      "Train before / after filtering: 91771 / 84933\n",
      "Test before / after filtering: 15950 / 15552\n"
     ]
    }
   ],
   "source": [
    "generate_blacklist(\n",
    "    load_train_dataset(\"/workspace/projects/callbird/call_type_mappings/same_space_map\", None, False),\n",
    "    load_test_dataset(\"/workspace/projects/callbird/call_type_mappings/same_space_map\", None, False, \"NA\"),\n",
    "    \"same_space\"\n",
    ")"
   ]
  },
  {
   "cell_type": "code",
   "execution_count": null,
   "id": "19cd2c46",
   "metadata": {},
   "outputs": [],
   "source": [
    "generate_blacklist(\n",
    "    load_train_dataset(\"/workspace/projects/callbird/call_type_mappings/alarm_merge_map\", None, False),\n",
    "    load_test_dataset(\"/workspace/projects/callbird/call_type_mappings/alarm_merge_map\", None, False, \"NA\"),\n",
    "    \"alarm_merge\"\n",
    ")"
   ]
  }
 ],
 "metadata": {
  "kernelspec": {
   "display_name": "birdset-xS3fZVNL-py3.10",
   "language": "python",
   "name": "python3"
  },
  "language_info": {
   "codemirror_mode": {
    "name": "ipython",
    "version": 3
   },
   "file_extension": ".py",
   "mimetype": "text/x-python",
   "name": "python",
   "nbconvert_exporter": "python",
   "pygments_lexer": "ipython3",
   "version": "3.10.12"
  }
 },
 "nbformat": 4,
 "nbformat_minor": 5
}
