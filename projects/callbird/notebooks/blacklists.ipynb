{
 "cells": [
  {
   "cell_type": "code",
   "execution_count": 1,
   "id": "503b0f45",
   "metadata": {},
   "outputs": [],
   "source": [
    "def generate_blacklist(train_dataset, test_dataset, name):\n",
    "    train_ebird_call_codes = train_dataset[\"train\"].unique(\"ebird_code_and_call\")\n",
    "    test_ebird_call_codes = test_dataset[\"train\"].unique(\"ebird_code_and_call\")\n",
    "\n",
    "    print(f\"Train naive classes ('{len(train_ebird_call_codes)}'):\", train_ebird_call_codes)\n",
    "    print(f\"Test naive classes ('{len(test_ebird_call_codes)}'):\", test_ebird_call_codes)\n",
    "\n",
    "    train_blacklist = set(train_ebird_call_codes) - set(test_ebird_call_codes)\n",
    "    test_blacklist = set(test_ebird_call_codes) - set(train_ebird_call_codes)\n",
    "\n",
    "    print(f\"Train blacklist ('{len(train_blacklist)}'):\", train_blacklist)\n",
    "    print(f\"Test blacklist ('{len(test_blacklist)}'):\", test_blacklist)\n",
    "\n",
    "    with open(f\"/workspace/projects/callbird/blacklists/{name}_train.txt\", \"w\") as f:\n",
    "        f.write(\"# eBird codes not present in the test set\\n\")\n",
    "        for code in train_blacklist:\n",
    "            f.write(f\"{code}\\n\")\n",
    "\n",
    "    with open(f\"/workspace/projects/callbird/blacklists/{name}_test.txt\", \"w\") as f:\n",
    "        f.write(\"# eBird codes not present in the train set\\n\")\n",
    "        for code in test_blacklist:\n",
    "            f.write(f\"{code}\\n\")\n",
    "\n",
    "    # Apply blacklist to datasets\n",
    "    filtered_train_dataset = train_dataset.filter(lambda example: example[\"ebird_code_and_call\"] not in train_blacklist)\n",
    "    filtered_test_dataset = test_dataset.filter(lambda example: example[\"ebird_code_and_call\"] not in test_blacklist)\n",
    "\n",
    "    filtered_train = filtered_train_dataset[\"train\"]\n",
    "    filtered_test = filtered_test_dataset[\"train\"]\n",
    "    train_train = train_dataset[\"train\"]\n",
    "    test_train = test_dataset[\"train\"]\n",
    "    print(f\"Train classes before / after filtering: {len(train_ebird_call_codes)} / {len(filtered_train.unique('ebird_code_and_call'))}\")\n",
    "    print(f\"Test classes before / after filtering: {len(test_ebird_call_codes)} / {len(filtered_test.unique('ebird_code_and_call'))}\")\n",
    "    print(f\"Train before / after filtering: {len(train_train)} / {len(filtered_train)}\")\n",
    "    print(f\"Test before / after filtering: {len(test_train)} / {len(filtered_test)}\")"
   ]
  },
  {
   "cell_type": "code",
   "execution_count": 2,
   "id": "b33697c6",
   "metadata": {},
   "outputs": [],
   "source": [
    "from callbird.src.datasets.load_test_dataset import load_test_dataset\n",
    "from callbird.src.datasets.load_train_dataset import load_train_dataset"
   ]
  },
  {
   "cell_type": "code",
   "execution_count": null,
   "id": "cdec87b1",
   "metadata": {},
   "outputs": [],
   "source": [
    "generate_blacklist(\n",
    "    load_train_dataset(\"/workspace/projects/callbird/call_type_mappings/same_space_map\", None, False),\n",
    "    load_test_dataset(\"/workspace/projects/callbird/call_type_mappings/same_space_map\", None, False, \"NA\"),\n",
    "    \"same_space\"\n",
    ")"
   ]
  },
  {
   "cell_type": "code",
   "execution_count": null,
   "id": "19cd2c46",
   "metadata": {},
   "outputs": [],
   "source": [
    "generate_blacklist(\n",
    "    load_train_dataset(\"/workspace/projects/callbird/call_type_mappings/alarm_merge_map\", None, False),\n",
    "    load_test_dataset(\"/workspace/projects/callbird/call_type_mappings/alarm_merge_map\", None, False, \"NA\"),\n",
    "    \"alarm_merge\"\n",
    ")"
   ]
  },
  {
   "cell_type": "code",
   "execution_count": null,
   "id": "dacb3412",
   "metadata": {},
   "outputs": [
    {
     "ename": "TypeError",
     "evalue": "load_train_dataset() missing 1 required positional argument: 'limit_samples'",
     "output_type": "error",
     "traceback": [
      "\u001b[0;31m---------------------------------------------------------------------------\u001b[0m",
      "\u001b[0;31mTypeError\u001b[0m                                 Traceback (most recent call last)",
      "Cell \u001b[0;32mIn[3], line 2\u001b[0m\n\u001b[1;32m      1\u001b[0m generate_blacklist(\n\u001b[0;32m----> 2\u001b[0m     \u001b[43mload_train_dataset\u001b[49m\u001b[43m(\u001b[49m\u001b[38;5;124;43m\"\u001b[39;49m\u001b[38;5;124;43m/workspace/projects/callbird/call_type_mappings/unspecified_map\u001b[39;49m\u001b[38;5;124;43m\"\u001b[39;49m\u001b[43m,\u001b[49m\u001b[43m \u001b[49m\u001b[38;5;28;43;01mNone\u001b[39;49;00m\u001b[43m,\u001b[49m\u001b[43m \u001b[49m\u001b[38;5;28;43;01mFalse\u001b[39;49;00m\u001b[43m)\u001b[49m,\n\u001b[1;32m      3\u001b[0m     load_test_dataset(\u001b[38;5;124m\"\u001b[39m\u001b[38;5;124m/workspace/projects/callbird/call_type_mappings/unspecified_map\u001b[39m\u001b[38;5;124m\"\u001b[39m, \u001b[38;5;28;01mNone\u001b[39;00m, \u001b[38;5;28;01mFalse\u001b[39;00m, \u001b[38;5;124m\"\u001b[39m\u001b[38;5;124mNA\u001b[39m\u001b[38;5;124m\"\u001b[39m),\n\u001b[1;32m      4\u001b[0m     \u001b[38;5;124m\"\u001b[39m\u001b[38;5;124munspecified\u001b[39m\u001b[38;5;124m\"\u001b[39m\n\u001b[1;32m      5\u001b[0m )\n",
      "\u001b[0;31mTypeError\u001b[0m: load_train_dataset() missing 1 required positional argument: 'limit_samples'"
     ]
    }
   ],
   "source": [
    "generate_blacklist(\n",
    "    load_train_dataset(\"/workspace/projects/callbird/call_type_mappings/unspecified_map\", None, False, True),\n",
    "    load_test_dataset(\"/workspace/projects/callbird/call_type_mappings/unspecified_map\", None, False, \"NA\"),\n",
    "    \"unspecified\"\n",
    ")"
   ]
  }
 ],
 "metadata": {
  "kernelspec": {
   "display_name": "birdset-xS3fZVNL-py3.10",
   "language": "python",
   "name": "python3"
  },
  "language_info": {
   "codemirror_mode": {
    "name": "ipython",
    "version": 3
   },
   "file_extension": ".py",
   "mimetype": "text/x-python",
   "name": "python",
   "nbconvert_exporter": "python",
   "pygments_lexer": "ipython3",
   "version": "3.10.12"
  }
 },
 "nbformat": 4,
 "nbformat_minor": 5
}
