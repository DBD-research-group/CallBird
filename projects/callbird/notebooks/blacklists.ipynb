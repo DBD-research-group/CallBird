{
 "cells": [
  {
   "cell_type": "code",
   "execution_count": 1,
   "id": "503b0f45",
   "metadata": {},
   "outputs": [],
   "source": [
    "def generate_blacklist(train_dataset, test_dataset, name):\n",
    "    train_ebird_call_codes = train_dataset[\"train\"].unique(\"ebird_code_and_call\")\n",
    "    test_ebird_call_codes = test_dataset[\"train\"].unique(\"ebird_code_and_call\")\n",
    "\n",
    "    print(f\"Train naive classes ('{len(train_ebird_call_codes)}'):\", train_ebird_call_codes)\n",
    "    print(f\"Test naive classes ('{len(test_ebird_call_codes)}'):\", test_ebird_call_codes)\n",
    "\n",
    "    train_blacklist = set(train_ebird_call_codes) - set(test_ebird_call_codes)\n",
    "    test_blacklist = set(test_ebird_call_codes) - set(train_ebird_call_codes)\n",
    "\n",
    "    print(f\"Train blacklist ('{len(train_blacklist)}'):\", train_blacklist)\n",
    "    print(f\"Test blacklist ('{len(test_blacklist)}'):\", test_blacklist)\n",
    "\n",
    "    with open(f\"/workspace/projects/callbird/blacklists/{name}_train.txt\", \"w\") as f:\n",
    "        f.write(\"# eBird codes not present in the test set\\n\")\n",
    "        for code in train_blacklist:\n",
    "            f.write(f\"{code}\\n\")\n",
    "\n",
    "    with open(f\"/workspace/projects/callbird/blacklists/{name}_test.txt\", \"w\") as f:\n",
    "        f.write(\"# eBird codes not present in the train set\\n\")\n",
    "        for code in test_blacklist:\n",
    "            f.write(f\"{code}\\n\")\n",
    "\n",
    "    # Apply blacklist to datasets\n",
    "    filtered_train_dataset = train_dataset.filter(lambda example: example[\"ebird_code_and_call\"] not in train_blacklist)\n",
    "    filtered_test_dataset = test_dataset.filter(lambda example: example[\"ebird_code_and_call\"] not in test_blacklist)\n",
    "\n",
    "    filtered_train = filtered_train_dataset[\"train\"]\n",
    "    filtered_test = filtered_test_dataset[\"train\"]\n",
    "    train_train = train_dataset[\"train\"]\n",
    "    test_train = test_dataset[\"train\"]\n",
    "    print(f\"Train classes before / after filtering: {len(train_ebird_call_codes)} / {len(filtered_train.unique('ebird_code_and_call'))}\")\n",
    "    print(f\"Test classes before / after filtering: {len(test_ebird_call_codes)} / {len(filtered_test.unique('ebird_code_and_call'))}\")\n",
    "    print(f\"Train before / after filtering: {len(train_train)} / {len(filtered_train)}\")\n",
    "    print(f\"Test before / after filtering: {len(test_train)} / {len(filtered_test)}\")"
   ]
  },
  {
   "cell_type": "code",
   "execution_count": 2,
   "id": "b33697c6",
   "metadata": {},
   "outputs": [],
   "source": [
    "from callbird.src.datasets.load_test_dataset import load_test_dataset\n",
    "from callbird.src.datasets.load_train_dataset import load_train_dataset"
   ]
  },
  {
   "cell_type": "code",
   "execution_count": null,
   "id": "cdec87b1",
   "metadata": {},
   "outputs": [],
   "source": [
    "generate_blacklist(\n",
    "    load_train_dataset(\"/workspace/projects/callbird/call_type_mappings/same_space_map\", None, False),\n",
    "    load_test_dataset(\"/workspace/projects/callbird/call_type_mappings/same_space_map\", None, False, \"NA\"),\n",
    "    \"same_space\"\n",
    ")"
   ]
  },
  {
   "cell_type": "code",
   "execution_count": null,
   "id": "19cd2c46",
   "metadata": {},
   "outputs": [],
   "source": [
    "generate_blacklist(\n",
    "    load_train_dataset(\"/workspace/projects/callbird/call_type_mappings/alarm_merge_map\", None, False),\n",
    "    load_test_dataset(\"/workspace/projects/callbird/call_type_mappings/alarm_merge_map\", None, False, \"NA\"),\n",
    "    \"alarm_merge\"\n",
    ")"
   ]
  },
  {
   "cell_type": "code",
   "execution_count": 6,
   "id": "dacb3412",
   "metadata": {},
   "outputs": [
    {
     "data": {
      "application/vnd.jupyter.widget-view+json": {
       "model_id": "9e84dd398e3c41f39e066cb83c896bca",
       "version_major": 2,
       "version_minor": 0
      },
      "text/plain": [
       "Resolving data files:   0%|          | 0/56 [00:00<?, ?it/s]"
      ]
     },
     "metadata": {},
     "output_type": "display_data"
    },
    {
     "data": {
      "application/vnd.jupyter.widget-view+json": {
       "model_id": "f4a0fe2eb2a94535862d6b3d01c08cda",
       "version_major": 2,
       "version_minor": 0
      },
      "text/plain": [
       "Filter:   0%|          | 0/52167 [00:00<?, ? examples/s]"
      ]
     },
     "metadata": {},
     "output_type": "display_data"
    },
    {
     "data": {
      "application/vnd.jupyter.widget-view+json": {
       "model_id": "82f6715946244cf6a43f4ca14d593801",
       "version_major": 2,
       "version_minor": 0
      },
      "text/plain": [
       "Map:   0%|          | 0/52167 [00:00<?, ? examples/s]"
      ]
     },
     "metadata": {},
     "output_type": "display_data"
    },
    {
     "data": {
      "application/vnd.jupyter.widget-view+json": {
       "model_id": "4084b149bee341de82cdd771bd62ab96",
       "version_major": 2,
       "version_minor": 0
      },
      "text/plain": [
       "Map:   0%|          | 0/52167 [00:00<?, ? examples/s]"
      ]
     },
     "metadata": {},
     "output_type": "display_data"
    },
    {
     "data": {
      "application/vnd.jupyter.widget-view+json": {
       "model_id": "1d4ebdee43c34d4187524b6e5ba6c370",
       "version_major": 2,
       "version_minor": 0
      },
      "text/plain": [
       "Resolving data files:   0%|          | 0/153 [00:00<?, ?it/s]"
      ]
     },
     "metadata": {},
     "output_type": "display_data"
    },
    {
     "data": {
      "application/vnd.jupyter.widget-view+json": {
       "model_id": "0b9d5e0ea7564ed8a0d1fd6b969fb99b",
       "version_major": 2,
       "version_minor": 0
      },
      "text/plain": [
       "Map:   0%|          | 0/15950 [00:00<?, ? examples/s]"
      ]
     },
     "metadata": {},
     "output_type": "display_data"
    },
    {
     "data": {
      "application/vnd.jupyter.widget-view+json": {
       "model_id": "e9b9fa2de8694e988568ed5a862d5725",
       "version_major": 2,
       "version_minor": 0
      },
      "text/plain": [
       "Map:   0%|          | 0/15950 [00:00<?, ? examples/s]"
      ]
     },
     "metadata": {},
     "output_type": "display_data"
    },
    {
     "data": {
      "application/vnd.jupyter.widget-view+json": {
       "model_id": "e38ecb292ccc48a29ac2fe542594750a",
       "version_major": 2,
       "version_minor": 0
      },
      "text/plain": [
       "Filter:   0%|          | 0/15950 [00:00<?, ? examples/s]"
      ]
     },
     "metadata": {},
     "output_type": "display_data"
    },
    {
     "data": {
      "application/vnd.jupyter.widget-view+json": {
       "model_id": "5c697711d8a542d28f91e7d135d7860a",
       "version_major": 2,
       "version_minor": 0
      },
      "text/plain": [
       "Filter:   0%|          | 0/15950 [00:00<?, ? examples/s]"
      ]
     },
     "metadata": {},
     "output_type": "display_data"
    },
    {
     "data": {
      "application/vnd.jupyter.widget-view+json": {
       "model_id": "8e879ee7b88a45acab57f26b0e4e5777",
       "version_major": 2,
       "version_minor": 0
      },
      "text/plain": [
       "Map:   0%|          | 0/15009 [00:00<?, ? examples/s]"
      ]
     },
     "metadata": {},
     "output_type": "display_data"
    },
    {
     "data": {
      "application/vnd.jupyter.widget-view+json": {
       "model_id": "e8dfeb4974a346cbaa4961f2e8551ca6",
       "version_major": 2,
       "version_minor": 0
      },
      "text/plain": [
       "Map:   0%|          | 0/15009 [00:00<?, ? examples/s]"
      ]
     },
     "metadata": {},
     "output_type": "display_data"
    },
    {
     "name": "stdout",
     "output_type": "stream",
     "text": [
      "Train naive classes ('188'): ['blawoo1_flight', 'blawoo1_contact', 'blawoo1_drumming', 'blawoo1_other', 'blawoo1_excitement', 'carcro1_flight', 'carcro1_contact', 'coatit2_contact', 'coatit2_flight', 'comcha_contact', 'comcha_flight', 'comcha_alarm', 'comchi1_contact', 'comchi1_excitement', 'comchi1_flight', 'comchi1_alarm', 'comcuc_song', 'comcuc_contact', 'comcuc_flight', 'firecr1_contact', 'firecr1_flight', 'comnig1_contact', 'comrav_contact', 'comrav_flight', 'comrav_NA', 'cowpig1_alarm', 'cowpig1_NA', 'cretit2_contact', 'cretit2_other', 'dunnoc1_other', 'dunnoc1_flight', 'dunnoc1_contact', 'eurbla_contact', 'eurbla_other', 'eurbla_alarm', 'eurbla_flight', 'eurbla_song', 'blackc1_contact', 'blackc1_alarm', 'blackc1_flight', 'blackc1_excitement', 'blackc1_song', 'blutit_contact', 'blutit_alarm', 'blutit_flight', 'eurbul_other', 'eurbul_flight', 'eurbul_contact', 'eugwoo2_contact', 'eugwoo2_flight', 'eurjac_flight', 'eurjac_contact', 'eurjay1_contact', 'eurjay1_alarm', 'eurnut2_contact', 'eurnut2_alarm', 'eurnut2_flight', 'eurnut2_other', 'eurnut2_excitement', 'eursis_flight', 'eursis_contact', 'eursis_other', 'skylar_contact', 'skylar_flight', 'skylar_other', 'eurtre1_contact', 'eurwoo_alarm', 'winwre4_alarm', 'winwre4_contact', 'eurgol_other', 'eurgol_flight', 'eurgol_contact', 'eurgre1_flight', 'eurgre1_other', 'eurgre1_contact', 'eupfly1_other', 'eupfly1_contact', 'eupfly1_flight', 'eurrob1_other', 'eurrob1_alarm', 'eurrob1_contact', 'eurrob1_flight', 'eurrob1_song', 'eursta_contact', 'eursta_other', 'eursta_flight', 'eutdov_contact', 'fieldf_flight', 'fieldf_contact', 'fieldf_other', 'fieldf_alarm', 'garwar1_contact', 'goldcr1_contact', 'goldcr1_other', 'gyfwoo1_drumming', 'gyfwoo1_flight', 'gyfwoo1_contact', 'gretit1_contact', 'gretit1_song', 'gretit1_alarm', 'gretit1_flight', 'gretit1_other', 'grewhi1_contact', 'grewhi1_flight', 'hawfin_contact', 'hawfin_flight', 'martit2_contact', 'miswoo1_contact', 'misthr1_contact', 'misthr1_other', 'misthr1_flight', 'misthr1_alarm', 'norlap_flight', 'norlap_contact', 'redcro_flight', 'redcro_excitement', 'redcro_alarm', 'redcro_other', 'shttre1_contact', 'sonthr1_other', 'sonthr1_flight', 'sonthr1_contact', 'sonthr1_alarm', 'sonthr1_drumming', 'spofly1_contact', 'spofly1_other', 'tawowl1_contact', 'tawowl1_other', 'tawowl1_song', 'tawowl1_excitement', 'trepip_flight', 'trepip_contact', 'trepip_alarm', 'whtdip1_flight', 'whtdip1_contact', 'wiltit1_contact', 'wiltit1_song', 'wlwwar_contact', 'woowar_contact', 'woowar_song', 'yellow2_contact', 'yellow2_flight', 'yellow2_other', 'NA_NA', 'grswoo_drumming', 'grswoo_contact', 'grswoo_other', 'stodov1_song', 'comnig1_song', 'sonthr1_song', 'cowpig1_song', 'winwre4_song', 'comchi1_song', 'dunnoc1_song', 'wlwwar_song', 'eurwoo_song', 'gyfwoo1_song', 'coatit2_song', 'eugwoo2_song', 'comcha_song', 'redcro_song', 'trepip_song', 'blawoo1_song', 'eupfly1_song', 'misthr1_song', 'firecr1_song', 'goldcr1_song', 'blutit_song', 'martit2_song', 'miswoo1_song', 'eurtre1_song', 'eurnut2_song', 'yellow2_song', 'garwar1_song', 'eursta_song', 'eutdov_song', 'eurgre1_song', 'grewhi1_song', 'shttre1_song', 'skylar_song', 'cretit2_song', 'norlap_song', 'grswoo_song', 'eurgol_song', 'fieldf_song', 'eurjay1_song', 'eursis_song', 'whtdip1_song']\n",
      "Test naive classes ('116'): ['winwre4_song', 'comcha_contact', 'comcha_song', 'gretit1_contact', 'misthr1_flight', 'comcha_flight', 'hawfin_filter', 'coatit2_filter', 'eurrob1_filter', 'blutit_filter', 'grswoo_filter', 'goldcr1_filter', 'yellow2_filter', 'shttre1_filter', 'coatit2_song', 'blutit_song', 'eurgol_flight', 'eurnut2_contact', 'blutit_contact', 'dunnoc1_filter', 'sonthr1_filter', 'norlap_filter', 'eurrob1_song', 'sonthr1_song', 'eurbla_song', 'martit2_song', 'misthr1_song', 'dunnoc1_song', 'grswoo_drumming', 'eurnut2_song', 'wlwwar_song', 'gretit1_song', 'cowpig1_song', 'NA_NA', 'eurbla_alarm', 'eurjay1_contact', 'comchi1_song', 'cretit2_contact', 'goldcr1_song', 'comchi1_contact', 'eugwoo2_song', 'winwre4_contact', 'martit2_contact', 'firecr1_song', 'grswoo_contact', 'stodov1_song', 'sonthr1_flight', 'stodov1_flight', 'eursta_song', 'tawowl1_filter', 'blackc1_song', 'eurrob1_contact', 'shttre1_contact', 'shttre1_song', 'eurgre1_flight', 'spofly1_contact', 'goldcr1_contact', 'gyfwoo1_song', 'gyfwoo1_drumming', 'eursta_filter', 'firecr1_contact', 'sonthr1_alarm', 'woowar_song', 'woowar_other', 'comcuc_song', 'eurtre1_song', 'blackc1_contact', 'eurbla_contact', 'hawfin_contact', 'tawowl1_song', 'eupfly1_song', 'miswoo1_song', 'hawfin_flight', 'blawoo1_flight', 'blawoo1_song', 'eutdov_filter', 'eurjac_flight', 'yellow2_contact', 'dunnoc1_flight', 'yellow2_song', 'wiltit1_song', 'wiltit1_filter', 'whtdip1_flight', 'eurbul_flight', 'gretit1_alarm', 'eurgre1_song', 'coatit2_contact', 'cowpig1_drumming', 'redcro_excitement', 'eursis_song', 'fieldf_flight', 'carcro1_contact', 'skylar_song', 'blawoo1_excitement', 'blawoo1_contact', 'redcro_flight', 'grewhi1_song', 'eurtre1_contact', 'comnig1_song', 'comrav_contact', 'redcro_song', 'garwar1_song', 'winwre4_alarm', 'trepip_flight', 'trepip_song', 'eurwoo_song', 'eurbul_filter', 'eursis_flight', 'eursis_contact', 'blackc1_alarm', 'comchi1_alarm', 'comcha_alarm', 'blutit_flight', 'comrav_flight', 'sonthr1_contact', 'eurbla_flight']\n",
      "Train blacklist ('91'): {'eurrob1_alarm', 'grswoo_other', 'tawowl1_excitement', 'firecr1_flight', 'norlap_contact', 'blackc1_excitement', 'eurbla_other', 'eurgol_other', 'eurjay1_song', 'eugwoo2_flight', 'eugwoo2_contact', 'eurjay1_alarm', 'grewhi1_contact', 'blawoo1_other', 'eutdov_song', 'blawoo1_drumming', 'eurnut2_excitement', 'fieldf_contact', 'eurnut2_other', 'eursis_other', 'whtdip1_song', 'yellow2_flight', 'comcuc_contact', 'norlap_song', 'grewhi1_flight', 'eursta_flight', 'eurrob1_flight', 'cowpig1_alarm', 'eurgre1_other', 'trepip_contact', 'eupfly1_contact', 'gretit1_flight', 'dunnoc1_contact', 'fieldf_alarm', 'eurwoo_alarm', 'coatit2_flight', 'misthr1_other', 'cowpig1_NA', 'woowar_contact', 'eursta_other', 'tawowl1_contact', 'tawowl1_other', 'skylar_contact', 'eurnut2_alarm', 'spofly1_other', 'goldcr1_other', 'wiltit1_contact', 'comchi1_excitement', 'eurjac_contact', 'cretit2_song', 'eurnut2_flight', 'garwar1_contact', 'gretit1_other', 'gyfwoo1_flight', 'eutdov_contact', 'redcro_other', 'fieldf_other', 'comchi1_flight', 'eurgol_contact', 'sonthr1_other', 'eupfly1_flight', 'norlap_flight', 'eupfly1_other', 'comrav_NA', 'skylar_other', 'blutit_alarm', 'blackc1_flight', 'carcro1_flight', 'eursta_contact', 'fieldf_song', 'redcro_alarm', 'skylar_flight', 'misthr1_alarm', 'eurgol_song', 'comnig1_contact', 'eurbul_contact', 'misthr1_contact', 'trepip_alarm', 'gyfwoo1_contact', 'comcuc_flight', 'eurgre1_contact', 'miswoo1_contact', 'grswoo_song', 'cretit2_other', 'yellow2_other', 'wlwwar_contact', 'dunnoc1_other', 'eurbul_other', 'whtdip1_contact', 'eurrob1_other', 'sonthr1_drumming'}\n",
      "Test blacklist ('19'): {'cowpig1_drumming', 'dunnoc1_filter', 'eursta_filter', 'woowar_other', 'norlap_filter', 'sonthr1_filter', 'coatit2_filter', 'eurrob1_filter', 'goldcr1_filter', 'tawowl1_filter', 'eurbul_filter', 'blutit_filter', 'stodov1_flight', 'hawfin_filter', 'yellow2_filter', 'shttre1_filter', 'wiltit1_filter', 'eutdov_filter', 'grswoo_filter'}\n"
     ]
    },
    {
     "data": {
      "application/vnd.jupyter.widget-view+json": {
       "model_id": "7a8461a12f8447fc9583e7d5a775d567",
       "version_major": 2,
       "version_minor": 0
      },
      "text/plain": [
       "Filter:   0%|          | 0/52167 [00:00<?, ? examples/s]"
      ]
     },
     "metadata": {},
     "output_type": "display_data"
    },
    {
     "data": {
      "application/vnd.jupyter.widget-view+json": {
       "model_id": "25fb297bfe4e4804be99bc4e4ea00470",
       "version_major": 2,
       "version_minor": 0
      },
      "text/plain": [
       "Filter:   0%|          | 0/15009 [00:00<?, ? examples/s]"
      ]
     },
     "metadata": {},
     "output_type": "display_data"
    },
    {
     "data": {
      "application/vnd.jupyter.widget-view+json": {
       "model_id": "5b041479da184e728538273a39b056e7",
       "version_major": 2,
       "version_minor": 0
      },
      "text/plain": [
       "Flattening the indices:   0%|          | 0/45474 [00:00<?, ? examples/s]"
      ]
     },
     "metadata": {},
     "output_type": "display_data"
    },
    {
     "name": "stdout",
     "output_type": "stream",
     "text": [
      "Train classes before / after filtering: 188 / 97\n"
     ]
    },
    {
     "data": {
      "application/vnd.jupyter.widget-view+json": {
       "model_id": "05e436900c1b47c1852e5855c8a3b24e",
       "version_major": 2,
       "version_minor": 0
      },
      "text/plain": [
       "Flattening the indices:   0%|          | 0/14971 [00:00<?, ? examples/s]"
      ]
     },
     "metadata": {},
     "output_type": "display_data"
    },
    {
     "name": "stdout",
     "output_type": "stream",
     "text": [
      "Test classes before / after filtering: 116 / 97\n",
      "Train before / after filtering: 52167 / 45474\n",
      "Test before / after filtering: 15009 / 14971\n"
     ]
    }
   ],
   "source": [
    "generate_blacklist(\n",
    "    load_train_dataset(\"/workspace/projects/callbird/call_type_mappings/unspecified_map\", None, False, True),\n",
    "    load_test_dataset(\"/workspace/projects/callbird/call_type_mappings/unspecified_map\", None, False, \"NA\"),\n",
    "    \"unspecified\"\n",
    ")"
   ]
  }
 ],
 "metadata": {
  "kernelspec": {
   "display_name": "birdset-xS3fZVNL-py3.10",
   "language": "python",
   "name": "python3"
  },
  "language_info": {
   "codemirror_mode": {
    "name": "ipython",
    "version": 3
   },
   "file_extension": ".py",
   "mimetype": "text/x-python",
   "name": "python",
   "nbconvert_exporter": "python",
   "pygments_lexer": "ipython3",
   "version": "3.10.12"
  }
 },
 "nbformat": 4,
 "nbformat_minor": 5
}
