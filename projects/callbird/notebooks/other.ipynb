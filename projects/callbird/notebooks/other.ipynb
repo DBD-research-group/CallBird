{
 "cells": [
  {
   "cell_type": "code",
   "execution_count": null,
   "id": "e30d0e27",
   "metadata": {},
   "outputs": [],
   "source": [
    "from datasets import load_dataset, Features, Value\n",
    "from callbird.src.datasets.load_test_dataset import load_test_dataset\n",
    "from callbird.src.datasets.load_train_dataset import load_train_dataset\n",
    "from callbird.src.readUtils import readCommentedList, readLabeledMapping"
   ]
  },
  {
   "cell_type": "code",
   "execution_count": null,
   "id": "b8632185",
   "metadata": {},
   "outputs": [
    {
     "data": {
      "application/vnd.jupyter.widget-view+json": {
       "model_id": "50d81016d1b247de8da6081cac7545da",
       "version_major": 2,
       "version_minor": 0
      },
      "text/plain": [
       "Resolving data files:   0%|          | 0/153 [00:00<?, ?it/s]"
      ]
     },
     "metadata": {},
     "output_type": "display_data"
    },
    {
     "data": {
      "application/vnd.jupyter.widget-view+json": {
       "model_id": "dadcd97c37cf4461acf4a90332970c62",
       "version_major": 2,
       "version_minor": 0
      },
      "text/plain": [
       "Resolving data files:   0%|          | 0/56 [00:00<?, ?it/s]"
      ]
     },
     "metadata": {},
     "output_type": "display_data"
    },
    {
     "name": "stdout",
     "output_type": "stream",
     "text": [
      "Number of samples (train/test): 91771 / 16020\n"
     ]
    }
   ],
   "source": [
    "raw_test_dataset = load_dataset(\n",
    "    \"csv\",\n",
    "    data_files = \"/workspace/oekofor/testset/labels/*.csv\",\n",
    "    cache_dir = None,\n",
    "    num_proc = 1,\n",
    "    trust_remote_code = True, # While not needed for local datasets, it is kept for consistency\n",
    ")\n",
    "\n",
    "raw_train_dataset = load_dataset(\n",
    "    \"csv\",\n",
    "    data_files = \"/workspace/oekofor/trainset/csvlabels/*.csv\",\n",
    "    delimiter=\";\",\n",
    "    cache_dir = None,\n",
    "    features = Features({ # TODO: Add all features available in BirdSet\n",
    "        \"ebird_code\": Value(\"string\"),\n",
    "        \"call_type\": Value(\"string\"),\n",
    "        \"common_name\": Value(\"string\"),\n",
    "    }),\n",
    "    num_proc = 1,\n",
    "    trust_remote_code = True, # While not needed for local datasets, it is kept for consistency\n",
    ")\n",
    "\n",
    "print(f\"Number of samples (train/test): {len(raw_train_dataset['train'])} / {len(raw_test_dataset['train'])}\")\n",
    "\n",
    "blacklist_ebird = readCommentedList(\"/workspace/projects/callbird/datastats/test/blacklist_ebird.txt\")\n",
    "raw_test_dataset = raw_test_dataset.filter(lambda x: x[\"ebird_code\"] not in blacklist_ebird)\n",
    "\n",
    "blacklist_ebird = readCommentedList(\"/workspace/projects/callbird/datastats/train/blacklist_ebird.txt\")\n",
    "raw_train_dataset = raw_train_dataset.filter(lambda x: x[\"ebird_code\"] not in blacklist_ebird)\n",
    "\n",
    "\n"
   ]
  }
 ],
 "metadata": {
  "kernelspec": {
   "display_name": "birdset-xS3fZVNL-py3.10",
   "language": "python",
   "name": "python3"
  },
  "language_info": {
   "codemirror_mode": {
    "name": "ipython",
    "version": 3
   },
   "file_extension": ".py",
   "mimetype": "text/x-python",
   "name": "python",
   "nbconvert_exporter": "python",
   "pygments_lexer": "ipython3",
   "version": "3.10.12"
  }
 },
 "nbformat": 4,
 "nbformat_minor": 5
}
